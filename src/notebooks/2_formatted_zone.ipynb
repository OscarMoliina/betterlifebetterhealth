{
  "cells": [
    {
      "cell_type": "markdown",
      "metadata": {
        "id": "Vlc34OuCXghx"
      },
      "source": [
        "# **Data Formatting Pipeline**"
      ]
    },
    {
      "cell_type": "code",
      "execution_count": null,
      "metadata": {
        "colab": {
          "background_save": true,
          "base_uri": "https://localhost:8080/"
        },
        "id": "LUfaozA_X5mJ",
        "outputId": "481f57d2-6b6d-4fe1-b40d-a744cd4e14c2"
      },
      "outputs": [
        {
          "name": "stdout",
          "output_type": "stream",
          "text": [
            "Cloning into 'betterlifebetterhealth'...\n",
            "remote: Enumerating objects: 253, done.\u001b[K\n",
            "remote: Counting objects: 100% (98/98), done.\u001b[K\n",
            "remote: Compressing objects: 100% (77/77), done.\u001b[K\n"
          ]
        }
      ],
      "source": [
        "!git clone https://github.com/OscarMoliina/betterlifebetterhealth.git"
      ]
    },
    {
      "cell_type": "markdown",
      "metadata": {
        "id": "4S2uxeRCXgh2"
      },
      "source": [
        "#### Llegir dades i paquets necessaris:"
      ]
    },
    {
      "cell_type": "code",
      "execution_count": null,
      "metadata": {
        "id": "FJgLXVCvXgh3"
      },
      "outputs": [],
      "source": [
        "!pip3 install pyspark\n",
        "import pyspark\n",
        "from pyspark.sql import SparkSession\n",
        "import duckdb\n",
        "\n",
        "spark = SparkSession.builder\\\n",
        "    .appName(\"Parquet to DuckDB\") \\\n",
        "    .master(\"local[*]\") \\\n",
        "    .config(\"spark.jars\", \"/content/betterlifebetterhealth/src/utils/duckdb.jar\") \\\n",
        "    .getOrCreate()\n",
        "\n",
        "# Leer el archivo Parquet\n",
        "demography_df = spark.read.parquet('/content/betterlifebetterhealth/data/parquet/demography.parquet')\n",
        "mh_df = spark.read.parquet('/content/betterlifebetterhealth/data/parquet/mental_health.parquet')\n",
        "society_df = spark.read.parquet('/content/betterlifebetterhealth/data/parquet/society.parquet')"
      ]
    },
    {
      "cell_type": "markdown",
      "metadata": {
        "id": "PzCwxAuFXgh5"
      },
      "source": [
        "### Save Basic"
      ]
    },
    {
      "cell_type": "code",
      "execution_count": null,
      "metadata": {
        "id": "iKCGiab-Xgh6"
      },
      "outputs": [],
      "source": [
        "d = {\n",
        "    demography_df:\"demography_df\",\n",
        "    mh_df:\"mh_df\",\n",
        "    society_df:'society_df'\n",
        "}\n",
        "\n",
        "for k,v in d.items():\n",
        "    k.write \\\n",
        "        .format(\"jdbc\") \\\n",
        "        .option(\"url\", f\"jdbc:duckdb:{v}.db\") \\\n",
        "        .option(\"dbtable\", f\"{v}\") \\\n",
        "        .option(\"driver\", \"org.duckdb.DuckDBDriver\") \\\n",
        "        .save()"
      ]
    },
    {
      "cell_type": "markdown",
      "metadata": {
        "id": "SVxxEyB_ZjKn"
      },
      "source": [
        "### Guardat db a Github:"
      ]
    },
    {
      "cell_type": "code",
      "execution_count": null,
      "metadata": {
        "colab": {
          "base_uri": "https://localhost:8080/"
        },
        "id": "9fNguMC_ZoCl",
        "outputId": "37a6d3b8-0893-42e6-d4df-09e5cc66aca9"
      },
      "outputs": [
        {
          "name": "stdout",
          "output_type": "stream",
          "text": [
            "/content/betterlifebetterhealth/data/db\n"
          ]
        }
      ],
      "source": [
        "# Clone the repository\n",
        "%cd betterlifebetterhealth/data/db\n",
        "\n",
        "# Remove old files\n",
        "!rm -rf demography_df.db\n",
        "!rm -rf society_df.db\n",
        "!rm -rf mh_df.db\n",
        "\n",
        "# Copy new files from your local directory to this directory\n",
        "!cp -R /content/*.db ."
      ]
    },
    {
      "cell_type": "code",
      "execution_count": null,
      "metadata": {
        "id": "1Zib29LpafoB"
      },
      "outputs": [],
      "source": [
        "#CODI A LA DOCUMENTACIO NO POSAT AQUÍ PER PRIVACITAT DE USUARI"
      ]
    }
  ],
  "metadata": {
    "colab": {
      "provenance": []
    },
    "kernelspec": {
      "display_name": "bda",
      "language": "python",
      "name": "python3"
    },
    "language_info": {
      "codemirror_mode": {
        "name": "ipython",
        "version": 3
      },
      "file_extension": ".py",
      "mimetype": "text/x-python",
      "name": "python",
      "nbconvert_exporter": "python",
      "pygments_lexer": "ipython3",
      "version": "3.10.12"
    }
  },
  "nbformat": 4,
  "nbformat_minor": 0
}