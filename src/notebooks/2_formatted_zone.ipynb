{
  "cells": [
    {
      "cell_type": "markdown",
      "metadata": {
        "id": "Vlc34OuCXghx"
      },
      "source": [
        "# **Data Formatting Pipeline**"
      ]
    },
    {
      "cell_type": "code",
      "source": [
        "!git clone https://github.com/OscarMoliina/betterlifebetterhealth.git"
      ],
      "metadata": {
        "colab": {
          "base_uri": "https://localhost:8080/"
        },
        "id": "LUfaozA_X5mJ",
        "outputId": "a7255612-ceb4-4248-ad1e-755e254c5222"
      },
      "execution_count": 1,
      "outputs": [
        {
          "output_type": "stream",
          "name": "stdout",
          "text": [
            "Cloning into 'betterlifebetterhealth'...\n",
            "remote: Enumerating objects: 253, done.\u001b[K\n",
            "remote: Counting objects: 100% (98/98), done.\u001b[K\n",
            "remote: Compressing objects: 100% (77/77), done.\u001b[K\n",
            "remote: Total 253 (delta 31), reused 70 (delta 21), pack-reused 155\u001b[K\n",
            "Receiving objects: 100% (253/253), 89.38 MiB | 25.13 MiB/s, done.\n",
            "Resolving deltas: 100% (81/81), done.\n"
          ]
        }
      ]
    },
    {
      "cell_type": "markdown",
      "metadata": {
        "id": "4S2uxeRCXgh2"
      },
      "source": [
        "#### Llegir dades i paquets necessaris:"
      ]
    },
    {
      "cell_type": "code",
      "execution_count": 2,
      "metadata": {
        "id": "FJgLXVCvXgh3",
        "colab": {
          "base_uri": "https://localhost:8080/"
        },
        "outputId": "be79cd9d-703e-4759-dd9f-d60a10bf0e8a"
      },
      "outputs": [
        {
          "output_type": "stream",
          "name": "stdout",
          "text": [
            "Collecting pyspark\n",
            "  Downloading pyspark-3.5.1.tar.gz (317.0 MB)\n",
            "\u001b[2K     \u001b[90m━━━━━━━━━━━━━━━━━━━━━━━━━━━━━━━━━━━━━━━━\u001b[0m \u001b[32m317.0/317.0 MB\u001b[0m \u001b[31m2.8 MB/s\u001b[0m eta \u001b[36m0:00:00\u001b[0m\n",
            "\u001b[?25h  Preparing metadata (setup.py) ... \u001b[?25l\u001b[?25hdone\n",
            "Requirement already satisfied: py4j==0.10.9.7 in /usr/local/lib/python3.10/dist-packages (from pyspark) (0.10.9.7)\n",
            "Building wheels for collected packages: pyspark\n",
            "  Building wheel for pyspark (setup.py) ... \u001b[?25l\u001b[?25hdone\n",
            "  Created wheel for pyspark: filename=pyspark-3.5.1-py2.py3-none-any.whl size=317488491 sha256=a2f96a986912bc4c31f8c227cee1d5713d94ed368263197952e9ec32b66c1a2b\n",
            "  Stored in directory: /root/.cache/pip/wheels/80/1d/60/2c256ed38dddce2fdd93be545214a63e02fbd8d74fb0b7f3a6\n",
            "Successfully built pyspark\n",
            "Installing collected packages: pyspark\n",
            "Successfully installed pyspark-3.5.1\n"
          ]
        }
      ],
      "source": [
        "!pip3 install pyspark\n",
        "import pyspark\n",
        "from pyspark.sql import SparkSession\n",
        "import duckdb\n",
        "from pyspark.sql.functions import col\n",
        "from pyspark.sql.types import DoubleType\n",
        "\n",
        "\n",
        "spark = SparkSession.builder\\\n",
        "    .appName(\"Parquet to DuckDB\") \\\n",
        "    .master(\"local[*]\") \\\n",
        "    .config(\"spark.jars\", \"/content/betterlifebetterhealth/src/utils/duckdb.jar\") \\\n",
        "    .getOrCreate()\n",
        "\n",
        "# Leer el archivo Parquet\n",
        "demography_df = spark.read.parquet('/content/betterlifebetterhealth/data/parquet/demography.parquet')\n",
        "mh_df = spark.read.parquet('/content/betterlifebetterhealth/data/parquet/mental_health.parquet')\n",
        "society_df = spark.read.parquet('/content/betterlifebetterhealth/data/parquet/society.parquet')"
      ]
    },
    {
      "cell_type": "markdown",
      "source": [
        "#### Comprovar types de cada columna dels dataframes:"
      ],
      "metadata": {
        "id": "rHrYtLy7xXg8"
      }
    },
    {
      "cell_type": "code",
      "source": [
        "print(demography_df.dtypes)\n",
        "print(mh_df.dtypes)\n",
        "print(society_df.dtypes)"
      ],
      "metadata": {
        "id": "yg3GEgoIxewc",
        "outputId": "467291c6-237e-436d-9199-d70460fa369e",
        "colab": {
          "base_uri": "https://localhost:8080/"
        }
      },
      "execution_count": 3,
      "outputs": [
        {
          "output_type": "stream",
          "name": "stdout",
          "text": [
            "[('NAME', 'string'), ('YR', 'bigint'), ('AREA_KM2', 'bigint'), ('CBR', 'double'), ('CDR', 'double'), ('DEATHS', 'double'), ('E0', 'double'), ('GRR', 'double'), ('IMR', 'double'), ('MEDAGE', 'double'), ('MR0_4', 'double'), ('POP_DENS', 'double'), ('genc standard countries and areas', 'bigint'), ('code', 'string')]\n",
            "[('index', 'bigint'), ('Entity', 'string'), ('Code', 'string'), ('Year', 'string'), ('Schizophrenia (%)', 'string'), ('Bipolar disorder (%)', 'string'), ('Eating disorders (%)', 'string'), ('Anxiety disorders (%)', 'string'), ('Drug use disorders (%)', 'string'), ('Depression (%)', 'string'), ('Alcohol use disorders (%)', 'string')]\n",
            "[('Country', 'string'), ('Year', 'bigint'), ('Area (square kilometres)', 'double'), ('Total population', 'double'), ('Population density, pers. per sq. km', 'double'), ('Population aged 0-14, male', 'double'), ('Population aged 0-14, female', 'double'), ('Population aged 15-64, male', 'double'), ('Population aged 15-64, female', 'double'), ('Population aged 64+, male', 'double'), ('Population aged 64+, female', 'double'), ('Total population, male (%)', 'double'), ('Total population, female (%)', 'double'), ('Life expectancy at birth, women', 'double'), ('Life expectancy at birth, men', 'double'), ('Life expectancy at age 65, women', 'double'), ('Life expectancy at age 65, men', 'double'), ('Total fertility rate', 'double'), ('Adolescent fertility rate', 'double'), ('Mean age of women at birth of first child', 'double'), ('Computer use, 16-24, male', 'double'), ('Computer use, 16-24, female', 'double'), ('Computer use, 25-54, male', 'double'), ('Computer use, 25-54, female', 'double'), ('Computer use, 55-74, male', 'double'), ('Computer use, 55-74, female', 'double'), ('Women in the Labour Force, Percent of corresponding total for both sexes', 'double'), ('Female part-time employment, percent of both sexes', 'double'), ('Gender pay gap in monthly earnings', 'double'), ('Gender pay gap in hourly earning wage rate', 'double'), ('Female tertiary students, percent of total', 'double'), ('Women Researchers, Percent of corresponding total for both sexes', 'double'), ('Female legislators, senior officials and managers, percent of total', 'double'), ('Female professionals, percent of total for both sexes', 'double'), ('Female clerks, percent of total for both sexes', 'double'), ('Female craft and related workers, percent of total for both sexes', 'double'), ('Female plant and machine operators and assemblers, percent of total for both sexes', 'double'), ('Female government ministers, percent of total', 'double'), ('Female members of parliament, percent of total', 'double'), ('Female ambassadors, percent of total', 'double'), ('Female judges, percent of total', 'double'), ('Women, percent of all victims of homicides', 'double'), ('Total employment, growth rate', 'double'), ('Unemployment rate', 'double'), ('Youth unemployment rate', 'double'), ('Economic acivity rate, women 15-64', 'double'), ('Economic activity rate, men 15-64', 'double'), ('GDP at current prices and PPPs, millions of US$', 'double'), ('GDP at current prices, millions of NCUs', 'double'), ('GDP per capita at current prices and PPPs, US$', 'double'), ('GDP per capita at current prices, NCUs', 'double'), ('Final consumption expenditure per capita, US Dollars, current PPPs', 'double'), ('Purchasing power parity (PPP), NCU per US$', 'double'), ('Exchange rate (XR), NCU per US$', 'double'), ('Consumer price index, growth rate', 'double'), ('Export of goods and services, per cent of GDP', 'double'), ('Import of goods and services, per cent of GDP', 'double'), ('External balance on goods and services, per cent of GDP', 'double'), ('GDP in agriculture (ISIC4 A): output approach, index, 2005=100', 'double'), ('GDP in industry (incl. construction) (ISIC4 B-F): output approach, index, 2005=100', 'double'), ('GDP in services (ISIC4 G-U): output approach, index, 2005=100', 'double'), ('GDP: in agriculture etc. (ISIC4 A), output approach, per cent share of GVA', 'double'), ('GDP: in industry etc. (ISIC4 B-E), output approach, per cent share of GVA', 'double'), ('GDP: in construction (ISIC4 F), output approach, per cent share of GVA', 'double'), ('GDP: in trade, hospitality, transport and communication (ISIC4 G-J), output approach, per cent share of GVA', 'double'), ('GDP: in finance and business services (ISIC4 K-N), output approach, per cent share of GVA', 'double'), ('GDP: in public administration, education and health (ISIC4 O-Q), output approach, per cent share of GVA', 'double'), ('GDP: in other service activities (ISIC4 R-U), output approach, per cent share of GVA', 'double'), ('Employment in agriculture, hunting, forestry and fishing (ISIC Rev. 4 A), share of total employment', 'double'), ('Employment in industry and energy (ISIC Rev. 4 B-E), share of total employment', 'double'), ('Employment in construction (ISIC Rev. 4 F), share of total employment', 'double'), ('Employment in trade, hotels, restaurants, transport and communications (ISIC Rev. 4 G-J), share of total employment', 'double'), ('Employment in finance, real estate and business services (ISIC Rev. 4 K-N), share of total employment', 'double'), ('Employment in public administration, education and health (ISIC Rev. 4 O-Q), share of total employment', 'double'), ('Employment in other service activities (ISIC Rev. 4 R-U), share of total employment', 'double'), ('Persons killed in road accidents', 'double'), ('Persons injured in road accidents', 'double'), ('Total length of motorways (km)', 'double'), ('Total length of railway lines (km)', 'double')]\n"
          ]
        }
      ]
    },
    {
      "cell_type": "code",
      "source": [
        "for column in mh_df.columns:\n",
        "    if '%' in column:\n",
        "        mh_df = mh_df.withColumn(column, col(column).cast(DoubleType()))\n",
        "\n",
        "print(mh_df.dtypes)"
      ],
      "metadata": {
        "id": "jP7kTimTx5ZY",
        "outputId": "14c1ef4d-bae5-409b-fdf9-4f2fa54cfd64",
        "colab": {
          "base_uri": "https://localhost:8080/"
        }
      },
      "execution_count": 4,
      "outputs": [
        {
          "output_type": "stream",
          "name": "stdout",
          "text": [
            "[('index', 'bigint'), ('Entity', 'string'), ('Code', 'string'), ('Year', 'string'), ('Schizophrenia (%)', 'double'), ('Bipolar disorder (%)', 'double'), ('Eating disorders (%)', 'double'), ('Anxiety disorders (%)', 'double'), ('Drug use disorders (%)', 'double'), ('Depression (%)', 'double'), ('Alcohol use disorders (%)', 'double')]\n"
          ]
        }
      ]
    },
    {
      "cell_type": "markdown",
      "metadata": {
        "id": "PzCwxAuFXgh5"
      },
      "source": [
        "### Save Basic"
      ]
    },
    {
      "cell_type": "code",
      "execution_count": 5,
      "metadata": {
        "id": "iKCGiab-Xgh6"
      },
      "outputs": [],
      "source": [
        "d = {\n",
        "    demography_df:\"demography_df\",\n",
        "    mh_df:\"mh_df\",\n",
        "    society_df:'society_df'\n",
        "}\n",
        "\n",
        "for k,v in d.items():\n",
        "    k.write \\\n",
        "        .format(\"jdbc\") \\\n",
        "        .option(\"url\", f\"jdbc:duckdb:{v}.db\") \\\n",
        "        .option(\"dbtable\", f\"{v}\") \\\n",
        "        .option(\"driver\", \"org.duckdb.DuckDBDriver\") \\\n",
        "        .save()"
      ]
    },
    {
      "cell_type": "markdown",
      "source": [
        "### Guardat db a Github:"
      ],
      "metadata": {
        "id": "SVxxEyB_ZjKn"
      }
    },
    {
      "cell_type": "code",
      "source": [
        "# Clone the repository\n",
        "%cd betterlifebetterhealth/data/db\n",
        "\n",
        "# Remove old files\n",
        "!rm -rf demography_df.db\n",
        "!rm -rf society_df.db\n",
        "!rm -rf mh_df.db\n",
        "\n",
        "# Copy new files from your local directory to this directory\n",
        "!cp -R /content/*.db ."
      ],
      "metadata": {
        "colab": {
          "base_uri": "https://localhost:8080/"
        },
        "id": "9fNguMC_ZoCl",
        "outputId": "358b10ff-2299-4701-acba-25a10ffdbf0a"
      },
      "execution_count": 6,
      "outputs": [
        {
          "output_type": "stream",
          "name": "stdout",
          "text": [
            "/content/betterlifebetterhealth/data/db\n"
          ]
        }
      ]
    },
    {
      "cell_type": "code",
      "source": [
        "#CODI A LA DOCUMENTACIO NO POSAT AQUÍ PER PRIVACITAT DE USUARI"
      ],
      "metadata": {
        "id": "1Zib29LpafoB",
        "colab": {
          "base_uri": "https://localhost:8080/"
        },
        "outputId": "420450e9-2606-4bcc-c357-cab2bedf9368"
      },
      "execution_count": 7,
      "outputs": [
        {
          "output_type": "stream",
          "name": "stdout",
          "text": [
            "[main d468dfe] Update parquet files\n",
            " 3 files changed, 0 insertions(+), 0 deletions(-)\n",
            "Enumerating objects: 13, done.\n",
            "Counting objects: 100% (13/13), done.\n",
            "Delta compression using up to 2 threads\n",
            "Compressing objects: 100% (7/7), done.\n",
            "Writing objects: 100% (7/7), 730.94 KiB | 9.02 MiB/s, done.\n",
            "Total 7 (delta 2), reused 0 (delta 0), pack-reused 0\n",
            "remote: Resolving deltas: 100% (2/2), completed with 2 local objects.\u001b[K\n",
            "To https://github.com/OscarMoliina/betterlifebetterhealth.git\n",
            "   5dc9950..d468dfe  main -> main\n"
          ]
        }
      ]
    }
  ],
  "metadata": {
    "kernelspec": {
      "display_name": "bda",
      "language": "python",
      "name": "python3"
    },
    "language_info": {
      "codemirror_mode": {
        "name": "ipython",
        "version": 3
      },
      "file_extension": ".py",
      "mimetype": "text/x-python",
      "name": "python",
      "nbconvert_exporter": "python",
      "pygments_lexer": "ipython3",
      "version": "3.10.12"
    },
    "colab": {
      "provenance": []
    }
  },
  "nbformat": 4,
  "nbformat_minor": 0
}