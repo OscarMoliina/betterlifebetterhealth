{
  "cells": [
    {
      "cell_type": "markdown",
      "metadata": {
        "id": "Vlc34OuCXghx"
      },
      "source": [
        "# **Data Formatting Pipeline**"
      ]
    },
    {
      "cell_type": "code",
      "source": [
        "!git clone https://github.com/OscarMoliina/betterlifebetterhealth.git"
      ],
      "metadata": {
        "colab": {
          "base_uri": "https://localhost:8080/"
        },
        "id": "LUfaozA_X5mJ",
        "outputId": "21d9e7bd-5c12-491b-9b34-a1f35844e4d9"
      },
      "execution_count": 1,
      "outputs": [
        {
          "output_type": "stream",
          "name": "stdout",
          "text": [
            "Cloning into 'betterlifebetterhealth'...\n",
            "remote: Enumerating objects: 201, done.\u001b[K\n",
            "remote: Counting objects: 100% (46/46), done.\u001b[K\n",
            "remote: Compressing objects: 100% (41/41), done.\u001b[K\n",
            "remote: Total 201 (delta 14), reused 19 (delta 5), pack-reused 155\u001b[K\n",
            "Receiving objects: 100% (201/201), 88.28 MiB | 24.58 MiB/s, done.\n",
            "Resolving deltas: 100% (64/64), done.\n",
            "Updating files: 100% (33/33), done.\n"
          ]
        }
      ]
    },
    {
      "cell_type": "markdown",
      "metadata": {
        "id": "4S2uxeRCXgh2"
      },
      "source": [
        "#### Llegir dades i paquets necessaris:"
      ]
    },
    {
      "cell_type": "code",
      "execution_count": null,
      "metadata": {
        "id": "FJgLXVCvXgh3"
      },
      "outputs": [],
      "source": [
        "!pip3 install pyspark\n",
        "import pyspark\n",
        "from pyspark.sql import SparkSession\n",
        "import duckdb\n",
        "\n",
        "spark = SparkSession.builder\\\n",
        "    .appName(\"Parquet to DuckDB\") \\\n",
        "    .master(\"local[*]\") \\\n",
        "    .config(\"spark.jars\", \"/content/betterlifebetterhealth/src/utils/duckdb.jar\") \\\n",
        "    .getOrCreate()\n",
        "\n",
        "# Leer el archivo Parquet\n",
        "demography_df = spark.read.parquet('/content/betterlifebetterhealth/data/parquet/demography.parquet')\n",
        "mh_df = spark.read.parquet('/content/betterlifebetterhealth/data/parquet/mental_health.parquet')\n",
        "society_df = spark.read.parquet('/content/betterlifebetterhealth/data/parquet/society.parquet')"
      ]
    },
    {
      "cell_type": "markdown",
      "metadata": {
        "id": "PzCwxAuFXgh5"
      },
      "source": [
        "### Save Basic"
      ]
    },
    {
      "cell_type": "code",
      "execution_count": 5,
      "metadata": {
        "id": "iKCGiab-Xgh6"
      },
      "outputs": [],
      "source": [
        "d = {\n",
        "    demography_df:\"demography_df\",\n",
        "    mh_df:\"mh_df\",\n",
        "    society_df:'society_df'\n",
        "}\n",
        "\n",
        "for k,v in d.items():\n",
        "    k.write \\\n",
        "        .format(\"jdbc\") \\\n",
        "        .option(\"url\", f\"jdbc:duckdb:{v}.db\") \\\n",
        "        .option(\"dbtable\", f\"{v}\") \\\n",
        "        .option(\"driver\", \"org.duckdb.DuckDBDriver\") \\\n",
        "        .save()"
      ]
    },
    {
      "cell_type": "markdown",
      "source": [
        "### Guardat db a Github:"
      ],
      "metadata": {
        "id": "SVxxEyB_ZjKn"
      }
    },
    {
      "cell_type": "code",
      "source": [
        "# Clone the repository\n",
        "%cd betterlifebetterhealth/data/db\n",
        "\n",
        "# Remove old files\n",
        "!rm -rf demography_df.db\n",
        "!rm -rf society_df.db\n",
        "!rm -rf mh_df.db\n",
        "\n",
        "# Copy new files from your local directory to this directory\n",
        "!cp -R /content/*.db ."
      ],
      "metadata": {
        "colab": {
          "base_uri": "https://localhost:8080/"
        },
        "id": "9fNguMC_ZoCl",
        "outputId": "37a6d3b8-0893-42e6-d4df-09e5cc66aca9"
      },
      "execution_count": 6,
      "outputs": [
        {
          "output_type": "stream",
          "name": "stdout",
          "text": [
            "/content/betterlifebetterhealth/data/db\n"
          ]
        }
      ]
    },
    {
      "cell_type": "code",
      "source": [
        "#CODI A LA DOCUMENTACIO NO POSAT AQUÍ PER PRIVACITAT DE USUARI"
      ],
      "metadata": {
        "id": "1Zib29LpafoB"
      },
      "execution_count": 12,
      "outputs": []
    }
  ],
  "metadata": {
    "kernelspec": {
      "display_name": "bda",
      "language": "python",
      "name": "python3"
    },
    "language_info": {
      "codemirror_mode": {
        "name": "ipython",
        "version": 3
      },
      "file_extension": ".py",
      "mimetype": "text/x-python",
      "name": "python",
      "nbconvert_exporter": "python",
      "pygments_lexer": "ipython3",
      "version": "3.10.12"
    },
    "colab": {
      "provenance": []
    }
  },
  "nbformat": 4,
  "nbformat_minor": 0
}