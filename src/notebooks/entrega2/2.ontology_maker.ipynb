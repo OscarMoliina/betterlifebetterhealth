{
  "cells": [
    {
      "cell_type": "markdown",
      "metadata": {
        "id": "aqNIbxhi9NUW"
      },
      "source": [
        "# **Discretització i càlcul de variables**"
      ]
    },
    {
      "cell_type": "markdown",
      "metadata": {
        "id": "NtdDmn3MARh4"
      },
      "source": [
        "## *Requisits d'execució*"
      ]
    },
    {
      "cell_type": "code",
      "execution_count": 1,
      "metadata": {
        "colab": {
          "base_uri": "https://localhost:8080/"
        },
        "id": "1v8bDVxO938n",
        "outputId": "584d9c27-8963-431a-8e24-890fbef6b3b8"
      },
      "outputs": [
        {
          "output_type": "stream",
          "name": "stdout",
          "text": [
            "Collecting pyspark\n",
            "  Downloading pyspark-3.5.1.tar.gz (317.0 MB)\n",
            "\u001b[2K     \u001b[90m━━━━━━━━━━━━━━━━━━━━━━━━━━━━━━━━━━━━━━━━\u001b[0m \u001b[32m317.0/317.0 MB\u001b[0m \u001b[31m2.6 MB/s\u001b[0m eta \u001b[36m0:00:00\u001b[0m\n",
            "\u001b[?25h  Preparing metadata (setup.py) ... \u001b[?25l\u001b[?25hdone\n",
            "Collecting rdflib\n",
            "  Downloading rdflib-7.0.0-py3-none-any.whl (531 kB)\n",
            "\u001b[2K     \u001b[90m━━━━━━━━━━━━━━━━━━━━━━━━━━━━━━━━━━━━━━━━\u001b[0m \u001b[32m531.9/531.9 kB\u001b[0m \u001b[31m45.1 MB/s\u001b[0m eta \u001b[36m0:00:00\u001b[0m\n",
            "\u001b[?25hRequirement already satisfied: duckdb in /usr/local/lib/python3.10/dist-packages (0.10.2)\n",
            "Requirement already satisfied: py4j==0.10.9.7 in /usr/local/lib/python3.10/dist-packages (from pyspark) (0.10.9.7)\n",
            "Collecting isodate<0.7.0,>=0.6.0 (from rdflib)\n",
            "  Downloading isodate-0.6.1-py2.py3-none-any.whl (41 kB)\n",
            "\u001b[2K     \u001b[90m━━━━━━━━━━━━━━━━━━━━━━━━━━━━━━━━━━━━━━━━\u001b[0m \u001b[32m41.7/41.7 kB\u001b[0m \u001b[31m6.6 MB/s\u001b[0m eta \u001b[36m0:00:00\u001b[0m\n",
            "\u001b[?25hRequirement already satisfied: pyparsing<4,>=2.1.0 in /usr/local/lib/python3.10/dist-packages (from rdflib) (3.1.2)\n",
            "Requirement already satisfied: six in /usr/local/lib/python3.10/dist-packages (from isodate<0.7.0,>=0.6.0->rdflib) (1.16.0)\n",
            "Building wheels for collected packages: pyspark\n",
            "  Building wheel for pyspark (setup.py) ... \u001b[?25l\u001b[?25hdone\n",
            "  Created wheel for pyspark: filename=pyspark-3.5.1-py2.py3-none-any.whl size=317488491 sha256=9314e02c49a45fca5fa621cce91854a5077a51717739185c3ba101b7b67b11e9\n",
            "  Stored in directory: /root/.cache/pip/wheels/80/1d/60/2c256ed38dddce2fdd93be545214a63e02fbd8d74fb0b7f3a6\n",
            "Successfully built pyspark\n",
            "Installing collected packages: pyspark, isodate, rdflib\n",
            "Successfully installed isodate-0.6.1 pyspark-3.5.1 rdflib-7.0.0\n"
          ]
        }
      ],
      "source": [
        "!pip3 install pyspark rdflib duckdb\n",
        "\n",
        "# Importació de mòduls de pyspark\n",
        "import pyspark\n",
        "from pyspark.sql import SparkSession\n",
        "\n",
        "from pyspark.sql import functions as F\n",
        "from pyspark.sql.types import IntegerType, DoubleType, StringType, FloatType\n",
        "from pyspark.sql.window import Window\n",
        "from pyspark.ml.feature import VectorAssembler\n",
        "from pyspark.ml.clustering import KMeans\n",
        "from pyspark.ml import Pipeline\n",
        "from pyspark.sql.types import BooleanType\n",
        "\n",
        "\n",
        "# Importació de mòduls de rdflib\n",
        "from rdflib import Graph, URIRef, Literal, Namespace, RDF, RDFS, XSD\n",
        "\n",
        "# Importacions generals de Python\n",
        "import pandas as pd\n",
        "import matplotlib.pyplot as plt\n",
        "import duckdb\n",
        "from decimal import Decimal, InvalidOperation\n",
        "import json\n",
        "from urllib.parse import quote"
      ]
    },
    {
      "cell_type": "code",
      "execution_count": 2,
      "metadata": {
        "colab": {
          "base_uri": "https://localhost:8080/"
        },
        "id": "mMqXvovJ8bSw",
        "outputId": "e571994e-9c97-448b-cfa0-d72b566cc2e0"
      },
      "outputs": [
        {
          "output_type": "stream",
          "name": "stdout",
          "text": [
            "Cloning into 'betterlifebetterhealth'...\n",
            "remote: Enumerating objects: 456, done.\u001b[K\n",
            "remote: Counting objects: 100% (17/17), done.\u001b[K\n",
            "remote: Compressing objects: 100% (13/13), done.\u001b[K\n",
            "remote: Total 456 (delta 8), reused 4 (delta 4), pack-reused 439\u001b[K\n",
            "Receiving objects: 100% (456/456), 99.68 MiB | 17.38 MiB/s, done.\n",
            "Resolving deltas: 100% (141/141), done.\n"
          ]
        }
      ],
      "source": [
        "!git clone https://github.com/OscarMoliina/betterlifebetterhealth.git"
      ]
    },
    {
      "cell_type": "code",
      "execution_count": 3,
      "metadata": {
        "id": "NKTJTZbN8e0W"
      },
      "outputs": [],
      "source": [
        "spark = SparkSession.builder \\\n",
        "    .appName(\"Afegir dades\") \\\n",
        "    .config(\"spark.jars\", \"/content/betterlifebetterhealth/src/utils/duckdb.jar\") \\\n",
        "    .getOrCreate()\n",
        "\n",
        "result = spark.read \\\n",
        "    .format(\"jdbc\") \\\n",
        "    .option(\"url\", \"jdbc:duckdb:/content/betterlifebetterhealth/data/db/explotaiton_zone_e2_def.db\") \\\n",
        "    .option(\"driver\", \"org.duckdb.DuckDBDriver\") \\\n",
        "    .option(\"dbtable\", \"relations_added\") \\\n",
        "    .load()\n",
        "\n"
      ]
    },
    {
      "cell_type": "code",
      "execution_count": 4,
      "metadata": {
        "id": "rgmYD-8dGRU1"
      },
      "outputs": [],
      "source": [
        "df = result"
      ]
    },
    {
      "cell_type": "markdown",
      "metadata": {
        "id": "mApJ8_hiA6vf"
      },
      "source": [
        "## *Càlcul de l'índex de poder de la dona*"
      ]
    },
    {
      "cell_type": "code",
      "execution_count": 6,
      "metadata": {
        "id": "TGTA0HrABAI-"
      },
      "outputs": [],
      "source": [
        "# Fer un càlcul de l'índex de poder de la dona per cada registre\n",
        "positive = ['Female tertiary students, percent of total', 'Female legislators, senior officials and managers, percent of total', 'Female professionals, percent of total for both sexes',\n",
        " 'Female members of parliament, percent of total','Female plant and machine operators and assemblers, percent of total for both sexes', 'Women in the Labour Force, Percent of corresponding total for both sexes']\n",
        "\n",
        "negative = ['Female clerks, percent of total for both sexes', 'Female craft and related workers, percent of total for both sexes']\n",
        "\n",
        "def calculate_female_power(*cols):\n",
        "    power = 0\n",
        "    # cols[0:len(positive)] correspon a les columnes positives\n",
        "    # cols[len(positive):] correspon a les columnes negatives\n",
        "    power += sum(cols[0:len(positive)])\n",
        "    power -= sum(cols[len(positive):])\n",
        "    return power\n",
        "\n",
        "# Registra l'UDF\n",
        "calculate_female_power_udf = F.udf(calculate_female_power, FloatType())\n",
        "df = df.withColumn('Female_Power', calculate_female_power_udf(*[F.col(c) for c in positive + negative]))"
      ]
    },
    {
      "cell_type": "code",
      "execution_count": 7,
      "metadata": {
        "id": "y5k_12mB-Ycg"
      },
      "outputs": [],
      "source": [
        "df = df.drop(*positive)\n",
        "df = df.drop(*negative)"
      ]
    },
    {
      "cell_type": "markdown",
      "metadata": {
        "id": "6zMhI_hVIdtv"
      },
      "source": [
        "## *Càlcul del GDP_Main*"
      ]
    },
    {
      "cell_type": "code",
      "execution_count": 8,
      "metadata": {
        "id": "lLpzZ372Ipoy"
      },
      "outputs": [],
      "source": [
        "columnes_GDP = [c for c in df.columns if 'GDP:' in c]\n",
        "\n",
        "def calculate_gdp_main(*cols):\n",
        "    max_value = 0\n",
        "    category = None\n",
        "    for i, col_value in enumerate(cols):\n",
        "        if col_value is not None and col_value > max_value:\n",
        "            max_value = col_value\n",
        "            # La columna corresponent és la part després de \"GDP: in \"\n",
        "            category = columnes_GDP[i].split(\",\")[0].split(\"GDP: in \")[-1].strip()\n",
        "    return category\n",
        "\n",
        "# Registra l'UDF\n",
        "calculate_gdp_main_udf = F.udf(calculate_gdp_main, StringType())\n",
        "df = df.withColumn('GDP_Main', calculate_gdp_main_udf(*[F.col(c) for c in columnes_GDP]))\n",
        "df = df.drop(*columnes_GDP)"
      ]
    },
    {
      "cell_type": "markdown",
      "metadata": {
        "id": "zOQiifCIyJqD"
      },
      "source": [
        "## *Codificar Països*\n",
        "\n",
        "Cal treure els espais en el nom del pais per estalviar-nos errors de lectura"
      ]
    },
    {
      "cell_type": "code",
      "execution_count": 9,
      "metadata": {
        "id": "CFaQjb5XyVBt"
      },
      "outputs": [],
      "source": [
        "df = df.withColumn('Country', F.regexp_replace('Country', ' ', '_'))"
      ]
    },
    {
      "cell_type": "markdown",
      "metadata": {
        "id": "XNrGmGgmlq8y"
      },
      "source": [
        "## *Tractament de la variable Immigrants*"
      ]
    },
    {
      "cell_type": "code",
      "execution_count": 10,
      "metadata": {
        "colab": {
          "base_uri": "https://localhost:8080/"
        },
        "id": "8s7R9ud53t77",
        "outputId": "98a9b022-ad8e-4cc8-b1e3-1884bf4d315d"
      },
      "outputs": [
        {
          "output_type": "stream",
          "name": "stdout",
          "text": [
            "+--------------+--------------+\n",
            "|Max Immigrants|Min Immigrants|\n",
            "+--------------+--------------+\n",
            "|          9978|             0|\n",
            "+--------------+--------------+\n",
            "\n"
          ]
        }
      ],
      "source": [
        "# Calcular el valor màxim i mínim de la columna 'Immigrants'\n",
        "max_min_immigrants = df.select(\n",
        "    F.max(\"Immigrants\").alias(\"Max Immigrants\"),\n",
        "    F.min(\"Immigrants\").alias(\"Min Immigrants\")\n",
        ")\n",
        "\n",
        "# Mostrar els resultats\n",
        "max_min_immigrants.show()\n"
      ]
    },
    {
      "cell_type": "code",
      "execution_count": 11,
      "metadata": {
        "id": "xSfkPSEJJMmM"
      },
      "outputs": [],
      "source": [
        "df = df.withColumn(\"Num_Immigrants\", F.when(F.col(\"Immigrants\") > 5000, F.lit(True)).otherwise(F.lit(False)))\n",
        "df = df.drop(\"Immigrants\")\n"
      ]
    },
    {
      "cell_type": "code",
      "execution_count": 12,
      "metadata": {
        "colab": {
          "base_uri": "https://localhost:8080/"
        },
        "id": "R1MpYqWM3U2B",
        "outputId": "91e2a8e9-f74a-4677-b9f7-e48fd0a5d5f3"
      },
      "outputs": [
        {
          "output_type": "stream",
          "name": "stdout",
          "text": [
            "+-------+----+--------+-----+-----+-------+-----+------+-----+--------+----+------------------+--------------------+--------------------+---------------------+----------------------+------------------+-------------------------+-------------------+----------------------------------+--------------------------+----------------------------+-----------------------------------------+-----------------------------+-----------------+-----------------------+-----------------------------------------------+----------------------------------------------+------------------------------------------------------------------+------------------------------------------+---------------------------------+---------------------------------------------+---------------------------------------------+-------------------------------------------------------+--------------------+---------------------+-------------------+------------------------+-------------------------+----------------------+-------------+--------------------+------------+-------------+---------------+--------------------+-----------+------------+--------------------+--------------+\n",
            "|Country|Year|Area_Km2|  CBR|  CDR| Deaths|   E0|Medage|MR0_4|Pop_Dens|GSCA| Schizophrenia (%)|Bipolar disorder (%)|Eating disorders (%)|Anxiety disorders (%)|Drug use disorders (%)|    Depression (%)|Alcohol use disorders (%)|   Total population|Population density, pers per sq km|Total population, male (%)|Total population, female (%)|Mean age of women at birth of first child|Total employment, growth rate|Unemployment rate|Youth unemployment rate|GDP at current prices and PPPs, millions of US$|GDP per capita at current prices and PPPs, US$|Final consumption expenditure per capita, US Dollars, current PPPs|Purchasing power parity (PPP), NCU per US$|Consumer price index, growth rate|Export of goods and services, per cent of GDP|Import of goods and services, per cent of GDP|External balance on goods and services, per cent of GDP|Population aged 0-14|Population aged 15-64|Population aged 64+|Life expectancy at birth|Life expectancy at age 65|Economic activity rate|pais_exportat| quantitat_exportada|      Region|EU Membership|NATO Membership|    border_countries|Destination|Female_Power|            GDP_Main|Num_Immigrants|\n",
            "+-------+----+--------+-----+-----+-------+-----+------+-----+--------+----+------------------+--------------------+--------------------+---------------------+----------------------+------------------+-------------------------+-------------------+----------------------------------+--------------------------+----------------------------+-----------------------------------------+-----------------------------+-----------------+-----------------------+-----------------------------------------------+----------------------------------------------+------------------------------------------------------------------+------------------------------------------+---------------------------------+---------------------------------------------+---------------------------------------------+-------------------------------------------------------+--------------------+---------------------+-------------------+------------------------+-------------------------+----------------------+-------------+--------------------+------------+-------------+---------------+--------------------+-----------+------------+--------------------+--------------+\n",
            "| Sweden|2016|  410335|11.78| 9.13|90982.0|82.36|  41.0|  3.0|    24.3|2016| 4.928649751510612|  2.9440660968234176|  0.3223430201762068|    4.316236967995902|    0.8232177857143242| 3.748345189473085|       1.6043313153994294|2.197927993360785E7|                130.01643725542382|         48.81898257717292|           51.18101638107686|                        26.42824480511091|           0.8657315173217844|              6.9|     19.477900317714983|                              527106.2135094485|                            24894.937958604656|                                                19331.301355341184|                        25.212391949429268|                5.009614380475697|                            51.93302108471135|                            52.24823685943179|                                   -0.31521594712825063|   4366442.677945862| 1.4750948727924893E7|  2877727.558334732|         75.108378485535|       16.551693267018056|     70.05823988193126|       France|2.542424156616666...|Europe North|    EU Member|Non-NATO Member|[\"Finland\",\"Norway\"]|     Turkey|   161.96797|               trade|          true|\n",
            "| Sweden|2008|  410335|11.79| 9.86|91449.0|81.05|  40.8| 3.05|    22.6|2008| 5.160220001510613|  2.9619078468234177|  0.3139990201762068|    4.321210967995902|    0.8030120357143242| 3.762410689473085|       1.6397910653994294|          9219637.0|                          20.48972|                  49.71796|                    50.28204|                                     28.9|                      0.90178|              6.2|                   20.2|                                   386126.14917|                                   41881.00885|                                                       28987.21521|                                    8.7733|                          3.43673|                                      49.8131|                                     43.54603|                                                6.26706|           1542067.5|            6050822.5|          1626747.0|                   81.25|                    19.45|             79.238535|       France|2.542424156616666...|Europe North|    EU Member|Non-NATO Member|[\"Finland\",\"Norway\"]|     Turkey|   177.93655|industry etc (ISI...|          true|\n",
            "| Sweden|2013|  410335|11.77| 9.37|90402.0|81.91|  41.1| 3.14|    23.5|2013| 5.059790751510612|  2.9551665968234175|  0.3187677701762068|    4.317793967995902|    0.8085207857143242|3.7566719394730845|       1.6415148153994292|          9600378.5|                          21.33588|                  49.89523|                    50.10477|                                     29.0|                       0.9595|              8.0|                   23.5|                                   432664.47758|                                   45067.33861|                                                       32898.01469|                                   8.71324|                         -0.04412|                                     43.80069|                                     39.29299|                                                 4.5077|           1628980.0|            6121153.5|          1850245.0|                    82.0|                    20.05|             81.043525|       France|2.542424156616666...|Europe North|    EU Member|Non-NATO Member|[\"Finland\",\"Norway\"]|     Turkey|   184.89117|public administra...|          true|\n",
            "| Sweden|2015|  410335|11.67| 9.24|90907.0|82.17|  41.1| 2.95|    24.0|2015| 5.022162501510612|  2.9486090968234175|  0.3211717701762068|    4.316705467995902|    0.8175652857143242|3.7516011894730847|       1.6196603153994293|2.197927993360785E7|                130.01643725542382|         48.81898257717292|           51.18101638107686|                                     29.1|                      1.52615|              7.4|                   20.4|                                   457708.24199|                                   46708.73561|                                                       33184.94036|                                   9.13486|                         -0.04663|                                     45.59012|                                     40.84348|                                                4.74664|   4366442.677945862| 1.4750948727924893E7|  2877727.558334732|         75.108378485535|       16.551693267018056|     70.05823988193126|       France|2.542424156616666...|Europe North|    EU Member|Non-NATO Member|[\"Finland\",\"Norway\"]|     Turkey|   183.61595|public administra...|          true|\n",
            "| Sweden|2003|  410335| 11.0|10.32|92961.0|80.09|  40.0| 3.94|    22.0|2003| 5.199582501510612|  2.9613545968234174|  0.3099902701762068|    4.323989967995902|    0.8011622857143242| 3.761201939473085|       1.6104695653994294|          8958229.0|                          19.90877|                  49.52856|                    50.47144|                                     28.8|                     -0.57589|              6.6|                   14.3|                                   287243.49256|                                   32064.86711|                                                       23114.07983|                                   9.32117|                          1.92427|                                     41.24431|                                     34.90382|                                                6.34048|           1605457.5|            5815247.0|          1537524.5|                   80.25|                    18.75|              77.93761|       France|2.542424156616666...|Europe North|    EU Member|Non-NATO Member|[\"Finland\",\"Norway\"]|     Turkey|    174.6701|industry etc (ISI...|          true|\n",
            "| Sweden|2010|  410335|12.26| 9.59|90487.0|81.49|  40.9| 3.18|    23.0|2010| 5.050364751510612|  2.9621605968234173| 0.31579352017620677|    4.319305217995902|    0.8022532857143242| 3.761914689473085|       1.6531348153994294|          9378126.0|                          20.84195|                  49.79277|                    50.20723|                                     28.9|                      0.96301|              8.6|                   24.8|                                   391592.84332|                                   41756.09594|                                                       29905.62454|                                   8.98891|                          1.15911|                                     46.18519|                                     40.71765|                                                5.46754|           1557200.5|            6106914.0|          1714011.5|                    81.6|                    19.75|              78.99441|       France|2.542424156616666...|Europe North|    EU Member|Non-NATO Member|[\"Finland\",\"Norway\"]|     Turkey|   176.43297|public administra...|          true|\n",
            "| Sweden|2009|  410335|11.95| 9.63|90080.0| 81.3|  40.9|  3.3|    22.8|2009| 5.158633001510612|  2.9627810968234174|  0.3149767701762068|    4.320070467995902|    0.8022345357143242|3.7625524394730845|       1.6491285653994294|          9298514.5|                          20.66502|                  49.75378|                    50.24622|                                     28.9|                     -2.41829|              8.3|                   25.0|                                   368753.45302|                                   39657.30527|                                                       29074.56796|                         8.917910000000001|                          -0.4949|                                      44.4523|                                       38.691|                                                 5.7613|           1545922.0|            6084663.5|          1667929.0|                   81.45|                     19.7|             78.827245|       France|2.542424156616666...|Europe North|    EU Member|Non-NATO Member|[\"Finland\",\"Norway\"]|     Turkey|   177.58714|public administra...|          true|\n",
            "| Sweden|2005|  410335|11.16| 10.1|91710.0|80.54|  40.4| 3.27|    22.1|2005| 5.192783251510612|  2.9591928468234174| 0.31146152017620676|   4.3240144679959025|    0.8051360357143242| 3.761268189473085|       1.6130768153994293|          9029572.0|                          20.06732|                  49.57522|                    50.42478|                                     29.0|                      0.26515|              7.7|                   22.8|                                   310006.20897|                                   34332.21947|                                                       24315.30965|                                   9.37837|                          0.45239|                                     45.87326|                                     38.70071|                                                7.17254|           1572178.5|            5897537.5|          1559856.0|                    80.7|       19.049999999999997|             78.624185|       France|2.542424156616666...|Europe North|    EU Member|Non-NATO Member|[\"Finland\",\"Norway\"]|     Turkey|   170.74039|industry etc (ISI...|          true|\n",
            "| Sweden|2006|  410335| 11.6| 9.98|91177.0|80.73|  40.6| 3.55|    22.3|2006| 5.156932251510613|  2.9597628468234176|  0.3122842701762068|   4.3235107179959025|    0.8048952857143242| 3.761519689473085|       1.6184408153994294|          9080504.5|                          20.18051|                  49.61218|                    50.38782|                                     29.0|                      1.69476|              7.1|                   21.5|                                    341164.8002|                                   37571.14699|                                                       26067.93593|                                   9.08382|                          1.36183|                                        48.19|                                     40.59949|                                                7.59051|           1555181.5|            5951916.0|          1573407.0|       80.94999999999999|       19.299999999999997|     78.70640499999999|       France|2.542424156616666...|Europe North|    EU Member|Non-NATO Member|[\"Finland\",\"Norway\"]|     Turkey|    175.4113|industry etc (ISI...|          true|\n",
            "| Sweden|2004|  410335|11.16|10.01|90532.0|80.44|  40.2| 3.63|    22.0|2004|5.3021347515106125|  2.9601565968234174|  0.3107527701762068|    4.324081217995902|    0.8039415357143243| 3.761654189473085|       1.6114600653994293|          8993531.0|                          19.98722|                   49.5521|                     50.4479|                                     29.0|          -0.7028500000000001|              7.4|                   18.5|                                    308116.6573|                                   34259.92743|                                                       24270.54519|                                   9.10407|                          0.37523|                                     43.44692|                                     35.84691|                                                7.60001|           1591285.5|            5854451.0|          1547794.5|                    80.6|                     19.1|             77.662125|       France|2.542424156616666...|Europe North|    EU Member|Non-NATO Member|[\"Finland\",\"Norway\"]|     Turkey|   172.32726|industry etc (ISI...|          true|\n",
            "| Sweden|2000|  410335|10.13|10.47|93461.0|79.84|  39.4|  3.9|    21.7|2000| 5.341942251510613|  2.9681588468234175|  0.3074167701762068|    4.323639967995902|    0.7905210357143242|3.7633674394730847|       1.6117925653994294|          8872109.0|                          19.71738|                  49.44073|                    50.55927|                                     28.2|                      2.45134|              5.6|                    9.5|                                   260633.22158|                                   29376.72271|                                                        20968.3205|                                   9.13298|                          1.03671|                                     44.09795|                                     38.22946|                                                5.86849|           1635249.5|            5705138.5|          1531721.0|                    79.7|                    18.45|     75.12976499999999|       France|2.542424156616666...|Europe North|    EU Member|Non-NATO Member|[\"Finland\",\"Norway\"]|     Turkey|   170.18462|industry etc (ISI...|          true|\n",
            "| Sweden|2007|  410335|11.67| 9.97|91729.0|80.88|  40.7| 3.16|    22.4|2007| 5.150275251510612|  2.9608918468234173|  0.3131122701762068|    4.322471467995902|    0.8040285357143242|3.7620251894730847|       1.6284310653994294|          9148092.0|                          20.33072|                  49.66852|                    50.33148|                                     29.0|           2.3064400000000003|              6.1|                   19.3|                                   371054.79267|                                   40560.85883|                                                       27749.62779|                                   8.88562|                          2.21085|                                     48.25807|                                     41.28171|                                                6.97635|           1545660.0|            6007507.0|          1594925.0|                   81.05|                    19.35|     79.03224499999999|       France|2.542424156616666...|Europe North|    EU Member|Non-NATO Member|[\"Finland\",\"Norway\"]|     Turkey|   178.91618|industry etc (ISI...|          true|\n",
            "| Sweden|2012|  410335|11.82|  9.6|91938.0|81.72|  41.0| 3.12|    23.3|2012| 5.043580501510612|  2.9576375968234174|  0.3177187701762068|    4.318309467995902|    0.8052837857143242| 3.758659689473085|       1.6481495653994294|          9519374.0|                          21.15586|                   49.8601|                     50.1399|                                     29.0|           0.7358100000000001|              8.0|                   23.6|                                   422981.26258|                                   44433.60533|                                                       32195.78153|                         8.711500000000001|                          0.88787|                                     46.32314|                                     41.39188|                                                4.93126|           1598064.5|            6114834.0|          1806475.5|                   81.75|                     19.8|              80.24811|       France|2.542424156616666...|Europe North|    EU Member|Non-NATO Member|[\"Finland\",\"Norway\"]|     Turkey|   184.56519|public administra...|          true|\n",
            "| Sweden|2014|  410335| 11.8| 9.14|88976.0|82.21|  41.1| 2.63|    23.7|2014| 5.033569001510612|  2.9521303468234175|  0.3199590201762068|    4.317206967995903|    0.8126002857143242|3.7542734394730846|       1.6320155653994293|          9696109.5|                          21.54863|                  49.95095|                    50.04905|                                     29.1|                      1.40417|              7.9|                   22.9|                                   441301.68775|                                   45513.31853|                                                       32921.76746|                                   8.92097|                         -0.17978|                                     45.03315|                                      40.7175|                                                4.31564|           1664067.0|            6139497.0|          1892545.5|       82.30000000000001|                    20.25|             81.482605|       France|2.542424156616666...|Europe North|    EU Member|Non-NATO Member|[\"Finland\",\"Norway\"]|     Turkey|   181.82265|public administra...|          true|\n",
            "| Sweden|2001|  410335|10.22|10.48|93752.0|79.93|  39.6| 4.34|    21.8|2001| 5.321493751510612|  2.9656765968234176|  0.3083047701762068|    4.323668717995902|    0.7935060357143242|3.7620271894730846|       1.6105680653994294|          8895960.0|                          19.77038|                  49.46739|                    50.53261|                                     28.5|                      2.10436|              5.8|                   11.7|                                   265265.02471|                                   29818.46051|                                                       21176.51804|                                   9.34209|                          2.40647|                                     43.75396|                                     37.52224|                                                6.23172|           1625536.5|            5738948.0|          1531475.5|                    79.9|       18.549999999999997|              78.04083|       France|2.542424156616666...|Europe North|    EU Member|Non-NATO Member|[\"Finland\",\"Norway\"]|     Turkey|   169.99974|industry etc (ISI...|          true|\n",
            "| Sweden|2002|  410335|10.67|10.58|95009.0|79.98|  39.8| 4.07|    21.9|2002| 5.240750001510612|  2.9632253468234175| 0.30907752017620677|    4.323841217995902|    0.7973307857143243|3.7612959394730847|       1.6101415653994293|          8924958.0|                          19.83483|                  49.49912|                    50.50088|                                     28.6|                      0.04782|              6.0|                   12.9|                                   274803.96549|                                   30790.36028|                                                       22151.34247|                                   9.35167|                          2.15929|                                     42.09005|                                     35.77352|                                                6.31653|           1616100.0|            5775928.5|          1532929.5|                    79.9|                     18.5|             77.850485|       France|2.542424156616666...|Europe North|    EU Member|Non-NATO Member|[\"Finland\",\"Norway\"]|     Turkey|   172.51253|industry etc (ISI...|          true|\n",
            "| Sweden|2011|  410335|11.76| 9.46|89938.0|81.74|  40.9|  2.6|    23.2|2011| 5.051404001510612|  2.9600603468234175|  0.3166872701762068|    4.318822967995902|    0.8032242857143242|3.7604314394730847|       1.6520170653994293|          9449212.5|                          20.99993|                  49.82996|                    50.17004|                                     28.9|                       2.1322|              7.8|                   22.8|                                   413017.64909|                                   43709.27159|                                                       31243.28884|                                   8.85332|                          2.96081|                                     46.68289|                                     41.97863|                                                4.70426|           1574614.5|            6113641.0|          1760957.0|                   81.85|                     19.9|     79.89269999999999|       France|2.542424156616666...|Europe North|    EU Member|Non-NATO Member|[\"Finland\",\"Norway\"]|     Turkey|   182.39171|public administra...|          true|\n",
            "| Sweden|2016|  410335|11.78| 9.13|90982.0|82.36|  41.0|  3.0|    24.3|2016| 4.928649751510612|  2.9440660968234176|  0.3223430201762068|    4.316236967995902|    0.8232177857143242| 3.748345189473085|       1.6043313153994294|2.197927993360785E7|                130.01643725542382|         48.81898257717292|           51.18101638107686|                        26.42824480511091|           0.8657315173217844|              6.9|     19.477900317714983|                              527106.2135094485|                            24894.937958604656|                                                19331.301355341184|                        25.212391949429268|                5.009614380475697|                            51.93302108471135|                            52.24823685943179|                                   -0.31521594712825063|   4366442.677945862| 1.4750948727924893E7|  2877727.558334732|         75.108378485535|       16.551693267018056|     70.05823988193126|       France|2.542424156616666...|Europe North|    EU Member|Non-NATO Member|[\"Finland\",\"Norway\"]|    Germany|   161.96797|               trade|          true|\n",
            "| Sweden|2008|  410335|11.79| 9.86|91449.0|81.05|  40.8| 3.05|    22.6|2008| 5.160220001510613|  2.9619078468234177|  0.3139990201762068|    4.321210967995902|    0.8030120357143242| 3.762410689473085|       1.6397910653994294|          9219637.0|                          20.48972|                  49.71796|                    50.28204|                                     28.9|                      0.90178|              6.2|                   20.2|                                   386126.14917|                                   41881.00885|                                                       28987.21521|                                    8.7733|                          3.43673|                                      49.8131|                                     43.54603|                                                6.26706|           1542067.5|            6050822.5|          1626747.0|                   81.25|                    19.45|             79.238535|       France|2.542424156616666...|Europe North|    EU Member|Non-NATO Member|[\"Finland\",\"Norway\"]|    Germany|   177.93655|industry etc (ISI...|          true|\n",
            "| Sweden|2013|  410335|11.77| 9.37|90402.0|81.91|  41.1| 3.14|    23.5|2013| 5.059790751510612|  2.9551665968234175|  0.3187677701762068|    4.317793967995902|    0.8085207857143242|3.7566719394730845|       1.6415148153994292|          9600378.5|                          21.33588|                  49.89523|                    50.10477|                                     29.0|                       0.9595|              8.0|                   23.5|                                   432664.47758|                                   45067.33861|                                                       32898.01469|                                   8.71324|                         -0.04412|                                     43.80069|                                     39.29299|                                                 4.5077|           1628980.0|            6121153.5|          1850245.0|                    82.0|                    20.05|             81.043525|       France|2.542424156616666...|Europe North|    EU Member|Non-NATO Member|[\"Finland\",\"Norway\"]|    Germany|   184.89117|public administra...|          true|\n",
            "+-------+----+--------+-----+-----+-------+-----+------+-----+--------+----+------------------+--------------------+--------------------+---------------------+----------------------+------------------+-------------------------+-------------------+----------------------------------+--------------------------+----------------------------+-----------------------------------------+-----------------------------+-----------------+-----------------------+-----------------------------------------------+----------------------------------------------+------------------------------------------------------------------+------------------------------------------+---------------------------------+---------------------------------------------+---------------------------------------------+-------------------------------------------------------+--------------------+---------------------+-------------------+------------------------+-------------------------+----------------------+-------------+--------------------+------------+-------------+---------------+--------------------+-----------+------------+--------------------+--------------+\n",
            "only showing top 20 rows\n",
            "\n"
          ]
        }
      ],
      "source": [
        "df.show()"
      ]
    },
    {
      "cell_type": "markdown",
      "metadata": {
        "id": "FLPqqgnuN4b7"
      },
      "source": [
        "## *Esborrar variables que no utilitzarem*"
      ]
    },
    {
      "cell_type": "code",
      "execution_count": 13,
      "metadata": {
        "colab": {
          "base_uri": "https://localhost:8080/"
        },
        "id": "EwlFWbI9N-ys",
        "outputId": "79aefd35-50bd-4178-811e-767fb5b31aa2"
      },
      "outputs": [
        {
          "output_type": "stream",
          "name": "stdout",
          "text": [
            "+-------+----+--------+-----+-----+------+--------+-------------------+-----------------+----------------------+-------------+------------+-------------+---------------+--------------------+-----------+------------+--------------------+--------------+\n",
            "|Country|Year|Area_Km2|  CBR|  CDR|Medage|Pop_Dens|   Total population|Unemployment rate|Economic activity rate|pais_exportat|      Region|EU Membership|NATO Membership|    border_countries|Destination|Female_Power|            GDP_Main|Num_Immigrants|\n",
            "+-------+----+--------+-----+-----+------+--------+-------------------+-----------------+----------------------+-------------+------------+-------------+---------------+--------------------+-----------+------------+--------------------+--------------+\n",
            "| Sweden|2016|  410335|11.78| 9.13|  41.0|    24.3|2.197927993360785E7|              6.9|     70.05823988193126|       France|Europe North|    EU Member|Non-NATO Member|[\"Finland\",\"Norway\"]|     Turkey|   161.96797|               trade|          true|\n",
            "| Sweden|2008|  410335|11.79| 9.86|  40.8|    22.6|          9219637.0|              6.2|             79.238535|       France|Europe North|    EU Member|Non-NATO Member|[\"Finland\",\"Norway\"]|     Turkey|   177.93655|industry etc (ISI...|          true|\n",
            "| Sweden|2013|  410335|11.77| 9.37|  41.1|    23.5|          9600378.5|              8.0|             81.043525|       France|Europe North|    EU Member|Non-NATO Member|[\"Finland\",\"Norway\"]|     Turkey|   184.89117|public administra...|          true|\n",
            "| Sweden|2015|  410335|11.67| 9.24|  41.1|    24.0|2.197927993360785E7|              7.4|     70.05823988193126|       France|Europe North|    EU Member|Non-NATO Member|[\"Finland\",\"Norway\"]|     Turkey|   183.61595|public administra...|          true|\n",
            "| Sweden|2003|  410335| 11.0|10.32|  40.0|    22.0|          8958229.0|              6.6|              77.93761|       France|Europe North|    EU Member|Non-NATO Member|[\"Finland\",\"Norway\"]|     Turkey|    174.6701|industry etc (ISI...|          true|\n",
            "| Sweden|2010|  410335|12.26| 9.59|  40.9|    23.0|          9378126.0|              8.6|              78.99441|       France|Europe North|    EU Member|Non-NATO Member|[\"Finland\",\"Norway\"]|     Turkey|   176.43297|public administra...|          true|\n",
            "| Sweden|2009|  410335|11.95| 9.63|  40.9|    22.8|          9298514.5|              8.3|             78.827245|       France|Europe North|    EU Member|Non-NATO Member|[\"Finland\",\"Norway\"]|     Turkey|   177.58714|public administra...|          true|\n",
            "| Sweden|2005|  410335|11.16| 10.1|  40.4|    22.1|          9029572.0|              7.7|             78.624185|       France|Europe North|    EU Member|Non-NATO Member|[\"Finland\",\"Norway\"]|     Turkey|   170.74039|industry etc (ISI...|          true|\n",
            "| Sweden|2006|  410335| 11.6| 9.98|  40.6|    22.3|          9080504.5|              7.1|     78.70640499999999|       France|Europe North|    EU Member|Non-NATO Member|[\"Finland\",\"Norway\"]|     Turkey|    175.4113|industry etc (ISI...|          true|\n",
            "| Sweden|2004|  410335|11.16|10.01|  40.2|    22.0|          8993531.0|              7.4|             77.662125|       France|Europe North|    EU Member|Non-NATO Member|[\"Finland\",\"Norway\"]|     Turkey|   172.32726|industry etc (ISI...|          true|\n",
            "| Sweden|2000|  410335|10.13|10.47|  39.4|    21.7|          8872109.0|              5.6|     75.12976499999999|       France|Europe North|    EU Member|Non-NATO Member|[\"Finland\",\"Norway\"]|     Turkey|   170.18462|industry etc (ISI...|          true|\n",
            "| Sweden|2007|  410335|11.67| 9.97|  40.7|    22.4|          9148092.0|              6.1|     79.03224499999999|       France|Europe North|    EU Member|Non-NATO Member|[\"Finland\",\"Norway\"]|     Turkey|   178.91618|industry etc (ISI...|          true|\n",
            "| Sweden|2012|  410335|11.82|  9.6|  41.0|    23.3|          9519374.0|              8.0|              80.24811|       France|Europe North|    EU Member|Non-NATO Member|[\"Finland\",\"Norway\"]|     Turkey|   184.56519|public administra...|          true|\n",
            "| Sweden|2014|  410335| 11.8| 9.14|  41.1|    23.7|          9696109.5|              7.9|             81.482605|       France|Europe North|    EU Member|Non-NATO Member|[\"Finland\",\"Norway\"]|     Turkey|   181.82265|public administra...|          true|\n",
            "| Sweden|2001|  410335|10.22|10.48|  39.6|    21.8|          8895960.0|              5.8|              78.04083|       France|Europe North|    EU Member|Non-NATO Member|[\"Finland\",\"Norway\"]|     Turkey|   169.99974|industry etc (ISI...|          true|\n",
            "| Sweden|2002|  410335|10.67|10.58|  39.8|    21.9|          8924958.0|              6.0|             77.850485|       France|Europe North|    EU Member|Non-NATO Member|[\"Finland\",\"Norway\"]|     Turkey|   172.51253|industry etc (ISI...|          true|\n",
            "| Sweden|2011|  410335|11.76| 9.46|  40.9|    23.2|          9449212.5|              7.8|     79.89269999999999|       France|Europe North|    EU Member|Non-NATO Member|[\"Finland\",\"Norway\"]|     Turkey|   182.39171|public administra...|          true|\n",
            "| Sweden|2016|  410335|11.78| 9.13|  41.0|    24.3|2.197927993360785E7|              6.9|     70.05823988193126|       France|Europe North|    EU Member|Non-NATO Member|[\"Finland\",\"Norway\"]|    Germany|   161.96797|               trade|          true|\n",
            "| Sweden|2008|  410335|11.79| 9.86|  40.8|    22.6|          9219637.0|              6.2|             79.238535|       France|Europe North|    EU Member|Non-NATO Member|[\"Finland\",\"Norway\"]|    Germany|   177.93655|industry etc (ISI...|          true|\n",
            "| Sweden|2013|  410335|11.77| 9.37|  41.1|    23.5|          9600378.5|              8.0|             81.043525|       France|Europe North|    EU Member|Non-NATO Member|[\"Finland\",\"Norway\"]|    Germany|   184.89117|public administra...|          true|\n",
            "+-------+----+--------+-----+-----+------+--------+-------------------+-----------------+----------------------+-------------+------------+-------------+---------------+--------------------+-----------+------------+--------------------+--------------+\n",
            "only showing top 20 rows\n",
            "\n"
          ]
        }
      ],
      "source": [
        "columns_to_drop=['Deaths', 'E0','MR0_4', 'GSCA', 'Schizophrenia (%)',\n",
        "       'Bipolar disorder (%)', 'Eating disorders (%)', 'Anxiety disorders (%)',\n",
        "       'Drug use disorders (%)', 'Depression (%)', 'Alcohol use disorders (%)',\n",
        "       'Population density, pers per sq km',\n",
        "       'Total population, male (%)', 'Total population, female (%)',\n",
        "       'Mean age of women at birth of first child',\n",
        "       'Total employment, growth rate',\n",
        "       'Youth unemployment rate',\n",
        "       'GDP at current prices and PPPs, millions of US$',\n",
        "       'GDP per capita at current prices and PPPs, US$',\n",
        "       'Final consumption expenditure per capita, US Dollars, current PPPs',\n",
        "       'Purchasing power parity (PPP), NCU per US$',\n",
        "       'Consumer price index, growth rate',\n",
        "       'Export of goods and services, per cent of GDP',\n",
        "       'Import of goods and services, per cent of GDP',\n",
        "       'External balance on goods and services, per cent of GDP',\n",
        "       'Population aged 0-14', 'Population aged 15-64', 'Population aged 64+',\n",
        "       'Life expectancy at birth', 'Life expectancy at age 65', 'quantitat_exportada']\n",
        "\n",
        "df = df.drop(*columns_to_drop)\n",
        "df.show()"
      ]
    },
    {
      "cell_type": "markdown",
      "metadata": {
        "id": "7E3PFma6Bqbn"
      },
      "source": [
        "# **Ontologia**"
      ]
    },
    {
      "cell_type": "code",
      "execution_count": 14,
      "metadata": {
        "id": "TxrYT_ZMBuKc"
      },
      "outputs": [],
      "source": [
        "# Definir el Namespace\n",
        "onto_ns = Namespace(\"http://entrega_2_ojj.org/onto#\")\n",
        "\n",
        "# Crear el graf\n",
        "g = Graph()\n",
        "\n",
        "# Definir les classes\n",
        "year_class = URIRef(onto_ns.Year)\n",
        "\n",
        "country_class = URIRef(onto_ns.Country)\n",
        "medage_class = URIRef(onto_ns.Medage)\n",
        "CBR_class = URIRef(onto_ns.CBR)\n",
        "CDR_class = URIRef(onto_ns.CDR)\n",
        "FP_class = URIRef(onto_ns.FemalePower)\n",
        "EU_class = URIRef(onto_ns.EU_Membership)\n",
        "NATO_class = URIRef(onto_ns.NATO_Membership)\n",
        "region_class = URIRef(onto_ns.region)\n",
        "area_class = URIRef(onto_ns.Area_Km2)\n",
        "TotalPop_class = URIRef(onto_ns.Total_Pop)\n",
        "PopDens_class = URIRef(onto_ns.Pop_Dens)\n",
        "EcoRate_class = URIRef(onto_ns.Economic_Activity_Rate)\n",
        "Unemployment_class = URIRef(onto_ns.Unemployment)\n",
        "GDP_Main_class = URIRef(onto_ns.GDP_Main)\n",
        "Region_class = URIRef(onto_ns.region)\n",
        "\n",
        "# Afegir les subclasses\n",
        "g.add((year_class, RDF.type, RDFS.Class))\n",
        "g.add((country_class, RDF.type, RDFS.Class))\n",
        "g.add((medage_class, RDF.type, RDFS.Class))\n",
        "g.add((CBR_class, RDF.type, RDFS.Class))\n",
        "g.add((CDR_class, RDF.type, RDFS.Class))\n",
        "g.add((EU_class, RDF.type, RDFS.Class))\n",
        "g.add((FP_class,RDF.type, RDFS.Class))\n",
        "g.add((NATO_class, RDF.type, RDFS.Class))\n",
        "g.add((region_class, RDF.type, RDFS.Class))\n",
        "g.add((area_class, RDF.type, RDFS.Class))\n",
        "g.add((TotalPop_class, RDF.type, RDFS.Class))\n",
        "g.add((PopDens_class, RDF.type, RDFS.Class))\n",
        "g.add((EcoRate_class, RDF.type, RDFS.Class))\n",
        "g.add((Unemployment_class, RDF.type, RDFS.Class))\n",
        "g.add((GDP_Main_class, RDF.type, RDFS.Class))\n",
        "g.add((Region_class, RDF.type, RDFS.Class))\n",
        "\n",
        "g.add((country_class, RDFS.subClassOf, year_class))\n",
        "g.add((medage_class, RDFS.subClassOf, country_class))\n",
        "g.add((CBR_class, RDFS.subClassOf, country_class))\n",
        "g.add((CDR_class, RDFS.subClassOf, country_class))\n",
        "g.add((EU_class, RDFS.subClassOf, country_class))\n",
        "g.add((FP_class, RDFS.subClassOf, country_class))\n",
        "g.add((NATO_class, RDFS.subClassOf, country_class))\n",
        "g.add((region_class, RDFS.subClassOf, country_class))\n",
        "g.add((area_class, RDFS.subClassOf, country_class))\n",
        "g.add((TotalPop_class, RDFS.subClassOf, country_class))\n",
        "g.add((PopDens_class, RDFS.subClassOf, country_class))\n",
        "g.add((EcoRate_class, RDFS.subClassOf, country_class))\n",
        "g.add((Unemployment_class, RDFS.subClassOf, country_class))\n",
        "g.add((GDP_Main_class, RDFS.subClassOf, country_class))\n",
        "g.add((Region_class, RDFS.subClassOf, country_class))\n",
        "\n",
        "# Definir les propietats\n",
        "properties = {\n",
        "    'in': {'domain': year_class, 'range': country_class},\n",
        "    'hasMedAge': {'domain': country_class, 'range': medage_class},\n",
        "    'hasCBR': {'domain': country_class, 'range': CBR_class},\n",
        "    'hasCDR': {'domain': country_class, 'range': CDR_class},\n",
        "    'hasFP': {'domain': country_class, 'range': FP_class},\n",
        "    'hasEUStatus': {'domain': country_class, 'range': EU_class},\n",
        "    'inRegion': {'domain': country_class, 'range': region_class},\n",
        "    'hasArea': {'domain': country_class, 'range': area_class},\n",
        "    'hasTotalPopulation': {'domain': country_class, 'range': TotalPop_class},\n",
        "    'hasPopulationDensity': {'domain': country_class, 'range': PopDens_class},\n",
        "    'hasEconomicActivityRate': {'domain': country_class, 'range': EcoRate_class},\n",
        "    'hasUnemploymentRate': {'domain': country_class, 'range': Unemployment_class},\n",
        "    'hasGDPMain': {'domain': country_class, 'range': GDP_Main_class},\n",
        "    'borders_with': {'domain': country_class, 'range': country_class},\n",
        "    'belongs_to': {'domain': country_class, 'range': NATO_class},\n",
        "    'exports_to': {'domain': country_class, 'range': country_class},\n",
        "    'situated_in': {'domain': country_class, 'range': Region_class},\n",
        "    'migrates_to':  {'domain': country_class, 'range': country_class}\n",
        "}\n",
        "\n",
        "# Afegir les propietats al graf\n",
        "for prop, details in properties.items():\n",
        "    prop_uri = URIRef(onto_ns[prop])\n",
        "    g.add((prop_uri, RDF.type, RDF.Property))\n",
        "    g.add((prop_uri, RDFS.domain, details['domain']))\n",
        "    g.add((prop_uri, RDFS.range, details['range']))\n",
        "\n",
        "def encode_country_name(country):\n",
        "    return quote(country) if country is not None else None\n",
        "\n",
        "encode_udf = F.udf(encode_country_name, StringType())\n"
      ]
    },
    {
      "cell_type": "code",
      "execution_count": 15,
      "metadata": {
        "id": "LTy9Mn4fOQxv"
      },
      "outputs": [],
      "source": [
        "def replace_spaces_in_column_names(df):\n",
        "    \"\"\"Reemplaça els espais en els noms de les columnes per guions baixos.\"\"\"\n",
        "    for col in df.columns:\n",
        "        new_col = col.replace(\" \", \"_\")\n",
        "        df = df.withColumnRenamed(col, new_col)\n",
        "    return df\n",
        "df = replace_spaces_in_column_names(df)"
      ]
    },
    {
      "cell_type": "code",
      "execution_count": 16,
      "metadata": {
        "id": "GZDmFrb8LzvF"
      },
      "outputs": [],
      "source": [
        "processed_data = df.select(\n",
        "'Country', 'Year', 'Area_Km2', 'CBR', 'CDR', 'Medage', 'Pop_Dens', 'Total_population',\n",
        "'Unemployment_rate', 'Economic_activity_rate', 'pais_exportat', 'Region',\n",
        "'EU_Membership', 'NATO_Membership', 'border_countries', 'Destination',\n",
        "'Female_Power', 'GDP_Main', 'Num_Immigrants'\n",
        ").collect()\n",
        "\n",
        "def process_row(processed_data):\n",
        "  for row in processed_data:\n",
        "    country_encoded = quote(row.Country)\n",
        "    country_uri = URIRef(onto_ns[country_encoded])\n",
        "    year_uri = URIRef(onto_ns[str(row.Year)])\n",
        "\n",
        "    g.add((country_uri, RDF.type, country_class))\n",
        "    g.add((year_uri, RDF.type, year_class))\n",
        "    g.add((year_uri, URIRef(onto_ns['in']), country_uri))\n",
        "    # Afegir propietats si no són nul·les\n",
        "    if row.Area_Km2 is not None:\n",
        "        g.add((country_uri, URIRef(onto_ns['hasMedAge']), Literal(row.Area_Km2, datatype=XSD.decimal)))\n",
        "\n",
        "    if row.CBR is not None:\n",
        "        g.add((country_uri, URIRef(onto_ns['hasCBR']), Literal(row.CBR, datatype=XSD.double)))\n",
        "\n",
        "    if row.CDR is not None:\n",
        "        g.add((country_uri, URIRef(onto_ns['hasCDR']), Literal(row.CDR, datatype=XSD.double)))\n",
        "\n",
        "    if row.Medage is not None:\n",
        "        g.add((country_uri, URIRef(onto_ns['hasMedAge']), Literal(row.Medage, datatype=XSD.double)))\n",
        "\n",
        "    if row.Pop_Dens is not None:\n",
        "        g.add((country_uri, URIRef(onto_ns['hasPopulationDensity']), Literal(row.Pop_Dens, datatype=XSD.double)))\n",
        "\n",
        "    if row.Total_population is not None:\n",
        "        g.add((country_uri, URIRef(onto_ns['hasTotalPopulation']), Literal(row.Total_population, datatype=XSD.double)))\n",
        "\n",
        "    if row.Unemployment_rate is not None:\n",
        "        g.add((country_uri, URIRef(onto_ns['hasUnemploymentRate']), Literal(row.Unemployment_rate, datatype=XSD.double)))\n",
        "\n",
        "    if row.Economic_activity_rate is not None:\n",
        "        g.add((country_uri, URIRef(onto_ns['hasEconomicActivityRate']), Literal(row.Economic_activity_rate, datatype=XSD.double)))\n",
        "\n",
        "    if row.Region is not None:\n",
        "        g.add((country_uri, URIRef(onto_ns['inRegion']), Literal(row.Region, datatype=XSD.string)))\n",
        "\n",
        "    if row.EU_Membership is not None:\n",
        "        g.add((country_uri, URIRef(onto_ns['hasEUStatus']), Literal(row.EU_Membership, datatype=XSD.string)))\n",
        "\n",
        "    if row.NATO_Membership is not None:\n",
        "        g.add((country_uri, URIRef(onto_ns['belongs_to']), Literal(row.NATO_Membership, datatype=XSD.string)))\n",
        "\n",
        "    if row.GDP_Main is not None:\n",
        "        g.add((country_uri, URIRef(onto_ns['hasGDPMain']), Literal(row.GDP_Main, datatype=XSD.string)))\n",
        "\n",
        "    if row.Female_Power is not None:\n",
        "      g.add((country_uri, URIRef(onto_ns['hasFP']), Literal(row.Female_Power, datatype=XSD.float)))\n",
        "\n",
        "    if row.Destination is not None:\n",
        "      if row.Num_Immigrants:\n",
        "        g.add((country_uri, URIRef(onto_ns['migrates_to']), Literal(row.Destination, datatype=XSD.string)))\n",
        "\n",
        "    if row.pais_exportat is not None:\n",
        "        g.add((country_uri, URIRef(onto_ns['exports_to']), Literal(row.pais_exportat, datatype=XSD.string)))\n",
        "\n",
        "    # Processar països fronterers\n",
        "    if row.border_countries:\n",
        "        borders = json.loads(row.border_countries)\n",
        "        for border in borders:\n",
        "            border_encoded = quote(border)\n",
        "            border_uri = URIRef(onto_ns[border_encoded])\n",
        "            g.add((country_uri, URIRef(onto_ns['borders_with']), border_uri))\n"
      ]
    },
    {
      "cell_type": "code",
      "execution_count": 17,
      "metadata": {
        "colab": {
          "base_uri": "https://localhost:8080/"
        },
        "id": "ajoYYUexTbdN",
        "outputId": "926d8dcd-a16e-4147-b8ce-635144b7b51e"
      },
      "outputs": [
        {
          "output_type": "stream",
          "name": "stdout",
          "text": [
            "root\n",
            " |-- Country: string (nullable = true)\n",
            " |-- Year: decimal(20,0) (nullable = true)\n",
            " |-- Area_Km2: decimal(20,0) (nullable = true)\n",
            " |-- CBR: double (nullable = true)\n",
            " |-- CDR: double (nullable = true)\n",
            " |-- Medage: double (nullable = true)\n",
            " |-- Pop_Dens: double (nullable = true)\n",
            " |-- Total_population: double (nullable = true)\n",
            " |-- Unemployment_rate: double (nullable = true)\n",
            " |-- Economic_activity_rate: double (nullable = true)\n",
            " |-- pais_exportat: string (nullable = true)\n",
            " |-- Region: string (nullable = true)\n",
            " |-- EU_Membership: string (nullable = true)\n",
            " |-- NATO_Membership: string (nullable = true)\n",
            " |-- border_countries: string (nullable = true)\n",
            " |-- Destination: string (nullable = true)\n",
            " |-- Female_Power: float (nullable = true)\n",
            " |-- GDP_Main: string (nullable = true)\n",
            " |-- Num_Immigrants: boolean (nullable = false)\n",
            "\n"
          ]
        }
      ],
      "source": [
        "df.printSchema()"
      ]
    },
    {
      "cell_type": "code",
      "execution_count": 18,
      "metadata": {
        "id": "11oJuo15R3WU"
      },
      "outputs": [],
      "source": [
        "process_row(processed_data)"
      ]
    },
    {
      "cell_type": "code",
      "execution_count": 21,
      "metadata": {
        "id": "F-ZGpRn0J94F",
        "colab": {
          "base_uri": "https://localhost:8080/"
        },
        "outputId": "d89723a4-95f4-407a-b0c0-b30011cdb0ee"
      },
      "outputs": [
        {
          "output_type": "stream",
          "name": "stdout",
          "text": [
            "+-------+----+--------+-----+-----+------+--------+-------------------+-----------------+----------------------+-------------+------------+-------------+---------------+--------------------+-----------+------------+--------------------+--------------+\n",
            "|Country|Year|Area_Km2|  CBR|  CDR|Medage|Pop_Dens|   Total_population|Unemployment_rate|Economic_activity_rate|pais_exportat|      Region|EU_Membership|NATO_Membership|    border_countries|Destination|Female_Power|            GDP_Main|Num_Immigrants|\n",
            "+-------+----+--------+-----+-----+------+--------+-------------------+-----------------+----------------------+-------------+------------+-------------+---------------+--------------------+-----------+------------+--------------------+--------------+\n",
            "| Sweden|2016|  410335|11.78| 9.13|  41.0|    24.3|2.197927993360785E7|              6.9|     70.05823988193126|       France|Europe North|    EU Member|Non-NATO Member|[\"Finland\",\"Norway\"]|     Turkey|   161.96797|               trade|          true|\n",
            "| Sweden|2008|  410335|11.79| 9.86|  40.8|    22.6|          9219637.0|              6.2|             79.238535|       France|Europe North|    EU Member|Non-NATO Member|[\"Finland\",\"Norway\"]|     Turkey|   177.93655|industry etc (ISI...|          true|\n",
            "| Sweden|2013|  410335|11.77| 9.37|  41.1|    23.5|          9600378.5|              8.0|             81.043525|       France|Europe North|    EU Member|Non-NATO Member|[\"Finland\",\"Norway\"]|     Turkey|   184.89117|public administra...|          true|\n",
            "| Sweden|2015|  410335|11.67| 9.24|  41.1|    24.0|2.197927993360785E7|              7.4|     70.05823988193126|       France|Europe North|    EU Member|Non-NATO Member|[\"Finland\",\"Norway\"]|     Turkey|   183.61595|public administra...|          true|\n",
            "| Sweden|2003|  410335| 11.0|10.32|  40.0|    22.0|          8958229.0|              6.6|              77.93761|       France|Europe North|    EU Member|Non-NATO Member|[\"Finland\",\"Norway\"]|     Turkey|    174.6701|industry etc (ISI...|          true|\n",
            "| Sweden|2010|  410335|12.26| 9.59|  40.9|    23.0|          9378126.0|              8.6|              78.99441|       France|Europe North|    EU Member|Non-NATO Member|[\"Finland\",\"Norway\"]|     Turkey|   176.43297|public administra...|          true|\n",
            "| Sweden|2009|  410335|11.95| 9.63|  40.9|    22.8|          9298514.5|              8.3|             78.827245|       France|Europe North|    EU Member|Non-NATO Member|[\"Finland\",\"Norway\"]|     Turkey|   177.58714|public administra...|          true|\n",
            "| Sweden|2005|  410335|11.16| 10.1|  40.4|    22.1|          9029572.0|              7.7|             78.624185|       France|Europe North|    EU Member|Non-NATO Member|[\"Finland\",\"Norway\"]|     Turkey|   170.74039|industry etc (ISI...|          true|\n",
            "| Sweden|2006|  410335| 11.6| 9.98|  40.6|    22.3|          9080504.5|              7.1|     78.70640499999999|       France|Europe North|    EU Member|Non-NATO Member|[\"Finland\",\"Norway\"]|     Turkey|    175.4113|industry etc (ISI...|          true|\n",
            "| Sweden|2004|  410335|11.16|10.01|  40.2|    22.0|          8993531.0|              7.4|             77.662125|       France|Europe North|    EU Member|Non-NATO Member|[\"Finland\",\"Norway\"]|     Turkey|   172.32726|industry etc (ISI...|          true|\n",
            "| Sweden|2000|  410335|10.13|10.47|  39.4|    21.7|          8872109.0|              5.6|     75.12976499999999|       France|Europe North|    EU Member|Non-NATO Member|[\"Finland\",\"Norway\"]|     Turkey|   170.18462|industry etc (ISI...|          true|\n",
            "| Sweden|2007|  410335|11.67| 9.97|  40.7|    22.4|          9148092.0|              6.1|     79.03224499999999|       France|Europe North|    EU Member|Non-NATO Member|[\"Finland\",\"Norway\"]|     Turkey|   178.91618|industry etc (ISI...|          true|\n",
            "| Sweden|2012|  410335|11.82|  9.6|  41.0|    23.3|          9519374.0|              8.0|              80.24811|       France|Europe North|    EU Member|Non-NATO Member|[\"Finland\",\"Norway\"]|     Turkey|   184.56519|public administra...|          true|\n",
            "| Sweden|2014|  410335| 11.8| 9.14|  41.1|    23.7|          9696109.5|              7.9|             81.482605|       France|Europe North|    EU Member|Non-NATO Member|[\"Finland\",\"Norway\"]|     Turkey|   181.82265|public administra...|          true|\n",
            "| Sweden|2001|  410335|10.22|10.48|  39.6|    21.8|          8895960.0|              5.8|              78.04083|       France|Europe North|    EU Member|Non-NATO Member|[\"Finland\",\"Norway\"]|     Turkey|   169.99974|industry etc (ISI...|          true|\n",
            "| Sweden|2002|  410335|10.67|10.58|  39.8|    21.9|          8924958.0|              6.0|             77.850485|       France|Europe North|    EU Member|Non-NATO Member|[\"Finland\",\"Norway\"]|     Turkey|   172.51253|industry etc (ISI...|          true|\n",
            "| Sweden|2011|  410335|11.76| 9.46|  40.9|    23.2|          9449212.5|              7.8|     79.89269999999999|       France|Europe North|    EU Member|Non-NATO Member|[\"Finland\",\"Norway\"]|     Turkey|   182.39171|public administra...|          true|\n",
            "| Sweden|2016|  410335|11.78| 9.13|  41.0|    24.3|2.197927993360785E7|              6.9|     70.05823988193126|       France|Europe North|    EU Member|Non-NATO Member|[\"Finland\",\"Norway\"]|    Germany|   161.96797|               trade|          true|\n",
            "| Sweden|2008|  410335|11.79| 9.86|  40.8|    22.6|          9219637.0|              6.2|             79.238535|       France|Europe North|    EU Member|Non-NATO Member|[\"Finland\",\"Norway\"]|    Germany|   177.93655|industry etc (ISI...|          true|\n",
            "| Sweden|2013|  410335|11.77| 9.37|  41.1|    23.5|          9600378.5|              8.0|             81.043525|       France|Europe North|    EU Member|Non-NATO Member|[\"Finland\",\"Norway\"]|    Germany|   184.89117|public administra...|          true|\n",
            "+-------+----+--------+-----+-----+------+--------+-------------------+-----------------+----------------------+-------------+------------+-------------+---------------+--------------------+-----------+------------+--------------------+--------------+\n",
            "only showing top 20 rows\n",
            "\n"
          ]
        }
      ],
      "source": [
        "df.show()"
      ]
    },
    {
      "cell_type": "code",
      "execution_count": 23,
      "metadata": {
        "id": "HVXvMolc0MOE"
      },
      "outputs": [],
      "source": [
        "# Serialitzar en format OWL/XML\n",
        "owl_data = g.serialize(format='xml').encode('utf-8')  # Converteix a bytes utilitzant utf-8\n",
        "\n",
        "# Guardar en un fitxer OWL\n",
        "with open('ontologia_bda_2.owl', 'wb') as owl_file:  # 'wb' per mode binari\n",
        "    owl_file.write(owl_data)"
      ]
    },
    {
      "cell_type": "code",
      "execution_count": 24,
      "metadata": {
        "id": "-_N-H3V577F0"
      },
      "outputs": [],
      "source": [
        "# Serialitzar en format N-Triples\n",
        "nt_data = g.serialize(format='nt').encode('utf-8')  # Converteix a bytes utilitzant utf-8\n",
        "\n",
        "# Guardar en un fitxer .nt\n",
        "with open('ontologia_bda_2.nt', 'wb') as nt_file:  # 'wb' per mode binari\n",
        "    nt_file.write(nt_data)"
      ]
    }
  ],
  "metadata": {
    "colab": {
      "collapsed_sections": [
        "FLPqqgnuN4b7"
      ],
      "provenance": []
    },
    "kernelspec": {
      "display_name": "Python 3",
      "name": "python3"
    },
    "language_info": {
      "name": "python"
    }
  },
  "nbformat": 4,
  "nbformat_minor": 0
}
