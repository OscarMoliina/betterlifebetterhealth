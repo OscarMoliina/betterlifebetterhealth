{
  "cells": [
    {
      "cell_type": "markdown",
      "metadata": {
        "id": "aqNIbxhi9NUW"
      },
      "source": [
        "# **Discretització i càlcul de variables**"
      ]
    },
    {
      "cell_type": "markdown",
      "metadata": {
        "id": "NtdDmn3MARh4"
      },
      "source": [
        "## *Requisits d'execució*"
      ]
    },
    {
      "cell_type": "code",
      "execution_count": 1,
      "metadata": {
        "colab": {
          "base_uri": "https://localhost:8080/"
        },
        "id": "1v8bDVxO938n",
        "outputId": "0ddb7c19-5ec9-4ee5-b645-ab3b955e96b6"
      },
      "outputs": [
        {
          "output_type": "stream",
          "name": "stdout",
          "text": [
            "Collecting pyspark\n",
            "  Downloading pyspark-3.5.1.tar.gz (317.0 MB)\n",
            "\u001b[2K     \u001b[90m━━━━━━━━━━━━━━━━━━━━━━━━━━━━━━━━━━━━━━━━\u001b[0m \u001b[32m317.0/317.0 MB\u001b[0m \u001b[31m1.7 MB/s\u001b[0m eta \u001b[36m0:00:00\u001b[0m\n",
            "\u001b[?25h  Preparing metadata (setup.py) ... \u001b[?25l\u001b[?25hdone\n",
            "Requirement already satisfied: py4j==0.10.9.7 in /usr/local/lib/python3.10/dist-packages (from pyspark) (0.10.9.7)\n",
            "Building wheels for collected packages: pyspark\n",
            "  Building wheel for pyspark (setup.py) ... \u001b[?25l\u001b[?25hdone\n",
            "  Created wheel for pyspark: filename=pyspark-3.5.1-py2.py3-none-any.whl size=317488491 sha256=cbdadd9131467df4f872539b52b0edb057e64354d2200859cf5ef6f107848605\n",
            "  Stored in directory: /root/.cache/pip/wheels/80/1d/60/2c256ed38dddce2fdd93be545214a63e02fbd8d74fb0b7f3a6\n",
            "Successfully built pyspark\n",
            "Installing collected packages: pyspark\n",
            "Successfully installed pyspark-3.5.1\n",
            "Requirement already satisfied: duckdb in /usr/local/lib/python3.10/dist-packages (0.10.2)\n"
          ]
        }
      ],
      "source": [
        "!pip3 install pyspark rdflib duckdb\n",
        "\n",
        "# Importació de mòduls de pyspark\n",
        "import pyspark\n",
        "from pyspark.sql import SparkSession\n",
        "from pyspark.sql import functions as F\n",
        "from pyspark.sql.types import IntegerType, DoubleType, StringType, FloatType\n",
        "from pyspark.sql.window import Window\n",
        "from pyspark.ml.feature import VectorAssembler\n",
        "from pyspark.ml.clustering import KMeans\n",
        "from pyspark.ml import Pipeline\n",
        "\n",
        "# Importació de mòduls de rdflib\n",
        "from rdflib import Graph, URIRef, Literal, Namespace, RDF, RDFS, XSD\n",
        "\n",
        "# Importacions generals de Python\n",
        "import pandas as pd\n",
        "import matplotlib.pyplot as plt\n",
        "import duckdb\n",
        "from decimal import Decimal, InvalidOperation\n",
        "import json\n",
        "from urllib.parse import quote"
      ]
    },
    {
      "cell_type": "code",
      "execution_count": 2,
      "metadata": {
        "colab": {
          "base_uri": "https://localhost:8080/"
        },
        "id": "mMqXvovJ8bSw",
        "outputId": "53d2d16a-f236-4021-ebe0-56623e353de0"
      },
      "outputs": [
        {
          "output_type": "stream",
          "name": "stdout",
          "text": [
            "Cloning into 'betterlifebetterhealth'...\n",
            "remote: Enumerating objects: 409, done.\u001b[K\n",
            "remote: Counting objects: 100% (254/254), done.\u001b[K\n",
            "remote: Compressing objects: 100% (213/213), done.\u001b[K\n",
            "remote: Total 409 (delta 73), reused 144 (delta 40), pack-reused 155\u001b[K\n",
            "Receiving objects: 100% (409/409), 104.07 MiB | 29.68 MiB/s, done.\n",
            "Resolving deltas: 100% (123/123), done.\n"
          ]
        }
      ],
      "source": [
        "!git clone https://github.com/OscarMoliina/betterlifebetterhealth.git"
      ]
    },
    {
      "cell_type": "code",
      "execution_count": 4,
      "metadata": {
        "id": "NKTJTZbN8e0W"
      },
      "outputs": [],
      "source": [
        "spark = SparkSession.builder \\\n",
        "    .appName(\"Afegir dades\") \\\n",
        "    .config(\"spark.jars\", \"/content/betterlifebetterhealth/src/utils/duckdb.jar\") \\\n",
        "    .getOrCreate()\n",
        "\n",
        "result = spark.read \\\n",
        "    .format(\"jdbc\") \\\n",
        "    .option(\"url\", \"jdbc:duckdb:/content/explotaiton_zone_e2.db\") \\\n",
        "    .option(\"driver\", \"org.duckdb.DuckDBDriver\") \\\n",
        "    .option(\"dbtable\", \"relations_added\") \\\n",
        "    .load()\n",
        "\n"
      ]
    },
    {
      "cell_type": "markdown",
      "metadata": {
        "id": "oljaEf_EAVys"
      },
      "source": [
        "## *Discretització de les variables*"
      ]
    },
    {
      "cell_type": "code",
      "execution_count": 5,
      "metadata": {
        "id": "rgmYD-8dGRU1"
      },
      "outputs": [],
      "source": [
        "df = result"
      ]
    },
    {
      "cell_type": "code",
      "execution_count": 6,
      "metadata": {
        "id": "2Ey-oJct-CjO"
      },
      "outputs": [],
      "source": [
        "# Definir una llista de columnes per discretitzar\n",
        "columns_to_discretize = ['Area_Km2', 'CBR', 'CDR', 'Medage', 'Pop_Dens', 'Total population', 'Unemployment rate', 'Economic activity rate']\n",
        "\n",
        "# Afegeix una nova columna per cada discretització\n",
        "for column in columns_to_discretize:\n",
        "    # Calcular el mínim i màxim per a cada columna\n",
        "    min_col = df.select(min(col(column))).collect()[0][0]\n",
        "    max_col = df.select(max(col(column))).collect()[0][0]\n",
        "    # Calcular els llindars\n",
        "    range_width = (float(max_col) - float(min_col)) / 3.0\n",
        "    first_threshold = float(min_col) + float(range_width)\n",
        "    second_threshold = float(min_col) + 2 * float(range_width)\n",
        "\n",
        "    # Crear categories basades en els llindars\n",
        "    df = df.withColumn(column,\n",
        "                       when(col(column) <= first_threshold, lit('valor_baix'))\n",
        "                       .when(col(column) <= second_threshold, lit('valor_mig'))\n",
        "                       .otherwise(lit('valor_alt')))\n"
      ]
    },
    {
      "cell_type": "markdown",
      "metadata": {
        "id": "mApJ8_hiA6vf"
      },
      "source": [
        "## *Càlcul de l'índex de poder de la dona*"
      ]
    },
    {
      "cell_type": "code",
      "execution_count": 7,
      "metadata": {
        "colab": {
          "base_uri": "https://localhost:8080/"
        },
        "id": "TGTA0HrABAI-",
        "outputId": "4598d925-c59d-42c4-d8ea-0bd90347e824"
      },
      "outputs": [
        {
          "output_type": "stream",
          "name": "stdout",
          "text": [
            "+-------+----+----------+----------+---------+-------+-----+---------+-----+----------+----+------------------+--------------------+--------------------+---------------------+----------------------+------------------+-------------------------+----------------+----------------------------------+--------------------------+----------------------------+-----------------------------------------+------------------------------------------------------------------------+------------------------------------------+-------------------------------------------------------------------+-----------------------------------------------------+----------------------------------------------+-----------------------------------------------------------------+----------------------------------------------------------------------------------+----------------------------------------------+-----------------------------+-----------------+-----------------------+-----------------------------------------------+----------------------------------------------+------------------------------------------------------------------+------------------------------------------+---------------------------------+---------------------------------------------+---------------------------------------------+-------------------------------------------------------+-------------------------------------------------------------------------+------------------------------------------------------------------------+----------------------------------------------------------------------+-----------------------------------------------------------------------------------------------------------+-----------------------------------------------------------------------------------------+-------------------------------------------------------------------------------------------------------+------------------------------------------------------------------------------------+--------------------+---------------------+-------------------+------------------------+-------------------------+----------------------+-------------+--------------------+------------+-------------+---------------+--------------------+-----------+----------+------------+\n",
            "|Country|Year|  Area_Km2|       CBR|      CDR| Deaths|   E0|   Medage|MR0_4|  Pop_Dens|GSCA| Schizophrenia (%)|Bipolar disorder (%)|Eating disorders (%)|Anxiety disorders (%)|Drug use disorders (%)|    Depression (%)|Alcohol use disorders (%)|Total population|Population density, pers per sq km|Total population, male (%)|Total population, female (%)|Mean age of women at birth of first child|Women in the Labour Force, Percent of corresponding total for both sexes|Female tertiary students, percent of total|Female legislators, senior officials and managers, percent of total|Female professionals, percent of total for both sexes|Female clerks, percent of total for both sexes|Female craft and related workers, percent of total for both sexes|Female plant and machine operators and assemblers, percent of total for both sexes|Female members of parliament, percent of total|Total employment, growth rate|Unemployment rate|Youth unemployment rate|GDP at current prices and PPPs, millions of US$|GDP per capita at current prices and PPPs, US$|Final consumption expenditure per capita, US Dollars, current PPPs|Purchasing power parity (PPP), NCU per US$|Consumer price index, growth rate|Export of goods and services, per cent of GDP|Import of goods and services, per cent of GDP|External balance on goods and services, per cent of GDP|GDP: in agriculture etc (ISIC4 A), output approach, per cent share of GVA|GDP: in industry etc (ISIC4 B-E), output approach, per cent share of GVA|GDP: in construction (ISIC4 F), output approach, per cent share of GVA|GDP: in trade, hospitality, transport and communication (ISIC4 G-J), output approach, per cent share of GVA|GDP: in finance and business services (ISIC4 K-N), output approach, per cent share of GVA|GDP: in public administration, education and health (ISIC4 O-Q), output approach, per cent share of GVA|GDP: in other service activities (ISIC4 R-U), output approach, per cent share of GVA|Population aged 0-14|Population aged 15-64|Population aged 64+|Life expectancy at birth|Life expectancy at age 65|Economic activity rate|pais_exportat| quantitat_exportada|      Region|EU Membership|NATO Membership|    border_countries|Destination|Immigrants|Female_Power|\n",
            "+-------+----+----------+----------+---------+-------+-----+---------+-----+----------+----+------------------+--------------------+--------------------+---------------------+----------------------+------------------+-------------------------+----------------+----------------------------------+--------------------------+----------------------------+-----------------------------------------+------------------------------------------------------------------------+------------------------------------------+-------------------------------------------------------------------+-----------------------------------------------------+----------------------------------------------+-----------------------------------------------------------------+----------------------------------------------------------------------------------+----------------------------------------------+-----------------------------+-----------------+-----------------------+-----------------------------------------------+----------------------------------------------+------------------------------------------------------------------+------------------------------------------+---------------------------------+---------------------------------------------+---------------------------------------------+-------------------------------------------------------+-------------------------------------------------------------------------+------------------------------------------------------------------------+----------------------------------------------------------------------+-----------------------------------------------------------------------------------------------------------+-----------------------------------------------------------------------------------------+-------------------------------------------------------------------------------------------------------+------------------------------------------------------------------------------------+--------------------+---------------------+-------------------+------------------------+-------------------------+----------------------+-------------+--------------------+------------+-------------+---------------+--------------------+-----------+----------+------------+\n",
            "| Sweden|2016|valor_baix|valor_baix|valor_mig|90982.0|82.36|valor_alt|  3.0|valor_baix|2016| 4.928649751510612|  2.9440660968234176|  0.3223430201762068|    4.316236967995902|    0.8232177857143242| 3.748345189473085|       1.6043313153994294|      valor_baix|                130.01643725542382|         48.81898257717292|           51.18101638107686|                        26.42824480511091|                                                       45.66159630449234|                         53.23341422897378|                                                 31.176593392587794|                                   54.855416276595754|                             69.38819462788423|                                               13.717378827544385|                                                                16.593507535902546|                                      43.55301|           0.8657315173217844|       valor_baix|     19.477900317714983|                              527106.2135094485|                            24894.937958604656|                                                19331.301355341184|                        25.212391949429268|                5.009614380475697|                            51.93302108471135|                            52.24823685943179|                                   -0.31521594712825063|                                                        4.577160153048209|                                                       22.11290677206444|                                                     6.447228701322179|                                                                                         25.414340219475392|                                                                       21.910363623628907|                                                                                      16.59673620738029|                                                                   3.038325116274133|   4366442.677945862| 1.4750948727924893E7|  2877727.558334732|         75.108378485535|       16.551693267018056|             valor_alt|       France|2.542424156616666...|Europe North|    EU Member|Non-NATO Member|[\"Finland\",\"Norway\"]|     Turkey|      7151|   161.96797|\n",
            "| Sweden|2008|valor_baix|valor_baix|valor_mig|91449.0|81.05|valor_alt| 3.05|valor_baix|2008| 5.160220001510613|  2.9619078468234177|  0.3139990201762068|    4.321210967995902|    0.8030120357143242| 3.762410689473085|       1.6397910653994294|      valor_baix|                          20.48972|                  49.71796|                    50.28204|                                     28.9|                                                                47.43794|                                  60.13536|                                                           32.07307|                                             50.50595|                                      68.83803|                                                          5.15348|                                                                          14.78435|                                       46.9914|                      0.90178|       valor_baix|                   20.2|                                   386126.14917|                                   41881.00885|                                                       28987.21521|                                    8.7733|                          3.43673|                                      49.8131|                                     43.54603|                                                6.26706|                                                                  1.60364|                                                                23.18636|                                                                6.0835|                                                                                                   22.52988|                                                                                 20.97684|                                                                                               22.84736|                                                                  2.7724200000000003|           1542067.5|            6050822.5|          1626747.0|                   81.25|                    19.45|             valor_alt|       France|2.542424156616666...|Europe North|    EU Member|Non-NATO Member|[\"Finland\",\"Norway\"]|     Turkey|      7151|   177.93655|\n",
            "| Sweden|2013|valor_baix|valor_baix|valor_mig|90402.0|81.91|valor_alt| 3.14|valor_baix|2013| 5.059790751510612|  2.9551665968234175|  0.3187677701762068|    4.317793967995902|    0.8085207857143242|3.7566719394730845|       1.6415148153994292|      valor_baix|                          21.33588|                  49.89523|                    50.10477|                                     29.0|                                                                47.46604|                                  59.41729|                                                           35.44679|                                             57.04307|                                      68.54896|                                                           6.1964|                                                                           15.5642|                                      44.69914|                       0.9595|       valor_baix|                   23.5|                                   432664.47758|                                   45067.33861|                                                       32898.01469|                                   8.71324|                         -0.04412|                                     43.80069|                                     39.29299|                                                 4.5077|                                                                  1.38686|                                                                20.62412|                                                                5.4568|                                                                                                   22.53213|                                                                                 22.67147|                                                                                               24.35094|                                                                  2.9776800000000003|           1628980.0|            6121153.5|          1850245.0|                    82.0|                    20.05|             valor_alt|       France|2.542424156616666...|Europe North|    EU Member|Non-NATO Member|[\"Finland\",\"Norway\"]|     Turkey|      7151|   184.89117|\n",
            "| Sweden|2015|valor_baix|valor_baix|valor_mig|90907.0|82.17|valor_alt| 2.95|valor_baix|2015| 5.022162501510612|  2.9486090968234175|  0.3211717701762068|    4.316705467995902|    0.8175652857143242|3.7516011894730847|       1.6196603153994293|      valor_baix|                130.01643725542382|         48.81898257717292|           51.18101638107686|                                     29.1|                                                                47.62206|                         53.23341422897378|                                                           39.54697|                                             57.71724|                                      66.47135|                                                          5.93202|                                                                          14.34663|                                      43.55301|                      1.52615|       valor_baix|                   20.4|                                   457708.24199|                                   46708.73561|                                                       33184.94036|                                   9.13486|                         -0.04663|                                     45.59012|                                     40.84348|                                                4.74664|                                                                  1.31778|                                                                20.39848|                                                               5.88432|                                                                                                   22.82598|                                                                                 22.81071|                                                                                               23.83173|                                                                               2.931|   4366442.677945862| 1.4750948727924893E7|  2877727.558334732|         75.108378485535|       16.551693267018056|             valor_alt|       France|2.542424156616666...|Europe North|    EU Member|Non-NATO Member|[\"Finland\",\"Norway\"]|     Turkey|      7151|   183.61595|\n",
            "| Sweden|2003|valor_baix|valor_baix|valor_mig|92961.0|80.09|valor_alt| 3.94|valor_baix|2003| 5.199582501510612|  2.9613545968234174|  0.3099902701762068|    4.323989967995902|    0.8011622857143242| 3.761201939473085|       1.6104695653994294|      valor_baix|                          19.90877|                  49.52856|                    50.47144|                                     28.8|                                                                47.75381|                                   59.5189|                                                           30.29163|                                             50.92063|                                      71.37733|                                                          5.80542|                                                                          18.09568|                                      45.27221|                     -0.57589|       valor_baix|                   14.3|                                   287243.49256|                                   32064.86711|                                                       23114.07983|                                   9.32117|                          1.92427|                                     41.24431|                                     34.90382|                                                6.34048|                                                                   1.8214|                                                                 24.0337|                                                               5.21264|                                                                                                     21.972|                                                                                 20.64988|                                                                                               23.63148|                                                                             2.67889|           1605457.5|            5815247.0|          1537524.5|                   80.25|                    18.75|             valor_alt|       France|2.542424156616666...|Europe North|    EU Member|Non-NATO Member|[\"Finland\",\"Norway\"]|     Turkey|      7151|    174.6701|\n",
            "| Sweden|2010|valor_baix|valor_baix|valor_mig|90487.0|81.49|valor_alt| 3.18|valor_baix|2010| 5.050364751510612|  2.9621605968234173| 0.31579352017620677|    4.319305217995902|    0.8022532857143242| 3.761914689473085|       1.6531348153994294|      valor_baix|                          20.84195|                  49.79277|                    50.20723|                                     28.9|                                                                47.04135|                                  59.10491|                                                           31.34937|                                             50.48423|                                      67.56981|                                                          5.62286|                                                                          15.22744|                                      46.41834|                      0.96301|       valor_baix|                   24.8|                                   391592.84332|                                   41756.09594|                                                       29905.62454|                                   8.98891|                          1.15911|                                     46.18519|                                     40.71765|                                                5.46754|                                                                  1.62438|                                                                23.03842|                                                               5.89242|                                                                                                   22.44671|                                                                                 20.82082|                                                                                                23.3503|                                                                             2.82695|           1557200.5|            6106914.0|          1714011.5|                    81.6|                    19.75|             valor_alt|       France|2.542424156616666...|Europe North|    EU Member|Non-NATO Member|[\"Finland\",\"Norway\"]|     Turkey|      7151|   176.43297|\n",
            "| Sweden|2009|valor_baix|valor_baix|valor_mig|90080.0| 81.3|valor_alt|  3.3|valor_baix|2009| 5.158633001510612|  2.9627810968234174|  0.3149767701762068|    4.320070467995902|    0.8022345357143242|3.7625524394730845|       1.6491285653994294|      valor_baix|                          20.66502|                  49.75378|                    50.24622|                                     28.9|                                                                47.39169|                                  59.40091|                                                           32.49791|                                             50.56041|                                      69.44957|                                                          5.19785|                                                                          15.39225|                                       46.9914|                     -2.41829|       valor_baix|                   25.0|                                   368753.45302|                                   39657.30527|                                                       29074.56796|                         8.917910000000001|                          -0.4949|                                      44.4523|                                       38.691|                                                 5.7613|                                                                  1.47525|                                                                21.12353|                                                               5.79254|                                                                                                   22.58323|                                                                                 21.92307|                                                                                               24.21115|                                                                  2.8912500000000003|           1545922.0|            6084663.5|          1667929.0|                   81.45|                     19.7|             valor_alt|       France|2.542424156616666...|Europe North|    EU Member|Non-NATO Member|[\"Finland\",\"Norway\"]|     Turkey|      7151|   177.58714|\n",
            "| Sweden|2005|valor_baix|valor_baix|valor_mig|91710.0|80.54|valor_alt| 3.27|valor_baix|2005| 5.192783251510612|  2.9591928468234174| 0.31146152017620676|   4.3240144679959025|    0.8051360357143242| 3.761268189473085|       1.6130768153994293|      valor_baix|                          20.06732|                  49.57522|                    50.42478|                                     29.0|                                                                47.49411|                                   59.5773|                                                           29.91412|                                             50.30195|                                      71.50796|                                                          5.24567|                                                                          14.93432|                                      45.27221|                      0.26515|       valor_baix|                   22.8|                                   310006.20897|                                   34332.21947|                                                       24315.30965|                                   9.37837|                          0.45239|                                     45.87326|                                     38.70071|                                                7.17254|                                                                  1.14089|                                                                24.20118|                                                               5.48828|                                                                                                   22.50514|                                                                                 20.71573|                                                                                               23.20901|                                                                             2.73976|           1572178.5|            5897537.5|          1559856.0|                    80.7|       19.049999999999997|             valor_alt|       France|2.542424156616666...|Europe North|    EU Member|Non-NATO Member|[\"Finland\",\"Norway\"]|     Turkey|      7151|   170.74039|\n",
            "| Sweden|2006|valor_baix|valor_baix|valor_mig|91177.0|80.73|valor_alt| 3.55|valor_baix|2006| 5.156932251510613|  2.9597628468234176|  0.3122842701762068|   4.3235107179959025|    0.8048952857143242| 3.761519689473085|       1.6184408153994294|      valor_baix|                          20.18051|                  49.61218|                    50.38782|                                     29.0|                                                                47.47598|                                  59.91975|                                                           32.10806|                                             50.30395|                                      69.03618|                                                          5.42618|                                                                          14.79371|                                      45.27221|                      1.69476|       valor_baix|                   21.5|                                    341164.8002|                                   37571.14699|                                                       26067.93593|                                   9.08382|                          1.36183|                                        48.19|                                     40.59949|                                                7.59051|                                                                  1.35362|                                                                  24.284|                                                               5.87826|                                                                                                   22.24874|                                                                                 20.72789|                                                                                               22.76945|                                                                             2.73804|           1555181.5|            5951916.0|          1573407.0|       80.94999999999999|       19.299999999999997|             valor_alt|       France|2.542424156616666...|Europe North|    EU Member|Non-NATO Member|[\"Finland\",\"Norway\"]|     Turkey|      7151|    175.4113|\n",
            "| Sweden|2004|valor_baix|valor_baix|valor_mig|90532.0|80.44|valor_alt| 3.63|valor_baix|2004|5.3021347515106125|  2.9601565968234174|  0.3107527701762068|    4.324081217995902|    0.8039415357143243| 3.761654189473085|       1.6114600653994293|      valor_baix|                          19.98722|                   49.5521|                     50.4479|                                     29.0|                                                                47.60173|                                  59.59955|                                                           30.28571|                                             51.20375|                                      71.94227|                                                           5.9892|                                                                          16.29578|                                      45.27221|          -0.7028500000000001|       valor_baix|                   18.5|                                    308116.6573|                                   34259.92743|                                                       24270.54519|                                   9.10407|                          0.37523|                                     43.44692|                                     35.84691|                                                7.60001|                                                                  1.79568|                                                                24.18687|                                                                 5.501|                                                                                                   22.18897|                                                                                 20.44768|                                                                                               23.20765|                                                                             2.67216|           1591285.5|            5854451.0|          1547794.5|                    80.6|                     19.1|             valor_alt|       France|2.542424156616666...|Europe North|    EU Member|Non-NATO Member|[\"Finland\",\"Norway\"]|     Turkey|      7151|   172.32726|\n",
            "| Sweden|2000|valor_baix|valor_baix|valor_mig|93461.0|79.84|valor_alt|  3.9|valor_baix|2000| 5.341942251510613|  2.9681588468234175|  0.3074167701762068|    4.323639967995902|    0.7905210357143242|3.7633674394730847|       1.6117925653994294|      valor_baix|                          19.71738|                  49.44073|                    50.55927|                                     28.2|                                                                 47.6592|                                  59.06597|                                                           30.65353|                                             51.16178|                                      73.73832|                                                          5.29321|                                                                          17.98226|                                      42.69341|                      2.45134|       valor_baix|                    9.5|                                   260633.22158|                                   29376.72271|                                                        20968.3205|                                   9.13298|                          1.03671|                                     44.09795|                                     38.22946|                                                5.86849|                                                                  1.90277|                                                                25.70515|                                                               4.66299|                                                                                                   21.64246|                                                                                 21.32336|                                                                                               22.28687|                                                                              2.4764|           1635249.5|            5705138.5|          1531721.0|                    79.7|                    18.45|             valor_alt|       France|2.542424156616666...|Europe North|    EU Member|Non-NATO Member|[\"Finland\",\"Norway\"]|     Turkey|      7151|   170.18462|\n",
            "| Sweden|2007|valor_baix|valor_baix|valor_mig|91729.0|80.88|valor_alt| 3.16|valor_baix|2007| 5.150275251510612|  2.9608918468234173|  0.3131122701762068|    4.322471467995902|    0.8040285357143242|3.7620251894730847|       1.6284310653994294|      valor_baix|                          20.33072|                  49.66852|                    50.33148|                                     29.0|                                                                47.51178|                                  60.29041|                                                           31.61236|                                             50.55707|                                      68.10474|                                                          5.57705|                                                                          15.34842|                                      47.27794|           2.3064400000000003|       valor_baix|                   19.3|                                   371054.79267|                                   40560.85883|                                                       27749.62779|                                   8.88562|                          2.21085|                                     48.25807|                                     41.28171|                                                6.97635|                                                                  1.58566|                                                                24.07624|                                                               6.24256|                                                                                                   22.17134|                                                                                 20.74697|                                                                                               22.48769|                                                                             2.68955|           1545660.0|            6007507.0|          1594925.0|                   81.05|                    19.35|             valor_alt|       France|2.542424156616666...|Europe North|    EU Member|Non-NATO Member|[\"Finland\",\"Norway\"]|     Turkey|      7151|   178.91618|\n",
            "| Sweden|2012|valor_baix|valor_baix|valor_mig|91938.0|81.72|valor_alt| 3.12|valor_baix|2012| 5.043580501510612|  2.9576375968234174|  0.3177187701762068|    4.318309467995902|    0.8052837857143242| 3.758659689473085|       1.6481495653994294|      valor_baix|                          21.15586|                   49.8601|                     50.1399|                                     29.0|                                                                47.42032|                                  59.69061|                                                           35.49232|                                             57.15499|                                       69.2029|                                                          5.95436|                                                                          15.26506|                                      44.69914|           0.7358100000000001|       valor_baix|                   23.6|                                   422981.26258|                                   44433.60533|                                                       32195.78153|                         8.711500000000001|                          0.88787|                                     46.32314|                                     41.39188|                                                4.93126|                                                                  1.48692|                                                                21.33212|                                                               5.55588|                                                                                                   22.84329|                                                                                 21.86249|                                                                                               23.99892|                                                                             2.92037|           1598064.5|            6114834.0|          1806475.5|                   81.75|                     19.8|             valor_alt|       France|2.542424156616666...|Europe North|    EU Member|Non-NATO Member|[\"Finland\",\"Norway\"]|     Turkey|      7151|   184.56519|\n",
            "| Sweden|2014|valor_baix|valor_baix|valor_mig|88976.0|82.21|valor_alt| 2.63|valor_baix|2014| 5.033569001510612|  2.9521303468234175|  0.3199590201762068|    4.317206967995903|    0.8126002857143242|3.7542734394730846|       1.6320155653994293|      valor_baix|                          21.54863|                  49.95095|                    50.04905|                                     29.1|                                                                47.42791|                        54.952532022381256|                                                           37.13638|                                             57.35129|                                      67.98738|                                                          5.91921|                                                                          13.87546|                                      44.98567|                      1.40417|       valor_baix|                   22.9|                                   441301.68775|                                   45513.31853|                                                       32921.76746|                                   8.92097|                         -0.17978|                                     45.03315|                                      40.7175|                                                4.31564|                                                                  1.34229|                                                                20.18537|                                                               5.55858|                                                                                                   22.74419|                                                                                 23.00271|                                                                                               24.22581|                                                                             2.94105|           1664067.0|            6139497.0|          1892545.5|       82.30000000000001|                    20.25|             valor_alt|       France|2.542424156616666...|Europe North|    EU Member|Non-NATO Member|[\"Finland\",\"Norway\"]|     Turkey|      7151|   181.82265|\n",
            "| Sweden|2001|valor_baix|valor_baix|valor_mig|93752.0|79.93|valor_alt| 4.34|valor_baix|2001| 5.321493751510612|  2.9656765968234176|  0.3083047701762068|    4.323668717995902|    0.7935060357143242|3.7620271894730846|       1.6105680653994294|      valor_baix|                          19.77038|                  49.46739|                    50.53261|                                     28.5|                                                                47.59814|                                  59.47013|                                                           30.52632|                                             49.81298|                                       72.0339|                                                          6.14096|                                                                          18.07362|                                      42.69341|                      2.10436|       valor_baix|                   11.7|                                   265265.02471|                                   29818.46051|                                                       21176.51804|                                   9.34209|                          2.40647|                                     43.75396|                                     37.52224|                                                6.23172|                                                                   1.9024|                                                                24.93453|                                                               5.00642|                                                                                                   21.98966|                                                                                 21.06363|                                                                                               22.53019|                                                                             2.57318|           1625536.5|            5738948.0|          1531475.5|                    79.9|       18.549999999999997|             valor_alt|       France|2.542424156616666...|Europe North|    EU Member|Non-NATO Member|[\"Finland\",\"Norway\"]|     Turkey|      7151|   169.99974|\n",
            "| Sweden|2002|valor_baix|valor_baix|valor_mig|95009.0|79.98|valor_alt| 4.07|valor_baix|2002| 5.240750001510612|  2.9632253468234175| 0.30907752017620677|    4.323841217995902|    0.7973307857143243|3.7612959394730847|       1.6101415653994293|      valor_baix|                          19.83483|                  49.49912|                    50.50088|                                     28.6|                                                                47.70273|                                  59.58925|                                                           30.72841|                                             49.80044|                                      71.13913|                                                          5.10796|                                                                          18.24538|                                      42.69341|                      0.04782|       valor_baix|                   12.9|                                   274803.96549|                                   30790.36028|                                                       22151.34247|                                   9.35167|                          2.15929|                                     42.09005|                                     35.77352|                                                6.31653|                                                                   1.8422|                                                                24.37449|                                                               5.17258|                                                                                                   21.97352|                                                                                  20.7712|                                                                                               23.21531|                                                                             2.65071|           1616100.0|            5775928.5|          1532929.5|                    79.9|                     18.5|             valor_alt|       France|2.542424156616666...|Europe North|    EU Member|Non-NATO Member|[\"Finland\",\"Norway\"]|     Turkey|      7151|   172.51253|\n",
            "| Sweden|2011|valor_baix|valor_baix|valor_mig|89938.0|81.74|valor_alt|  2.6|valor_baix|2011| 5.051404001510612|  2.9600603468234175|  0.3166872701762068|    4.318822967995902|    0.8032242857143242|3.7604314394730847|       1.6520170653994293|      valor_baix|                          20.99993|                  49.82996|                    50.17004|                                     28.9|                                                                47.27055|                                  59.71438|                                                           34.47572|                                             57.45565|                                      69.77504|                                                          6.26125|                                                                          14.52603|                                      44.98567|                       2.1322|       valor_baix|                   22.8|                                   413017.64909|                                   43709.27159|                                                       31243.28884|                                   8.85332|                          2.96081|                                     46.68289|                                     41.97863|                                                4.70426|                                                                  1.63047|                                                                22.47395|                                                               5.76559|                                                                                                   22.42375|                                                                                 21.55029|                                                                                               23.30134|                                                                             2.85461|           1574614.5|            6113641.0|          1760957.0|                   81.85|                     19.9|             valor_alt|       France|2.542424156616666...|Europe North|    EU Member|Non-NATO Member|[\"Finland\",\"Norway\"]|     Turkey|      7151|   182.39171|\n",
            "| Sweden|2016|valor_baix|valor_baix|valor_mig|90982.0|82.36|valor_alt|  3.0|valor_baix|2016| 4.928649751510612|  2.9440660968234176|  0.3223430201762068|    4.316236967995902|    0.8232177857143242| 3.748345189473085|       1.6043313153994294|      valor_baix|                130.01643725542382|         48.81898257717292|           51.18101638107686|                        26.42824480511091|                                                       45.66159630449234|                         53.23341422897378|                                                 31.176593392587794|                                   54.855416276595754|                             69.38819462788423|                                               13.717378827544385|                                                                16.593507535902546|                                      43.55301|           0.8657315173217844|       valor_baix|     19.477900317714983|                              527106.2135094485|                            24894.937958604656|                                                19331.301355341184|                        25.212391949429268|                5.009614380475697|                            51.93302108471135|                            52.24823685943179|                                   -0.31521594712825063|                                                        4.577160153048209|                                                       22.11290677206444|                                                     6.447228701322179|                                                                                         25.414340219475392|                                                                       21.910363623628907|                                                                                      16.59673620738029|                                                                   3.038325116274133|   4366442.677945862| 1.4750948727924893E7|  2877727.558334732|         75.108378485535|       16.551693267018056|             valor_alt|       France|2.542424156616666...|Europe North|    EU Member|Non-NATO Member|[\"Finland\",\"Norway\"]|    Germany|      8334|   161.96797|\n",
            "| Sweden|2008|valor_baix|valor_baix|valor_mig|91449.0|81.05|valor_alt| 3.05|valor_baix|2008| 5.160220001510613|  2.9619078468234177|  0.3139990201762068|    4.321210967995902|    0.8030120357143242| 3.762410689473085|       1.6397910653994294|      valor_baix|                          20.48972|                  49.71796|                    50.28204|                                     28.9|                                                                47.43794|                                  60.13536|                                                           32.07307|                                             50.50595|                                      68.83803|                                                          5.15348|                                                                          14.78435|                                       46.9914|                      0.90178|       valor_baix|                   20.2|                                   386126.14917|                                   41881.00885|                                                       28987.21521|                                    8.7733|                          3.43673|                                      49.8131|                                     43.54603|                                                6.26706|                                                                  1.60364|                                                                23.18636|                                                                6.0835|                                                                                                   22.52988|                                                                                 20.97684|                                                                                               22.84736|                                                                  2.7724200000000003|           1542067.5|            6050822.5|          1626747.0|                   81.25|                    19.45|             valor_alt|       France|2.542424156616666...|Europe North|    EU Member|Non-NATO Member|[\"Finland\",\"Norway\"]|    Germany|      8334|   177.93655|\n",
            "| Sweden|2013|valor_baix|valor_baix|valor_mig|90402.0|81.91|valor_alt| 3.14|valor_baix|2013| 5.059790751510612|  2.9551665968234175|  0.3187677701762068|    4.317793967995902|    0.8085207857143242|3.7566719394730845|       1.6415148153994292|      valor_baix|                          21.33588|                  49.89523|                    50.10477|                                     29.0|                                                                47.46604|                                  59.41729|                                                           35.44679|                                             57.04307|                                      68.54896|                                                           6.1964|                                                                           15.5642|                                      44.69914|                       0.9595|       valor_baix|                   23.5|                                   432664.47758|                                   45067.33861|                                                       32898.01469|                                   8.71324|                         -0.04412|                                     43.80069|                                     39.29299|                                                 4.5077|                                                                  1.38686|                                                                20.62412|                                                                5.4568|                                                                                                   22.53213|                                                                                 22.67147|                                                                                               24.35094|                                                                  2.9776800000000003|           1628980.0|            6121153.5|          1850245.0|                    82.0|                    20.05|             valor_alt|       France|2.542424156616666...|Europe North|    EU Member|Non-NATO Member|[\"Finland\",\"Norway\"]|    Germany|      8334|   184.89117|\n",
            "+-------+----+----------+----------+---------+-------+-----+---------+-----+----------+----+------------------+--------------------+--------------------+---------------------+----------------------+------------------+-------------------------+----------------+----------------------------------+--------------------------+----------------------------+-----------------------------------------+------------------------------------------------------------------------+------------------------------------------+-------------------------------------------------------------------+-----------------------------------------------------+----------------------------------------------+-----------------------------------------------------------------+----------------------------------------------------------------------------------+----------------------------------------------+-----------------------------+-----------------+-----------------------+-----------------------------------------------+----------------------------------------------+------------------------------------------------------------------+------------------------------------------+---------------------------------+---------------------------------------------+---------------------------------------------+-------------------------------------------------------+-------------------------------------------------------------------------+------------------------------------------------------------------------+----------------------------------------------------------------------+-----------------------------------------------------------------------------------------------------------+-----------------------------------------------------------------------------------------+-------------------------------------------------------------------------------------------------------+------------------------------------------------------------------------------------+--------------------+---------------------+-------------------+------------------------+-------------------------+----------------------+-------------+--------------------+------------+-------------+---------------+--------------------+-----------+----------+------------+\n",
            "only showing top 20 rows\n",
            "\n"
          ]
        }
      ],
      "source": [
        "# Fer un càlcul de l'índex de poder de la dona per cada registre\n",
        "positive = ['Female tertiary students, percent of total', 'Female legislators, senior officials and managers, percent of total', 'Female professionals, percent of total for both sexes',\n",
        " 'Female members of parliament, percent of total','Female plant and machine operators and assemblers, percent of total for both sexes', 'Women in the Labour Force, Percent of corresponding total for both sexes']\n",
        "\n",
        "negative = ['Female clerks, percent of total for both sexes', 'Female craft and related workers, percent of total for both sexes']\n",
        "\n",
        "def calculate_female_power(*cols):\n",
        "    power = 0\n",
        "    # cols[0:len(positive)] correspon a les columnes positives\n",
        "    # cols[len(positive):] correspon a les columnes negatives\n",
        "    power += sum(cols[0:len(positive)])\n",
        "    power -= sum(cols[len(positive):])\n",
        "    return power\n",
        "\n",
        "# Registra l'UDF\n",
        "calculate_female_power_udf = udf(calculate_female_power, FloatType())\n",
        "df = df.withColumn('Female_Power', calculate_female_power_udf(*[col(c) for c in positive + negative]))\n",
        "df.show()"
      ]
    },
    {
      "cell_type": "code",
      "execution_count": 8,
      "metadata": {
        "id": "y5k_12mB-Ycg"
      },
      "outputs": [],
      "source": [
        "df = df.drop(*positive)\n",
        "df = df.drop(*negative)"
      ]
    },
    {
      "cell_type": "markdown",
      "metadata": {
        "id": "6zMhI_hVIdtv"
      },
      "source": [
        "## *Càlcul del GDP_Main*"
      ]
    },
    {
      "cell_type": "code",
      "execution_count": 9,
      "metadata": {
        "id": "lLpzZ372Ipoy"
      },
      "outputs": [],
      "source": [
        "columnes_GDP = [c for c in df.columns if 'GDP:' in c]\n",
        "\n",
        "def calculate_gdp_main(*cols):\n",
        "    max_value = 0\n",
        "    category = None\n",
        "    for i, col_value in enumerate(cols):\n",
        "        if col_value is not None and col_value > max_value:\n",
        "            max_value = col_value\n",
        "            # La columna corresponent és la part després de \"GDP: in \"\n",
        "            category = columnes_GDP[i].split(\",\")[0].split(\"GDP: in \")[-1].strip()\n",
        "    return category\n",
        "\n",
        "# Registra l'UDF\n",
        "calculate_gdp_main_udf = udf(calculate_gdp_main, StringType())\n",
        "df = df.withColumn('GDP_Main', calculate_gdp_main_udf(*[col(c) for c in columnes_GDP]))\n",
        "df = df.drop(*columnes_GDP)"
      ]
    },
    {
      "cell_type": "markdown",
      "metadata": {
        "id": "zOQiifCIyJqD"
      },
      "source": [
        "## *Codificar Països*\n",
        "\n",
        "Cal treure els espais en el nom del pais per estalviar-nos errors de lectura"
      ]
    },
    {
      "cell_type": "code",
      "execution_count": 10,
      "metadata": {
        "id": "CFaQjb5XyVBt"
      },
      "outputs": [],
      "source": [
        "df = df.withColumn('Country', regexp_replace('Country', ' ', '_'))"
      ]
    },
    {
      "cell_type": "markdown",
      "metadata": {
        "id": "FLPqqgnuN4b7"
      },
      "source": [
        "## *Esborrar variables que no utilitzarem*"
      ]
    },
    {
      "cell_type": "code",
      "execution_count": 11,
      "metadata": {
        "colab": {
          "base_uri": "https://localhost:8080/"
        },
        "id": "EwlFWbI9N-ys",
        "outputId": "a61aa185-87f6-407c-8329-64cf2bd4afc5"
      },
      "outputs": [
        {
          "output_type": "stream",
          "name": "stdout",
          "text": [
            "+-------+----+----------+----------+---------+---------+----------+----------------+-----------------+----------------------+-------------+--------------------+------------+-------------+---------------+--------------------+-----------+----------+------------+--------------------+\n",
            "|Country|Year|  Area_Km2|       CBR|      CDR|   Medage|  Pop_Dens|Total population|Unemployment rate|Economic activity rate|pais_exportat| quantitat_exportada|      Region|EU Membership|NATO Membership|    border_countries|Destination|Immigrants|Female_Power|            GDP_Main|\n",
            "+-------+----+----------+----------+---------+---------+----------+----------------+-----------------+----------------------+-------------+--------------------+------------+-------------+---------------+--------------------+-----------+----------+------------+--------------------+\n",
            "| Sweden|2016|valor_baix|valor_baix|valor_mig|valor_alt|valor_baix|      valor_baix|       valor_baix|             valor_alt|       France|2.542424156616666...|Europe North|    EU Member|Non-NATO Member|[\"Finland\",\"Norway\"]|     Turkey|      7151|   161.96797|               trade|\n",
            "| Sweden|2008|valor_baix|valor_baix|valor_mig|valor_alt|valor_baix|      valor_baix|       valor_baix|             valor_alt|       France|2.542424156616666...|Europe North|    EU Member|Non-NATO Member|[\"Finland\",\"Norway\"]|     Turkey|      7151|   177.93655|industry etc (ISI...|\n",
            "| Sweden|2013|valor_baix|valor_baix|valor_mig|valor_alt|valor_baix|      valor_baix|       valor_baix|             valor_alt|       France|2.542424156616666...|Europe North|    EU Member|Non-NATO Member|[\"Finland\",\"Norway\"]|     Turkey|      7151|   184.89117|public administra...|\n",
            "| Sweden|2015|valor_baix|valor_baix|valor_mig|valor_alt|valor_baix|      valor_baix|       valor_baix|             valor_alt|       France|2.542424156616666...|Europe North|    EU Member|Non-NATO Member|[\"Finland\",\"Norway\"]|     Turkey|      7151|   183.61595|public administra...|\n",
            "| Sweden|2003|valor_baix|valor_baix|valor_mig|valor_alt|valor_baix|      valor_baix|       valor_baix|             valor_alt|       France|2.542424156616666...|Europe North|    EU Member|Non-NATO Member|[\"Finland\",\"Norway\"]|     Turkey|      7151|    174.6701|industry etc (ISI...|\n",
            "| Sweden|2010|valor_baix|valor_baix|valor_mig|valor_alt|valor_baix|      valor_baix|       valor_baix|             valor_alt|       France|2.542424156616666...|Europe North|    EU Member|Non-NATO Member|[\"Finland\",\"Norway\"]|     Turkey|      7151|   176.43297|public administra...|\n",
            "| Sweden|2009|valor_baix|valor_baix|valor_mig|valor_alt|valor_baix|      valor_baix|       valor_baix|             valor_alt|       France|2.542424156616666...|Europe North|    EU Member|Non-NATO Member|[\"Finland\",\"Norway\"]|     Turkey|      7151|   177.58714|public administra...|\n",
            "| Sweden|2005|valor_baix|valor_baix|valor_mig|valor_alt|valor_baix|      valor_baix|       valor_baix|             valor_alt|       France|2.542424156616666...|Europe North|    EU Member|Non-NATO Member|[\"Finland\",\"Norway\"]|     Turkey|      7151|   170.74039|industry etc (ISI...|\n",
            "| Sweden|2006|valor_baix|valor_baix|valor_mig|valor_alt|valor_baix|      valor_baix|       valor_baix|             valor_alt|       France|2.542424156616666...|Europe North|    EU Member|Non-NATO Member|[\"Finland\",\"Norway\"]|     Turkey|      7151|    175.4113|industry etc (ISI...|\n",
            "| Sweden|2004|valor_baix|valor_baix|valor_mig|valor_alt|valor_baix|      valor_baix|       valor_baix|             valor_alt|       France|2.542424156616666...|Europe North|    EU Member|Non-NATO Member|[\"Finland\",\"Norway\"]|     Turkey|      7151|   172.32726|industry etc (ISI...|\n",
            "| Sweden|2000|valor_baix|valor_baix|valor_mig|valor_alt|valor_baix|      valor_baix|       valor_baix|             valor_alt|       France|2.542424156616666...|Europe North|    EU Member|Non-NATO Member|[\"Finland\",\"Norway\"]|     Turkey|      7151|   170.18462|industry etc (ISI...|\n",
            "| Sweden|2007|valor_baix|valor_baix|valor_mig|valor_alt|valor_baix|      valor_baix|       valor_baix|             valor_alt|       France|2.542424156616666...|Europe North|    EU Member|Non-NATO Member|[\"Finland\",\"Norway\"]|     Turkey|      7151|   178.91618|industry etc (ISI...|\n",
            "| Sweden|2012|valor_baix|valor_baix|valor_mig|valor_alt|valor_baix|      valor_baix|       valor_baix|             valor_alt|       France|2.542424156616666...|Europe North|    EU Member|Non-NATO Member|[\"Finland\",\"Norway\"]|     Turkey|      7151|   184.56519|public administra...|\n",
            "| Sweden|2014|valor_baix|valor_baix|valor_mig|valor_alt|valor_baix|      valor_baix|       valor_baix|             valor_alt|       France|2.542424156616666...|Europe North|    EU Member|Non-NATO Member|[\"Finland\",\"Norway\"]|     Turkey|      7151|   181.82265|public administra...|\n",
            "| Sweden|2001|valor_baix|valor_baix|valor_mig|valor_alt|valor_baix|      valor_baix|       valor_baix|             valor_alt|       France|2.542424156616666...|Europe North|    EU Member|Non-NATO Member|[\"Finland\",\"Norway\"]|     Turkey|      7151|   169.99974|industry etc (ISI...|\n",
            "| Sweden|2002|valor_baix|valor_baix|valor_mig|valor_alt|valor_baix|      valor_baix|       valor_baix|             valor_alt|       France|2.542424156616666...|Europe North|    EU Member|Non-NATO Member|[\"Finland\",\"Norway\"]|     Turkey|      7151|   172.51253|industry etc (ISI...|\n",
            "| Sweden|2011|valor_baix|valor_baix|valor_mig|valor_alt|valor_baix|      valor_baix|       valor_baix|             valor_alt|       France|2.542424156616666...|Europe North|    EU Member|Non-NATO Member|[\"Finland\",\"Norway\"]|     Turkey|      7151|   182.39171|public administra...|\n",
            "| Sweden|2016|valor_baix|valor_baix|valor_mig|valor_alt|valor_baix|      valor_baix|       valor_baix|             valor_alt|       France|2.542424156616666...|Europe North|    EU Member|Non-NATO Member|[\"Finland\",\"Norway\"]|    Germany|      8334|   161.96797|               trade|\n",
            "| Sweden|2008|valor_baix|valor_baix|valor_mig|valor_alt|valor_baix|      valor_baix|       valor_baix|             valor_alt|       France|2.542424156616666...|Europe North|    EU Member|Non-NATO Member|[\"Finland\",\"Norway\"]|    Germany|      8334|   177.93655|industry etc (ISI...|\n",
            "| Sweden|2013|valor_baix|valor_baix|valor_mig|valor_alt|valor_baix|      valor_baix|       valor_baix|             valor_alt|       France|2.542424156616666...|Europe North|    EU Member|Non-NATO Member|[\"Finland\",\"Norway\"]|    Germany|      8334|   184.89117|public administra...|\n",
            "+-------+----+----------+----------+---------+---------+----------+----------------+-----------------+----------------------+-------------+--------------------+------------+-------------+---------------+--------------------+-----------+----------+------------+--------------------+\n",
            "only showing top 20 rows\n",
            "\n"
          ]
        }
      ],
      "source": [
        "columns_to_drop=['Deaths', 'E0','MR0_4', 'GSCA', 'Schizophrenia (%)',\n",
        "       'Bipolar disorder (%)', 'Eating disorders (%)', 'Anxiety disorders (%)',\n",
        "       'Drug use disorders (%)', 'Depression (%)', 'Alcohol use disorders (%)',\n",
        "       'Population density, pers per sq km',\n",
        "       'Total population, male (%)', 'Total population, female (%)',\n",
        "       'Mean age of women at birth of first child',\n",
        "       'Total employment, growth rate',\n",
        "       'Youth unemployment rate',\n",
        "       'GDP at current prices and PPPs, millions of US$',\n",
        "       'GDP per capita at current prices and PPPs, US$',\n",
        "       'Final consumption expenditure per capita, US Dollars, current PPPs',\n",
        "       'Purchasing power parity (PPP), NCU per US$',\n",
        "       'Consumer price index, growth rate',\n",
        "       'Export of goods and services, per cent of GDP',\n",
        "       'Import of goods and services, per cent of GDP',\n",
        "       'External balance on goods and services, per cent of GDP',\n",
        "       'Population aged 0-14', 'Population aged 15-64', 'Population aged 64+',\n",
        "       'Life expectancy at birth', 'Life expectancy at age 65']\n",
        "\n",
        "df = df.drop(*columns_to_drop)\n",
        "df.show()"
      ]
    },
    {
      "cell_type": "markdown",
      "metadata": {
        "id": "XNrGmGgmlq8y"
      },
      "source": [
        "## *Tractament de la variable Immigrants*"
      ]
    },
    {
      "cell_type": "code",
      "execution_count": 12,
      "metadata": {
        "colab": {
          "base_uri": "https://localhost:8080/"
        },
        "id": "8s7R9ud53t77",
        "outputId": "e36ac677-585c-48b1-e0fa-384cee18e0f4"
      },
      "outputs": [
        {
          "output_type": "stream",
          "name": "stdout",
          "text": [
            "+--------------+--------------+\n",
            "|Max Immigrants|Min Immigrants|\n",
            "+--------------+--------------+\n",
            "|          9978|             0|\n",
            "+--------------+--------------+\n",
            "\n"
          ]
        }
      ],
      "source": [
        "# Calcular el valor màxim i mínim de la columna 'Immigrants'\n",
        "max_min_immigrants = df.select(\n",
        "    max(\"Immigrants\").alias(\"Max Immigrants\"),\n",
        "    min(\"Immigrants\").alias(\"Min Immigrants\")\n",
        ")\n",
        "\n",
        "# Mostrar els resultats\n",
        "max_min_immigrants.show()\n"
      ]
    },
    {
      "cell_type": "code",
      "execution_count": 13,
      "metadata": {
        "id": "xSfkPSEJJMmM"
      },
      "outputs": [],
      "source": [
        "df = df.withColumn(\"Num_Immigrants\", when(col(\"Immigrants\") > 5000, lit(True)).otherwise(lit(False)))\n",
        "df = df.drop(\"Immigrants\")\n"
      ]
    },
    {
      "cell_type": "markdown",
      "metadata": {
        "id": "7E3PFma6Bqbn"
      },
      "source": [
        "# **Ontologia**"
      ]
    },
    {
      "cell_type": "code",
      "execution_count": 16,
      "metadata": {
        "id": "TxrYT_ZMBuKc"
      },
      "outputs": [],
      "source": [
        "# Definir el Namespace\n",
        "onto_ns = Namespace(\"http://entrega_2_ojj.org/onto#\")\n",
        "\n",
        "# Crear el graf\n",
        "g = Graph()\n",
        "\n",
        "# Definir les classes\n",
        "year_class = URIRef(onto_ns.Year)\n",
        "\n",
        "country_class = URIRef(onto_ns.Country)\n",
        "medage_class = URIRef(onto_ns.Medage)\n",
        "CBR_class = URIRef(onto_ns.CBR)\n",
        "CDR_class = URIRef(onto_ns.CDR)\n",
        "FP_class = URIRef(onto_ns.FemalePower)\n",
        "EU_class = URIRef(onto_ns.EU_Membership)\n",
        "NATO_class = URIRef(onto_ns.NATO_Membership)\n",
        "region_class = URIRef(onto_ns.region)\n",
        "area_class = URIRef(onto_ns.Area_Km2)\n",
        "TotalPop_class = URIRef(onto_ns.Total_Pop)\n",
        "PopDens_class = URIRef(onto_ns.Pop_Dens)\n",
        "EcoRate_class = URIRef(onto_ns.Economic_Activity_Rate)\n",
        "Unemployment_class = URIRef(onto_ns.Unemployment)\n",
        "GDP_Main_class = URIRef(onto_ns.GDP_Main)\n",
        "Region_class = URIRef(onto_ns.region)\n",
        "\n",
        "# Afegir les subclasses\n",
        "g.add((year_class, RDF.type, RDFS.Class))\n",
        "g.add((country_class, RDF.type, RDFS.Class))\n",
        "g.add((medage_class, RDF.type, RDFS.Class))\n",
        "g.add((CBR_class, RDF.type, RDFS.Class))\n",
        "g.add((CDR_class, RDF.type, RDFS.Class))\n",
        "g.add((EU_class, RDF.type, RDFS.Class))\n",
        "g.add((FP_class,RDF.type, RDFS.Class))\n",
        "g.add((NATO_class, RDF.type, RDFS.Class))\n",
        "g.add((region_class, RDF.type, RDFS.Class))\n",
        "g.add((area_class, RDF.type, RDFS.Class))\n",
        "g.add((TotalPop_class, RDF.type, RDFS.Class))\n",
        "g.add((PopDens_class, RDF.type, RDFS.Class))\n",
        "g.add((EcoRate_class, RDF.type, RDFS.Class))\n",
        "g.add((Unemployment_class, RDF.type, RDFS.Class))\n",
        "g.add((GDP_Main_class, RDF.type, RDFS.Class))\n",
        "g.add((Region_class, RDF.type, RDFS.Class))\n",
        "g.add((country_class, RDFS.subClassOf, year_class))\n",
        "g.add((medage_class, RDFS.subClassOf, country_class))\n",
        "g.add((CBR_class, RDFS.subClassOf, country_class))\n",
        "g.add((CDR_class, RDFS.subClassOf, country_class))\n",
        "g.add((EU_class, RDFS.subClassOf, country_class))\n",
        "g.add((FP_class, RDFS.subClassOf, country_class))\n",
        "g.add((NATO_class, RDFS.subClassOf, country_class))\n",
        "g.add((region_class, RDFS.subClassOf, country_class))\n",
        "g.add((area_class, RDFS.subClassOf, country_class))\n",
        "g.add((TotalPop_class, RDFS.subClassOf, country_class))\n",
        "g.add((PopDens_class, RDFS.subClassOf, country_class))\n",
        "g.add((EcoRate_class, RDFS.subClassOf, country_class))\n",
        "g.add((Unemployment_class, RDFS.subClassOf, country_class))\n",
        "g.add((GDP_Main_class, RDFS.subClassOf, country_class))\n",
        "g.add((Region_class, RDFS.subClassOf, country_class))\n",
        "\n",
        "# Definir les propietats\n",
        "properties = {\n",
        "    'in': {'domain': year_class, 'range': country_class},\n",
        "    'hasMedAge': {'domain': country_class, 'range': medage_class},\n",
        "    'hasCBR': {'domain': country_class, 'range': CBR_class},\n",
        "    'hasCDR': {'domain': country_class, 'range': CDR_class},\n",
        "    'hasFP': {'domain': country_class, 'range': FP_class},\n",
        "    'hasEUStatus': {'domain': country_class, 'range': EU_class},\n",
        "    'inRegion': {'domain': country_class, 'range': region_class},\n",
        "    'hasArea': {'domain': country_class, 'range': area_class},\n",
        "    'hasTotalPopulation': {'domain': country_class, 'range': TotalPop_class},\n",
        "    'hasPopulationDensity': {'domain': country_class, 'range': PopDens_class},\n",
        "    'hasEconomicActivityRate': {'domain': country_class, 'range': EcoRate_class},\n",
        "    'hasUnemploymentRate': {'domain': country_class, 'range': Unemployment_class},\n",
        "    'hasGDPMain': {'domain': country_class, 'range': GDP_Main_class},\n",
        "    'borders_with': {'domain': country_class, 'range': country_class},\n",
        "    'belongs_to': {'domain': country_class, 'range': NATO_class},\n",
        "    'exports_to': {'domain': country_class, 'range': country_class},\n",
        "    'situated_in': {'domain': country_class, 'range': Region_class},\n",
        "    'migrates_to':  {'domain': country_class, 'range': country_class}\n",
        "}\n",
        "\n",
        "# Afegir les propietats al graf\n",
        "for prop, details in properties.items():\n",
        "    prop_uri = URIRef(onto_ns[prop])\n",
        "    g.add((prop_uri, RDF.type, RDF.Property))\n",
        "    g.add((prop_uri, RDFS.domain, details['domain']))\n",
        "    g.add((prop_uri, RDFS.range, details['range']))\n",
        "\n",
        "def encode_country_name(country):\n",
        "    return quote(country) if country is not None else None\n",
        "\n",
        "encode_udf = udf(encode_country_name, StringType())\n"
      ]
    },
    {
      "cell_type": "code",
      "execution_count": 20,
      "metadata": {
        "id": "HVXvMolc0MOE"
      },
      "outputs": [],
      "source": [
        "# Serialitzar en format OWL/XML\n",
        "owl_data = g.serialize(format='xml').encode('utf-8')  # Converteix a bytes utilitzant utf-8\n",
        "\n",
        "# Guardar en un fitxer OWL\n",
        "with open('completed_ontology.owl', 'wb') as owl_file:  # 'wb' per mode binari\n",
        "    owl_file.write(owl_data)"
      ]
    },
    {
      "cell_type": "code",
      "source": [
        "# Serialitzar en format N-Triples\n",
        "nt_data = g.serialize(format='nt').encode('utf-8')  # Converteix a bytes utilitzant utf-8\n",
        "\n",
        "# Guardar en un fitxer .nt\n",
        "with open('completed_ontology.nt', 'wb') as nt_file:  # 'wb' per mode binari\n",
        "    nt_file.write(nt_data)"
      ],
      "metadata": {
        "id": "-_N-H3V577F0"
      },
      "execution_count": 23,
      "outputs": []
    }
  ],
  "metadata": {
    "colab": {
      "collapsed_sections": [
        "NtdDmn3MARh4",
        "oljaEf_EAVys",
        "mApJ8_hiA6vf",
        "6zMhI_hVIdtv",
        "zOQiifCIyJqD",
        "FLPqqgnuN4b7",
        "XNrGmGgmlq8y",
        "7E3PFma6Bqbn"
      ],
      "provenance": []
    },
    "kernelspec": {
      "display_name": "Python 3",
      "name": "python3"
    },
    "language_info": {
      "name": "python"
    }
  },
  "nbformat": 4,
  "nbformat_minor": 0
}
