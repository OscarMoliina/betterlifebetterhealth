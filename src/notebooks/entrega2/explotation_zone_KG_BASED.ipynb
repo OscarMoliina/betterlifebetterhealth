{
  "nbformat": 4,
  "nbformat_minor": 0,
  "metadata": {
    "colab": {
      "provenance": []
    },
    "kernelspec": {
      "name": "python3",
      "display_name": "Python 3"
    },
    "language_info": {
      "name": "python"
    }
  },
  "cells": [
    {
      "cell_type": "markdown",
      "source": [
        "# **Introducció de relacions entre variables**"
      ],
      "metadata": {
        "id": "jD8CK0tmhveg"
      }
    },
    {
      "cell_type": "markdown",
      "source": [
        "Degut al fet que la nostra base de dades no conté masses relacions, hem decidit introduir noves columnes que puguin afavorir a la relació entre variables."
      ],
      "metadata": {
        "id": "DrLm_7eEh0ID"
      }
    },
    {
      "cell_type": "markdown",
      "source": [
        "## *Requisits d'execució*"
      ],
      "metadata": {
        "id": "XI_ker88iP0u"
      }
    },
    {
      "cell_type": "code",
      "source": [
        "!pip3 install pyspark\n",
        "!pip3 install duckdb\n",
        "import pyspark\n",
        "\n",
        "from pyspark.sql import SparkSession\n",
        "from pyspark.ml.feature import VectorAssembler\n",
        "from pyspark.ml.clustering import KMeans\n",
        "from pyspark.ml import Pipeline\n",
        "from pyspark.sql.functions import col, mean, when, lit, count, to_json\n",
        "from pyspark.sql.window import Window\n",
        "from pyspark.sql.functions import mean, rand, monotonically_increasing_id\n",
        "import pyspark.sql.functions as F\n",
        "from pyspark.sql.types import IntegerType, DoubleType\n",
        "from pyspark.sql.functions import udf\n",
        "from pyspark.sql.types import StringType\n",
        "from pyspark.sql.functions import collect_list\n",
        "\n",
        "import pandas as pd\n",
        "import matplotlib.pyplot as plt\n",
        "import duckdb\n"
      ],
      "metadata": {
        "colab": {
          "base_uri": "https://localhost:8080/"
        },
        "id": "u8OlNZ-NhUCN",
        "outputId": "757c4309-6b38-40b4-f311-77653c976cc3"
      },
      "execution_count": null,
      "outputs": [
        {
          "output_type": "stream",
          "name": "stdout",
          "text": [
            "Requirement already satisfied: pyspark in /usr/local/lib/python3.10/dist-packages (3.5.1)\n",
            "Requirement already satisfied: py4j==0.10.9.7 in /usr/local/lib/python3.10/dist-packages (from pyspark) (0.10.9.7)\n",
            "Requirement already satisfied: duckdb in /usr/local/lib/python3.10/dist-packages (0.10.2)\n"
          ]
        }
      ]
    },
    {
      "cell_type": "code",
      "execution_count": null,
      "metadata": {
        "colab": {
          "base_uri": "https://localhost:8080/"
        },
        "id": "QJ1E6to8erOI",
        "outputId": "4d6d8a18-be43-464c-b040-7a65182d8338"
      },
      "outputs": [
        {
          "output_type": "stream",
          "name": "stdout",
          "text": [
            "fatal: destination path 'betterlifebetterhealth' already exists and is not an empty directory.\n"
          ]
        }
      ],
      "source": [
        "!git clone https://github.com/OscarMoliina/betterlifebetterhealth.git"
      ]
    },
    {
      "cell_type": "code",
      "source": [
        "spark = SparkSession.builder \\\n",
        "    .appName(\"Afegir dades\") \\\n",
        "    .config(\"spark.jars\", \"/content/betterlifebetterhealth/src/utils/duckdb.jar\") \\\n",
        "    .getOrCreate()\n",
        "\n",
        "result = spark.read \\\n",
        "    .format(\"jdbc\") \\\n",
        "    .option(\"url\", \"jdbc:duckdb:/content/betterlifebetterhealth/data/db/exploitation_zone.db\") \\\n",
        "    .option(\"driver\", \"org.duckdb.DuckDBDriver\") \\\n",
        "    .option(\"dbtable\", \"join_table\") \\\n",
        "    .load()"
      ],
      "metadata": {
        "id": "nJDl00AEg329"
      },
      "execution_count": null,
      "outputs": []
    },
    {
      "cell_type": "markdown",
      "source": [
        "## *Importacions i exportacions entre països*\n",
        "\n",
        "A continuació mostrarem el procés que hem seguit per introduir les importacions i exportacions de cada pais expressades com la suma de transaccions."
      ],
      "metadata": {
        "id": "1xthWQEniYR3"
      }
    },
    {
      "cell_type": "code",
      "source": [
        "# Llegim el fitxer csv que conté els diversos països amb les seves corresponents relacions i les transaccions realitzades des de l'any 2016 a l'any 2021\n",
        "df = spark.read.csv(\"/content/betterlifebetterhealth/data/csv/import_exp_intra_extra_eu.csv\", header=True, inferSchema=True)\n",
        "\n",
        "# Esborrem la columna 'Unnamed: 0' ja que no ens aporta cap mena d'informació\n",
        "df = df.drop('Unnamed: 0')\n",
        "\n",
        "# Mostrar el dataframe\n",
        "df.show()"
      ],
      "metadata": {
        "colab": {
          "base_uri": "https://localhost:8080/"
        },
        "id": "A8GrjikuzOVz",
        "outputId": "b16c85e6-e814-41be-b57e-1de8475003f3"
      },
      "execution_count": null,
      "outputs": [
        {
          "output_type": "stream",
          "name": "stdout",
          "text": [
            "+---+----+------------+----+---------------+----------------+----------------+----------------+---------------+---------------+----+------+\n",
            "|_c0|iso2|partner_iso2|flow|       sum_2016|        sum_2017|        sum_2018|        sum_2019|       sum_2020|       sum_2021|ISO3|  name|\n",
            "+---+----+------------+----+---------------+----------------+----------------+----------------+---------------+---------------+----+------+\n",
            "|  0|  FR|          NL|   1|4.0947003235E10| 4.5718182715E10| 4.6458798651E10| 4.6644030672E10|4.3815998442E10|5.3880952276E10| FRA|France|\n",
            "|  1|  FR|          NL|   2| 1.619427874E10| 1.7146236298E10| 1.7883851153E10| 1.7785714636E10|1.6174795048E10|2.0019063594E10| FRA|France|\n",
            "|  2|  FR|          DE|   1| 9.972720463E10|1.02263568892E11|1.04036942689E11|1.03079522792E11|8.8717998604E10|1.0178303436E11| FRA|France|\n",
            "|  3|  FR|          DE|   2|7.2269280722E10| 6.9627188729E10|  7.147691828E10| 7.0764166344E10|6.2174692857E10|7.0772838844E10| FRA|France|\n",
            "|  4|  FR|          IT|   1|4.0464487727E10| 4.3919782735E10| 4.6038892853E10| 4.7384448641E10|4.2677719594E10|5.0587525428E10| FRA|France|\n",
            "|  5|  FR|          IT|   2|3.2725750759E10| 3.5599746889E10| 3.6649048893E10|  3.803825337E10| 3.262569569E10|3.9464631559E10| FRA|France|\n",
            "|  6|  FR|          GB|   1|2.2979903977E10| 2.4113848841E10| 2.3091764332E10| 2.4668274518E10|1.9572108536E10|1.9888476738E10| FRA|France|\n",
            "|  7|  FR|          GB|   2|3.1819432036E10| 3.1611058434E10| 3.3056891788E10| 3.4756658061E10|2.7285061526E10|2.8421428356E10| FRA|France|\n",
            "|  8|  FR|          IE|   1|  6.111378246E9|   6.900125127E9|   6.790181348E9|   7.371475726E9|  7.570741555E9|  8.361628497E9| FRA|France|\n",
            "|  9|  FR|          IE|   2|  2.905974448E9|   2.870568878E9|   3.233776914E9|   3.389996952E9|  3.364851787E9|  4.513546745E9| FRA|France|\n",
            "| 10|  FR|          DK|   1|  3.166135223E9|   3.513428109E9|   3.758475375E9|   3.855689499E9|  3.677987729E9|  4.089727184E9| FRA|France|\n",
            "| 11|  FR|          DK|   2|  2.681949505E9|   2.943800692E9|   3.018373804E9|   3.148165566E9|   2.98986883E9|  3.557927977E9| FRA|France|\n",
            "| 12|  FR|          GR|   1|   6.45228834E8|    7.39498387E8|   1.007387695E9|   1.078088237E9|  1.751437514E9|  1.666470737E9| FRA|France|\n",
            "| 13|  FR|          GR|   2|  2.135666882E9|   2.124009748E9|   2.267892187E9|   2.486791901E9|  2.471628168E9|  2.704742289E9| FRA|France|\n",
            "| 14|  FR|          PT|   1|  5.671066123E9|   6.070659855E9|   6.801532478E9|   7.003336103E9|  6.232111418E9|  7.022578936E9| FRA|France|\n",
            "| 15|  FR|          PT|   2|  4.684983801E9|   4.927512207E9|   5.427064552E9|    7.27684941E9|  4.846886956E9|  5.431066398E9| FRA|France|\n",
            "| 16|  FR|          ES|   1|3.6360967738E10| 3.9388076846E10| 4.1009223636E10| 4.2084889365E10|4.0381659462E10|4.7963963077E10| FRA|France|\n",
            "| 17|  FR|          ES|   2|3.4232606669E10| 3.6543360266E10| 3.8443715552E10| 3.7915834786E10|3.1373114474E10|3.7135916054E10| FRA|France|\n",
            "| 18|  FR|          BE|   1|5.5063032071E10| 5.6492637134E10| 5.8371341457E10| 5.7306927268E10| 4.904879193E10|6.4636293101E10| FRA|France|\n",
            "| 19|  FR|          BE|   2|3.0850577108E10| 3.3198099291E10| 3.5160167842E10| 3.5280295821E10|3.1679975862E10|3.7868510331E10| FRA|France|\n",
            "+---+----+------------+----+---------------+----------------+----------------+----------------+---------------+---------------+----+------+\n",
            "only showing top 20 rows\n",
            "\n"
          ]
        }
      ]
    },
    {
      "cell_type": "code",
      "source": [
        "# Calcular la mitjana de les columnes 'sum_2016' fins 'sum_2021' i afegir la nova columna 'mitjana_sum'\n",
        "# Degut al fet que no hem pogut trobar registres d'anys anteriors hem decidit utilitzar la mitjana d'anys posteriors, en cas que aquest estudi s'estengués a un nivell no acadèmic, caldria revisar més a fons l'afinitat de transaccions entre els anys esmentats\n",
        "df = df.withColumn('mitjana_sum', (col('sum_2016') + col('sum_2017') + col('sum_2018') + col('sum_2019') + col('sum_2020') + col('sum_2021')) / 6)\n",
        "\n",
        "# Eliminar les columnes per simplificar la base de dades\n",
        "df = df.drop('sum_2016', 'sum_2017', 'sum_2018', 'sum_2019', 'sum_2020', 'sum_2021', 'ISO3', 'name', '_c0')\n",
        "\n",
        "# Mostrar el dataframe\n",
        "df.show()"
      ],
      "metadata": {
        "colab": {
          "base_uri": "https://localhost:8080/"
        },
        "id": "WjlmJrEIzWp3",
        "outputId": "54114e8d-ce48-4017-907c-772ebcb4738e"
      },
      "execution_count": null,
      "outputs": [
        {
          "output_type": "stream",
          "name": "stdout",
          "text": [
            "+----+------------+----+--------------------+\n",
            "|iso2|partner_iso2|flow|         mitjana_sum|\n",
            "+----+------------+----+--------------------+\n",
            "|  FR|          NL|   1|    4.62441609985E10|\n",
            "|  FR|          NL|   2|    1.75339899115E10|\n",
            "|  FR|          DE|   1|    9.99347119945E10|\n",
            "|  FR|          DE|   2|6.951418096266667E10|\n",
            "|  FR|          IT|   1|4.517880949633333...|\n",
            "|  FR|          IT|   2|3.585052119333333...|\n",
            "|  FR|          GB|   1|2.238572949033333...|\n",
            "|  FR|          GB|   2|3.115842170016666...|\n",
            "|  FR|          IE|   1| 7.184255083166667E9|\n",
            "|  FR|          IE|   2|       3.379785954E9|\n",
            "|  FR|          DK|   1|      3.6769071865E9|\n",
            "|  FR|          DK|   2|3.0566810623333335E9|\n",
            "|  FR|          GR|   1|1.1480185673333333E9|\n",
            "|  FR|          GR|   2|      2.3651218625E9|\n",
            "|  FR|          PT|   1| 6.466880818833333E9|\n",
            "|  FR|          PT|   2| 5.432393887333333E9|\n",
            "|  FR|          ES|   1|4.119813002066666...|\n",
            "|  FR|          ES|   2|3.594075796683333...|\n",
            "|  FR|          BE|   1|5.681983716016666...|\n",
            "|  FR|          BE|   2|    3.40062710425E10|\n",
            "+----+------------+----+--------------------+\n",
            "only showing top 20 rows\n",
            "\n"
          ]
        }
      ]
    },
    {
      "cell_type": "markdown",
      "source": [
        "Observem que en el dataset generat hi ha una columna anomenada **flow** aquesta variable indica la direcció de la relació, per exemple per a la primera fila:\n",
        "  * **Flow** = 1 --> Implica que la relació és FR -> NL, és a dir que França és l'exportador i Netherlands qui importa.\n",
        "  * Si **Flow** = 2 --> La relació seria FR <- NL, i seria al contrari que l'esmentat en l'exemple anterior.\n",
        "\n",
        "Per simplificar-ho hem decidit esborrar aquesta columna i simplement intercanviar els valors de les columnes segons ens convingui."
      ],
      "metadata": {
        "id": "WYxQyyPxjZM0"
      }
    },
    {
      "cell_type": "code",
      "source": [
        "df = df.withColumn('new_iso2', when(df['flow'] == 2, df['partner_iso2']).otherwise(df['iso2']))\n",
        "df = df.withColumn('new_partner_iso2', when(df['flow'] == 2, 'FR').otherwise(df['partner_iso2']))\n",
        "\n",
        "# Eliminar les columnes originals\n",
        "df = df.drop('iso2', 'partner_iso2', 'flow')\n",
        "\n",
        "# Canviar els noms de les noves columnes\n",
        "df = df.withColumnRenamed('new_iso2', 'iso2').withColumnRenamed('new_partner_iso2', 'partner_iso2')\n",
        "\n",
        "# Mostrar el dataframe\n",
        "df.show()"
      ],
      "metadata": {
        "colab": {
          "base_uri": "https://localhost:8080/"
        },
        "id": "6ZHEzeJrSzUX",
        "outputId": "6c58ab47-c46c-42e0-a3f3-1cab541fc161"
      },
      "execution_count": null,
      "outputs": [
        {
          "output_type": "stream",
          "name": "stdout",
          "text": [
            "+--------------------+----+------------+\n",
            "|         mitjana_sum|iso2|partner_iso2|\n",
            "+--------------------+----+------------+\n",
            "|    4.62441609985E10|  FR|          NL|\n",
            "|    1.75339899115E10|  NL|          FR|\n",
            "|    9.99347119945E10|  FR|          DE|\n",
            "|6.951418096266667E10|  DE|          FR|\n",
            "|4.517880949633333...|  FR|          IT|\n",
            "|3.585052119333333...|  IT|          FR|\n",
            "|2.238572949033333...|  FR|          GB|\n",
            "|3.115842170016666...|  GB|          FR|\n",
            "| 7.184255083166667E9|  FR|          IE|\n",
            "|       3.379785954E9|  IE|          FR|\n",
            "|      3.6769071865E9|  FR|          DK|\n",
            "|3.0566810623333335E9|  DK|          FR|\n",
            "|1.1480185673333333E9|  FR|          GR|\n",
            "|      2.3651218625E9|  GR|          FR|\n",
            "| 6.466880818833333E9|  FR|          PT|\n",
            "| 5.432393887333333E9|  PT|          FR|\n",
            "|4.119813002066666...|  FR|          ES|\n",
            "|3.594075796683333...|  ES|          FR|\n",
            "|5.681983716016666...|  FR|          BE|\n",
            "|    3.40062710425E10|  BE|          FR|\n",
            "+--------------------+----+------------+\n",
            "only showing top 20 rows\n",
            "\n"
          ]
        }
      ]
    },
    {
      "cell_type": "markdown",
      "source": [
        "Ara tenim el problema que si volem fer el *join* amb la base de dades original, necessitem que estiguin en un mateix format. Per fer-ho, el que fem és fer servir la base de dades de Wikipedia dels codis ISO per traduir els codis als noms dels països."
      ],
      "metadata": {
        "id": "q_KpxK12kWB4"
      }
    },
    {
      "cell_type": "code",
      "source": [
        "# Llegir el fitxer CSV amb les dades dels codis ISO\n",
        "df_iso_codes = spark.read.csv(\"/content/betterlifebetterhealth/data/csv/wikipedia-iso-country-codes.csv\", header=True, inferSchema=True)\n",
        "\n",
        "# Mostrar el dataframe\n",
        "df_iso_codes.show()"
      ],
      "metadata": {
        "colab": {
          "base_uri": "https://localhost:8080/"
        },
        "id": "Mkf6C_IIVrbG",
        "outputId": "839d0e14-f12a-4245-9680-164c2d30ca69"
      },
      "execution_count": null,
      "outputs": [
        {
          "output_type": "stream",
          "name": "stdout",
          "text": [
            "+-----------------------------+------------+------------+------------+-------------+\n",
            "|English short name lower case|Alpha-2 code|Alpha-3 code|Numeric code|   ISO 3166-2|\n",
            "+-----------------------------+------------+------------+------------+-------------+\n",
            "|                  Afghanistan|          AF|         AFG|           4|ISO 3166-2:AF|\n",
            "|                Åland Islands|          AX|         ALA|         248|ISO 3166-2:AX|\n",
            "|                      Albania|          AL|         ALB|           8|ISO 3166-2:AL|\n",
            "|                      Algeria|          DZ|         DZA|          12|ISO 3166-2:DZ|\n",
            "|               American Samoa|          AS|         ASM|          16|ISO 3166-2:AS|\n",
            "|                      Andorra|          AD|         AND|          20|ISO 3166-2:AD|\n",
            "|                       Angola|          AO|         AGO|          24|ISO 3166-2:AO|\n",
            "|                     Anguilla|          AI|         AIA|         660|ISO 3166-2:AI|\n",
            "|                   Antarctica|          AQ|         ATA|          10|ISO 3166-2:AQ|\n",
            "|          Antigua and Barbuda|          AG|         ATG|          28|ISO 3166-2:AG|\n",
            "|                    Argentina|          AR|         ARG|          32|ISO 3166-2:AR|\n",
            "|                      Armenia|          AM|         ARM|          51|ISO 3166-2:AM|\n",
            "|                        Aruba|          AW|         ABW|         533|ISO 3166-2:AW|\n",
            "|                    Australia|          AU|         AUS|          36|ISO 3166-2:AU|\n",
            "|                      Austria|          AT|         AUT|          40|ISO 3166-2:AT|\n",
            "|                   Azerbaijan|          AZ|         AZE|          31|ISO 3166-2:AZ|\n",
            "|                      Bahamas|          BS|         BHS|          44|ISO 3166-2:BS|\n",
            "|                      Bahrain|          BH|         BHR|          48|ISO 3166-2:BH|\n",
            "|                   Bangladesh|          BD|         BGD|          50|ISO 3166-2:BD|\n",
            "|                     Barbados|          BB|         BRB|          52|ISO 3166-2:BB|\n",
            "+-----------------------------+------------+------------+------------+-------------+\n",
            "only showing top 20 rows\n",
            "\n"
          ]
        }
      ]
    },
    {
      "cell_type": "code",
      "source": [
        "from pyspark.sql.functions import col, broadcast\n",
        "\n",
        "# Creem un DataFrame auxiliar amb els noms de país\n",
        "iso_names = df_iso_codes.select('Alpha-2 code', 'English short name lower case') \\\n",
        "                        .withColumnRenamed('Alpha-2 code', 'iso2') \\\n",
        "                        .withColumnRenamed('English short name lower case', 'country')\n",
        "\n",
        "# Substituim els codis ISO-2 pels noms de país al dataset original\n",
        "df = df.join(broadcast(iso_names), df['iso2'] == iso_names['iso2'], 'left') \\\n",
        "       .drop(iso_names['iso2']) \\\n",
        "       .withColumnRenamed('country', 'iso2_country')\n",
        "\n",
        "df = df.join(broadcast(iso_names), df['partner_iso2'] == iso_names['iso2'], 'left') \\\n",
        "       .drop(iso_names['iso2']) \\\n",
        "       .withColumnRenamed('country', 'partner_iso2_country')\n",
        "\n",
        "df.show()\n"
      ],
      "metadata": {
        "colab": {
          "base_uri": "https://localhost:8080/"
        },
        "id": "tyssXYOKWqi8",
        "outputId": "837bd6e9-5622-47f8-b0fe-4296c2c6eedf"
      },
      "execution_count": null,
      "outputs": [
        {
          "output_type": "stream",
          "name": "stdout",
          "text": [
            "+--------------------+----+------------+--------------+--------------------+\n",
            "|         mitjana_sum|iso2|partner_iso2|  iso2_country|partner_iso2_country|\n",
            "+--------------------+----+------------+--------------+--------------------+\n",
            "|    4.62441609985E10|  FR|          NL|        France|         Netherlands|\n",
            "|    1.75339899115E10|  NL|          FR|   Netherlands|              France|\n",
            "|    9.99347119945E10|  FR|          DE|        France|             Germany|\n",
            "|6.951418096266667E10|  DE|          FR|       Germany|              France|\n",
            "|4.517880949633333...|  FR|          IT|        France|               Italy|\n",
            "|3.585052119333333...|  IT|          FR|         Italy|              France|\n",
            "|2.238572949033333...|  FR|          GB|        France|      United Kingdom|\n",
            "|3.115842170016666...|  GB|          FR|United Kingdom|              France|\n",
            "| 7.184255083166667E9|  FR|          IE|        France|             Ireland|\n",
            "|       3.379785954E9|  IE|          FR|       Ireland|              France|\n",
            "|      3.6769071865E9|  FR|          DK|        France|             Denmark|\n",
            "|3.0566810623333335E9|  DK|          FR|       Denmark|              France|\n",
            "|1.1480185673333333E9|  FR|          GR|        France|              Greece|\n",
            "|      2.3651218625E9|  GR|          FR|        Greece|              France|\n",
            "| 6.466880818833333E9|  FR|          PT|        France|            Portugal|\n",
            "| 5.432393887333333E9|  PT|          FR|      Portugal|              France|\n",
            "|4.119813002066666...|  FR|          ES|        France|               Spain|\n",
            "|3.594075796683333...|  ES|          FR|         Spain|              France|\n",
            "|5.681983716016666...|  FR|          BE|        France|             Belgium|\n",
            "|    3.40062710425E10|  BE|          FR|       Belgium|              France|\n",
            "+--------------------+----+------------+--------------+--------------------+\n",
            "only showing top 20 rows\n",
            "\n"
          ]
        }
      ]
    },
    {
      "cell_type": "code",
      "source": [
        "# Eliminem les columnes originals\n",
        "exports_df = df.drop('iso2', 'partner_iso2')\n",
        "exports_df.show()"
      ],
      "metadata": {
        "colab": {
          "base_uri": "https://localhost:8080/"
        },
        "id": "iEShxKaabImN",
        "outputId": "4c3ebc25-492a-47d0-dcf4-2605bd9b006f"
      },
      "execution_count": null,
      "outputs": [
        {
          "output_type": "stream",
          "name": "stdout",
          "text": [
            "+--------------------+--------------+--------------------+\n",
            "|         mitjana_sum|  iso2_country|partner_iso2_country|\n",
            "+--------------------+--------------+--------------------+\n",
            "|    4.62441609985E10|        France|         Netherlands|\n",
            "|    1.75339899115E10|   Netherlands|              France|\n",
            "|    9.99347119945E10|        France|             Germany|\n",
            "|6.951418096266667E10|       Germany|              France|\n",
            "|4.517880949633333...|        France|               Italy|\n",
            "|3.585052119333333...|         Italy|              France|\n",
            "|2.238572949033333...|        France|      United Kingdom|\n",
            "|3.115842170016666...|United Kingdom|              France|\n",
            "| 7.184255083166667E9|        France|             Ireland|\n",
            "|       3.379785954E9|       Ireland|              France|\n",
            "|      3.6769071865E9|        France|             Denmark|\n",
            "|3.0566810623333335E9|       Denmark|              France|\n",
            "|1.1480185673333333E9|        France|              Greece|\n",
            "|      2.3651218625E9|        Greece|              France|\n",
            "| 6.466880818833333E9|        France|            Portugal|\n",
            "| 5.432393887333333E9|      Portugal|              France|\n",
            "|4.119813002066666...|        France|               Spain|\n",
            "|3.594075796683333...|         Spain|              France|\n",
            "|5.681983716016666...|        France|             Belgium|\n",
            "|    3.40062710425E10|       Belgium|              France|\n",
            "+--------------------+--------------+--------------------+\n",
            "only showing top 20 rows\n",
            "\n"
          ]
        }
      ]
    },
    {
      "cell_type": "code",
      "source": [
        "# observem el df original per tal de poder fer el join  utilitzant la variable 'Country'\n",
        "result.show()"
      ],
      "metadata": {
        "colab": {
          "base_uri": "https://localhost:8080/"
        },
        "id": "-DUOllaWbqfL",
        "outputId": "c540cd1e-38df-4682-a72d-96cdf08029e8"
      },
      "execution_count": null,
      "outputs": [
        {
          "output_type": "stream",
          "name": "stdout",
          "text": [
            "+-------------+----+--------+-----+-----+---------+-----------------+------+-----------------+--------+----+------------------+--------------------+--------------------+---------------------+----------------------+------------------+-------------------------+-------------------+----------------------------------+--------------------------+----------------------------+-----------------------------------------+------------------------------------------------------------------------+------------------------------------------+-------------------------------------------------------------------+-----------------------------------------------------+----------------------------------------------+-----------------------------------------------------------------+----------------------------------------------------------------------------------+----------------------------------------------+-----------------------------+-----------------+-----------------------+-----------------------------------------------+----------------------------------------------+------------------------------------------------------------------+------------------------------------------+---------------------------------+---------------------------------------------+---------------------------------------------+-------------------------------------------------------+-------------------------------------------------------------------------+------------------------------------------------------------------------+----------------------------------------------------------------------+-----------------------------------------------------------------------------------------------------------+-----------------------------------------------------------------------------------------+-------------------------------------------------------------------------------------------------------+------------------------------------------------------------------------------------+--------------------+---------------------+-------------------+------------------------+-------------------------+----------------------+\n",
            "|      Country|Year|Area_Km2|  CBR|  CDR|   Deaths|               E0|Medage|            MR0_4|Pop_Dens|GSCA| Schizophrenia (%)|Bipolar disorder (%)|Eating disorders (%)|Anxiety disorders (%)|Drug use disorders (%)|    Depression (%)|Alcohol use disorders (%)|   Total population|Population density, pers per sq km|Total population, male (%)|Total population, female (%)|Mean age of women at birth of first child|Women in the Labour Force, Percent of corresponding total for both sexes|Female tertiary students, percent of total|Female legislators, senior officials and managers, percent of total|Female professionals, percent of total for both sexes|Female clerks, percent of total for both sexes|Female craft and related workers, percent of total for both sexes|Female plant and machine operators and assemblers, percent of total for both sexes|Female members of parliament, percent of total|Total employment, growth rate|Unemployment rate|Youth unemployment rate|GDP at current prices and PPPs, millions of US$|GDP per capita at current prices and PPPs, US$|Final consumption expenditure per capita, US Dollars, current PPPs|Purchasing power parity (PPP), NCU per US$|Consumer price index, growth rate|Export of goods and services, per cent of GDP|Import of goods and services, per cent of GDP|External balance on goods and services, per cent of GDP|GDP: in agriculture etc (ISIC4 A), output approach, per cent share of GVA|GDP: in industry etc (ISIC4 B-E), output approach, per cent share of GVA|GDP: in construction (ISIC4 F), output approach, per cent share of GVA|GDP: in trade, hospitality, transport and communication (ISIC4 G-J), output approach, per cent share of GVA|GDP: in finance and business services (ISIC4 K-N), output approach, per cent share of GVA|GDP: in public administration, education and health (ISIC4 O-Q), output approach, per cent share of GVA|GDP: in other service activities (ISIC4 R-U), output approach, per cent share of GVA|Population aged 0-14|Population aged 15-64|Population aged 64+|Life expectancy at birth|Life expectancy at age 65|Economic activity rate|\n",
            "+-------------+----+--------+-----+-----+---------+-----------------+------+-----------------+--------+----+------------------+--------------------+--------------------+---------------------+----------------------+------------------+-------------------------+-------------------+----------------------------------+--------------------------+----------------------------+-----------------------------------------+------------------------------------------------------------------------+------------------------------------------+-------------------------------------------------------------------+-----------------------------------------------------+----------------------------------------------+-----------------------------------------------------------------+----------------------------------------------------------------------------------+----------------------------------------------+-----------------------------+-----------------+-----------------------+-----------------------------------------------+----------------------------------------------+------------------------------------------------------------------+------------------------------------------+---------------------------------+---------------------------------------------+---------------------------------------------+-------------------------------------------------------+-------------------------------------------------------------------------+------------------------------------------------------------------------+----------------------------------------------------------------------+-----------------------------------------------------------------------------------------------------------+-----------------------------------------------------------------------------------------+-------------------------------------------------------------------------------------------------------+------------------------------------------------------------------------------------+--------------------+---------------------+-------------------+------------------------+-------------------------+----------------------+\n",
            "|      Albania|2013|   27398|12.52| 6.05|  18263.0|            78.61|  31.2|            13.86|   110.1|2013|3.0221572515106128|  2.0800083468234174|  0.2217750201761744|   3.8399897179955085|    0.7737207857143605|3.1740146894749515|       1.6519555653999336|          2896652.0|                         100.76012|                  50.34322|                    49.65678|                                     24.4|                                                                43.76746|                                   56.5479|                                                           31.92632|                                             57.62349|                                      43.51192|                                                           22.187|                                                                          32.75625|                             20.93621706412106|                     -4.42319|         15.93482|               31.39299|                                    30150.00506|                                   10408.57717|                                                        9477.51919|                                  44.77786|                          1.93665|                                     28.73775|                                     46.95741|                                              -18.21966|                                                                 22.42851|                                                                14.64403|                                                               11.7923|                                                                                                   21.35707|                                                                                 14.83022|                                                                                               12.73188|                                                                             2.21599|            565766.0|            1989626.0|           341260.0|                    78.0|       17.024792739160272|              59.43911|\n",
            "|     Portugal|2014|   91470| 7.86|10.01| 104843.0|            80.56|  41.9|             3.45|   114.5|2014| 4.263950251510613|  2.9207535968234177|  0.3072460201762068|   4.3367544679959025|    0.8175452857143243| 3.778946939473085|       1.5099438153994293|       1.04010615E7|                         113.07714|                  47.50326|                    52.49674|                                     30.0|                                                                48.69489|                        54.952532022381256|                                                           35.14259|                                             59.56067|                                      65.40012|                                                         16.08594|                                                                          32.83697|                                      31.30435|           1.4116300000000002|             14.1|                   34.8|                                   298501.27711|                                    28699.0104|                                                       24252.94548|                        0.5798300000000001|                         -0.27695|                                     40.07434|                                     39.88535|                                                0.18899|                                                                  2.31988|                                                      17.499390000000002|                                                               4.14725|                                                                                                   28.05557|                                                                                 24.99655|                                                                                               20.07779|                                                                             2.90357|           1506047.5|            6807509.0|          2087505.0|                    81.2|                     20.0|             73.193405|\n",
            "|   Azerbaijan|2013|   82629|19.65| 6.28|  61205.0|            74.01|  29.4|            13.57|   118.0|2013| 2.914427501510612|  2.1541890968234174|  0.2289412701761744|   3.6362934679955083|    0.7655952857143605| 3.262714939474951|       1.7693635653999338|          9416801.0|                         108.73904|                  49.71084|                    50.28916|                                     23.5|                                                                48.79987|                                  51.52737|                                                           32.98966|                                             60.60029|                                      80.14554|                                                         21.69125|                                                                           8.10878|                                          16.0|                      1.70742|          4.97289|               13.74644|                                   163054.89104|                                   17315.31848|                                                        9036.21421|                                   0.35682|                           2.4238|                                     48.41583|                                     26.26001|                                               22.15582|                                                                  5.74948|                                                                48.69199|                                                              12.43684|                                                                                                   16.20304|                                                                                  6.67612|                                                                                                8.10106|                                                                             2.14146|           2102814.0|            6768032.0|           545955.0|                    74.6|                     15.6|              69.94188|\n",
            "|       Norway|2006|  304282|12.56| 8.85|  41253.0|            80.36|  38.3|             4.02|    15.3|2006|4.7675452515106125|  2.5355068468234174| 0.31976527017620676|    4.903905467995902|    0.8955817857143242|3.5380819394730847|       1.5463735653994293|          4660676.5|                          14.39551|                  49.64697|                    50.35303|                                     28.1|                                                                47.15904|                                  60.24615|                                                           33.17308|                                             44.18773|                                       63.9759|                                                          5.30361|                                                                          15.77082|                                      37.86982|                      3.39847|              3.4|                    8.7|                                   254891.03246|                                   54685.91128|                                                       32203.21898|                                   8.69121|                          2.33122|                                     44.66481|                                     27.72386|                                               16.94095|                                                                  1.57494|                                                                39.48269|                                                    4.9960700000000005|                                                                                                   18.51209|                                                                                 15.89677|                                                                                               17.61105|                                                                             1.92639|            906371.0|            3070272.5|           684033.0|       80.55000000000001|                    19.25|              77.79019|\n",
            "|       Norway|2010|  304282|12.56| 8.48|  41499.0|             81.0|  38.8|             3.34|    16.1|2010| 4.738409251510612|  2.5136443468234173| 0.32238327017620677|    4.897050967995902|    0.8729805357143242| 3.519533439473085|       1.5475263153994294|          4889252.0|                          15.10152|                  49.98312|                    50.01688|                                     28.1|                                                                47.14506|                                   60.3396|                                                           34.39837|                                             45.42093|                                      62.79343|                                                          4.09543|                                                                          13.13416|                                      39.64497|          -0.5374300000000001|              3.6|                    9.3|                                    287551.2995|                                   58815.97453|                                                       37297.85642|                                    9.0074|                          2.39956|                                     39.81979|                                     28.58979|                                                  11.23|                                                                  1.76245|                                                                33.72383|                                                               5.34117|                                                                                                     18.702|                                                                                 18.06609|                                                                                               20.43953|                                                                             1.96493|            919717.0|            3237077.0|           732458.0|                   81.15|                     19.6|             77.873595|\n",
            "|  Netherlands|2004|   33893|11.94|  8.4| 136647.0|            79.12|  38.7|             5.26|   479.9|2004|4.3502150015106125|  2.7536300968234175|  0.2800760201762068|    4.642414967995903|    0.8825577857143242|3.6366359394730847|       1.3733475653994294|        1.6281779E7|                         392.08638|                  49.47829|                    50.52171|                                     29.4|                                                                44.40809|                                  50.98932|                                                           25.39365|                                             45.42327|                                      67.95473|                                                           5.1204|                                                                          11.15991|                                      36.66667|                     -1.16931|              5.7|                    8.0|                                   576406.39181|                                   35414.49937|                                                       25283.69184|                                   0.90898|                          1.23826|                                     63.53583|                                     55.61239|                                                7.92344|                                                                  2.01587|                                                                18.16469|                                                                5.4126|                                                                                                   25.41606|                                                                                 26.30176|                                                                                               20.21029|                                                                             2.47872|           3012139.0|          1.0999728E7|          2269912.0|       79.33500000000001|                   18.215|             76.240545|\n",
            "|      Armenia|2014|   28203|13.92| 9.31|  28488.0|            74.12|  33.7|            16.42|   108.5|2014| 3.998313001510612|  2.1816790968234177| 0.22090452017620676|    3.639674467995902|    0.7695457857143242|3.3067884394730847|       1.6858595653994293|          3013839.0|                         101.32935|                  47.82349|                    52.17651|                                     24.3|                                                                49.11919|                                  55.35217|                                                           32.38612|                                             55.67167|                                      68.97977|                                                         18.28389|                                                                           3.65598|                                      10.68702|                      -2.6026|             17.6|               37.24958|                                    24274.44148|                                    8054.29649|                                                        7863.65444|                                 198.91812|                          2.98384|                                     28.56514|                                     47.04655|                                              -18.48141|                                                                 19.91286|                                                                 17.6039|                                                              10.24069|                                                                                                   21.27245|                                                                                 16.08993|                                                                                               12.10893|                                                                             2.77124|            579117.0|            2112780.0|           321942.0|                   75.06|                   15.715|              62.17013|\n",
            "|   Kyrgyzstan|2012|  191801|23.88| 6.93|  38082.0|            69.43|  25.2|            36.38|    28.7|2012| 5.020024001510612|  2.2609033468234174| 0.21082127017620678|   3.6312229679959023|    0.7820367857143242| 3.390294939473085|       1.9296588153994294|          5607511.0|                          28.05158|                  49.40283|                    50.59717|                                     23.4|                                                                41.38603|                                  55.79683|                                                           32.26033|                                             61.44452|                                      58.74256|                                                         18.16512|                                                                4.4019200000000005|                                      23.33333|                      0.38196|          8.42679|               17.56557|                                    16388.17955|                                    2901.47171|                                                        3362.99321|                                  18.94483|                          2.68753|                                      44.4042|                                     95.27174|                                              -50.86754|                                                                 18.51486|                                                                17.52271|                                                               7.22107|                                                                                                   29.82248|                                                                                  8.97253|                                                                                               16.11629|                                                                             1.83006|           1718224.0|            3648904.0|           240383.0|                  70.295|       14.254999999999999|              67.91153|\n",
            "|  Switzerland|2015|   39997|10.45| 8.16|  67606.0|            82.78|  42.4|             4.51|   207.1|2015| 4.454613001510612|  2.6720320968234175|  0.3232035201762068|    4.331319967995902|    0.8980535357143242|3.5537194394730847|       1.5340113153994293|2.197927993360785E7|                130.01643725542382|         48.81898257717292|           51.18101638107686|                        26.42824480511091|                                                                46.63748|                         53.23341422897378|                                                           35.22358|                                             45.59413|                                      70.14139|                                                          15.0838|                                                                          16.99147|                                          30.5|                      1.54726|              4.5|                    8.6|                                   506220.92225|                                   61120.07658|                                                       39882.86716|                        1.2752400000000002|                         -1.14542|                                     62.90302|                                     51.18932|                                               11.71369|                                                       0.6811100000000001|                                                                 20.0129|                                                               5.50594|                                                                                                   24.61808|                                                                                 20.69464|                                                                                               19.24304|                                                                              9.2443|   4366442.677945862| 1.4750948727924893E7|  2877727.558334732|         75.108378485535|       16.551693267018056|     70.05823988193126|\n",
            "| Turkmenistan|2011|  469930|19.42|  6.2|  30965.0|             68.5|  25.4|            59.91|    10.6|2011| 4.104542501510612|  2.2097238468234175| 0.22369677017620676|    3.631465467995902|    0.7746247857143242| 3.329377439473085|       1.9053755653994293|2.197927993360785E7|                130.01643725542382|         48.81898257717292|           51.18101638107686|                        26.42824480511091|                                                       45.66159630449234|                         53.23341422897378|                                                 31.176593392587794|                                   54.855416276595754|                             69.38819462788423|                                               13.717378827544385|                                                                16.593507535902546|                                          16.8|           0.8657315173217844|8.457272326634758|     19.477900317714983|                                    58014.35823|                                    11360.5066|                                                19331.301355341184|                                   1.43611|                5.009614380475697|                            51.93302108471135|                            52.24823685943179|                                   -0.31521594712825063|                                                        4.577160153048209|                                                       22.11290677206444|                                                     6.447228701322179|                                                                                         25.414340219475392|                                                                       21.910363623628907|                                                                                      16.59673620738029|                                                                   3.038325116274133|   4366442.677945862| 1.4750948727924893E7|  2877727.558334732|         75.108378485535|       16.551693267018056|     70.05823988193126|\n",
            "|     Bulgaria|2009|  108489|10.92|14.55| 108068.0|            73.08|  40.8|            13.06|    68.5|2009| 4.346840751510612|  2.1346045968234173| 0.22636552017620676|   3.8899689679959026|    0.8153327857143242| 3.263304689473085|       1.6468745653994294|          7444442.5|                          67.07128|                  48.69279|                    51.30721|                                     25.6|                                                                46.66056|                                  55.51542|                                                           32.14126|                                             65.97239|                                      76.94257|                                                         25.50648|                                                                          27.62222|                                      21.66667|                     -1.71313|              6.8|                   16.2|                                    110920.8435|                                   14899.82369|                                                       11876.53496|                                     0.658|                          2.74986|                                     42.33201|                                     50.60909|                                               -8.27708|                                                                  4.88228|                                                                 20.8899|                                                               9.50366|                                                                                                    25.5468|                                                                                 23.22703|                                                                                               13.12441|                                                                             2.82592|            977044.0|            5122139.5|          1345259.0|       73.80000000000001|                     15.5|              67.16907|\n",
            "|   Kyrgyzstan|2006|  191801|23.34| 7.58|  39507.0|            67.15|  23.8|            44.64|    27.2|2006| 5.850826501510612|   2.271101596823417| 0.20885627017620959|    3.630573467995851|    0.7790177857143148|3.4021249394731035|       1.9474428153994299|          5218373.0|                          26.10492|                  49.34611|                    50.65389|                                     23.6|                                                                42.41082|                                  56.09909|                                                           35.13376|                                             62.08706|                                      74.38276|                                                          18.6362|                                                                           3.25153|                                           0.0|                      0.91599|          8.26696|                   14.6|                                    11578.20985|                                    2240.95541|                                                        2534.81175|                                   9.82882|                          5.56337|                                     41.72061|                                     79.02937|                                              -37.30875|                                                        5.159807774542255|                                                      21.739592556332596|                                                     6.852710510581996|                                                                                          25.19468272861472|                                                                       21.176744623429858|                                                                                      17.07454378612052|                                                                   3.042885231522429|           1609478.5|            3329161.0|           279733.5|                  67.575|                   13.615|              67.62015|\n",
            "|      Hungary|2009|   89608| 9.45|13.01| 130399.0|            74.16|  39.7|             5.94|   111.8|2009| 6.578687751510612|  2.1886340968234173|  0.2362232701762096|   3.8583589679958505|    0.8265377857143148|3.3179001894731037|       1.7424393153994298|       1.00226495E7|                         107.73567|                  47.49218|                    52.50782|                                     27.9|                                                                45.81813|                                  56.50623|                                                           36.18746|                                             56.83675|                                      75.24992|                                                         11.81266|                                                                          25.75088|                                       11.1399|                     -2.49351|             10.0|                   26.4|                                    209386.2974|                                   20891.31092|                                                       15794.12938|                                  125.5928|                           4.2097|                                      74.7703|                                     70.71135|                                                4.05894|                                                                  3.50891|                                                                24.76275|                                                               4.87922|                                                                                                   23.25604|                                                                                  22.4534|                                                                                               18.16781|                                                                             2.97187|           1484732.0|            6886037.0|          1651880.5|                   74.35|                     16.1|              60.12818|\n",
            "|     Slovenia|2006|   20151| 9.34| 8.97|  18180.0|            78.17|  40.7|             5.01|   100.6|2006|7.1104935015106125|   2.307545846823418| 0.23645627017620957|   3.8582977179958506|    0.8702362857143149|3.4012766894731037|       1.7422538153994298|          2006867.5|                          99.08989|                  49.04277|                    50.95723|                                     28.0|                                                                46.13503|                                  58.29366|                                                           33.11793|                                             59.25666|                                      63.56784|                                                          8.65922|                                                                          32.33898|                                      12.22222|                      1.57613|              6.0|                   13.9|                                    51916.12579|                                   25856.57584|                                                       18066.02397|                                   0.60782|                          2.45766|                                     64.69542|                                     64.74328|                                               -0.04785|                                                                  2.26612|                                                                27.44766|                                                                7.0504|                                                                                                   23.60878|                                                                                 20.62514|                                                                                               16.19133|                                                                             2.81057|            282150.0|            1408465.0|           316252.5|                   78.25|                     17.9|              70.72391|\n",
            "|United States|2015| 9151125| 12.4|  8.5|2712630.0|69.68328042328044|  37.8|46.88141734808387|    35.0|2015| 5.349984251510612|  2.8895500968234176|  0.3105260201762068|    4.655106467995902|    1.4623770357143242| 3.822228689473085|       1.6940505653994293|        3.2141882E8|                          33.37998|                  49.22839|                    50.77161|                                     26.4|                                                                46.78292|                         56.32357203942141|                                                 33.630012717287485|                                    56.46813517730496|                             69.81097653295124|                                               13.590116221581813|                                                                 17.20227656023223|                                      19.35484|                       1.6746|              5.3|      16.84562045769347|                                       1.7947E7|                                   55775.23535|                                                       46131.18842|                                       1.0|                          0.11898|                                     12.55586|                                     15.50287|                                               -2.94701|                                                        4.902186381260098|                                                       21.72827121163164|                                                      6.68264137318255|                                                                                         25.337933699515332|                                                                       21.559294765751204|                                                                                      16.92388589660742|                                                                    3.04570436187399|         6.1016787E7|         2.12641181E8|        4.7760852E7|        78.2703208241354|        18.77798307475317|              69.76959|\n",
            "|     Slovakia|2008|   48105|10.59| 9.82|  53164.0|            74.88|  36.8|             7.52|   112.6|2008| 4.714201251510612|  2.1130370968234176| 0.23287752017620678|   3.8549102179959025|    0.8229947857143243| 3.234182689473085|       1.7864253153994294|          5379232.5|                         109.75338|                  48.63171|                    51.36829|                                     26.6|                                                                44.66796|                                  60.46928|                                                           29.64899|                                             58.10213|                                       70.0611|                                                          13.4427|                                                                          24.73542|                                      19.33333|                      3.22329|              9.6|                   19.0|                                   128585.05302|                                   23786.23439|                                                       17642.69467|                                   0.53266|                          4.59707|                                     80.04544|                            82.87556000000001|                                               -2.83013|                                                                  4.08134|                                                                 28.4886|                                                               9.47559|                                                                                                   26.02746|                                                                                 17.03463|                                                                                               12.74482|                                                                             2.14756|            847082.0|            3877310.0|           654840.5|                   74.95|                     15.8|             69.098915|\n",
            "|       Norway|2004|  304282| 12.4| 8.97|  41202.0|            79.88|  37.8|             4.02|    15.1|2004| 4.915180751510612|  2.5428590968234177| 0.31892852017620676|    4.904251717995902|    0.8989995357143242| 3.542974189473085|       1.5532040653994295|          4591910.0|                          14.18311|                  49.57762|                    50.42238|                                     28.0|                                                                47.35069|                                  59.57558|                                                           29.17661|                                              43.4033|                                      65.62137|                                                          5.40759|                                                                          15.59239|                                      36.36364|                      0.64963|              4.3|                   12.8|                                   198288.82266|                                   43181.36382|                                                        28137.8534|                                    8.9868|                          0.46509|                                     41.11486|                                     27.93414|                                               13.18072|                                                                  1.56237|                                                                 34.7091|                                                               4.72706|                                                                                                   20.01638|                                                                                 17.17503|                                                                                               19.59724|                                                                             2.21283|            909927.0|            3005943.5|           676039.5|                   80.05|                     18.9|             77.599885|\n",
            "|     Portugal|2012|   91470| 8.48|10.16| 107612.0|            79.88|  40.9|             3.88|   115.8|2012| 4.363252751510613|  2.9525060968234174|  0.3063397701762068|   4.3358982179959025|    0.8151322857143243| 3.802940689473085|       1.5122473153994294|       1.05148435E7|                         114.31414|                   47.6761|                     52.3239|                                     29.5|                                                                48.13845|                                  53.16846|                                                            35.1776|                                             59.65248|                                      63.83523|                                                         16.47498|                                                                          28.89557|                                      28.69565|                     -4.08815|             15.8|                   37.9|                                   285216.81986|                                   27125.27294|                                                       22999.87906|                        0.5904200000000001|                          2.77204|                                     37.71054|                                     38.21839|                                    -0.5078400000000001|                                                                  2.17947|                                                                 16.9592|                                                               4.86647|                                                                                                     28.116|                                                                                 24.89717|                                                                                               20.03783|                                                                  2.9438500000000003|           1561550.5|            6933167.0|          2020126.0|       80.44999999999999|       19.450000000000003|     73.47109499999999|\n",
            "|      Georgia|2000|   69700|11.11| 8.81|  42438.0|            74.04|  35.2|            30.93|    69.1|2000| 3.204122501510612|   2.208580846823417|  0.2118460201761744|   3.6444809679955084|    0.7559250357143605|3.3170281894749514|       1.6493923153999337|          4418300.0|                          63.39024|                  47.17425|                    52.82575|                                     24.2|                                                                46.37977|                                  48.95361|                                                           18.97891|                                              60.4024|                                      88.82175|                                                         10.47745|                                                                          13.21637|                                       7.23404|                      6.03832|             10.3|                   20.0|                                    11444.80447|                                    2590.31856|                                                        2333.64585|                                   0.52802|                          8.14502|                                     22.99463|                                     39.66721|                                              -16.67258|                                                        5.159807774542255|                                                      21.739592556332596|                                                     6.852710510581996|                                                                                          25.19468272861472|                                                                       21.176744623429858|                                                                                      17.07454378612052|                                                                   3.042885231522429|            933950.0|            2929100.0|           555250.0|       76.31444635999381|       17.024792739160272|    57.433395000000004|\n",
            "|     Portugal|2009|   91470| 9.35| 9.81| 104434.0|            79.29|  39.7|             4.38|   116.4|2009| 4.463041251510612|  2.9750845968234176|  0.3047662701762068|    4.334566217995902|    0.8147280357143242|3.8199704394730847|       1.5136053153994293|       1.05682465E7|                         114.89472|                  47.92651|                    52.07349|                                     28.6|                                                                 47.7844|                                  53.30073|                                                            31.7794|                                             57.63505|                                      64.79353|                                                         18.62878|                                                                           20.0103|                                      28.26087|                     -2.72513|             10.7|                   20.3|                                   276981.63488|                                   26208.96982|                                                       22573.66102|                                   0.63343|                         -0.83462|                                      27.0807|                                     34.00155|                                               -6.92085|                                                                  2.19214|                                                                16.11823|                                                               6.27809|                                                                                                    26.6732|                                                                                 24.00018|                                                                                               21.94862|                                                                             2.78954|           1624489.0|            7029408.0|          1914349.5|                   79.65|                     19.0|             73.520815|\n",
            "+-------------+----+--------+-----+-----+---------+-----------------+------+-----------------+--------+----+------------------+--------------------+--------------------+---------------------+----------------------+------------------+-------------------------+-------------------+----------------------------------+--------------------------+----------------------------+-----------------------------------------+------------------------------------------------------------------------+------------------------------------------+-------------------------------------------------------------------+-----------------------------------------------------+----------------------------------------------+-----------------------------------------------------------------+----------------------------------------------------------------------------------+----------------------------------------------+-----------------------------+-----------------+-----------------------+-----------------------------------------------+----------------------------------------------+------------------------------------------------------------------+------------------------------------------+---------------------------------+---------------------------------------------+---------------------------------------------+-------------------------------------------------------+-------------------------------------------------------------------------+------------------------------------------------------------------------+----------------------------------------------------------------------+-----------------------------------------------------------------------------------------------------------+-----------------------------------------------------------------------------------------+-------------------------------------------------------------------------------------------------------+------------------------------------------------------------------------------------+--------------------+---------------------+-------------------+------------------------+-------------------------+----------------------+\n",
            "only showing top 20 rows\n",
            "\n"
          ]
        }
      ]
    },
    {
      "cell_type": "code",
      "source": [
        "# Crear una llista dels països únics de la columna 'Country' del DataFrame 'result'\n",
        "unique_countries = result.select(\"Country\").distinct().rdd.flatMap(lambda x: x).collect()\n",
        "\n",
        "# Filtrar 'exports_df' per assegurar que tant 'iso2_country' com 'partner_iso2_country' estan en la llista 'unique_countries'\n",
        "filtered_exports_df = exports_df.filter(\n",
        "    (col(\"iso2_country\").isin(unique_countries)) &\n",
        "    (col(\"partner_iso2_country\").isin(unique_countries))\n",
        ")\n",
        "\n",
        "# Mostrar el resultat filtrat\n",
        "filtered_exports_df.show()\n"
      ],
      "metadata": {
        "colab": {
          "base_uri": "https://localhost:8080/"
        },
        "id": "7wCs7jQAljpr",
        "outputId": "7723a63c-af0d-4b80-f8eb-21e4069fc24a"
      },
      "execution_count": null,
      "outputs": [
        {
          "output_type": "stream",
          "name": "stdout",
          "text": [
            "+--------------------+--------------+--------------------+\n",
            "|         mitjana_sum|  iso2_country|partner_iso2_country|\n",
            "+--------------------+--------------+--------------------+\n",
            "|    4.62441609985E10|        France|         Netherlands|\n",
            "|    1.75339899115E10|   Netherlands|              France|\n",
            "|    9.99347119945E10|        France|             Germany|\n",
            "|6.951418096266667E10|       Germany|              France|\n",
            "|4.517880949633333...|        France|               Italy|\n",
            "|3.585052119333333...|         Italy|              France|\n",
            "|2.238572949033333...|        France|      United Kingdom|\n",
            "|3.115842170016666...|United Kingdom|              France|\n",
            "| 7.184255083166667E9|        France|             Ireland|\n",
            "|       3.379785954E9|       Ireland|              France|\n",
            "|      3.6769071865E9|        France|             Denmark|\n",
            "|3.0566810623333335E9|       Denmark|              France|\n",
            "|1.1480185673333333E9|        France|              Greece|\n",
            "|      2.3651218625E9|        Greece|              France|\n",
            "| 6.466880818833333E9|        France|            Portugal|\n",
            "| 5.432393887333333E9|      Portugal|              France|\n",
            "|4.119813002066666...|        France|               Spain|\n",
            "|3.594075796683333...|         Spain|              France|\n",
            "|5.681983716016666...|        France|             Belgium|\n",
            "|    3.40062710425E10|       Belgium|              France|\n",
            "+--------------------+--------------+--------------------+\n",
            "only showing top 20 rows\n",
            "\n"
          ]
        }
      ]
    },
    {
      "cell_type": "code",
      "source": [
        "from pyspark.sql.window import Window\n",
        "from pyspark.sql.functions import col, rank\n",
        "\n",
        "# Definir una finestra per a cada 'iso2_country', ordenada descendentment per 'mitjana_sum'\n",
        "windowSpec = Window.partitionBy(\"iso2_country\").orderBy(col(\"mitjana_sum\").desc())\n",
        "\n",
        "# Afegir una nova columna 'rank' que enumeri les files dins de cada finestra\n",
        "ranked_exports_df = exports_df.withColumn(\"rank\", rank().over(windowSpec))\n",
        "\n",
        "# Filtrar les files per mantenir només la primera entrada (la més alta) per cada 'iso2_country'\n",
        "highest_exports_df = ranked_exports_df.filter(col(\"rank\") == 1).drop(\"rank\")"
      ],
      "metadata": {
        "colab": {
          "base_uri": "https://localhost:8080/"
        },
        "id": "5b-uTtYqqdCV",
        "outputId": "1e14a9bb-1a51-4a49-ad6b-81d60e97f708"
      },
      "execution_count": null,
      "outputs": [
        {
          "output_type": "stream",
          "name": "stdout",
          "text": [
            "+--------------------+-------------------+--------------------+\n",
            "|         mitjana_sum|       iso2_country|partner_iso2_country|\n",
            "+--------------------+-------------------+--------------------+\n",
            "|       4.298435183E9|               NULL|              France|\n",
            "| 6.751955533333333E7|        Afghanistan|              France|\n",
            "|1.3797336723333333E9|            Albania|              France|\n",
            "| 4.731788065166667E9|            Algeria|              France|\n",
            "|            963359.0|     American Samoa|              France|\n",
            "|        9.28728823E8|            Andorra|              France|\n",
            "|1.3103392146666667E9|             Angola|              France|\n",
            "|           3625983.5|           Anguilla|              France|\n",
            "|   9365310.333333334|         Antarctica|              France|\n",
            "|1.5346806233333334E8|Antigua and Barbuda|              France|\n",
            "|2.4844731536666665E9|          Argentina|              France|\n",
            "|1.7494520783333334E8|            Armenia|              France|\n",
            "|1.2095208033333333E8|              Aruba|              France|\n",
            "| 9.431808756833334E9|          Australia|              France|\n",
            "|6.608629271133333...|            Austria|             Germany|\n",
            "| 6.727441508333334E8|         Azerbaijan|              France|\n",
            "|2.4774994216666666E8|            Bahamas|              France|\n",
            "| 4.247045143333333E8|            Bahrain|              France|\n",
            "| 7.240744546666666E8|         Bangladesh|              France|\n",
            "|3.3413910166666668E7|           Barbados|              France|\n",
            "+--------------------+-------------------+--------------------+\n",
            "only showing top 20 rows\n",
            "\n"
          ]
        }
      ]
    },
    {
      "cell_type": "code",
      "source": [
        "cleaned_df = highest_exports_df.dropna()"
      ],
      "metadata": {
        "id": "07tsQw8QpRhY"
      },
      "execution_count": null,
      "outputs": []
    },
    {
      "cell_type": "code",
      "source": [
        "cleaned_df.show()"
      ],
      "metadata": {
        "colab": {
          "base_uri": "https://localhost:8080/"
        },
        "id": "iDCuzALntutp",
        "outputId": "ed3ccf5c-32d2-4374-d959-8cc2fb5c2cfc"
      },
      "execution_count": null,
      "outputs": [
        {
          "output_type": "stream",
          "name": "stdout",
          "text": [
            "+--------------------+-------------------+--------------------+\n",
            "|         mitjana_sum|       iso2_country|partner_iso2_country|\n",
            "+--------------------+-------------------+--------------------+\n",
            "| 6.751955533333333E7|        Afghanistan|              France|\n",
            "|1.3797336723333333E9|            Albania|              France|\n",
            "| 4.731788065166667E9|            Algeria|              France|\n",
            "|            963359.0|     American Samoa|              France|\n",
            "|        9.28728823E8|            Andorra|              France|\n",
            "|1.3103392146666667E9|             Angola|              France|\n",
            "|           3625983.5|           Anguilla|              France|\n",
            "|   9365310.333333334|         Antarctica|              France|\n",
            "|1.5346806233333334E8|Antigua and Barbuda|              France|\n",
            "|2.4844731536666665E9|          Argentina|              France|\n",
            "|1.7494520783333334E8|            Armenia|              France|\n",
            "|1.2095208033333333E8|              Aruba|              France|\n",
            "| 9.431808756833334E9|          Australia|              France|\n",
            "|6.608629271133333...|            Austria|             Germany|\n",
            "| 6.727441508333334E8|         Azerbaijan|              France|\n",
            "|2.4774994216666666E8|            Bahamas|              France|\n",
            "| 4.247045143333333E8|            Bahrain|              France|\n",
            "| 7.240744546666666E8|         Bangladesh|              France|\n",
            "|3.3413910166666668E7|           Barbados|              France|\n",
            "|1.5090884941666667E9|            Belarus|              France|\n",
            "+--------------------+-------------------+--------------------+\n",
            "only showing top 20 rows\n",
            "\n"
          ]
        }
      ]
    },
    {
      "cell_type": "code",
      "source": [
        "from pyspark.sql import SparkSession\n",
        "\n",
        "# Setup Spark session\n",
        "spark = SparkSession.builder.appName(\"Data Join\").getOrCreate()\n",
        "\n",
        "# Assuming 'original_df' and 'exports_df' are already loaded as Spark DataFrames\n",
        "\n",
        "# Perform the join\n",
        "joined_df = result.join(\n",
        "    cleaned_df,\n",
        "    result.Country == cleaned_df.iso2_country,\n",
        "    \"left\"  # Use \"left\" to keep all records from the original dataframe\n",
        ")\n",
        "\n",
        "# Select the required columns including the new ones from exports_df\n",
        "df_final = joined_df.select(\n",
        "    result[\"*\"],  # Include all columns from the original dataset\n",
        "    cleaned_df[\"partner_iso2_country\"],\n",
        "    cleaned_df[\"mitjana_sum\"]\n",
        ")\n",
        "\n",
        "# Show the final DataFrame\n",
        "df_final.show()"
      ],
      "metadata": {
        "colab": {
          "base_uri": "https://localhost:8080/"
        },
        "id": "QJmKQ9PmuMpt",
        "outputId": "80d963ec-6983-491c-e1d2-1ad9d1329c34"
      },
      "execution_count": null,
      "outputs": [
        {
          "output_type": "stream",
          "name": "stdout",
          "text": [
            "+-------------+----+--------+-----+-----+---------+-----------------+------+-----------------+--------+----+------------------+--------------------+--------------------+---------------------+----------------------+------------------+-------------------------+-------------------+----------------------------------+--------------------------+----------------------------+-----------------------------------------+------------------------------------------------------------------------+------------------------------------------+-------------------------------------------------------------------+-----------------------------------------------------+----------------------------------------------+-----------------------------------------------------------------+----------------------------------------------------------------------------------+----------------------------------------------+-----------------------------+-----------------+-----------------------+-----------------------------------------------+----------------------------------------------+------------------------------------------------------------------+------------------------------------------+---------------------------------+---------------------------------------------+---------------------------------------------+-------------------------------------------------------+-------------------------------------------------------------------------+------------------------------------------------------------------------+----------------------------------------------------------------------+-----------------------------------------------------------------------------------------------------------+-----------------------------------------------------------------------------------------+-------------------------------------------------------------------------------------------------------+------------------------------------------------------------------------------------+--------------------+---------------------+-------------------+------------------------+-------------------------+----------------------+--------------------+--------------------+\n",
            "|      Country|Year|Area_Km2|  CBR|  CDR|   Deaths|               E0|Medage|            MR0_4|Pop_Dens|GSCA| Schizophrenia (%)|Bipolar disorder (%)|Eating disorders (%)|Anxiety disorders (%)|Drug use disorders (%)|    Depression (%)|Alcohol use disorders (%)|   Total population|Population density, pers per sq km|Total population, male (%)|Total population, female (%)|Mean age of women at birth of first child|Women in the Labour Force, Percent of corresponding total for both sexes|Female tertiary students, percent of total|Female legislators, senior officials and managers, percent of total|Female professionals, percent of total for both sexes|Female clerks, percent of total for both sexes|Female craft and related workers, percent of total for both sexes|Female plant and machine operators and assemblers, percent of total for both sexes|Female members of parliament, percent of total|Total employment, growth rate|Unemployment rate|Youth unemployment rate|GDP at current prices and PPPs, millions of US$|GDP per capita at current prices and PPPs, US$|Final consumption expenditure per capita, US Dollars, current PPPs|Purchasing power parity (PPP), NCU per US$|Consumer price index, growth rate|Export of goods and services, per cent of GDP|Import of goods and services, per cent of GDP|External balance on goods and services, per cent of GDP|GDP: in agriculture etc (ISIC4 A), output approach, per cent share of GVA|GDP: in industry etc (ISIC4 B-E), output approach, per cent share of GVA|GDP: in construction (ISIC4 F), output approach, per cent share of GVA|GDP: in trade, hospitality, transport and communication (ISIC4 G-J), output approach, per cent share of GVA|GDP: in finance and business services (ISIC4 K-N), output approach, per cent share of GVA|GDP: in public administration, education and health (ISIC4 O-Q), output approach, per cent share of GVA|GDP: in other service activities (ISIC4 R-U), output approach, per cent share of GVA|Population aged 0-14|Population aged 15-64|Population aged 64+|Life expectancy at birth|Life expectancy at age 65|Economic activity rate|partner_iso2_country|         mitjana_sum|\n",
            "+-------------+----+--------+-----+-----+---------+-----------------+------+-----------------+--------+----+------------------+--------------------+--------------------+---------------------+----------------------+------------------+-------------------------+-------------------+----------------------------------+--------------------------+----------------------------+-----------------------------------------+------------------------------------------------------------------------+------------------------------------------+-------------------------------------------------------------------+-----------------------------------------------------+----------------------------------------------+-----------------------------------------------------------------+----------------------------------------------------------------------------------+----------------------------------------------+-----------------------------+-----------------+-----------------------+-----------------------------------------------+----------------------------------------------+------------------------------------------------------------------+------------------------------------------+---------------------------------+---------------------------------------------+---------------------------------------------+-------------------------------------------------------+-------------------------------------------------------------------------+------------------------------------------------------------------------+----------------------------------------------------------------------+-----------------------------------------------------------------------------------------------------------+-----------------------------------------------------------------------------------------+-------------------------------------------------------------------------------------------------------+------------------------------------------------------------------------------------+--------------------+---------------------+-------------------+------------------------+-------------------------+----------------------+--------------------+--------------------+\n",
            "|     Slovakia|2008|   48105|10.59| 9.82|  53164.0|            74.88|  36.8|             7.52|   112.6|2008| 4.714201251510612|  2.1130370968234176| 0.23287752017620678|   3.8549102179959025|    0.8229947857143243| 3.234182689473085|       1.7864253153994294|          5379232.5|                         109.75338|                  48.63171|                    51.36829|                                     26.6|                                                                44.66796|                                  60.46928|                                                           29.64899|                                             58.10213|                                       70.0611|                                                          13.4427|                                                                          24.73542|                                      19.33333|                      3.22329|              9.6|                   19.0|                                   128585.05302|                                   23786.23439|                                                       17642.69467|                                   0.53266|                          4.59707|                                     80.04544|                            82.87556000000001|                                               -2.83013|                                                                  4.08134|                                                                 28.4886|                                                               9.47559|                                                                                                   26.02746|                                                                                 17.03463|                                                                                               12.74482|                                                                             2.14756|            847082.0|            3877310.0|           654840.5|                   74.95|                     15.8|             69.098915|             Germany|1.502569659833333...|\n",
            "|      Albania|2013|   27398|12.52| 6.05|  18263.0|            78.61|  31.2|            13.86|   110.1|2013|3.0221572515106128|  2.0800083468234174|  0.2217750201761744|   3.8399897179955085|    0.7737207857143605|3.1740146894749515|       1.6519555653999336|          2896652.0|                         100.76012|                  50.34322|                    49.65678|                                     24.4|                                                                43.76746|                                   56.5479|                                                           31.92632|                                             57.62349|                                      43.51192|                                                           22.187|                                                                          32.75625|                             20.93621706412106|                     -4.42319|         15.93482|               31.39299|                                    30150.00506|                                   10408.57717|                                                        9477.51919|                                  44.77786|                          1.93665|                                     28.73775|                                     46.95741|                                              -18.21966|                                                                 22.42851|                                                                14.64403|                                                               11.7923|                                                                                                   21.35707|                                                                                 14.83022|                                                                                               12.73188|                                                                             2.21599|            565766.0|            1989626.0|           341260.0|                    78.0|       17.024792739160272|              59.43911|              France|1.3797336723333333E9|\n",
            "|United States|2015| 9151125| 12.4|  8.5|2712630.0|69.68328042328044|  37.8|46.88141734808387|    35.0|2015| 5.349984251510612|  2.8895500968234176|  0.3105260201762068|    4.655106467995902|    1.4623770357143242| 3.822228689473085|       1.6940505653994293|        3.2141882E8|                          33.37998|                  49.22839|                    50.77161|                                     26.4|                                                                46.78292|                         56.32357203942141|                                                 33.630012717287485|                                    56.46813517730496|                             69.81097653295124|                                               13.590116221581813|                                                                 17.20227656023223|                                      19.35484|                       1.6746|              5.3|      16.84562045769347|                                       1.7947E7|                                   55775.23535|                                                       46131.18842|                                       1.0|                          0.11898|                                     12.55586|                                     15.50287|                                               -2.94701|                                                        4.902186381260098|                                                       21.72827121163164|                                                      6.68264137318255|                                                                                         25.337933699515332|                                                                       21.559294765751204|                                                                                      16.92388589660742|                                                                    3.04570436187399|         6.1016787E7|         2.12641181E8|        4.7760852E7|        78.2703208241354|        18.77798307475317|              69.76959|                NULL|                NULL|\n",
            "|       Norway|2006|  304282|12.56| 8.85|  41253.0|            80.36|  38.3|             4.02|    15.3|2006|4.7675452515106125|  2.5355068468234174| 0.31976527017620676|    4.903905467995902|    0.8955817857143242|3.5380819394730847|       1.5463735653994293|          4660676.5|                          14.39551|                  49.64697|                    50.35303|                                     28.1|                                                                47.15904|                                  60.24615|                                                           33.17308|                                             44.18773|                                       63.9759|                                                          5.30361|                                                                          15.77082|                                      37.86982|                      3.39847|              3.4|                    8.7|                                   254891.03246|                                   54685.91128|                                                       32203.21898|                                   8.69121|                          2.33122|                                     44.66481|                                     27.72386|                                               16.94095|                                                                  1.57494|                                                                39.48269|                                                    4.9960700000000005|                                                                                                   18.51209|                                                                                 15.89677|                                                                                               17.61105|                                                                             1.92639|            906371.0|            3070272.5|           684033.0|       80.55000000000001|                    19.25|              77.79019|              France|    1.48039444115E10|\n",
            "|       Norway|2010|  304282|12.56| 8.48|  41499.0|             81.0|  38.8|             3.34|    16.1|2010| 4.738409251510612|  2.5136443468234173| 0.32238327017620677|    4.897050967995902|    0.8729805357143242| 3.519533439473085|       1.5475263153994294|          4889252.0|                          15.10152|                  49.98312|                    50.01688|                                     28.1|                                                                47.14506|                                   60.3396|                                                           34.39837|                                             45.42093|                                      62.79343|                                                          4.09543|                                                                          13.13416|                                      39.64497|          -0.5374300000000001|              3.6|                    9.3|                                    287551.2995|                                   58815.97453|                                                       37297.85642|                                    9.0074|                          2.39956|                                     39.81979|                                     28.58979|                                                  11.23|                                                                  1.76245|                                                                33.72383|                                                               5.34117|                                                                                                     18.702|                                                                                 18.06609|                                                                                               20.43953|                                                                             1.96493|            919717.0|            3237077.0|           732458.0|                   81.15|                     19.6|             77.873595|              France|    1.48039444115E10|\n",
            "| Turkmenistan|2011|  469930|19.42|  6.2|  30965.0|             68.5|  25.4|            59.91|    10.6|2011| 4.104542501510612|  2.2097238468234175| 0.22369677017620676|    3.631465467995902|    0.7746247857143242| 3.329377439473085|       1.9053755653994293|2.197927993360785E7|                130.01643725542382|         48.81898257717292|           51.18101638107686|                        26.42824480511091|                                                       45.66159630449234|                         53.23341422897378|                                                 31.176593392587794|                                   54.855416276595754|                             69.38819462788423|                                               13.717378827544385|                                                                16.593507535902546|                                          16.8|           0.8657315173217844|8.457272326634758|     19.477900317714983|                                    58014.35823|                                    11360.5066|                                                19331.301355341184|                                   1.43611|                5.009614380475697|                            51.93302108471135|                            52.24823685943179|                                   -0.31521594712825063|                                                        4.577160153048209|                                                       22.11290677206444|                                                     6.447228701322179|                                                                                         25.414340219475392|                                                                       21.910363623628907|                                                                                      16.59673620738029|                                                                   3.038325116274133|   4366442.677945862| 1.4750948727924893E7|  2877727.558334732|         75.108378485535|       16.551693267018056|     70.05823988193126|              France|2.2859622916666666E8|\n",
            "|       Norway|2004|  304282| 12.4| 8.97|  41202.0|            79.88|  37.8|             4.02|    15.1|2004| 4.915180751510612|  2.5428590968234177| 0.31892852017620676|    4.904251717995902|    0.8989995357143242| 3.542974189473085|       1.5532040653994295|          4591910.0|                          14.18311|                  49.57762|                    50.42238|                                     28.0|                                                                47.35069|                                  59.57558|                                                           29.17661|                                              43.4033|                                      65.62137|                                                          5.40759|                                                                          15.59239|                                      36.36364|                      0.64963|              4.3|                   12.8|                                   198288.82266|                                   43181.36382|                                                        28137.8534|                                    8.9868|                          0.46509|                                     41.11486|                                     27.93414|                                               13.18072|                                                                  1.56237|                                                                 34.7091|                                                               4.72706|                                                                                                   20.01638|                                                                                 17.17503|                                                                                               19.59724|                                                                             2.21283|            909927.0|            3005943.5|           676039.5|                   80.05|                     18.9|             77.599885|              France|    1.48039444115E10|\n",
            "|      Georgia|2000|   69700|11.11| 8.81|  42438.0|            74.04|  35.2|            30.93|    69.1|2000| 3.204122501510612|   2.208580846823417|  0.2118460201761744|   3.6444809679955084|    0.7559250357143605|3.3170281894749514|       1.6493923153999337|          4418300.0|                          63.39024|                  47.17425|                    52.82575|                                     24.2|                                                                46.37977|                                  48.95361|                                                           18.97891|                                              60.4024|                                      88.82175|                                                         10.47745|                                                                          13.21637|                                       7.23404|                      6.03832|             10.3|                   20.0|                                    11444.80447|                                    2590.31856|                                                        2333.64585|                                   0.52802|                          8.14502|                                     22.99463|                                     39.66721|                                              -16.67258|                                                        5.159807774542255|                                                      21.739592556332596|                                                     6.852710510581996|                                                                                          25.19468272861472|                                                                       21.176744623429858|                                                                                      17.07454378612052|                                                                   3.042885231522429|            933950.0|            2929100.0|           555250.0|       76.31444635999381|       17.024792739160272|    57.433395000000004|              France|        3.55167198E8|\n",
            "|   Azerbaijan|2013|   82629|19.65| 6.28|  61205.0|            74.01|  29.4|            13.57|   118.0|2013| 2.914427501510612|  2.1541890968234174|  0.2289412701761744|   3.6362934679955083|    0.7655952857143605| 3.262714939474951|       1.7693635653999338|          9416801.0|                         108.73904|                  49.71084|                    50.28916|                                     23.5|                                                                48.79987|                                  51.52737|                                                           32.98966|                                             60.60029|                                      80.14554|                                                         21.69125|                                                                           8.10878|                                          16.0|                      1.70742|          4.97289|               13.74644|                                   163054.89104|                                   17315.31848|                                                        9036.21421|                                   0.35682|                           2.4238|                                     48.41583|                                     26.26001|                                               22.15582|                                                                  5.74948|                                                                48.69199|                                                              12.43684|                                                                                                   16.20304|                                                                                  6.67612|                                                                                                8.10106|                                                                             2.14146|           2102814.0|            6768032.0|           545955.0|                    74.6|                     15.6|              69.94188|              France| 6.727441508333334E8|\n",
            "|      Armenia|2014|   28203|13.92| 9.31|  28488.0|            74.12|  33.7|            16.42|   108.5|2014| 3.998313001510612|  2.1816790968234177| 0.22090452017620676|    3.639674467995902|    0.7695457857143242|3.3067884394730847|       1.6858595653994293|          3013839.0|                         101.32935|                  47.82349|                    52.17651|                                     24.3|                                                                49.11919|                                  55.35217|                                                           32.38612|                                             55.67167|                                      68.97977|                                                         18.28389|                                                                           3.65598|                                      10.68702|                      -2.6026|             17.6|               37.24958|                                    24274.44148|                                    8054.29649|                                                        7863.65444|                                 198.91812|                          2.98384|                                     28.56514|                                     47.04655|                                              -18.48141|                                                                 19.91286|                                                                 17.6039|                                                              10.24069|                                                                                                   21.27245|                                                                                 16.08993|                                                                                               12.10893|                                                                             2.77124|            579117.0|            2112780.0|           321942.0|                   75.06|                   15.715|              62.17013|              France|1.7494520783333334E8|\n",
            "|  Switzerland|2015|   39997|10.45| 8.16|  67606.0|            82.78|  42.4|             4.51|   207.1|2015| 4.454613001510612|  2.6720320968234175|  0.3232035201762068|    4.331319967995902|    0.8980535357143242|3.5537194394730847|       1.5340113153994293|2.197927993360785E7|                130.01643725542382|         48.81898257717292|           51.18101638107686|                        26.42824480511091|                                                                46.63748|                         53.23341422897378|                                                           35.22358|                                             45.59413|                                      70.14139|                                                          15.0838|                                                                          16.99147|                                          30.5|                      1.54726|              4.5|                    8.6|                                   506220.92225|                                   61120.07658|                                                       39882.86716|                        1.2752400000000002|                         -1.14542|                                     62.90302|                                     51.18932|                                               11.71369|                                                       0.6811100000000001|                                                                 20.0129|                                                               5.50594|                                                                                                   24.61808|                                                                                 20.69464|                                                                                               19.24304|                                                                              9.2443|   4366442.677945862| 1.4750948727924893E7|  2877727.558334732|         75.108378485535|       16.551693267018056|     70.05823988193126|              France|5.506741271316666...|\n",
            "|   Kyrgyzstan|2012|  191801|23.88| 6.93|  38082.0|            69.43|  25.2|            36.38|    28.7|2012| 5.020024001510612|  2.2609033468234174| 0.21082127017620678|   3.6312229679959023|    0.7820367857143242| 3.390294939473085|       1.9296588153994294|          5607511.0|                          28.05158|                  49.40283|                    50.59717|                                     23.4|                                                                41.38603|                                  55.79683|                                                           32.26033|                                             61.44452|                                      58.74256|                                                         18.16512|                                                                4.4019200000000005|                                      23.33333|                      0.38196|          8.42679|               17.56557|                                    16388.17955|                                    2901.47171|                                                        3362.99321|                                  18.94483|                          2.68753|                                      44.4042|                                     95.27174|                                              -50.86754|                                                                 18.51486|                                                                17.52271|                                                               7.22107|                                                                                                   29.82248|                                                                                  8.97253|                                                                                               16.11629|                                                                             1.83006|           1718224.0|            3648904.0|           240383.0|                  70.295|       14.254999999999999|              67.91153|              France|5.2729525333333336E7|\n",
            "|   Kyrgyzstan|2006|  191801|23.34| 7.58|  39507.0|            67.15|  23.8|            44.64|    27.2|2006| 5.850826501510612|   2.271101596823417| 0.20885627017620959|    3.630573467995851|    0.7790177857143148|3.4021249394731035|       1.9474428153994299|          5218373.0|                          26.10492|                  49.34611|                    50.65389|                                     23.6|                                                                42.41082|                                  56.09909|                                                           35.13376|                                             62.08706|                                      74.38276|                                                          18.6362|                                                                           3.25153|                                           0.0|                      0.91599|          8.26696|                   14.6|                                    11578.20985|                                    2240.95541|                                                        2534.81175|                                   9.82882|                          5.56337|                                     41.72061|                                     79.02937|                                              -37.30875|                                                        5.159807774542255|                                                      21.739592556332596|                                                     6.852710510581996|                                                                                          25.19468272861472|                                                                       21.176744623429858|                                                                                      17.07454378612052|                                                                   3.042885231522429|           1609478.5|            3329161.0|           279733.5|                  67.575|                   13.615|              67.62015|              France|5.2729525333333336E7|\n",
            "|     Slovenia|2006|   20151| 9.34| 8.97|  18180.0|            78.17|  40.7|             5.01|   100.6|2006|7.1104935015106125|   2.307545846823418| 0.23645627017620957|   3.8582977179958506|    0.8702362857143149|3.4012766894731037|       1.7422538153994298|          2006867.5|                          99.08989|                  49.04277|                    50.95723|                                     28.0|                                                                46.13503|                                  58.29366|                                                           33.11793|                                             59.25666|                                      63.56784|                                                          8.65922|                                                                          32.33898|                                      12.22222|                      1.57613|              6.0|                   13.9|                                    51916.12579|                                   25856.57584|                                                       18066.02397|                                   0.60782|                          2.45766|                                     64.69542|                                     64.74328|                                               -0.04785|                                                                  2.26612|                                                                27.44766|                                                                7.0504|                                                                                                   23.60878|                                                                                 20.62514|                                                                                               16.19133|                                                                             2.81057|            282150.0|            1408465.0|           316252.5|                   78.25|                     17.9|              70.72391|             Germany| 5.383897370666667E9|\n",
            "|       Poland|2001|  304255| 9.53|  9.4| 363200.0|            74.19|  35.6|             8.89|   127.0|2001| 5.958858001510612|  2.0252740968234173| 0.22658852017620956|   3.8498467179958507|    0.8500232857143148|3.2032184394731034|       1.6694563153994297|        3.8248076E7|                         122.32143|                  48.45015|                    51.54985|                                    24.78|                                                                46.33043|                                  57.89905|                                                           29.78529|                                             62.66359|                                      74.28252|                                                         17.17776|                                                                          11.62493|                                      13.04348|                     -2.21677|             18.3|                   39.2|                                   419477.84091|                                   10966.45423|                                                        9108.46644|                                   1.85939|                          5.49347|                                     27.22985|                                     30.84535|                                                -3.6155|                                                        5.820408973098265|                                                       23.50610570485355|                                                     6.964044842312283|                                                                                         28.171349508674577|                                                                       17.373034337641354|                                                                                     15.507382430287281|                                                                  2.6654938852988694|           7166837.5|          2.6312917E7|          4768321.5|                   74.27|                     15.7|     65.05608000000001|              France|6.430314697266666...|\n",
            "|     Portugal|2014|   91470| 7.86|10.01| 104843.0|            80.56|  41.9|             3.45|   114.5|2014| 4.263950251510613|  2.9207535968234177|  0.3072460201762068|   4.3367544679959025|    0.8175452857143243| 3.778946939473085|       1.5099438153994293|       1.04010615E7|                         113.07714|                  47.50326|                    52.49674|                                     30.0|                                                                48.69489|                        54.952532022381256|                                                           35.14259|                                             59.56067|                                      65.40012|                                                         16.08594|                                                                          32.83697|                                      31.30435|           1.4116300000000002|             14.1|                   34.8|                                   298501.27711|                                    28699.0104|                                                       24252.94548|                        0.5798300000000001|                         -0.27695|                                     40.07434|                                     39.88535|                                                0.18899|                                                                  2.31988|                                                      17.499390000000002|                                                               4.14725|                                                                                                   28.05557|                                                                                 24.99655|                                                                                               20.07779|                                                                             2.90357|           1506047.5|            6807509.0|          2087505.0|                    81.2|                     20.0|             73.193405|               Spain|      2.336506481E10|\n",
            "|     Portugal|2012|   91470| 8.48|10.16| 107612.0|            79.88|  40.9|             3.88|   115.8|2012| 4.363252751510613|  2.9525060968234174|  0.3063397701762068|   4.3358982179959025|    0.8151322857143243| 3.802940689473085|       1.5122473153994294|       1.05148435E7|                         114.31414|                   47.6761|                     52.3239|                                     29.5|                                                                48.13845|                                  53.16846|                                                            35.1776|                                             59.65248|                                      63.83523|                                                         16.47498|                                                                          28.89557|                                      28.69565|                     -4.08815|             15.8|                   37.9|                                   285216.81986|                                   27125.27294|                                                       22999.87906|                        0.5904200000000001|                          2.77204|                                     37.71054|                                     38.21839|                                    -0.5078400000000001|                                                                  2.17947|                                                                 16.9592|                                                               4.86647|                                                                                                     28.116|                                                                                 24.89717|                                                                                               20.03783|                                                                  2.9438500000000003|           1561550.5|            6933167.0|          2020126.0|       80.44999999999999|       19.450000000000003|     73.47109499999999|               Spain|      2.336506481E10|\n",
            "|     Portugal|2009|   91470| 9.35| 9.81| 104434.0|            79.29|  39.7|             4.38|   116.4|2009| 4.463041251510612|  2.9750845968234176|  0.3047662701762068|    4.334566217995902|    0.8147280357143242|3.8199704394730847|       1.5136053153994293|       1.05682465E7|                         114.89472|                  47.92651|                    52.07349|                                     28.6|                                                                 47.7844|                                  53.30073|                                                            31.7794|                                             57.63505|                                      64.79353|                                                         18.62878|                                                                           20.0103|                                      28.26087|                     -2.72513|             10.7|                   20.3|                                   276981.63488|                                   26208.96982|                                                       22573.66102|                                   0.63343|                         -0.83462|                                      27.0807|                                     34.00155|                                               -6.92085|                                                                  2.19214|                                                                16.11823|                                                               6.27809|                                                                                                    26.6732|                                                                                 24.00018|                                                                                               21.94862|                                                                             2.78954|           1624489.0|            7029408.0|          1914349.5|                   79.65|                     19.0|             73.520815|               Spain|      2.336506481E10|\n",
            "|     Bulgaria|2009|  108489|10.92|14.55| 108068.0|            73.08|  40.8|            13.06|    68.5|2009| 4.346840751510612|  2.1346045968234173| 0.22636552017620676|   3.8899689679959026|    0.8153327857143242| 3.263304689473085|       1.6468745653994294|          7444442.5|                          67.07128|                  48.69279|                    51.30721|                                     25.6|                                                                46.66056|                                  55.51542|                                                           32.14126|                                             65.97239|                                      76.94257|                                                         25.50648|                                                                          27.62222|                                      21.66667|                     -1.71313|              6.8|                   16.2|                                    110920.8435|                                   14899.82369|                                                       11876.53496|                                     0.658|                          2.74986|                                     42.33201|                                     50.60909|                                               -8.27708|                                                                  4.88228|                                                                 20.8899|                                                               9.50366|                                                                                                    25.5468|                                                                                 23.22703|                                                                                               13.12441|                                                                             2.82592|            977044.0|            5122139.5|          1345259.0|       73.80000000000001|                     15.5|              67.16907|             Germany|      3.9444242555E9|\n",
            "|      Hungary|2009|   89608| 9.45|13.01| 130399.0|            74.16|  39.7|             5.94|   111.8|2009| 6.578687751510612|  2.1886340968234173|  0.2362232701762096|   3.8583589679958505|    0.8265377857143148|3.3179001894731037|       1.7424393153994298|       1.00226495E7|                         107.73567|                  47.49218|                    52.50782|                                     27.9|                                                                45.81813|                                  56.50623|                                                           36.18746|                                             56.83675|                                      75.24992|                                                         11.81266|                                                                          25.75088|                                       11.1399|                     -2.49351|             10.0|                   26.4|                                    209386.2974|                                   20891.31092|                                                       15794.12938|                                  125.5928|                           4.2097|                                      74.7703|                                     70.71135|                                                4.05894|                                                                  3.50891|                                                                24.76275|                                                               4.87922|                                                                                                   23.25604|                                                                                  22.4534|                                                                                               18.16781|                                                                             2.97187|           1484732.0|            6886037.0|          1651880.5|                   74.35|                     16.1|              60.12818|              France|     2.5733379643E10|\n",
            "+-------------+----+--------+-----+-----+---------+-----------------+------+-----------------+--------+----+------------------+--------------------+--------------------+---------------------+----------------------+------------------+-------------------------+-------------------+----------------------------------+--------------------------+----------------------------+-----------------------------------------+------------------------------------------------------------------------+------------------------------------------+-------------------------------------------------------------------+-----------------------------------------------------+----------------------------------------------+-----------------------------------------------------------------+----------------------------------------------------------------------------------+----------------------------------------------+-----------------------------+-----------------+-----------------------+-----------------------------------------------+----------------------------------------------+------------------------------------------------------------------+------------------------------------------+---------------------------------+---------------------------------------------+---------------------------------------------+-------------------------------------------------------+-------------------------------------------------------------------------+------------------------------------------------------------------------+----------------------------------------------------------------------+-----------------------------------------------------------------------------------------------------------+-----------------------------------------------------------------------------------------+-------------------------------------------------------------------------------------------------------+------------------------------------------------------------------------------------+--------------------+---------------------+-------------------+------------------------+-------------------------+----------------------+--------------------+--------------------+\n",
            "only showing top 20 rows\n",
            "\n"
          ]
        }
      ]
    },
    {
      "cell_type": "markdown",
      "source": [
        "## *Classificació de països per regió*"
      ],
      "metadata": {
        "id": "BC4NqJfxm8hy"
      }
    },
    {
      "cell_type": "markdown",
      "source": [
        "Afegim relació per dividir Europa en 4 zones: Europa del Est, Europa del Sud, Europa Occidental i Europa del Nord.\n",
        "\n",
        "* **Europa del Nord:** Suècia, Finlàndia, Noruega, Dinamarca, Islàndia, Estònia, Letònia, Lituània\n",
        "* **Europa de l'Est:** Polònia, Eslovàquia, República Txeca, Hongria, Romania, Bulgària, Bielorússia, Ucraïna, Moldàvia, Rússia, Albània, Kosovo, Macedònia del Nord, Montenegro, Sèrbia, Bòsnia i Hercegovina\n",
        "* **Europa del Sud:** Itàlia, Espanya, Portugal, Grècia, Turquia, Xipre, Malta, Croàcia, Eslovènia\n",
        "* **Europa Occidental:** Alemanya, França, Bèlgica, Països Baixos, Àustria, Suïssa, Luxemburg, Regne Unit, Irlanda"
      ],
      "metadata": {
        "id": "6V2ebV6znCE6"
      }
    },
    {
      "cell_type": "code",
      "source": [
        "# llista de països per regió (incloent Asia)\n",
        "north_europe = ['Sweden', 'Finland', 'Norway', 'Denmark', 'Iceland', 'Estonia', 'Latvia', 'Lithuania']\n",
        "east_europe = ['Poland', 'Slovakia', 'Hungary', 'Romania', 'Bulgaria', 'Belarus', 'Ukraine', 'Albania', 'Moldova', 'Czech Republic', 'Russia', 'North Macedonia', 'Montenegro', 'Serbia', 'Bosnia and Herzegovina']\n",
        "south_europe = ['Italy', 'Spain', 'Portugal', 'Greece', 'Cyprus', 'Malta', 'Croatia', 'Slovenia']\n",
        "west_europe = ['Germany', 'France', 'Belgium', 'Netherlands', 'Austria', 'Switzerland', 'Luxembourg', 'United Kingdom', 'Ireland']\n",
        "asia = ['Turkey', 'Israel', 'Georgia', 'Azerbaijan', 'Armenia', 'Kazakhstan', 'Uzbekistan', 'Turkmenistan', 'Tajikistan', 'Kyrgyzstan']\n",
        "\n",
        "# funció que assigna a cada país una regió\n",
        "def assign_region(country):\n",
        "    if country in north_europe:\n",
        "        return 'Europe North'\n",
        "    elif country in east_europe:\n",
        "        return 'Europe East'\n",
        "    elif country in south_europe:\n",
        "        return 'Europe South'\n",
        "    elif country in west_europe:\n",
        "        return 'Europe West'\n",
        "    elif country in asia:\n",
        "        return 'Asia'\n",
        "    else:\n",
        "        return 'Other'\n",
        "\n",
        "region_udf = udf(assign_region, StringType())\n",
        "\n",
        "# Creem una nova columna per posar la regió\n",
        "df_final = df_final.withColumn('Region', region_udf(df_final['Country']))"
      ],
      "metadata": {
        "id": "VfoejF_3nSV2"
      },
      "execution_count": null,
      "outputs": []
    },
    {
      "cell_type": "markdown",
      "source": [
        "## *Pertanença a UE*\n",
        "Afegim relació per distingir els que pertanyen a la Unió Europea i els que no."
      ],
      "metadata": {
        "id": "07mi5iBgnsyV"
      }
    },
    {
      "cell_type": "code",
      "source": [
        "eu_countries = [\n",
        "    'Austria', 'Belgium', 'Bulgaria', 'Croatia', 'Cyprus', 'Czech Republic', 'Denmark',\n",
        "    'Estonia', 'Finland', 'France', 'Germany', 'Greece', 'Hungary', 'Ireland', 'Italy',\n",
        "    'Latvia', 'Lithuania', 'Luxembourg', 'Malta', 'Netherlands', 'Poland', 'Portugal',\n",
        "    'Romania', 'Slovakia', 'Slovenia', 'Spain', 'Sweden'\n",
        "]\n",
        "\n",
        "# Funció per determinar si pertanyen a UE\n",
        "def is_eu_member(country):\n",
        "    return 'EU Member' if country in eu_countries else 'Non-EU Member'\n",
        "\n",
        "# UDF per aplicar la funció a Spark\n",
        "eu_member_udf = udf(is_eu_member, StringType())\n",
        "\n",
        "df_final = df_final.withColumn('EU Membership', eu_member_udf(df_final['Country']))\n",
        "\n"
      ],
      "metadata": {
        "id": "YGPeNSmwnxgF"
      },
      "execution_count": null,
      "outputs": []
    },
    {
      "cell_type": "markdown",
      "source": [
        "## *Pertanença a OTAN*\n",
        "L'OTAN, Organització del Tractat de l'Atlàntic Nord, és una aliança militar internacional establerta el 1949 en el context de la Guerra Freda com una resposta a la influència i l'amenaça de l'expansió comunista liderada per l'URSS. Decidim separar-ho per establir un grup de països.\n"
      ],
      "metadata": {
        "id": "9RgrDYCgoIoe"
      }
    },
    {
      "cell_type": "code",
      "source": [
        "# Llista de països de l'OTAN\n",
        "nato_countries = [\n",
        "    'Albania', 'Belgium', 'Bulgaria', 'Canada', 'Croatia', 'Czech Republic', 'Denmark',\n",
        "    'Estonia', 'France', 'Germany', 'Greece', 'Hungary', 'Iceland', 'Italy', 'Latvia',\n",
        "    'Lithuania', 'Luxembourg', 'Montenegro', 'Netherlands', 'North Macedonia', 'Norway',\n",
        "    'Poland', 'Portugal', 'Romania', 'Slovakia', 'Slovenia', 'Spain', 'Turkey', 'United Kingdom', 'United States'\n",
        "]\n",
        "\n",
        "# Funció que determina si pertany a l'OTAN\n",
        "def is_nato_member(country):\n",
        "    return 'NATO Member' if country in nato_countries else 'Non-NATO Member'\n",
        "\n",
        "# UDF per aplicar la funció a Spark\n",
        "nato_member_udf = udf(is_nato_member, StringType())\n",
        "\n",
        "df_final = df_final.withColumn('NATO Membership', nato_member_udf(df_final['Country']))"
      ],
      "metadata": {
        "id": "fJmmj4aMozv7"
      },
      "execution_count": null,
      "outputs": []
    },
    {
      "cell_type": "markdown",
      "source": [
        "## *Països que fan frontera*"
      ],
      "metadata": {
        "id": "DFjHGc-6pIiq"
      }
    },
    {
      "cell_type": "code",
      "source": [
        "fronteres = spark.read.option(\"header\", \"true\").csv('/content/betterlifebetterhealth/data/csv/GEODATASOURCE-COUNTRY-BORDERS.CSV')"
      ],
      "metadata": {
        "id": "rbdZvhNPw9Oi"
      },
      "execution_count": null,
      "outputs": []
    },
    {
      "cell_type": "code",
      "source": [
        "borders_grouped = fronteres.groupBy(\"country_name\").agg(collect_list(\"country_border_name\").alias(\"border_countries\"))"
      ],
      "metadata": {
        "id": "pwvE1VBQyGPI"
      },
      "execution_count": null,
      "outputs": []
    },
    {
      "cell_type": "code",
      "source": [
        "df_final = df_final.join(borders_grouped, df_final['Country'] == borders_grouped['country_name'], 'left')"
      ],
      "metadata": {
        "id": "G9zeuwyOza18"
      },
      "execution_count": null,
      "outputs": []
    },
    {
      "cell_type": "code",
      "source": [
        "df_final = df_final.drop(\"country_name\")"
      ],
      "metadata": {
        "id": "L5gPNxKg0ogr"
      },
      "execution_count": null,
      "outputs": []
    },
    {
      "cell_type": "code",
      "source": [
        "df_final = df_final.withColumn(\"border_countries\", to_json(col(\"border_countries\")))"
      ],
      "metadata": {
        "id": "i08HTT2xG7rW"
      },
      "execution_count": null,
      "outputs": []
    },
    {
      "cell_type": "code",
      "source": [
        "df_final.columns"
      ],
      "metadata": {
        "colab": {
          "base_uri": "https://localhost:8080/"
        },
        "id": "EXFd82XsV2S8",
        "outputId": "dc18fa18-21ac-4925-e399-82a034ae9676"
      },
      "execution_count": null,
      "outputs": [
        {
          "output_type": "execute_result",
          "data": {
            "text/plain": [
              "['Country',\n",
              " 'Year',\n",
              " 'Area_Km2',\n",
              " 'CBR',\n",
              " 'CDR',\n",
              " 'Deaths',\n",
              " 'E0',\n",
              " 'Medage',\n",
              " 'MR0_4',\n",
              " 'Pop_Dens',\n",
              " 'GSCA',\n",
              " 'Schizophrenia (%)',\n",
              " 'Bipolar disorder (%)',\n",
              " 'Eating disorders (%)',\n",
              " 'Anxiety disorders (%)',\n",
              " 'Drug use disorders (%)',\n",
              " 'Depression (%)',\n",
              " 'Alcohol use disorders (%)',\n",
              " 'Total population',\n",
              " 'Population density, pers per sq km',\n",
              " 'Total population, male (%)',\n",
              " 'Total population, female (%)',\n",
              " 'Mean age of women at birth of first child',\n",
              " 'Women in the Labour Force, Percent of corresponding total for both sexes',\n",
              " 'Female tertiary students, percent of total',\n",
              " 'Female legislators, senior officials and managers, percent of total',\n",
              " 'Female professionals, percent of total for both sexes',\n",
              " 'Female clerks, percent of total for both sexes',\n",
              " 'Female craft and related workers, percent of total for both sexes',\n",
              " 'Female plant and machine operators and assemblers, percent of total for both sexes',\n",
              " 'Female members of parliament, percent of total',\n",
              " 'Total employment, growth rate',\n",
              " 'Unemployment rate',\n",
              " 'Youth unemployment rate',\n",
              " 'GDP at current prices and PPPs, millions of US$',\n",
              " 'GDP per capita at current prices and PPPs, US$',\n",
              " 'Final consumption expenditure per capita, US Dollars, current PPPs',\n",
              " 'Purchasing power parity (PPP), NCU per US$',\n",
              " 'Consumer price index, growth rate',\n",
              " 'Export of goods and services, per cent of GDP',\n",
              " 'Import of goods and services, per cent of GDP',\n",
              " 'External balance on goods and services, per cent of GDP',\n",
              " 'GDP: in agriculture etc (ISIC4 A), output approach, per cent share of GVA',\n",
              " 'GDP: in industry etc (ISIC4 B-E), output approach, per cent share of GVA',\n",
              " 'GDP: in construction (ISIC4 F), output approach, per cent share of GVA',\n",
              " 'GDP: in trade, hospitality, transport and communication (ISIC4 G-J), output approach, per cent share of GVA',\n",
              " 'GDP: in finance and business services (ISIC4 K-N), output approach, per cent share of GVA',\n",
              " 'GDP: in public administration, education and health (ISIC4 O-Q), output approach, per cent share of GVA',\n",
              " 'GDP: in other service activities (ISIC4 R-U), output approach, per cent share of GVA',\n",
              " 'Population aged 0-14',\n",
              " 'Population aged 15-64',\n",
              " 'Population aged 64+',\n",
              " 'Life expectancy at birth',\n",
              " 'Life expectancy at age 65',\n",
              " 'Economic activity rate',\n",
              " 'Exportacions',\n",
              " 'Pais_exportat',\n",
              " 'Region',\n",
              " 'EU Membership',\n",
              " 'NATO Membership',\n",
              " 'border_countries']"
            ]
          },
          "metadata": {},
          "execution_count": 127
        }
      ]
    },
    {
      "cell_type": "code",
      "source": [
        "df_final.show()"
      ],
      "metadata": {
        "colab": {
          "base_uri": "https://localhost:8080/"
        },
        "id": "0zw9DpqfXXd7",
        "outputId": "f61d0ae6-ed0e-4141-ba29-be9c89dbf5e0"
      },
      "execution_count": null,
      "outputs": [
        {
          "output_type": "stream",
          "name": "stdout",
          "text": [
            "+-------------+----+--------+-----+-----+---------+-----------------+------+-----------------+--------+----+------------------+--------------------+--------------------+---------------------+----------------------+------------------+-------------------------+-------------------+----------------------------------+--------------------------+----------------------------+-----------------------------------------+------------------------------------------------------------------------+------------------------------------------+-------------------------------------------------------------------+-----------------------------------------------------+----------------------------------------------+-----------------------------------------------------------------+----------------------------------------------------------------------------------+----------------------------------------------+-----------------------------+-----------------+-----------------------+-----------------------------------------------+----------------------------------------------+------------------------------------------------------------------+------------------------------------------+---------------------------------+---------------------------------------------+---------------------------------------------+-------------------------------------------------------+-------------------------------------------------------------------------+------------------------------------------------------------------------+----------------------------------------------------------------------+-----------------------------------------------------------------------------------------------------------+-----------------------------------------------------------------------------------------+-------------------------------------------------------------------------------------------------------+------------------------------------------------------------------------------------+--------------------+---------------------+-------------------+------------------------+-------------------------+----------------------+--------------------+-------------+------------+-------------+---------------+--------------------+\n",
            "|      Country|Year|Area_Km2|  CBR|  CDR|   Deaths|               E0|Medage|            MR0_4|Pop_Dens|GSCA| Schizophrenia (%)|Bipolar disorder (%)|Eating disorders (%)|Anxiety disorders (%)|Drug use disorders (%)|    Depression (%)|Alcohol use disorders (%)|   Total population|Population density, pers per sq km|Total population, male (%)|Total population, female (%)|Mean age of women at birth of first child|Women in the Labour Force, Percent of corresponding total for both sexes|Female tertiary students, percent of total|Female legislators, senior officials and managers, percent of total|Female professionals, percent of total for both sexes|Female clerks, percent of total for both sexes|Female craft and related workers, percent of total for both sexes|Female plant and machine operators and assemblers, percent of total for both sexes|Female members of parliament, percent of total|Total employment, growth rate|Unemployment rate|Youth unemployment rate|GDP at current prices and PPPs, millions of US$|GDP per capita at current prices and PPPs, US$|Final consumption expenditure per capita, US Dollars, current PPPs|Purchasing power parity (PPP), NCU per US$|Consumer price index, growth rate|Export of goods and services, per cent of GDP|Import of goods and services, per cent of GDP|External balance on goods and services, per cent of GDP|GDP: in agriculture etc (ISIC4 A), output approach, per cent share of GVA|GDP: in industry etc (ISIC4 B-E), output approach, per cent share of GVA|GDP: in construction (ISIC4 F), output approach, per cent share of GVA|GDP: in trade, hospitality, transport and communication (ISIC4 G-J), output approach, per cent share of GVA|GDP: in finance and business services (ISIC4 K-N), output approach, per cent share of GVA|GDP: in public administration, education and health (ISIC4 O-Q), output approach, per cent share of GVA|GDP: in other service activities (ISIC4 R-U), output approach, per cent share of GVA|Population aged 0-14|Population aged 15-64|Population aged 64+|Life expectancy at birth|Life expectancy at age 65|Economic activity rate|        Exportacions|Pais_exportat|      Region|EU Membership|NATO Membership|    border_countries|\n",
            "+-------------+----+--------+-----+-----+---------+-----------------+------+-----------------+--------+----+------------------+--------------------+--------------------+---------------------+----------------------+------------------+-------------------------+-------------------+----------------------------------+--------------------------+----------------------------+-----------------------------------------+------------------------------------------------------------------------+------------------------------------------+-------------------------------------------------------------------+-----------------------------------------------------+----------------------------------------------+-----------------------------------------------------------------+----------------------------------------------------------------------------------+----------------------------------------------+-----------------------------+-----------------+-----------------------+-----------------------------------------------+----------------------------------------------+------------------------------------------------------------------+------------------------------------------+---------------------------------+---------------------------------------------+---------------------------------------------+-------------------------------------------------------+-------------------------------------------------------------------------+------------------------------------------------------------------------+----------------------------------------------------------------------+-----------------------------------------------------------------------------------------------------------+-----------------------------------------------------------------------------------------+-------------------------------------------------------------------------------------------------------+------------------------------------------------------------------------------------+--------------------+---------------------+-------------------+------------------------+-------------------------+----------------------+--------------------+-------------+------------+-------------+---------------+--------------------+\n",
            "|     Slovakia|2008|   48105|10.59| 9.82|  53164.0|            74.88|  36.8|             7.52|   112.6|2008| 4.714201251510612|  2.1130370968234176| 0.23287752017620678|   3.8549102179959025|    0.8229947857143243| 3.234182689473085|       1.7864253153994294|          5379232.5|                         109.75338|                  48.63171|                    51.36829|                                     26.6|                                                                44.66796|                                  60.46928|                                                           29.64899|                                             58.10213|                                       70.0611|                                                          13.4427|                                                                          24.73542|                                      19.33333|                      3.22329|              9.6|                   19.0|                                   128585.05302|                                   23786.23439|                                                       17642.69467|                                   0.53266|                          4.59707|                                     80.04544|                            82.87556000000001|                                               -2.83013|                                                                  4.08134|                                                                 28.4886|                                                               9.47559|                                                                                                   26.02746|                                                                                 17.03463|                                                                                               12.74482|                                                                             2.14756|            847082.0|            3877310.0|           654840.5|                   74.95|                     15.8|             69.098915| 5.582478628251699E8|       France| Europe East|    EU Member|    NATO Member|[\"Austria\",\"Czech...|\n",
            "|      Albania|2013|   27398|12.52| 6.05|  18263.0|            78.61|  31.2|            13.86|   110.1|2013|3.0221572515106128|  2.0800083468234174|  0.2217750201761744|   3.8399897179955085|    0.7737207857143605|3.1740146894749515|       1.6519555653999336|          2896652.0|                         100.76012|                  50.34322|                    49.65678|                                     24.4|                                                                43.76746|                                   56.5479|                                                           31.92632|                                             57.62349|                                      43.51192|                                                           22.187|                                                                          32.75625|                             20.93621706412106|                     -4.42319|         15.93482|               31.39299|                                    30150.00506|                                   10408.57717|                                                        9477.51919|                                  44.77786|                          1.93665|                                     28.73775|                                     46.95741|                                              -18.21966|                                                                 22.42851|                                                                14.64403|                                                               11.7923|                                                                                                   21.35707|                                                                                 14.83022|                                                                                               12.73188|                                                                             2.21599|            565766.0|            1989626.0|           341260.0|                    78.0|       17.024792739160272|              59.43911|1.1161163702380948E8|       France| Europe East|Non-EU Member|    NATO Member|[\"Greece\",\"Monten...|\n",
            "|United States|2015| 9151125| 12.4|  8.5|2712630.0|69.68328042328044|  37.8|46.88141734808387|    35.0|2015| 5.349984251510612|  2.8895500968234176|  0.3105260201762068|    4.655106467995902|    1.4623770357143242| 3.822228689473085|       1.6940505653994293|        3.2141882E8|                          33.37998|                  49.22839|                    50.77161|                                     26.4|                                                                46.78292|                         56.32357203942141|                                                 33.630012717287485|                                    56.46813517730496|                             69.81097653295124|                                               13.590116221581813|                                                                 17.20227656023223|                                      19.35484|                       1.6746|              5.3|      16.84562045769347|                                       1.7947E7|                                   55775.23535|                                                       46131.18842|                                       1.0|                          0.11898|                                     12.55586|                                     15.50287|                                               -2.94701|                                                        4.902186381260098|                                                       21.72827121163164|                                                      6.68264137318255|                                                                                         25.337933699515332|                                                                       21.559294765751204|                                                                                      16.92388589660742|                                                                    3.04570436187399|         6.1016787E7|         2.12641181E8|        4.7760852E7|        78.2703208241354|        18.77798307475317|              69.76959|                NULL|         NULL|       Other|Non-EU Member|    NATO Member|                NULL|\n",
            "|       Norway|2006|  304282|12.56| 8.85|  41253.0|            80.36|  38.3|             4.02|    15.3|2006|4.7675452515106125|  2.5355068468234174| 0.31976527017620676|    4.903905467995902|    0.8955817857143242|3.5380819394730847|       1.5463735653994293|          4660676.5|                          14.39551|                  49.64697|                    50.35303|                                     28.1|                                                                47.15904|                                  60.24615|                                                           33.17308|                                             44.18773|                                       63.9759|                                                          5.30361|                                                                          15.77082|                                      37.86982|                      3.39847|              3.4|                    8.7|                                   254891.03246|                                   54685.91128|                                                       32203.21898|                                   8.69121|                          2.33122|                                     44.66481|                                     27.72386|                                               16.94095|                                                                  1.57494|                                                                39.48269|                                                    4.9960700000000005|                                                                                                   18.51209|                                                                                 15.89677|                                                                                               17.61105|                                                                             1.92639|            906371.0|            3070272.5|           684033.0|       80.55000000000001|                    19.25|              77.79019|1.8669321259226196E9|       France|Europe North|Non-EU Member|    NATO Member|[\"Finland\",\"Russi...|\n",
            "|       Norway|2010|  304282|12.56| 8.48|  41499.0|             81.0|  38.8|             3.34|    16.1|2010| 4.738409251510612|  2.5136443468234173| 0.32238327017620677|    4.897050967995902|    0.8729805357143242| 3.519533439473085|       1.5475263153994294|          4889252.0|                          15.10152|                  49.98312|                    50.01688|                                     28.1|                                                                47.14506|                                   60.3396|                                                           34.39837|                                             45.42093|                                      62.79343|                                                          4.09543|                                                                          13.13416|                                      39.64497|          -0.5374300000000001|              3.6|                    9.3|                                    287551.2995|                                   58815.97453|                                                       37297.85642|                                    9.0074|                          2.39956|                                     39.81979|                                     28.58979|                                                  11.23|                                                                  1.76245|                                                                33.72383|                                                               5.34117|                                                                                                     18.702|                                                                                 18.06609|                                                                                               20.43953|                                                                             1.96493|            919717.0|            3237077.0|           732458.0|                   81.15|                     19.6|             77.873595|1.8669321259226196E9|       France|Europe North|Non-EU Member|    NATO Member|[\"Finland\",\"Russi...|\n",
            "| Turkmenistan|2011|  469930|19.42|  6.2|  30965.0|             68.5|  25.4|            59.91|    10.6|2011| 4.104542501510612|  2.2097238468234175| 0.22369677017620676|    3.631465467995902|    0.7746247857143242| 3.329377439473085|       1.9053755653994293|2.197927993360785E7|                130.01643725542382|         48.81898257717292|           51.18101638107686|                        26.42824480511091|                                                       45.66159630449234|                         53.23341422897378|                                                 31.176593392587794|                                   54.855416276595754|                             69.38819462788423|                                               13.717378827544385|                                                                16.593507535902546|                                          16.8|           0.8657315173217844|8.457272326634758|     19.477900317714983|                                    58014.35823|                                    11360.5066|                                                19331.301355341184|                                   1.43611|                5.009614380475697|                            51.93302108471135|                            52.24823685943179|                                   -0.31521594712825063|                                                        4.577160153048209|                                                       22.11290677206444|                                                     6.447228701322179|                                                                                         25.414340219475392|                                                                       21.910363623628907|                                                                                      16.59673620738029|                                                                   3.038325116274133|   4366442.677945862| 1.4750948727924893E7|  2877727.558334732|         75.108378485535|       16.551693267018056|     70.05823988193126| 2.643760047619048E7|       France|        Asia|Non-EU Member|Non-NATO Member|[\"Afghanistan\",\"I...|\n",
            "|       Norway|2004|  304282| 12.4| 8.97|  41202.0|            79.88|  37.8|             4.02|    15.1|2004| 4.915180751510612|  2.5428590968234177| 0.31892852017620676|    4.904251717995902|    0.8989995357143242| 3.542974189473085|       1.5532040653994295|          4591910.0|                          14.18311|                  49.57762|                    50.42238|                                     28.0|                                                                47.35069|                                  59.57558|                                                           29.17661|                                              43.4033|                                      65.62137|                                                          5.40759|                                                                          15.59239|                                      36.36364|                      0.64963|              4.3|                   12.8|                                   198288.82266|                                   43181.36382|                                                        28137.8534|                                    8.9868|                          0.46509|                                     41.11486|                                     27.93414|                                               13.18072|                                                                  1.56237|                                                                 34.7091|                                                               4.72706|                                                                                                   20.01638|                                                                                 17.17503|                                                                                               19.59724|                                                                             2.21283|            909927.0|            3005943.5|           676039.5|                   80.05|                     18.9|             77.599885|1.8669321259226196E9|       France|Europe North|Non-EU Member|    NATO Member|[\"Finland\",\"Russi...|\n",
            "|      Georgia|2000|   69700|11.11| 8.81|  42438.0|            74.04|  35.2|            30.93|    69.1|2000| 3.204122501510612|   2.208580846823417|  0.2118460201761744|   3.6444809679955084|    0.7559250357143605|3.3170281894749514|       1.6493923153999337|          4418300.0|                          63.39024|                  47.17425|                    52.82575|                                     24.2|                                                                46.37977|                                  48.95361|                                                           18.97891|                                              60.4024|                                      88.82175|                                                         10.47745|                                                                          13.21637|                                       7.23404|                      6.03832|             10.3|                   20.0|                                    11444.80447|                                    2590.31856|                                                        2333.64585|                                   0.52802|                          8.14502|                                     22.99463|                                     39.66721|                                              -16.67258|                                                        5.159807774542255|                                                      21.739592556332596|                                                     6.852710510581996|                                                                                          25.19468272861472|                                                                       21.176744623429858|                                                                                      17.07454378612052|                                                                   3.042885231522429|            933950.0|            2929100.0|           555250.0|       76.31444635999381|       17.024792739160272|    57.433395000000004| 7.039459557738094E7|       France|        Asia|Non-EU Member|Non-NATO Member|[\"Armenia\",\"Azerb...|\n",
            "|   Azerbaijan|2013|   82629|19.65| 6.28|  61205.0|            74.01|  29.4|            13.57|   118.0|2013| 2.914427501510612|  2.1541890968234174|  0.2289412701761744|   3.6362934679955083|    0.7655952857143605| 3.262714939474951|       1.7693635653999338|          9416801.0|                         108.73904|                  49.71084|                    50.28916|                                     23.5|                                                                48.79987|                                  51.52737|                                                           32.98966|                                             60.60029|                                      80.14554|                                                         21.69125|                                                                           8.10878|                                          16.0|                      1.70742|          4.97289|               13.74644|                                   163054.89104|                                   17315.31848|                                                        9036.21421|                                   0.35682|                           2.4238|                                     48.41583|                                     26.26001|                                               22.15582|                                                                  5.74948|                                                                48.69199|                                                              12.43684|                                                                                                   16.20304|                                                                                  6.67612|                                                                                                8.10106|                                                                             2.14146|           2102814.0|            6768032.0|           545955.0|                    74.6|                     15.6|              69.94188| 7.915085423214284E7|       France|        Asia|Non-EU Member|Non-NATO Member|[\"Armenia\",\"Georg...|\n",
            "|      Armenia|2014|   28203|13.92| 9.31|  28488.0|            74.12|  33.7|            16.42|   108.5|2014| 3.998313001510612|  2.1816790968234177| 0.22090452017620676|    3.639674467995902|    0.7695457857143242|3.3067884394730847|       1.6858595653994293|          3013839.0|                         101.32935|                  47.82349|                    52.17651|                                     24.3|                                                                49.11919|                                  55.35217|                                                           32.38612|                                             55.67167|                                      68.97977|                                                         18.28389|                                                                           3.65598|                                      10.68702|                      -2.6026|             17.6|               37.24958|                                    24274.44148|                                    8054.29649|                                                        7863.65444|                                 198.91812|                          2.98384|                                     28.56514|                                     47.04655|                                              -18.48141|                                                                 19.91286|                                                                 17.6039|                                                              10.24069|                                                                                                   21.27245|                                                                                 16.08993|                                                                                               12.10893|                                                                             2.77124|            579117.0|            2112780.0|           321942.0|                   75.06|                   15.715|              62.17013|2.6510395130952384E7|       France|        Asia|Non-EU Member|Non-NATO Member|[\"Azerbaijan\",\"Ge...|\n",
            "|  Switzerland|2015|   39997|10.45| 8.16|  67606.0|            82.78|  42.4|             4.51|   207.1|2015| 4.454613001510612|  2.6720320968234175|  0.3232035201762068|    4.331319967995902|    0.8980535357143242|3.5537194394730847|       1.5340113153994293|2.197927993360785E7|                130.01643725542382|         48.81898257717292|           51.18101638107686|                        26.42824480511091|                                                                46.63748|                         53.23341422897378|                                                           35.22358|                                             45.59413|                                      70.14139|                                                          15.0838|                                                                          16.99147|                                          30.5|                      1.54726|              4.5|                    8.6|                                   506220.92225|                                   61120.07658|                                                       39882.86716|                        1.2752400000000002|                         -1.14542|                                     62.90302|                                     51.18932|                                               11.71369|                                                       0.6811100000000001|                                                                 20.0129|                                                               5.50594|                                                                                                   24.61808|                                                                                 20.69464|                                                                                               19.24304|                                                                              9.2443|   4366442.677945862| 1.4750948727924893E7|  2877727.558334732|         75.108378485535|       16.551693267018056|     70.05823988193126| 5.399972366910715E9|       France| Europe West|Non-EU Member|Non-NATO Member|[\"Austria\",\"Franc...|\n",
            "|   Kyrgyzstan|2012|  191801|23.88| 6.93|  38082.0|            69.43|  25.2|            36.38|    28.7|2012| 5.020024001510612|  2.2609033468234174| 0.21082127017620678|   3.6312229679959023|    0.7820367857143242| 3.390294939473085|       1.9296588153994294|          5607511.0|                          28.05158|                  49.40283|                    50.59717|                                     23.4|                                                                41.38603|                                  55.79683|                                                           32.26033|                                             61.44452|                                      58.74256|                                                         18.16512|                                                                4.4019200000000005|                                      23.33333|                      0.38196|          8.42679|               17.56557|                                    16388.17955|                                    2901.47171|                                                        3362.99321|                                  18.94483|                          2.68753|                                      44.4042|                                     95.27174|                                              -50.86754|                                                                 18.51486|                                                                17.52271|                                                               7.22107|                                                                                                   29.82248|                                                                                  8.97253|                                                                                               16.11629|                                                                             1.83006|           1718224.0|            3648904.0|           240383.0|                  70.295|       14.254999999999999|              67.91153|   9808279.791666668|       France|        Asia|Non-EU Member|Non-NATO Member|[\"China\",\"Kazakhs...|\n",
            "|   Kyrgyzstan|2006|  191801|23.34| 7.58|  39507.0|            67.15|  23.8|            44.64|    27.2|2006| 5.850826501510612|   2.271101596823417| 0.20885627017620959|    3.630573467995851|    0.7790177857143148|3.4021249394731035|       1.9474428153994299|          5218373.0|                          26.10492|                  49.34611|                    50.65389|                                     23.6|                                                                42.41082|                                  56.09909|                                                           35.13376|                                             62.08706|                                      74.38276|                                                          18.6362|                                                                           3.25153|                                           0.0|                      0.91599|          8.26696|                   14.6|                                    11578.20985|                                    2240.95541|                                                        2534.81175|                                   9.82882|                          5.56337|                                     41.72061|                                     79.02937|                                              -37.30875|                                                        5.159807774542255|                                                      21.739592556332596|                                                     6.852710510581996|                                                                                          25.19468272861472|                                                                       21.176744623429858|                                                                                      17.07454378612052|                                                                   3.042885231522429|           1609478.5|            3329161.0|           279733.5|                  67.575|                   13.615|              67.62015|   9808279.791666668|       France|        Asia|Non-EU Member|Non-NATO Member|[\"China\",\"Kazakhs...|\n",
            "|     Slovenia|2006|   20151| 9.34| 8.97|  18180.0|            78.17|  40.7|             5.01|   100.6|2006|7.1104935015106125|   2.307545846823418| 0.23645627017620957|   3.8582977179958506|    0.8702362857143149|3.4012766894731037|       1.7422538153994298|          2006867.5|                          99.08989|                  49.04277|                    50.95723|                                     28.0|                                                                46.13503|                                  58.29366|                                                           33.11793|                                             59.25666|                                      63.56784|                                                          8.65922|                                                                          32.33898|                                      12.22222|                      1.57613|              6.0|                   13.9|                                    51916.12579|                                   25856.57584|                                                       18066.02397|                                   0.60782|                          2.45766|                                     64.69542|                                     64.74328|                                               -0.04785|                                                                  2.26612|                                                                27.44766|                                                                7.0504|                                                                                                   23.60878|                                                                                 20.62514|                                                                                               16.19133|                                                                             2.81057|            282150.0|            1408465.0|           316252.5|                   78.25|                     17.9|              70.72391|2.4553590698975417E8|       France|Europe South|    EU Member|    NATO Member|[\"Austria\",\"Croat...|\n",
            "|       Poland|2001|  304255| 9.53|  9.4| 363200.0|            74.19|  35.6|             8.89|   127.0|2001| 5.958858001510612|  2.0252740968234173| 0.22658852017620956|   3.8498467179958507|    0.8500232857143148|3.2032184394731034|       1.6694563153994297|        3.8248076E7|                         122.32143|                  48.45015|                    51.54985|                                    24.78|                                                                46.33043|                                  57.89905|                                                           29.78529|                                             62.66359|                                      74.28252|                                                         17.17776|                                                                          11.62493|                                      13.04348|                     -2.21677|             18.3|                   39.2|                                   419477.84091|                                   10966.45423|                                                        9108.46644|                                   1.85939|                          5.49347|                                     27.22985|                                     30.84535|                                                -3.6155|                                                        5.820408973098265|                                                       23.50610570485355|                                                     6.964044842312283|                                                                                         28.171349508674577|                                                                       17.373034337641354|                                                                                     15.507382430287281|                                                                  2.6654938852988694|           7166837.5|          2.6312917E7|          4768321.5|                   74.27|                     15.7|     65.05608000000001|1.4929723821096494E9|       France| Europe East|    EU Member|    NATO Member|[\"Belarus\",\"Czech...|\n",
            "|     Portugal|2014|   91470| 7.86|10.01| 104843.0|            80.56|  41.9|             3.45|   114.5|2014| 4.263950251510613|  2.9207535968234177|  0.3072460201762068|   4.3367544679959025|    0.8175452857143243| 3.778946939473085|       1.5099438153994293|       1.04010615E7|                         113.07714|                  47.50326|                    52.49674|                                     30.0|                                                                48.69489|                        54.952532022381256|                                                           35.14259|                                             59.56067|                                      65.40012|                                                         16.08594|                                                                          32.83697|                                      31.30435|           1.4116300000000002|             14.1|                   34.8|                                   298501.27711|                                    28699.0104|                                                       24252.94548|                        0.5798300000000001|                         -0.27695|                                     40.07434|                                     39.88535|                                                0.18899|                                                                  2.31988|                                                      17.499390000000002|                                                               4.14725|                                                                                                   28.05557|                                                                                 24.99655|                                                                                               20.07779|                                                                             2.90357|           1506047.5|            6807509.0|          2087505.0|                    81.2|                     20.0|             73.193405|5.0267792747486746E8|       France|Europe South|    EU Member|    NATO Member|           [\"Spain\"]|\n",
            "|     Portugal|2012|   91470| 8.48|10.16| 107612.0|            79.88|  40.9|             3.88|   115.8|2012| 4.363252751510613|  2.9525060968234174|  0.3063397701762068|   4.3358982179959025|    0.8151322857143243| 3.802940689473085|       1.5122473153994294|       1.05148435E7|                         114.31414|                   47.6761|                     52.3239|                                     29.5|                                                                48.13845|                                  53.16846|                                                            35.1776|                                             59.65248|                                      63.83523|                                                         16.47498|                                                                          28.89557|                                      28.69565|                     -4.08815|             15.8|                   37.9|                                   285216.81986|                                   27125.27294|                                                       22999.87906|                        0.5904200000000001|                          2.77204|                                     37.71054|                                     38.21839|                                    -0.5078400000000001|                                                                  2.17947|                                                                 16.9592|                                                               4.86647|                                                                                                     28.116|                                                                                 24.89717|                                                                                               20.03783|                                                                  2.9438500000000003|           1561550.5|            6933167.0|          2020126.0|       80.44999999999999|       19.450000000000003|     73.47109499999999|5.0267792747486746E8|       France|Europe South|    EU Member|    NATO Member|           [\"Spain\"]|\n",
            "|     Portugal|2009|   91470| 9.35| 9.81| 104434.0|            79.29|  39.7|             4.38|   116.4|2009| 4.463041251510612|  2.9750845968234176|  0.3047662701762068|    4.334566217995902|    0.8147280357143242|3.8199704394730847|       1.5136053153994293|       1.05682465E7|                         114.89472|                  47.92651|                    52.07349|                                     28.6|                                                                 47.7844|                                  53.30073|                                                            31.7794|                                             57.63505|                                      64.79353|                                                         18.62878|                                                                           20.0103|                                      28.26087|                     -2.72513|             10.7|                   20.3|                                   276981.63488|                                   26208.96982|                                                       22573.66102|                                   0.63343|                         -0.83462|                                      27.0807|                                     34.00155|                                               -6.92085|                                                                  2.19214|                                                                16.11823|                                                               6.27809|                                                                                                    26.6732|                                                                                 24.00018|                                                                                               21.94862|                                                                             2.78954|           1624489.0|            7029408.0|          1914349.5|                   79.65|                     19.0|             73.520815|5.0267792747486746E8|       France|Europe South|    EU Member|    NATO Member|           [\"Spain\"]|\n",
            "|     Bulgaria|2009|  108489|10.92|14.55| 108068.0|            73.08|  40.8|            13.06|    68.5|2009| 4.346840751510612|  2.1346045968234173| 0.22636552017620676|   3.8899689679959026|    0.8153327857143242| 3.263304689473085|       1.6468745653994294|          7444442.5|                          67.07128|                  48.69279|                    51.30721|                                     25.6|                                                                46.66056|                                  55.51542|                                                           32.14126|                                             65.97239|                                      76.94257|                                                         25.50648|                                                                          27.62222|                                      21.66667|                     -1.71313|              6.8|                   16.2|                                    110920.8435|                                   14899.82369|                                                       11876.53496|                                     0.658|                          2.74986|                                     42.33201|                                     50.60909|                                               -8.27708|                                                                  4.88228|                                                                 20.8899|                                                               9.50366|                                                                                                    25.5468|                                                                                 23.22703|                                                                                               13.12441|                                                                             2.82592|            977044.0|            5122139.5|          1345259.0|       73.80000000000001|                     15.5|              67.16907|2.2572475998629162E8|       France| Europe East|    EU Member|    NATO Member|[\"Greece\",\"North ...|\n",
            "|      Hungary|2009|   89608| 9.45|13.01| 130399.0|            74.16|  39.7|             5.94|   111.8|2009| 6.578687751510612|  2.1886340968234173|  0.2362232701762096|   3.8583589679958505|    0.8265377857143148|3.3179001894731037|       1.7424393153994298|       1.00226495E7|                         107.73567|                  47.49218|                    52.50782|                                     27.9|                                                                45.81813|                                  56.50623|                                                           36.18746|                                             56.83675|                                      75.24992|                                                         11.81266|                                                                          25.75088|                                       11.1399|                     -2.49351|             10.0|                   26.4|                                    209386.2974|                                   20891.31092|                                                       15794.12938|                                  125.5928|                           4.2097|                                      74.7703|                                     70.71135|                                                4.05894|                                                                  3.50891|                                                                24.76275|                                                               4.87922|                                                                                                   23.25604|                                                                                  22.4534|                                                                                               18.16781|                                                                             2.97187|           1484732.0|            6886037.0|          1651880.5|                   74.35|                     16.1|              60.12818| 6.846035312123551E8|       France| Europe East|    EU Member|    NATO Member|[\"Austria\",\"Croat...|\n",
            "+-------------+----+--------+-----+-----+---------+-----------------+------+-----------------+--------+----+------------------+--------------------+--------------------+---------------------+----------------------+------------------+-------------------------+-------------------+----------------------------------+--------------------------+----------------------------+-----------------------------------------+------------------------------------------------------------------------+------------------------------------------+-------------------------------------------------------------------+-----------------------------------------------------+----------------------------------------------+-----------------------------------------------------------------+----------------------------------------------------------------------------------+----------------------------------------------+-----------------------------+-----------------+-----------------------+-----------------------------------------------+----------------------------------------------+------------------------------------------------------------------+------------------------------------------+---------------------------------+---------------------------------------------+---------------------------------------------+-------------------------------------------------------+-------------------------------------------------------------------------+------------------------------------------------------------------------+----------------------------------------------------------------------+-----------------------------------------------------------------------------------------------------------+-----------------------------------------------------------------------------------------+-------------------------------------------------------------------------------------------------------+------------------------------------------------------------------------------------+--------------------+---------------------+-------------------+------------------------+-------------------------+----------------------+--------------------+-------------+------------+-------------+---------------+--------------------+\n",
            "only showing top 20 rows\n",
            "\n"
          ]
        }
      ]
    },
    {
      "cell_type": "markdown",
      "source": [
        "## *Immigration*"
      ],
      "metadata": {
        "id": "rUydv36t1f0D"
      }
    },
    {
      "cell_type": "code",
      "source": [
        "countries_df = df_final.select(\"Country\").distinct()\n",
        "origins = countries_df.withColumnRenamed(\"Country\", \"Origin\")\n",
        "destinations = countries_df.withColumnRenamed(\"Country\", \"Destination\")\n",
        "immigration_df = origins.crossJoin(destinations)\n",
        "immigration_df = immigration_df.where(immigration_df[\"Origin\"] != immigration_df[\"Destination\"])\n",
        "immigration_df = immigration_df.withColumn(\"Immigrants\", (rand(seed=1234) * 10000).cast(\"integer\"))\n",
        "immigration_df.show()"
      ],
      "metadata": {
        "colab": {
          "base_uri": "https://localhost:8080/"
        },
        "id": "QF7lq81T1sqq",
        "outputId": "83c1c6b5-37b5-403c-a285-673bcf779edf"
      },
      "execution_count": null,
      "outputs": [
        {
          "output_type": "stream",
          "name": "stdout",
          "text": [
            "+------+------------+----------+\n",
            "|Origin| Destination|Immigrants|\n",
            "+------+------------+----------+\n",
            "|Sweden|      Turkey|      7151|\n",
            "|Sweden|     Germany|      8334|\n",
            "|Sweden|      France|      2093|\n",
            "|Sweden|      Greece|      2352|\n",
            "|Sweden|    Slovakia|      8935|\n",
            "|Sweden|     Belgium|      4203|\n",
            "|Sweden|     Albania|      5003|\n",
            "|Sweden|     Finland|      4713|\n",
            "|Sweden|     Belarus|      5746|\n",
            "|Sweden|       Malta|      6553|\n",
            "|Sweden|  Tajikistan|      5974|\n",
            "|Sweden|     Croatia|      4554|\n",
            "|Sweden|       Italy|      5296|\n",
            "|Sweden|   Lithuania|      6262|\n",
            "|Sweden|      Norway|      1459|\n",
            "|Sweden|Turkmenistan|      6688|\n",
            "|Sweden|       Spain|      1841|\n",
            "|Sweden|     Denmark|      5184|\n",
            "|Sweden|     Ireland|      5914|\n",
            "|Sweden|     Ukraine|      5332|\n",
            "+------+------------+----------+\n",
            "only showing top 20 rows\n",
            "\n"
          ]
        }
      ]
    },
    {
      "cell_type": "code",
      "source": [
        "df_final = immigration_df.join(df_final, immigration_df[\"Origin\"] == df_final[\"Country\"], \"left\")"
      ],
      "metadata": {
        "id": "4LeCejglYSGi"
      },
      "execution_count": null,
      "outputs": []
    },
    {
      "cell_type": "code",
      "source": [
        "df_final.show()"
      ],
      "metadata": {
        "colab": {
          "base_uri": "https://localhost:8080/"
        },
        "id": "uQ2xrT_TxeZg",
        "outputId": "109c6863-ed5f-4d41-a1c5-87a1762cae44"
      },
      "execution_count": null,
      "outputs": [
        {
          "output_type": "stream",
          "name": "stdout",
          "text": [
            "+-------------+----+--------+-----+-----+---------+-----------------+------+-----------------+--------+----+------------------+--------------------+--------------------+---------------------+----------------------+------------------+-------------------------+-------------------+----------------------------------+--------------------------+----------------------------+-----------------------------------------+------------------------------------------------------------------------+------------------------------------------+-------------------------------------------------------------------+-----------------------------------------------------+----------------------------------------------+-----------------------------------------------------------------+----------------------------------------------------------------------------------+----------------------------------------------+-----------------------------+-----------------+-----------------------+-----------------------------------------------+----------------------------------------------+------------------------------------------------------------------+------------------------------------------+---------------------------------+---------------------------------------------+---------------------------------------------+-------------------------------------------------------+-------------------------------------------------------------------------+------------------------------------------------------------------------+----------------------------------------------------------------------+-----------------------------------------------------------------------------------------------------------+-----------------------------------------------------------------------------------------+-------------------------------------------------------------------------------------------------------+------------------------------------------------------------------------------------+--------------------+---------------------+-------------------+------------------------+-------------------------+----------------------+--------------------+-------------+------------+-------------+---------------+--------------------+\n",
            "|      Country|Year|Area_Km2|  CBR|  CDR|   Deaths|               E0|Medage|            MR0_4|Pop_Dens|GSCA| Schizophrenia (%)|Bipolar disorder (%)|Eating disorders (%)|Anxiety disorders (%)|Drug use disorders (%)|    Depression (%)|Alcohol use disorders (%)|   Total population|Population density, pers per sq km|Total population, male (%)|Total population, female (%)|Mean age of women at birth of first child|Women in the Labour Force, Percent of corresponding total for both sexes|Female tertiary students, percent of total|Female legislators, senior officials and managers, percent of total|Female professionals, percent of total for both sexes|Female clerks, percent of total for both sexes|Female craft and related workers, percent of total for both sexes|Female plant and machine operators and assemblers, percent of total for both sexes|Female members of parliament, percent of total|Total employment, growth rate|Unemployment rate|Youth unemployment rate|GDP at current prices and PPPs, millions of US$|GDP per capita at current prices and PPPs, US$|Final consumption expenditure per capita, US Dollars, current PPPs|Purchasing power parity (PPP), NCU per US$|Consumer price index, growth rate|Export of goods and services, per cent of GDP|Import of goods and services, per cent of GDP|External balance on goods and services, per cent of GDP|GDP: in agriculture etc (ISIC4 A), output approach, per cent share of GVA|GDP: in industry etc (ISIC4 B-E), output approach, per cent share of GVA|GDP: in construction (ISIC4 F), output approach, per cent share of GVA|GDP: in trade, hospitality, transport and communication (ISIC4 G-J), output approach, per cent share of GVA|GDP: in finance and business services (ISIC4 K-N), output approach, per cent share of GVA|GDP: in public administration, education and health (ISIC4 O-Q), output approach, per cent share of GVA|GDP: in other service activities (ISIC4 R-U), output approach, per cent share of GVA|Population aged 0-14|Population aged 15-64|Population aged 64+|Life expectancy at birth|Life expectancy at age 65|Economic activity rate|        Exportacions|Pais_exportat|      Region|EU Membership|NATO Membership|    border_countries|\n",
            "+-------------+----+--------+-----+-----+---------+-----------------+------+-----------------+--------+----+------------------+--------------------+--------------------+---------------------+----------------------+------------------+-------------------------+-------------------+----------------------------------+--------------------------+----------------------------+-----------------------------------------+------------------------------------------------------------------------+------------------------------------------+-------------------------------------------------------------------+-----------------------------------------------------+----------------------------------------------+-----------------------------------------------------------------+----------------------------------------------------------------------------------+----------------------------------------------+-----------------------------+-----------------+-----------------------+-----------------------------------------------+----------------------------------------------+------------------------------------------------------------------+------------------------------------------+---------------------------------+---------------------------------------------+---------------------------------------------+-------------------------------------------------------+-------------------------------------------------------------------------+------------------------------------------------------------------------+----------------------------------------------------------------------+-----------------------------------------------------------------------------------------------------------+-----------------------------------------------------------------------------------------+-------------------------------------------------------------------------------------------------------+------------------------------------------------------------------------------------+--------------------+---------------------+-------------------+------------------------+-------------------------+----------------------+--------------------+-------------+------------+-------------+---------------+--------------------+\n",
            "|     Slovakia|2008|   48105|10.59| 9.82|  53164.0|            74.88|  36.8|             7.52|   112.6|2008| 4.714201251510612|  2.1130370968234176| 0.23287752017620678|   3.8549102179959025|    0.8229947857143243| 3.234182689473085|       1.7864253153994294|          5379232.5|                         109.75338|                  48.63171|                    51.36829|                                     26.6|                                                                44.66796|                                  60.46928|                                                           29.64899|                                             58.10213|                                       70.0611|                                                          13.4427|                                                                          24.73542|                                      19.33333|                      3.22329|              9.6|                   19.0|                                   128585.05302|                                   23786.23439|                                                       17642.69467|                                   0.53266|                          4.59707|                                     80.04544|                            82.87556000000001|                                               -2.83013|                                                                  4.08134|                                                                 28.4886|                                                               9.47559|                                                                                                   26.02746|                                                                                 17.03463|                                                                                               12.74482|                                                                             2.14756|            847082.0|            3877310.0|           654840.5|                   74.95|                     15.8|             69.098915| 5.582478628251699E8|       France| Europe East|    EU Member|    NATO Member|[\"Austria\",\"Czech...|\n",
            "|      Albania|2013|   27398|12.52| 6.05|  18263.0|            78.61|  31.2|            13.86|   110.1|2013|3.0221572515106128|  2.0800083468234174|  0.2217750201761744|   3.8399897179955085|    0.7737207857143605|3.1740146894749515|       1.6519555653999336|          2896652.0|                         100.76012|                  50.34322|                    49.65678|                                     24.4|                                                                43.76746|                                   56.5479|                                                           31.92632|                                             57.62349|                                      43.51192|                                                           22.187|                                                                          32.75625|                             20.93621706412106|                     -4.42319|         15.93482|               31.39299|                                    30150.00506|                                   10408.57717|                                                        9477.51919|                                  44.77786|                          1.93665|                                     28.73775|                                     46.95741|                                              -18.21966|                                                                 22.42851|                                                                14.64403|                                                               11.7923|                                                                                                   21.35707|                                                                                 14.83022|                                                                                               12.73188|                                                                             2.21599|            565766.0|            1989626.0|           341260.0|                    78.0|       17.024792739160272|              59.43911|1.1161163702380948E8|       France| Europe East|Non-EU Member|    NATO Member|[\"Greece\",\"Monten...|\n",
            "|United States|2015| 9151125| 12.4|  8.5|2712630.0|69.68328042328044|  37.8|46.88141734808387|    35.0|2015| 5.349984251510612|  2.8895500968234176|  0.3105260201762068|    4.655106467995902|    1.4623770357143242| 3.822228689473085|       1.6940505653994293|        3.2141882E8|                          33.37998|                  49.22839|                    50.77161|                                     26.4|                                                                46.78292|                         56.32357203942141|                                                 33.630012717287485|                                    56.46813517730496|                             69.81097653295124|                                               13.590116221581813|                                                                 17.20227656023223|                                      19.35484|                       1.6746|              5.3|      16.84562045769347|                                       1.7947E7|                                   55775.23535|                                                       46131.18842|                                       1.0|                          0.11898|                                     12.55586|                                     15.50287|                                               -2.94701|                                                        4.902186381260098|                                                       21.72827121163164|                                                      6.68264137318255|                                                                                         25.337933699515332|                                                                       21.559294765751204|                                                                                      16.92388589660742|                                                                    3.04570436187399|         6.1016787E7|         2.12641181E8|        4.7760852E7|        78.2703208241354|        18.77798307475317|              69.76959|                NULL|         NULL|       Other|Non-EU Member|    NATO Member|                NULL|\n",
            "|       Norway|2006|  304282|12.56| 8.85|  41253.0|            80.36|  38.3|             4.02|    15.3|2006|4.7675452515106125|  2.5355068468234174| 0.31976527017620676|    4.903905467995902|    0.8955817857143242|3.5380819394730847|       1.5463735653994293|          4660676.5|                          14.39551|                  49.64697|                    50.35303|                                     28.1|                                                                47.15904|                                  60.24615|                                                           33.17308|                                             44.18773|                                       63.9759|                                                          5.30361|                                                                          15.77082|                                      37.86982|                      3.39847|              3.4|                    8.7|                                   254891.03246|                                   54685.91128|                                                       32203.21898|                                   8.69121|                          2.33122|                                     44.66481|                                     27.72386|                                               16.94095|                                                                  1.57494|                                                                39.48269|                                                    4.9960700000000005|                                                                                                   18.51209|                                                                                 15.89677|                                                                                               17.61105|                                                                             1.92639|            906371.0|            3070272.5|           684033.0|       80.55000000000001|                    19.25|              77.79019|1.8669321259226196E9|       France|Europe North|Non-EU Member|    NATO Member|[\"Finland\",\"Russi...|\n",
            "|       Norway|2010|  304282|12.56| 8.48|  41499.0|             81.0|  38.8|             3.34|    16.1|2010| 4.738409251510612|  2.5136443468234173| 0.32238327017620677|    4.897050967995902|    0.8729805357143242| 3.519533439473085|       1.5475263153994294|          4889252.0|                          15.10152|                  49.98312|                    50.01688|                                     28.1|                                                                47.14506|                                   60.3396|                                                           34.39837|                                             45.42093|                                      62.79343|                                                          4.09543|                                                                          13.13416|                                      39.64497|          -0.5374300000000001|              3.6|                    9.3|                                    287551.2995|                                   58815.97453|                                                       37297.85642|                                    9.0074|                          2.39956|                                     39.81979|                                     28.58979|                                                  11.23|                                                                  1.76245|                                                                33.72383|                                                               5.34117|                                                                                                     18.702|                                                                                 18.06609|                                                                                               20.43953|                                                                             1.96493|            919717.0|            3237077.0|           732458.0|                   81.15|                     19.6|             77.873595|1.8669321259226196E9|       France|Europe North|Non-EU Member|    NATO Member|[\"Finland\",\"Russi...|\n",
            "| Turkmenistan|2011|  469930|19.42|  6.2|  30965.0|             68.5|  25.4|            59.91|    10.6|2011| 4.104542501510612|  2.2097238468234175| 0.22369677017620676|    3.631465467995902|    0.7746247857143242| 3.329377439473085|       1.9053755653994293|2.197927993360785E7|                130.01643725542382|         48.81898257717292|           51.18101638107686|                        26.42824480511091|                                                       45.66159630449234|                         53.23341422897378|                                                 31.176593392587794|                                   54.855416276595754|                             69.38819462788423|                                               13.717378827544385|                                                                16.593507535902546|                                          16.8|           0.8657315173217844|8.457272326634758|     19.477900317714983|                                    58014.35823|                                    11360.5066|                                                19331.301355341184|                                   1.43611|                5.009614380475697|                            51.93302108471135|                            52.24823685943179|                                   -0.31521594712825063|                                                        4.577160153048209|                                                       22.11290677206444|                                                     6.447228701322179|                                                                                         25.414340219475392|                                                                       21.910363623628907|                                                                                      16.59673620738029|                                                                   3.038325116274133|   4366442.677945862| 1.4750948727924893E7|  2877727.558334732|         75.108378485535|       16.551693267018056|     70.05823988193126| 2.643760047619048E7|       France|        Asia|Non-EU Member|Non-NATO Member|[\"Afghanistan\",\"I...|\n",
            "|       Norway|2004|  304282| 12.4| 8.97|  41202.0|            79.88|  37.8|             4.02|    15.1|2004| 4.915180751510612|  2.5428590968234177| 0.31892852017620676|    4.904251717995902|    0.8989995357143242| 3.542974189473085|       1.5532040653994295|          4591910.0|                          14.18311|                  49.57762|                    50.42238|                                     28.0|                                                                47.35069|                                  59.57558|                                                           29.17661|                                              43.4033|                                      65.62137|                                                          5.40759|                                                                          15.59239|                                      36.36364|                      0.64963|              4.3|                   12.8|                                   198288.82266|                                   43181.36382|                                                        28137.8534|                                    8.9868|                          0.46509|                                     41.11486|                                     27.93414|                                               13.18072|                                                                  1.56237|                                                                 34.7091|                                                               4.72706|                                                                                                   20.01638|                                                                                 17.17503|                                                                                               19.59724|                                                                             2.21283|            909927.0|            3005943.5|           676039.5|                   80.05|                     18.9|             77.599885|1.8669321259226196E9|       France|Europe North|Non-EU Member|    NATO Member|[\"Finland\",\"Russi...|\n",
            "|      Georgia|2000|   69700|11.11| 8.81|  42438.0|            74.04|  35.2|            30.93|    69.1|2000| 3.204122501510612|   2.208580846823417|  0.2118460201761744|   3.6444809679955084|    0.7559250357143605|3.3170281894749514|       1.6493923153999337|          4418300.0|                          63.39024|                  47.17425|                    52.82575|                                     24.2|                                                                46.37977|                                  48.95361|                                                           18.97891|                                              60.4024|                                      88.82175|                                                         10.47745|                                                                          13.21637|                                       7.23404|                      6.03832|             10.3|                   20.0|                                    11444.80447|                                    2590.31856|                                                        2333.64585|                                   0.52802|                          8.14502|                                     22.99463|                                     39.66721|                                              -16.67258|                                                        5.159807774542255|                                                      21.739592556332596|                                                     6.852710510581996|                                                                                          25.19468272861472|                                                                       21.176744623429858|                                                                                      17.07454378612052|                                                                   3.042885231522429|            933950.0|            2929100.0|           555250.0|       76.31444635999381|       17.024792739160272|    57.433395000000004| 7.039459557738094E7|       France|        Asia|Non-EU Member|Non-NATO Member|[\"Armenia\",\"Azerb...|\n",
            "|   Azerbaijan|2013|   82629|19.65| 6.28|  61205.0|            74.01|  29.4|            13.57|   118.0|2013| 2.914427501510612|  2.1541890968234174|  0.2289412701761744|   3.6362934679955083|    0.7655952857143605| 3.262714939474951|       1.7693635653999338|          9416801.0|                         108.73904|                  49.71084|                    50.28916|                                     23.5|                                                                48.79987|                                  51.52737|                                                           32.98966|                                             60.60029|                                      80.14554|                                                         21.69125|                                                                           8.10878|                                          16.0|                      1.70742|          4.97289|               13.74644|                                   163054.89104|                                   17315.31848|                                                        9036.21421|                                   0.35682|                           2.4238|                                     48.41583|                                     26.26001|                                               22.15582|                                                                  5.74948|                                                                48.69199|                                                              12.43684|                                                                                                   16.20304|                                                                                  6.67612|                                                                                                8.10106|                                                                             2.14146|           2102814.0|            6768032.0|           545955.0|                    74.6|                     15.6|              69.94188| 7.915085423214284E7|       France|        Asia|Non-EU Member|Non-NATO Member|[\"Armenia\",\"Georg...|\n",
            "|      Armenia|2014|   28203|13.92| 9.31|  28488.0|            74.12|  33.7|            16.42|   108.5|2014| 3.998313001510612|  2.1816790968234177| 0.22090452017620676|    3.639674467995902|    0.7695457857143242|3.3067884394730847|       1.6858595653994293|          3013839.0|                         101.32935|                  47.82349|                    52.17651|                                     24.3|                                                                49.11919|                                  55.35217|                                                           32.38612|                                             55.67167|                                      68.97977|                                                         18.28389|                                                                           3.65598|                                      10.68702|                      -2.6026|             17.6|               37.24958|                                    24274.44148|                                    8054.29649|                                                        7863.65444|                                 198.91812|                          2.98384|                                     28.56514|                                     47.04655|                                              -18.48141|                                                                 19.91286|                                                                 17.6039|                                                              10.24069|                                                                                                   21.27245|                                                                                 16.08993|                                                                                               12.10893|                                                                             2.77124|            579117.0|            2112780.0|           321942.0|                   75.06|                   15.715|              62.17013|2.6510395130952384E7|       France|        Asia|Non-EU Member|Non-NATO Member|[\"Azerbaijan\",\"Ge...|\n",
            "|  Switzerland|2015|   39997|10.45| 8.16|  67606.0|            82.78|  42.4|             4.51|   207.1|2015| 4.454613001510612|  2.6720320968234175|  0.3232035201762068|    4.331319967995902|    0.8980535357143242|3.5537194394730847|       1.5340113153994293|2.197927993360785E7|                130.01643725542382|         48.81898257717292|           51.18101638107686|                        26.42824480511091|                                                                46.63748|                         53.23341422897378|                                                           35.22358|                                             45.59413|                                      70.14139|                                                          15.0838|                                                                          16.99147|                                          30.5|                      1.54726|              4.5|                    8.6|                                   506220.92225|                                   61120.07658|                                                       39882.86716|                        1.2752400000000002|                         -1.14542|                                     62.90302|                                     51.18932|                                               11.71369|                                                       0.6811100000000001|                                                                 20.0129|                                                               5.50594|                                                                                                   24.61808|                                                                                 20.69464|                                                                                               19.24304|                                                                              9.2443|   4366442.677945862| 1.4750948727924893E7|  2877727.558334732|         75.108378485535|       16.551693267018056|     70.05823988193126| 5.399972366910715E9|       France| Europe West|Non-EU Member|Non-NATO Member|[\"Austria\",\"Franc...|\n",
            "|   Kyrgyzstan|2012|  191801|23.88| 6.93|  38082.0|            69.43|  25.2|            36.38|    28.7|2012| 5.020024001510612|  2.2609033468234174| 0.21082127017620678|   3.6312229679959023|    0.7820367857143242| 3.390294939473085|       1.9296588153994294|          5607511.0|                          28.05158|                  49.40283|                    50.59717|                                     23.4|                                                                41.38603|                                  55.79683|                                                           32.26033|                                             61.44452|                                      58.74256|                                                         18.16512|                                                                4.4019200000000005|                                      23.33333|                      0.38196|          8.42679|               17.56557|                                    16388.17955|                                    2901.47171|                                                        3362.99321|                                  18.94483|                          2.68753|                                      44.4042|                                     95.27174|                                              -50.86754|                                                                 18.51486|                                                                17.52271|                                                               7.22107|                                                                                                   29.82248|                                                                                  8.97253|                                                                                               16.11629|                                                                             1.83006|           1718224.0|            3648904.0|           240383.0|                  70.295|       14.254999999999999|              67.91153|   9808279.791666668|       France|        Asia|Non-EU Member|Non-NATO Member|[\"China\",\"Kazakhs...|\n",
            "|   Kyrgyzstan|2006|  191801|23.34| 7.58|  39507.0|            67.15|  23.8|            44.64|    27.2|2006| 5.850826501510612|   2.271101596823417| 0.20885627017620959|    3.630573467995851|    0.7790177857143148|3.4021249394731035|       1.9474428153994299|          5218373.0|                          26.10492|                  49.34611|                    50.65389|                                     23.6|                                                                42.41082|                                  56.09909|                                                           35.13376|                                             62.08706|                                      74.38276|                                                          18.6362|                                                                           3.25153|                                           0.0|                      0.91599|          8.26696|                   14.6|                                    11578.20985|                                    2240.95541|                                                        2534.81175|                                   9.82882|                          5.56337|                                     41.72061|                                     79.02937|                                              -37.30875|                                                        5.159807774542255|                                                      21.739592556332596|                                                     6.852710510581996|                                                                                          25.19468272861472|                                                                       21.176744623429858|                                                                                      17.07454378612052|                                                                   3.042885231522429|           1609478.5|            3329161.0|           279733.5|                  67.575|                   13.615|              67.62015|   9808279.791666668|       France|        Asia|Non-EU Member|Non-NATO Member|[\"China\",\"Kazakhs...|\n",
            "|     Slovenia|2006|   20151| 9.34| 8.97|  18180.0|            78.17|  40.7|             5.01|   100.6|2006|7.1104935015106125|   2.307545846823418| 0.23645627017620957|   3.8582977179958506|    0.8702362857143149|3.4012766894731037|       1.7422538153994298|          2006867.5|                          99.08989|                  49.04277|                    50.95723|                                     28.0|                                                                46.13503|                                  58.29366|                                                           33.11793|                                             59.25666|                                      63.56784|                                                          8.65922|                                                                          32.33898|                                      12.22222|                      1.57613|              6.0|                   13.9|                                    51916.12579|                                   25856.57584|                                                       18066.02397|                                   0.60782|                          2.45766|                                     64.69542|                                     64.74328|                                               -0.04785|                                                                  2.26612|                                                                27.44766|                                                                7.0504|                                                                                                   23.60878|                                                                                 20.62514|                                                                                               16.19133|                                                                             2.81057|            282150.0|            1408465.0|           316252.5|                   78.25|                     17.9|              70.72391|2.4553590698975417E8|       France|Europe South|    EU Member|    NATO Member|[\"Austria\",\"Croat...|\n",
            "|       Poland|2001|  304255| 9.53|  9.4| 363200.0|            74.19|  35.6|             8.89|   127.0|2001| 5.958858001510612|  2.0252740968234173| 0.22658852017620956|   3.8498467179958507|    0.8500232857143148|3.2032184394731034|       1.6694563153994297|        3.8248076E7|                         122.32143|                  48.45015|                    51.54985|                                    24.78|                                                                46.33043|                                  57.89905|                                                           29.78529|                                             62.66359|                                      74.28252|                                                         17.17776|                                                                          11.62493|                                      13.04348|                     -2.21677|             18.3|                   39.2|                                   419477.84091|                                   10966.45423|                                                        9108.46644|                                   1.85939|                          5.49347|                                     27.22985|                                     30.84535|                                                -3.6155|                                                        5.820408973098265|                                                       23.50610570485355|                                                     6.964044842312283|                                                                                         28.171349508674577|                                                                       17.373034337641354|                                                                                     15.507382430287281|                                                                  2.6654938852988694|           7166837.5|          2.6312917E7|          4768321.5|                   74.27|                     15.7|     65.05608000000001|1.4929723821096494E9|       France| Europe East|    EU Member|    NATO Member|[\"Belarus\",\"Czech...|\n",
            "|     Portugal|2014|   91470| 7.86|10.01| 104843.0|            80.56|  41.9|             3.45|   114.5|2014| 4.263950251510613|  2.9207535968234177|  0.3072460201762068|   4.3367544679959025|    0.8175452857143243| 3.778946939473085|       1.5099438153994293|       1.04010615E7|                         113.07714|                  47.50326|                    52.49674|                                     30.0|                                                                48.69489|                        54.952532022381256|                                                           35.14259|                                             59.56067|                                      65.40012|                                                         16.08594|                                                                          32.83697|                                      31.30435|           1.4116300000000002|             14.1|                   34.8|                                   298501.27711|                                    28699.0104|                                                       24252.94548|                        0.5798300000000001|                         -0.27695|                                     40.07434|                                     39.88535|                                                0.18899|                                                                  2.31988|                                                      17.499390000000002|                                                               4.14725|                                                                                                   28.05557|                                                                                 24.99655|                                                                                               20.07779|                                                                             2.90357|           1506047.5|            6807509.0|          2087505.0|                    81.2|                     20.0|             73.193405|5.0267792747486746E8|       France|Europe South|    EU Member|    NATO Member|           [\"Spain\"]|\n",
            "|     Portugal|2012|   91470| 8.48|10.16| 107612.0|            79.88|  40.9|             3.88|   115.8|2012| 4.363252751510613|  2.9525060968234174|  0.3063397701762068|   4.3358982179959025|    0.8151322857143243| 3.802940689473085|       1.5122473153994294|       1.05148435E7|                         114.31414|                   47.6761|                     52.3239|                                     29.5|                                                                48.13845|                                  53.16846|                                                            35.1776|                                             59.65248|                                      63.83523|                                                         16.47498|                                                                          28.89557|                                      28.69565|                     -4.08815|             15.8|                   37.9|                                   285216.81986|                                   27125.27294|                                                       22999.87906|                        0.5904200000000001|                          2.77204|                                     37.71054|                                     38.21839|                                    -0.5078400000000001|                                                                  2.17947|                                                                 16.9592|                                                               4.86647|                                                                                                     28.116|                                                                                 24.89717|                                                                                               20.03783|                                                                  2.9438500000000003|           1561550.5|            6933167.0|          2020126.0|       80.44999999999999|       19.450000000000003|     73.47109499999999|5.0267792747486746E8|       France|Europe South|    EU Member|    NATO Member|           [\"Spain\"]|\n",
            "|     Portugal|2009|   91470| 9.35| 9.81| 104434.0|            79.29|  39.7|             4.38|   116.4|2009| 4.463041251510612|  2.9750845968234176|  0.3047662701762068|    4.334566217995902|    0.8147280357143242|3.8199704394730847|       1.5136053153994293|       1.05682465E7|                         114.89472|                  47.92651|                    52.07349|                                     28.6|                                                                 47.7844|                                  53.30073|                                                            31.7794|                                             57.63505|                                      64.79353|                                                         18.62878|                                                                           20.0103|                                      28.26087|                     -2.72513|             10.7|                   20.3|                                   276981.63488|                                   26208.96982|                                                       22573.66102|                                   0.63343|                         -0.83462|                                      27.0807|                                     34.00155|                                               -6.92085|                                                                  2.19214|                                                                16.11823|                                                               6.27809|                                                                                                    26.6732|                                                                                 24.00018|                                                                                               21.94862|                                                                             2.78954|           1624489.0|            7029408.0|          1914349.5|                   79.65|                     19.0|             73.520815|5.0267792747486746E8|       France|Europe South|    EU Member|    NATO Member|           [\"Spain\"]|\n",
            "|     Bulgaria|2009|  108489|10.92|14.55| 108068.0|            73.08|  40.8|            13.06|    68.5|2009| 4.346840751510612|  2.1346045968234173| 0.22636552017620676|   3.8899689679959026|    0.8153327857143242| 3.263304689473085|       1.6468745653994294|          7444442.5|                          67.07128|                  48.69279|                    51.30721|                                     25.6|                                                                46.66056|                                  55.51542|                                                           32.14126|                                             65.97239|                                      76.94257|                                                         25.50648|                                                                          27.62222|                                      21.66667|                     -1.71313|              6.8|                   16.2|                                    110920.8435|                                   14899.82369|                                                       11876.53496|                                     0.658|                          2.74986|                                     42.33201|                                     50.60909|                                               -8.27708|                                                                  4.88228|                                                                 20.8899|                                                               9.50366|                                                                                                    25.5468|                                                                                 23.22703|                                                                                               13.12441|                                                                             2.82592|            977044.0|            5122139.5|          1345259.0|       73.80000000000001|                     15.5|              67.16907|2.2572475998629162E8|       France| Europe East|    EU Member|    NATO Member|[\"Greece\",\"North ...|\n",
            "|      Hungary|2009|   89608| 9.45|13.01| 130399.0|            74.16|  39.7|             5.94|   111.8|2009| 6.578687751510612|  2.1886340968234173|  0.2362232701762096|   3.8583589679958505|    0.8265377857143148|3.3179001894731037|       1.7424393153994298|       1.00226495E7|                         107.73567|                  47.49218|                    52.50782|                                     27.9|                                                                45.81813|                                  56.50623|                                                           36.18746|                                             56.83675|                                      75.24992|                                                         11.81266|                                                                          25.75088|                                       11.1399|                     -2.49351|             10.0|                   26.4|                                    209386.2974|                                   20891.31092|                                                       15794.12938|                                  125.5928|                           4.2097|                                      74.7703|                                     70.71135|                                                4.05894|                                                                  3.50891|                                                                24.76275|                                                               4.87922|                                                                                                   23.25604|                                                                                  22.4534|                                                                                               18.16781|                                                                             2.97187|           1484732.0|            6886037.0|          1651880.5|                   74.35|                     16.1|              60.12818| 6.846035312123551E8|       France| Europe East|    EU Member|    NATO Member|[\"Austria\",\"Croat...|\n",
            "+-------------+----+--------+-----+-----+---------+-----------------+------+-----------------+--------+----+------------------+--------------------+--------------------+---------------------+----------------------+------------------+-------------------------+-------------------+----------------------------------+--------------------------+----------------------------+-----------------------------------------+------------------------------------------------------------------------+------------------------------------------+-------------------------------------------------------------------+-----------------------------------------------------+----------------------------------------------+-----------------------------------------------------------------+----------------------------------------------------------------------------------+----------------------------------------------+-----------------------------+-----------------+-----------------------+-----------------------------------------------+----------------------------------------------+------------------------------------------------------------------+------------------------------------------+---------------------------------+---------------------------------------------+---------------------------------------------+-------------------------------------------------------+-------------------------------------------------------------------------+------------------------------------------------------------------------+----------------------------------------------------------------------+-----------------------------------------------------------------------------------------------------------+-----------------------------------------------------------------------------------------+-------------------------------------------------------------------------------------------------------+------------------------------------------------------------------------------------+--------------------+---------------------+-------------------+------------------------+-------------------------+----------------------+--------------------+-------------+------------+-------------+---------------+--------------------+\n",
            "only showing top 20 rows\n",
            "\n"
          ]
        }
      ]
    },
    {
      "cell_type": "code",
      "source": [
        "df_final.write \\\n",
        "    .format(\"jdbc\") \\\n",
        "    .option(\"url\", \"jdbc:duckdb:exploitation_zone_2.db\") \\\n",
        "    .option(\"dbtable\", \"relations_added\") \\\n",
        "    .option(\"driver\", \"org.duckdb.DuckDBDriver\") \\\n",
        "    .mode(\"append\") \\\n",
        "    .save()"
      ],
      "metadata": {
        "id": "1aQtBKB9ybeQ"
      },
      "execution_count": null,
      "outputs": []
    },
    {
      "cell_type": "code",
      "source": [
        "import os\n",
        "df_f = df_final.toPandas()\n",
        "# Guardar el DataFrame en un arxiu CSV\n",
        "df_f.to_csv('/content/betterlifebetterhealth/data/csv/df_relations.csv', index=False)\n"
      ],
      "metadata": {
        "id": "T4VPLKD3ypSy"
      },
      "execution_count": null,
      "outputs": []
    },
    {
      "cell_type": "markdown",
      "source": [
        "### **Guardar db a github:**"
      ],
      "metadata": {
        "id": "rO-Qne17HqzM"
      }
    },
    {
      "cell_type": "code",
      "source": [
        "# Clone the repository\n",
        "%cd betterlifebetterhealth/data/db\n",
        "\n",
        "# Copy new files from your local directory to this directory\n",
        "!cp -R /content/*.db ."
      ],
      "metadata": {
        "colab": {
          "base_uri": "https://localhost:8080/"
        },
        "id": "RCwuMYgVHtJX",
        "outputId": "0a9d68e2-b920-4e18-f26d-1dc6ac064754"
      },
      "execution_count": null,
      "outputs": [
        {
          "output_type": "stream",
          "name": "stdout",
          "text": [
            "/content/betterlifebetterhealth/data/db\n"
          ]
        }
      ]
    },
    {
      "cell_type": "code",
      "source": [
        "#CODI A LA DOCUMENTACIO NO POSAT AQUÍ PER PRIVACITAT DE USUARI"
      ],
      "metadata": {
        "colab": {
          "base_uri": "https://localhost:8080/"
        },
        "id": "aS0Z2sCqIdbH",
        "outputId": "954a0c3b-7c86-44fa-f161-9d1d97e5fb24"
      },
      "execution_count": null,
      "outputs": [
        {
          "output_type": "stream",
          "name": "stdout",
          "text": [
            "[main 50cd8a3] Update db files new\n",
            " 1 file changed, 0 insertions(+), 0 deletions(-)\n",
            " create mode 100644 data/db/exploitation_zone_2.db\n",
            "Enumerating objects: 8, done.\n",
            "Counting objects: 100% (8/8), done.\n",
            "Delta compression using up to 2 threads\n",
            "Compressing objects: 100% (5/5), done.\n",
            "Writing objects: 100% (5/5), 197.17 KiB | 5.19 MiB/s, done.\n",
            "Total 5 (delta 1), reused 0 (delta 0), pack-reused 0\n",
            "remote: Resolving deltas: 100% (1/1), completed with 1 local object.\u001b[K\n",
            "To https://github.com/OscarMoliina/betterlifebetterhealth.git\n",
            "   1fa8450..50cd8a3  main -> main\n"
          ]
        }
      ]
    }
  ]
}