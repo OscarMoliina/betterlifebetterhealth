{
  "nbformat": 4,
  "nbformat_minor": 0,
  "metadata": {
    "colab": {
      "provenance": []
    },
    "kernelspec": {
      "name": "python3",
      "display_name": "Python 3"
    },
    "language_info": {
      "name": "python"
    }
  },
  "cells": [
    {
      "cell_type": "markdown",
      "source": [
        "# **Exploitation Zone (KG-based)**"
      ],
      "metadata": {
        "id": "IN2-9ntcwbUx"
      }
    },
    {
      "cell_type": "code",
      "execution_count": 1,
      "metadata": {
        "colab": {
          "base_uri": "https://localhost:8080/"
        },
        "id": "HGPP1ZgLgu_A",
        "outputId": "d248b4e7-e13a-412a-a2cc-41cc1643e032"
      },
      "outputs": [
        {
          "output_type": "stream",
          "name": "stdout",
          "text": [
            "Cloning into 'betterlifebetterhealth'...\n",
            "remote: Enumerating objects: 360, done.\u001b[K\n",
            "remote: Counting objects: 100% (205/205), done.\u001b[K\n",
            "remote: Compressing objects: 100% (170/170), done.\u001b[K\n",
            "remote: Total 360 (delta 60), reused 129 (delta 35), pack-reused 155\u001b[K\n",
            "Receiving objects: 100% (360/360), 100.73 MiB | 24.91 MiB/s, done.\n",
            "Resolving deltas: 100% (110/110), done.\n"
          ]
        }
      ],
      "source": [
        "!git clone https://github.com/OscarMoliina/betterlifebetterhealth"
      ]
    },
    {
      "cell_type": "code",
      "source": [
        "!pip3 install pyspark\n",
        "import pyspark\n",
        "\n",
        "from pyspark.sql import SparkSession\n",
        "from pyspark.ml.feature import VectorAssembler\n",
        "from pyspark.ml.clustering import KMeans\n",
        "from pyspark.ml import Pipeline\n",
        "from pyspark.sql.functions import col, mean, when, lit, count, to_json\n",
        "from pyspark.sql.window import Window\n",
        "from pyspark.sql.functions import mean\n",
        "from pyspark.sql.functions import mean\n",
        "from pyspark.sql.types import IntegerType, DoubleType\n",
        "from pyspark.sql.functions import udf\n",
        "from pyspark.sql.types import StringType\n",
        "from pyspark.sql.functions import collect_list\n",
        "\n",
        "import pandas as pd\n",
        "import matplotlib.pyplot as plt\n",
        "import duckdb"
      ],
      "metadata": {
        "id": "Gt1wtnMQhNUL",
        "colab": {
          "base_uri": "https://localhost:8080/"
        },
        "outputId": "c61b05b3-8eec-4ca2-cb18-cbba847723d9"
      },
      "execution_count": 2,
      "outputs": [
        {
          "output_type": "stream",
          "name": "stdout",
          "text": [
            "Collecting pyspark\n",
            "  Downloading pyspark-3.5.1.tar.gz (317.0 MB)\n",
            "\u001b[2K     \u001b[90m━━━━━━━━━━━━━━━━━━━━━━━━━━━━━━━━━━━━━━━━\u001b[0m \u001b[32m317.0/317.0 MB\u001b[0m \u001b[31m3.8 MB/s\u001b[0m eta \u001b[36m0:00:00\u001b[0m\n",
            "\u001b[?25h  Preparing metadata (setup.py) ... \u001b[?25l\u001b[?25hdone\n",
            "Requirement already satisfied: py4j==0.10.9.7 in /usr/local/lib/python3.10/dist-packages (from pyspark) (0.10.9.7)\n",
            "Building wheels for collected packages: pyspark\n",
            "  Building wheel for pyspark (setup.py) ... \u001b[?25l\u001b[?25hdone\n",
            "  Created wheel for pyspark: filename=pyspark-3.5.1-py2.py3-none-any.whl size=317488491 sha256=d8c31cf0e7e309fde83d6cbe17f900f7eb769cc326ecafecefe4a30c3c92aeed\n",
            "  Stored in directory: /root/.cache/pip/wheels/80/1d/60/2c256ed38dddce2fdd93be545214a63e02fbd8d74fb0b7f3a6\n",
            "Successfully built pyspark\n",
            "Installing collected packages: pyspark\n",
            "Successfully installed pyspark-3.5.1\n"
          ]
        }
      ]
    },
    {
      "cell_type": "code",
      "source": [
        "spark = SparkSession.builder \\\n",
        "    .appName(\"Preprocessing\") \\\n",
        "    .config(\"spark.jars\", \"/content/betterlifebetterhealth/src/utils/duckdb.jar\") \\\n",
        "    .getOrCreate()\n",
        "\n",
        "join = spark.read \\\n",
        "    .format(\"jdbc\") \\\n",
        "    .option(\"url\", \"jdbc:duckdb:/content/betterlifebetterhealth/data/db/exploitation_zone.db\") \\\n",
        "    .option(\"driver\", \"org.duckdb.DuckDBDriver\") \\\n",
        "    .option(\"dbtable\", \"join_table\") \\\n",
        "    .load()"
      ],
      "metadata": {
        "id": "I1xphyO6hQ2Z"
      },
      "execution_count": 3,
      "outputs": []
    },
    {
      "cell_type": "markdown",
      "source": [
        "### **Classificació dels països per regió:**\n",
        "Afegim relació per dividir Europa en 4 zones: Europa del Este, Europa del Sur, Europa Occidental y Europa del Norte.\n",
        "\n",
        "1. Europa del Nord: Suècia, Finlàndia, Noruega, Dinamarca, Islàndia, Estònia, Letònia, Lituània\n",
        "2. Europa de l'Est: Polònia, Eslovàquia, República Txeca, Hongria, Romania, Bulgària, Bielorússia, Ucraïna, Moldàvia, Rússia, Albània, Kosovo, Macedònia del Nord, Montenegro, Sèrbia, Bòsnia i Hercegovina\n",
        "3. Europa del Sud: Itàlia, Espanya, Portugal, Grècia, Turquia, Xipre, Malta, Croàcia, Eslovènia\n",
        "4. Europa Occidental: Alemanya, França, Bèlgica, Països Baixos, Àustria, Suïssa, Luxemburg, Regne Unit, Irlanda"
      ],
      "metadata": {
        "id": "OxSKEtDAlwqj"
      }
    },
    {
      "cell_type": "code",
      "source": [
        "# Lista de países por región incluyendo Asia\n",
        "north_europe = ['Sweden', 'Finland', 'Norway', 'Denmark', 'Iceland', 'Estonia', 'Latvia', 'Lithuania']\n",
        "east_europe = ['Poland', 'Slovakia', 'Hungary', 'Romania', 'Bulgaria', 'Belarus', 'Ukraine', 'Albania', 'Moldova', 'Czech Republic', 'Russia', 'North Macedonia', 'Montenegro', 'Serbia', 'Bosnia and Herzegovina']\n",
        "south_europe = ['Italy', 'Spain', 'Portugal', 'Greece', 'Cyprus', 'Malta', 'Croatia', 'Slovenia']\n",
        "west_europe = ['Germany', 'France', 'Belgium', 'Netherlands', 'Austria', 'Switzerland', 'Luxembourg', 'United Kingdom', 'Ireland']\n",
        "asia = ['Turkey', 'Israel', 'Georgia', 'Azerbaijan', 'Armenia', 'Kazakhstan', 'Uzbekistan', 'Turkmenistan', 'Tajikistan', 'Kyrgyzstan']\n",
        "\n",
        "# Función para asignar la región basada en el país\n",
        "def assign_region(country):\n",
        "    if country in north_europe:\n",
        "        return 'Europe North'\n",
        "    elif country in east_europe:\n",
        "        return 'Europe East'\n",
        "    elif country in south_europe:\n",
        "        return 'Europe South'\n",
        "    elif country in west_europe:\n",
        "        return 'Europe West'\n",
        "    elif country in asia:\n",
        "        return 'Asia'\n",
        "    else:\n",
        "        return 'Other'\n",
        "\n",
        "region_udf = udf(assign_region, StringType())\n",
        "\n",
        "# Crear una nueva columna con la región asignada\n",
        "join = join.withColumn('Region', region_udf(join['Country']))"
      ],
      "metadata": {
        "id": "L_cGB6sPl2Ps"
      },
      "execution_count": 4,
      "outputs": []
    },
    {
      "cell_type": "markdown",
      "source": [
        "### **Pertanyença a UE:**\n",
        "Afegim relació per distingir els que pertanyen a la Unió Europea i els que no."
      ],
      "metadata": {
        "id": "4PL8lsJVntCX"
      }
    },
    {
      "cell_type": "code",
      "source": [
        "eu_countries = [\n",
        "    'Austria', 'Belgium', 'Bulgaria', 'Croatia', 'Cyprus', 'Czech Republic', 'Denmark',\n",
        "    'Estonia', 'Finland', 'France', 'Germany', 'Greece', 'Hungary', 'Ireland', 'Italy',\n",
        "    'Latvia', 'Lithuania', 'Luxembourg', 'Malta', 'Netherlands', 'Poland', 'Portugal',\n",
        "    'Romania', 'Slovakia', 'Slovenia', 'Spain', 'Sweden'\n",
        "]\n",
        "\n",
        "# Función para determinar la membresía en la UE\n",
        "def is_eu_member(country):\n",
        "    return 'EU Member' if country in eu_countries else 'Non-EU Member'\n",
        "\n",
        "# UDF para aplicar la función en Spark\n",
        "eu_member_udf = udf(is_eu_member, StringType())\n",
        "\n",
        "join = join.withColumn('EU Membership', eu_member_udf(join['Country']))"
      ],
      "metadata": {
        "id": "ILFbxnGDnytA"
      },
      "execution_count": 5,
      "outputs": []
    },
    {
      "cell_type": "markdown",
      "source": [
        "### **Pertanyença a NATO:**\n",
        "\n"
      ],
      "metadata": {
        "id": "tR6_IeMaoW-v"
      }
    },
    {
      "cell_type": "code",
      "source": [
        "# Lista de países miembros de la OTAN\n",
        "nato_countries = [\n",
        "    'Albania', 'Belgium', 'Bulgaria', 'Canada', 'Croatia', 'Czech Republic', 'Denmark',\n",
        "    'Estonia', 'France', 'Germany', 'Greece', 'Hungary', 'Iceland', 'Italy', 'Latvia',\n",
        "    'Lithuania', 'Luxembourg', 'Montenegro', 'Netherlands', 'North Macedonia', 'Norway',\n",
        "    'Poland', 'Portugal', 'Romania', 'Slovakia', 'Slovenia', 'Spain', 'Turkey', 'United Kingdom', 'United States'\n",
        "]\n",
        "\n",
        "# Función para determinar la membresía en la OTAN\n",
        "def is_nato_member(country):\n",
        "    return 'NATO Member' if country in nato_countries else 'Non-NATO Member'\n",
        "\n",
        "# UDF para aplicar la función en Spark\n",
        "nato_member_udf = udf(is_nato_member, StringType())\n",
        "\n",
        "join = join.withColumn('NATO Membership', nato_member_udf(join['Country']))\n"
      ],
      "metadata": {
        "id": "6Fhrwg64oqMo"
      },
      "execution_count": 6,
      "outputs": []
    },
    {
      "cell_type": "markdown",
      "source": [
        "### **Països que fan frontera:**"
      ],
      "metadata": {
        "id": "IV3vfczmwyl3"
      }
    },
    {
      "cell_type": "code",
      "source": [
        "fronteres = spark.read.option(\"header\", \"true\").csv('/content/betterlifebetterhealth/data/csv/GEODATASOURCE-COUNTRY-BORDERS.CSV')"
      ],
      "metadata": {
        "id": "rbdZvhNPw9Oi"
      },
      "execution_count": 7,
      "outputs": []
    },
    {
      "cell_type": "code",
      "source": [
        "borders_grouped = fronteres.groupBy(\"country_name\").agg(collect_list(\"country_border_name\").alias(\"border_countries\"))"
      ],
      "metadata": {
        "id": "pwvE1VBQyGPI"
      },
      "execution_count": 8,
      "outputs": []
    },
    {
      "cell_type": "code",
      "source": [
        "join = join.join(borders_grouped, join['Country'] == borders_grouped['country_name'], 'left')"
      ],
      "metadata": {
        "id": "G9zeuwyOza18"
      },
      "execution_count": 9,
      "outputs": []
    },
    {
      "cell_type": "code",
      "source": [
        "join = join.drop(\"country_name\")"
      ],
      "metadata": {
        "id": "L5gPNxKg0ogr"
      },
      "execution_count": 10,
      "outputs": []
    },
    {
      "cell_type": "code",
      "source": [
        "join = join.withColumn(\"border_countries\", to_json(col(\"border_countries\")))"
      ],
      "metadata": {
        "id": "i08HTT2xG7rW"
      },
      "execution_count": 16,
      "outputs": []
    },
    {
      "cell_type": "code",
      "source": [
        "join.write \\\n",
        "    .format(\"jdbc\") \\\n",
        "    .option(\"url\", \"jdbc:duckdb:exploitation_zone_2.db\") \\\n",
        "    .option(\"dbtable\", \"join_new_relations\") \\\n",
        "    .option(\"driver\", \"org.duckdb.DuckDBDriver\") \\\n",
        "    .save()\n"
      ],
      "metadata": {
        "id": "h1I_6XA4GAhZ"
      },
      "execution_count": 20,
      "outputs": []
    },
    {
      "cell_type": "markdown",
      "source": [
        "### **Guardar db a github:**"
      ],
      "metadata": {
        "id": "rO-Qne17HqzM"
      }
    },
    {
      "cell_type": "code",
      "source": [
        "# Clone the repository\n",
        "%cd betterlifebetterhealth/data/db\n",
        "\n",
        "# Copy new files from your local directory to this directory\n",
        "!cp -R /content/*.db ."
      ],
      "metadata": {
        "colab": {
          "base_uri": "https://localhost:8080/"
        },
        "id": "RCwuMYgVHtJX",
        "outputId": "0d840a88-e8d1-4779-a7bc-d26bd494e3da"
      },
      "execution_count": 21,
      "outputs": [
        {
          "output_type": "stream",
          "name": "stdout",
          "text": [
            "/content/betterlifebetterhealth/data/db\n"
          ]
        }
      ]
    },
    {
      "cell_type": "code",
      "source": [
        "#CODI A LA DOCUMENTACIO NO POSAT AQUÍ PER PRIVACITAT DE USUARI"
      ],
      "metadata": {
        "colab": {
          "base_uri": "https://localhost:8080/"
        },
        "id": "aS0Z2sCqIdbH",
        "outputId": "954a0c3b-7c86-44fa-f161-9d1d97e5fb24"
      },
      "execution_count": 22,
      "outputs": [
        {
          "output_type": "stream",
          "name": "stdout",
          "text": [
            "[main 50cd8a3] Update db files new\n",
            " 1 file changed, 0 insertions(+), 0 deletions(-)\n",
            " create mode 100644 data/db/exploitation_zone_2.db\n",
            "Enumerating objects: 8, done.\n",
            "Counting objects: 100% (8/8), done.\n",
            "Delta compression using up to 2 threads\n",
            "Compressing objects: 100% (5/5), done.\n",
            "Writing objects: 100% (5/5), 197.17 KiB | 5.19 MiB/s, done.\n",
            "Total 5 (delta 1), reused 0 (delta 0), pack-reused 0\n",
            "remote: Resolving deltas: 100% (1/1), completed with 1 local object.\u001b[K\n",
            "To https://github.com/OscarMoliina/betterlifebetterhealth.git\n",
            "   1fa8450..50cd8a3  main -> main\n"
          ]
        }
      ]
    }
  ]
}