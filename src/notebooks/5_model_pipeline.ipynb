{
 "cells": [
  {
   "cell_type": "code",
   "execution_count": null,
   "metadata": {},
   "outputs": [],
   "source": [
    "#!pip3 install scikit-learn"
   ]
  },
  {
   "cell_type": "code",
   "execution_count": 1,
   "metadata": {},
   "outputs": [],
   "source": [
    "import pyspark\n",
    "from pyspark.sql import SparkSession\n",
    "\n",
    "import pandas as pd\n",
    "\n",
    "import duckdb\n",
    "\n",
    "from sklearn.model_selection import train_test_split\n",
    "from sklearn.svm import SVR\n",
    "from sklearn.metrics import mean_squared_error\n",
    "from sklearn.preprocessing import StandardScaler\n",
    "\n",
    "import joblib"
   ]
  },
  {
   "cell_type": "code",
   "execution_count": 2,
   "metadata": {},
   "outputs": [
    {
     "name": "stderr",
     "output_type": "stream",
     "text": [
      "24/04/24 13:24:30 WARN Utils: Your hostname, pop-os resolves to a loopback address: 127.0.1.1; using 10.192.117.36 instead (on interface wlp0s20f3)\n",
      "24/04/24 13:24:30 WARN Utils: Set SPARK_LOCAL_IP if you need to bind to another address\n",
      "24/04/24 13:24:30 WARN NativeCodeLoader: Unable to load native-hadoop library for your platform... using builtin-java classes where applicable\n",
      "Setting default log level to \"WARN\".\n",
      "To adjust logging level use sc.setLogLevel(newLevel). For SparkR, use setLogLevel(newLevel).\n"
     ]
    }
   ],
   "source": [
    "spark = SparkSession.builder \\\n",
    "    .appName(\"Preprocessing\") \\\n",
    "    .config(\"spark.jars\", \"../utils/duckdb.jar\") \\\n",
    "    .getOrCreate()\n",
    "\n",
    "data = spark.read \\\n",
    "    .format(\"jdbc\") \\\n",
    "    .option(\"url\", \"jdbc:duckdb:../../data/db/exploitation_zone.db\") \\\n",
    "    .option(\"driver\", \"org.duckdb.DuckDBDriver\") \\\n",
    "    .option(\"dbtable\", \"join_table\") \\\n",
    "    .load()"
   ]
  },
  {
   "cell_type": "markdown",
   "metadata": {},
   "source": [
    "# Comparativa Dataset Simple vs. Dataset Mitxe"
   ]
  },
  {
   "cell_type": "code",
   "execution_count": 3,
   "metadata": {},
   "outputs": [
    {
     "name": "stderr",
     "output_type": "stream",
     "text": [
      "24/04/24 13:24:35 WARN SparkStringUtils: Truncated the string representation of a plan since it was too large. This behavior can be adjusted by setting 'spark.sql.debug.maxToStringFields'.\n"
     ]
    }
   ],
   "source": [
    "df = data.toPandas()\n",
    "\n",
    "# Suponemos que df es tu DataFrame y ya está cargado\n",
    "y = df['Depression (%)']\n",
    "X1 = df[['Schizophrenia (%)', 'Bipolar disorder (%)', 'Eating disorders (%)', \n",
    "         'Anxiety disorders (%)', 'Drug use disorders (%)', 'Alcohol use disorders (%)']]\n",
    "X2 = df.drop(['Country', 'Year', 'Depression (%)'], axis=1)\n",
    "\n",
    "# Dividir los datos en conjuntos de entrenamiento y prueba\n",
    "X1_train, X1_test, y_train, y_test = train_test_split(X1, y, test_size=0.2, random_state=2003)\n",
    "X2_train, X2_test = train_test_split(X2, test_size=0.2, random_state=2003)\n",
    "\n",
    "# Escalado de características\n",
    "scaler = StandardScaler()\n",
    "X1_train_scaled = scaler.fit_transform(X1_train)\n",
    "X1_test_scaled = scaler.transform(X1_test)\n",
    "X2_train_scaled = scaler.fit_transform(X2_train)\n",
    "X2_test_scaled = scaler.transform(X2_test)"
   ]
  },
  {
   "cell_type": "code",
   "execution_count": 4,
   "metadata": {},
   "outputs": [
    {
     "name": "stdout",
     "output_type": "stream",
     "text": [
      "MSE para el modelo con solo datos de enfermedades: 0.014206915090213417\n",
      "MSE para el modelo con todas las columnas: 0.011462895816162895\n"
     ]
    }
   ],
   "source": [
    "svm_model1 = SVR()\n",
    "svm_model2 = SVR()\n",
    "svm_model1.fit(X1_train_scaled, y_train)\n",
    "svm_model2.fit(X2_train_scaled, y_train)\n",
    "\n",
    "# joblib.dump(scaler, 'scaler1.pkl')\n",
    "# joblib.dump(svm_model1, 'svm_model1.pkl')\n",
    "# joblib.dump(svm_model2, 'svm_model2.pkl')\n",
    "\n",
    "y_pred1 = svm_model1.predict(X1_test_scaled)\n",
    "y_pred2 = svm_model2.predict(X2_test_scaled)\n",
    "mse1 = mean_squared_error(y_test, y_pred1)\n",
    "mse2 = mean_squared_error(y_test, y_pred2)\n",
    "\n",
    "print(\"MSE para el modelo con solo datos de enfermedades:\", mse1)\n",
    "print(\"MSE para el modelo con todas las columnas:\", mse2)\n"
   ]
  },
  {
   "cell_type": "markdown",
   "metadata": {},
   "source": [
    "# Model Pipeline"
   ]
  },
  {
   "cell_type": "code",
   "execution_count": 5,
   "metadata": {},
   "outputs": [],
   "source": [
    "import joblib\n",
    "from pyspark.sql import DataFrame\n",
    "from sklearn.svm import SVR\n",
    "from sklearn.metrics import mean_squared_error\n",
    "from sklearn.preprocessing import StandardScaler\n",
    "from sklearn.model_selection import train_test_split\n",
    "\n",
    "class ModelPipelineSVM:\n",
    "    def __init__(self, data: DataFrame, objective:str, model=None, scaler=None) -> None:\n",
    "        self.model = model\n",
    "        self.data = data\n",
    "        self.objective = objective\n",
    "        self.scaler = scaler if scaler is not None else StandardScaler()\n",
    "\n",
    "    def __train_model(self):\n",
    "        df = self.data.toPandas()\n",
    "        y = df[self.objective]\n",
    "        X = df.drop(['Country', 'Year', self.objective], axis=1)\n",
    "        X_train, X_test, y_train, y_test = train_test_split(X, y, test_size=0.2, random_state=2003)\n",
    "        \n",
    "        X_train_scaled = self.scaler.fit_transform(X_train)\n",
    "        X_test_scaled = self.scaler.transform(X_test)\n",
    "        \n",
    "        self.model = SVR()\n",
    "        self.model.fit(X_train_scaled, y_train)\n",
    "        \n",
    "        y_pred = self.model.predict(X_test_scaled)\n",
    "        mse = mean_squared_error(y_test, y_pred)\n",
    "        \n",
    "        joblib.dump(self.model, 'svm_model.pkl')\n",
    "        joblib.dump(self.scaler, 'scaler.pkl')\n",
    "        \n",
    "        return self.model, self.scaler, None, mse\n",
    "\n",
    "    def __make_predictions(self):\n",
    "        df = self.data.toPandas()\n",
    "        X = df.drop(['Country', 'Year', self.objective], axis=1)\n",
    "        X_scaled = self.scaler.transform(X)\n",
    "        \n",
    "        y_pred = self.model.predict(X_scaled)\n",
    "        \n",
    "        return self.model, self.scaler, y_pred, None\n",
    "\n",
    "    def predict(self):\n",
    "        if self.model is None or isinstance(self.model, str) and not self.model.endswith('.pkl'):\n",
    "            return self.__train_model()\n",
    "        else:\n",
    "            self.model = joblib.load(self.model) if isinstance(self.model, str) else self.model\n",
    "            self.scaler = joblib.load(self.scaler) if isinstance(self.scaler, str) else self.scaler\n",
    "            return self.__make_predictions()"
   ]
  },
  {
   "cell_type": "markdown",
   "metadata": {},
   "source": [
    "# Exemples d'Ús"
   ]
  },
  {
   "cell_type": "code",
   "execution_count": 6,
   "metadata": {},
   "outputs": [],
   "source": [
    "pipline = ModelPipelineSVM(data=data, objective='Depression (%)', scaler='scaler.pkl', model='svm_model.pkl')\n",
    "model, scaler, predictions, mse = pipline.predict()"
   ]
  },
  {
   "cell_type": "code",
   "execution_count": 7,
   "metadata": {},
   "outputs": [
    {
     "name": "stdout",
     "output_type": "stream",
     "text": [
      "SVR()\n",
      "StandardScaler()\n",
      "[3.44743687 2.59499424 3.47901869 ... 3.52609215 3.52361465 3.56079922]\n",
      "None\n"
     ]
    }
   ],
   "source": [
    "print(model)\n",
    "print(scaler)\n",
    "print(predictions)\n",
    "print(mse)"
   ]
  },
  {
   "cell_type": "code",
   "execution_count": 8,
   "metadata": {},
   "outputs": [],
   "source": [
    "pipline = ModelPipelineSVM(data=data, objective='Depression (%)')\n",
    "model, scaler, predictions, mse = pipline.predict()"
   ]
  },
  {
   "cell_type": "code",
   "execution_count": 9,
   "metadata": {},
   "outputs": [
    {
     "name": "stdout",
     "output_type": "stream",
     "text": [
      "SVR()\n",
      "StandardScaler()\n",
      "None\n",
      "0.011462895816162895\n"
     ]
    }
   ],
   "source": [
    "print(model)\n",
    "print(scaler)\n",
    "print(predictions)\n",
    "print(mse)"
   ]
  }
 ],
 "metadata": {
  "kernelspec": {
   "display_name": "bda",
   "language": "python",
   "name": "python3"
  },
  "language_info": {
   "codemirror_mode": {
    "name": "ipython",
    "version": 3
   },
   "file_extension": ".py",
   "mimetype": "text/x-python",
   "name": "python",
   "nbconvert_exporter": "python",
   "pygments_lexer": "ipython3",
   "version": "3.10.12"
  }
 },
 "nbformat": 4,
 "nbformat_minor": 2
}
