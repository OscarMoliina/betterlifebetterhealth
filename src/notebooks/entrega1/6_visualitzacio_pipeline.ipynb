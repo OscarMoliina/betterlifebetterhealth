{
  "cells": [
    {
      "cell_type": "markdown",
      "metadata": {
        "id": "fHEauMHmU_se"
      },
      "source": [
        "# **Visualització de l'evolució d'Europa envers dades socials, demogràfiques i socials**"
      ]
    },
    {
      "cell_type": "markdown",
      "metadata": {
        "id": "k90Vm3lYVLlv"
      },
      "source": [
        "## *Requisits d'execució*"
      ]
    },
    {
      "cell_type": "code",
      "execution_count": 1,
      "metadata": {
        "colab": {
          "base_uri": "https://localhost:8080/"
        },
        "id": "FU8Ohmszlyr1",
        "outputId": "750fa652-b06c-4bfe-afcb-9972785fd314"
      },
      "outputs": [],
      "source": [
        "#!pip3 install pyspark\n",
        "#!pip3 install duckdb\n",
        "import pyspark\n",
        "\n",
        "from pyspark.sql import SparkSession\n",
        "from pyspark.ml.feature import VectorAssembler\n",
        "from pyspark.ml.clustering import KMeans\n",
        "from pyspark.ml import Pipeline\n",
        "from pyspark.sql.functions import col, mean, when, lit, count\n",
        "from pyspark.sql.window import Window\n",
        "from pyspark.sql.functions import mean\n",
        "from pyspark.sql.functions import mean\n",
        "from pyspark.sql.types import IntegerType, DoubleType\n",
        "\n",
        "import pandas as pd\n",
        "import matplotlib.pyplot as plt\n",
        "import duckdb"
      ]
    },
    {
      "cell_type": "code",
      "execution_count": null,
      "metadata": {
        "colab": {
          "base_uri": "https://localhost:8080/"
        },
        "id": "wn6ygCCVcuGM",
        "outputId": "f37121dc-f530-4b5a-81ae-218b4b408ed5"
      },
      "outputs": [
        {
          "name": "stdout",
          "output_type": "stream",
          "text": [
            "Cloning into 'betterlifebetterhealth'...\n",
            "remote: Enumerating objects: 302, done.\u001b[K\n",
            "remote: Counting objects: 100% (147/147), done.\u001b[K\n",
            "remote: Compressing objects: 100% (118/118), done.\u001b[K\n",
            "remote: Total 302 (delta 45), reused 102 (delta 29), pack-reused 155\u001b[K\n",
            "Receiving objects: 100% (302/302), 98.71 MiB | 26.38 MiB/s, done.\n",
            "Resolving deltas: 100% (95/95), done.\n"
          ]
        }
      ],
      "source": [
        "!git clone https://github.com/OscarMoliina/betterlifebetterhealth.git"
      ]
    },
    {
      "cell_type": "markdown",
      "metadata": {
        "id": "DEEVBioPVR-_"
      },
      "source": [
        "## *Lectura de la base de dades*"
      ]
    },
    {
      "cell_type": "code",
      "execution_count": null,
      "metadata": {
        "id": "EP5AOjFNcoCW"
      },
      "outputs": [],
      "source": [
        "spark = SparkSession.builder \\\n",
        "    .appName(\"Preprocessing\") \\\n",
        "    .config(\"spark.jars\", \"/content/betterlifebetterhealth/src/utils/duckdb.jar\") \\\n",
        "    .getOrCreate()\n",
        "\n",
        "result = spark.read \\\n",
        "    .format(\"jdbc\") \\\n",
        "    .option(\"url\", \"jdbc:duckdb:/content/betterlifebetterhealth/data/db/exploitation_zone.db\") \\\n",
        "    .option(\"driver\", \"org.duckdb.DuckDBDriver\") \\\n",
        "    .option(\"dbtable\", \"join_table\") \\\n",
        "    .load()"
      ]
    },
    {
      "cell_type": "markdown",
      "metadata": {
        "id": "gDO9Qi3WVcdh"
      },
      "source": [
        "## *Anàlisi visual de les variables representatives*"
      ]
    },
    {
      "cell_type": "markdown",
      "metadata": {
        "id": "81UqgOLDVl4W"
      },
      "source": [
        "    En aquesta secció experimentarem l'evolució de les diferents variables presents a la base de dades. Farem ús d'eines visuals amb l'objectiu\n",
        "    de poder analitzar-les de manera més senzilla."
      ]
    },
    {
      "cell_type": "code",
      "execution_count": null,
      "metadata": {
        "id": "qknbZgWFAh3H"
      },
      "outputs": [],
      "source": [
        "import plotly.express as px\n",
        "\n",
        "df = result.toPandas() \n",
        "df = df.sort_values('Year')\n",
        "\n",
        "# Variables d'interès\n",
        "variables_of_interest = {\n",
        "    'E0': 'Expectativa de vida en néixer',\n",
        "    'Medage': 'Edat mitjana de la població',\n",
        "    'MR0_4': 'Taxa de mortalitat infantil',\n",
        "    'Female members of parliament, percent of total': 'Dones membres del parlament, percentatge del total',\n",
        "    'Economic activity rate': 'Taxa d\\'activitat econòmica'\n",
        "}\n",
        "\n",
        "# Definim els països d'interés\n",
        "european_countries = [\n",
        "    'Lithuania', 'Slovenia', 'Austria', 'Greece', 'Slovakia', 'Cyprus',\n",
        "    'Estonia', 'Ireland', 'Switzerland', 'Belgium', 'Romania',\n",
        "    'Sweden', 'Spain', 'Luxembourg', 'Hungary', 'Norway', 'Denmark',\n",
        "    'Montenegro', 'Ukraine', 'Italy', 'Turkey', 'Germany', 'Bulgaria',\n",
        "    'Bosnia and Herzegovina', 'Serbia', 'Poland', 'France', 'Latvia',\n",
        "    'United Kingdom', 'Iceland', 'Croatia', 'Albania', 'Netherlands',\n",
        "    'Portugal', 'Malta', 'Finland', 'Belarus'\n",
        "]\n",
        "\n",
        "# Filtrem la base de dades pels països seleccionats\n",
        "df_europe = df[df['Country'].isin(european_countries)]\n",
        "\n",
        "# Per cada variable\n",
        "for variable, title in variables_of_interest.items():\n",
        "    # Calculem els valors màxim i mínim amb l'objectiu d'establir una llegenda fixa\n",
        "    max_value = df_europe[variable].max()\n",
        "    min_value = df_europe[variable].min()\n",
        "\n",
        "    # Generar el mapa de cloroplet per Europa\n",
        "    fig = px.choropleth(df_europe,\n",
        "                        locations=\"Country\",\n",
        "                        locationmode='country names',\n",
        "                        color=variable,\n",
        "                        hover_name=\"Country\",\n",
        "                        animation_frame=\"Year\",\n",
        "                        color_continuous_scale=px.colors.sequential.Plasma,\n",
        "                        title=f'Evolució de {title} a Europa',\n",
        "                        range_color=[min_value, max_value])\n",
        "\n",
        "    fig.update_layout(geo=dict(scope='europe'))\n",
        "\n",
        "    fig.update_traces(colorbar=dict(\n",
        "        title=title,\n",
        "        x=0.9,\n",
        "        len=0.5,\n",
        "        y=0.5,\n",
        "        lenmode=\"fraction\",\n",
        "        thickness=20,\n",
        "        ypad=50\n",
        "    ))\n",
        "\n",
        "    fig.update_layout(\n",
        "        geo=dict(scope='europe'),\n",
        "        width=2000,  # Amplada de la figura\n",
        "        height=700   # Alçada de la figura\n",
        "    )\n",
        "\n",
        "    fig.show()\n"
      ]
    }
  ],
  "metadata": {
    "colab": {
      "provenance": []
    },
    "kernelspec": {
      "display_name": "Python 3",
      "name": "python3"
    },
    "language_info": {
      "codemirror_mode": {
        "name": "ipython",
        "version": 3
      },
      "file_extension": ".py",
      "mimetype": "text/x-python",
      "name": "python",
      "nbconvert_exporter": "python",
      "pygments_lexer": "ipython3",
      "version": "3.10.12"
    }
  },
  "nbformat": 4,
  "nbformat_minor": 0
}
