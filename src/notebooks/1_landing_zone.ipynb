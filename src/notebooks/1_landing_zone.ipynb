{
  "cells": [
    {
      "cell_type": "markdown",
      "metadata": {
        "id": "adgzc68wbdQL"
      },
      "source": [
        "# **Data Collectors and Landing Zone**"
      ]
    },
    {
      "cell_type": "markdown",
      "metadata": {
        "id": "zUYkg7_BbdQN"
      },
      "source": [
        "### *Required packages:*"
      ]
    },
    {
      "cell_type": "code",
      "execution_count": 1,
      "metadata": {
        "colab": {
          "base_uri": "https://localhost:8080/"
        },
        "id": "apk82QsIbeVN",
        "outputId": "56637397-2446-491c-f96d-817b7a41f778"
      },
      "outputs": [
        {
          "name": "stdout",
          "output_type": "stream",
          "text": [
            "Collecting opendatasets\n",
            "  Downloading opendatasets-0.1.22-py3-none-any.whl (15 kB)\n",
            "Requirement already satisfied: tqdm in /usr/local/lib/python3.10/dist-packages (from opendatasets) (4.66.2)\n",
            "Requirement already satisfied: kaggle in /usr/local/lib/python3.10/dist-packages (from opendatasets) (1.5.16)\n",
            "Requirement already satisfied: click in /usr/local/lib/python3.10/dist-packages (from opendatasets) (8.1.7)\n",
            "Requirement already satisfied: six>=1.10 in /usr/local/lib/python3.10/dist-packages (from kaggle->opendatasets) (1.16.0)\n",
            "Requirement already satisfied: certifi in /usr/local/lib/python3.10/dist-packages (from kaggle->opendatasets) (2024.2.2)\n",
            "Requirement already satisfied: python-dateutil in /usr/local/lib/python3.10/dist-packages (from kaggle->opendatasets) (2.8.2)\n",
            "Requirement already satisfied: requests in /usr/local/lib/python3.10/dist-packages (from kaggle->opendatasets) (2.31.0)\n",
            "Requirement already satisfied: python-slugify in /usr/local/lib/python3.10/dist-packages (from kaggle->opendatasets) (8.0.4)\n",
            "Requirement already satisfied: urllib3 in /usr/local/lib/python3.10/dist-packages (from kaggle->opendatasets) (2.0.7)\n",
            "Requirement already satisfied: bleach in /usr/local/lib/python3.10/dist-packages (from kaggle->opendatasets) (6.1.0)\n",
            "Requirement already satisfied: webencodings in /usr/local/lib/python3.10/dist-packages (from bleach->kaggle->opendatasets) (0.5.1)\n",
            "Requirement already satisfied: text-unidecode>=1.3 in /usr/local/lib/python3.10/dist-packages (from python-slugify->kaggle->opendatasets) (1.3)\n",
            "Requirement already satisfied: charset-normalizer<4,>=2 in /usr/local/lib/python3.10/dist-packages (from requests->kaggle->opendatasets) (3.3.2)\n",
            "Requirement already satisfied: idna<4,>=2.5 in /usr/local/lib/python3.10/dist-packages (from requests->kaggle->opendatasets) (3.7)\n",
            "Installing collected packages: opendatasets\n",
            "Successfully installed opendatasets-0.1.22\n",
            "Requirement already satisfied: kaggle in /usr/local/lib/python3.10/dist-packages (1.5.16)\n",
            "Requirement already satisfied: six>=1.10 in /usr/local/lib/python3.10/dist-packages (from kaggle) (1.16.0)\n",
            "Requirement already satisfied: certifi in /usr/local/lib/python3.10/dist-packages (from kaggle) (2024.2.2)\n",
            "Requirement already satisfied: python-dateutil in /usr/local/lib/python3.10/dist-packages (from kaggle) (2.8.2)\n",
            "Requirement already satisfied: requests in /usr/local/lib/python3.10/dist-packages (from kaggle) (2.31.0)\n",
            "Requirement already satisfied: tqdm in /usr/local/lib/python3.10/dist-packages (from kaggle) (4.66.2)\n",
            "Requirement already satisfied: python-slugify in /usr/local/lib/python3.10/dist-packages (from kaggle) (8.0.4)\n",
            "Requirement already satisfied: urllib3 in /usr/local/lib/python3.10/dist-packages (from kaggle) (2.0.7)\n",
            "Requirement already satisfied: bleach in /usr/local/lib/python3.10/dist-packages (from kaggle) (6.1.0)\n",
            "Requirement already satisfied: webencodings in /usr/local/lib/python3.10/dist-packages (from bleach->kaggle) (0.5.1)\n",
            "Requirement already satisfied: text-unidecode>=1.3 in /usr/local/lib/python3.10/dist-packages (from python-slugify->kaggle) (1.3)\n",
            "Requirement already satisfied: charset-normalizer<4,>=2 in /usr/local/lib/python3.10/dist-packages (from requests->kaggle) (3.3.2)\n",
            "Requirement already satisfied: idna<4,>=2.5 in /usr/local/lib/python3.10/dist-packages (from requests->kaggle) (3.7)\n",
            "Requirement already satisfied: openpyxl in /usr/local/lib/python3.10/dist-packages (3.1.2)\n",
            "Requirement already satisfied: et-xmlfile in /usr/local/lib/python3.10/dist-packages (from openpyxl) (1.1.0)\n",
            "Requirement already satisfied: pyarrow in /usr/local/lib/python3.10/dist-packages (14.0.2)\n",
            "Requirement already satisfied: numpy>=1.16.6 in /usr/local/lib/python3.10/dist-packages (from pyarrow) (1.25.2)\n"
          ]
        }
      ],
      "source": [
        " !pip install opendatasets\n",
        " !pip install kaggle\n",
        " !pip install openpyxl\n",
        " !pip install pyarrow"
      ]
    },
    {
      "cell_type": "code",
      "execution_count": 2,
      "metadata": {
        "id": "NNDcwVGMbdQN"
      },
      "outputs": [],
      "source": [
        "import numpy as np\n",
        "import pandas as pd\n",
        "import requests\n",
        "import os\n",
        "import opendatasets as od\n",
        "import csv\n",
        "import openpyxl\n",
        "import pyarrow"
      ]
    },
    {
      "cell_type": "markdown",
      "metadata": {
        "id": "K5I1B5YWBjIJ"
      },
      "source": [
        "### Kaggle Configuration - Drive\n",
        "\n",
        "(Requereix del fitxer `kaggle_fitxer.json`)"
      ]
    },
    {
      "cell_type": "code",
      "execution_count": 3,
      "metadata": {
        "id": "VuE6SuDbbdQO"
      },
      "outputs": [],
      "source": [
        "!mkdir ~/.kaggle"
      ]
    },
    {
      "cell_type": "code",
      "execution_count": 4,
      "metadata": {
        "colab": {
          "base_uri": "https://localhost:8080/"
        },
        "id": "aSBfKHGVcO6k",
        "outputId": "a8427c82-5e3f-482a-95b2-e7087d1ab283"
      },
      "outputs": [
        {
          "name": "stdout",
          "output_type": "stream",
          "text": [
            "--2024-04-22 19:06:08--  https://raw.githubusercontent.com/OscarMoliina/betterlifebetterhealth/main/src/utils/kaggle_user_config.json\n",
            "Resolving raw.githubusercontent.com (raw.githubusercontent.com)... 185.199.108.133, 185.199.109.133, 185.199.110.133, ...\n",
            "Connecting to raw.githubusercontent.com (raw.githubusercontent.com)|185.199.108.133|:443... connected.\n",
            "HTTP request sent, awaiting response... 200 OK\n",
            "Length: 73 [text/plain]\n",
            "Saving to: ‘kaggle_user_config.json’\n",
            "\n",
            "\rkaggle_user_config.   0%[                    ]       0  --.-KB/s               \rkaggle_user_config. 100%[===================>]      73  --.-KB/s    in 0s      \n",
            "\n",
            "2024-04-22 19:06:08 (1.14 MB/s) - ‘kaggle_user_config.json’ saved [73/73]\n",
            "\n"
          ]
        }
      ],
      "source": [
        "!wget https://raw.githubusercontent.com/OscarMoliina/betterlifebetterhealth/main/src/utils/kaggle_user_config.json"
      ]
    },
    {
      "cell_type": "code",
      "execution_count": 5,
      "metadata": {
        "id": "1XEIaZNJDFes"
      },
      "outputs": [],
      "source": [
        "!cp ./kaggle_user_config.json ~/.kaggle/kaggle.json"
      ]
    },
    {
      "cell_type": "code",
      "execution_count": 6,
      "metadata": {
        "colab": {
          "base_uri": "https://localhost:8080/"
        },
        "id": "QcZhAPOddK7J",
        "outputId": "daa56d00-f157-4826-fe00-5c3cf76bfbef"
      },
      "outputs": [
        {
          "name": "stdout",
          "output_type": "stream",
          "text": [
            "kaggle.json\n"
          ]
        }
      ],
      "source": [
        "!cd ~/.kaggle && ls"
      ]
    },
    {
      "cell_type": "markdown",
      "metadata": {
        "id": "M6yPEZ4cFnXq"
      },
      "source": [
        "### Downloading datasets"
      ]
    },
    {
      "cell_type": "code",
      "execution_count": 7,
      "metadata": {
        "colab": {
          "base_uri": "https://localhost:8080/"
        },
        "id": "6tg5ZpATDiZ3",
        "outputId": "cdfb87b3-6de5-4a9c-ae66-2e0739a11eb4"
      },
      "outputs": [
        {
          "name": "stdout",
          "output_type": "stream",
          "text": [
            "Directorio 'data' creado exitosamente.\n",
            "/content/data\n",
            "Directorio 'csv' creado exitosamente.\n",
            "Directorio 'parquet' creado exitosamente.\n",
            "/content\n"
          ]
        }
      ],
      "source": [
        "#CREAR DIRECTORIOS SI NO EXISTEN:\n",
        "\n",
        "# Nombre del directorio\n",
        "nombre_directorio = \"data\"\n",
        "\n",
        "# Verificar si el directorio existe\n",
        "if not os.path.exists(nombre_directorio):\n",
        "    # Crear el directorio\n",
        "    os.makedirs(nombre_directorio)\n",
        "    print(f\"Directorio '{nombre_directorio}' creado exitosamente.\")\n",
        "else:\n",
        "    print(f\"El directorio '{nombre_directorio}' ya existe.\")\n",
        "\n",
        "%cd data\n",
        "\n",
        "nombre_directorio = \"csv\"\n",
        "\n",
        "# Verificar si el directorio existe\n",
        "if not os.path.exists(nombre_directorio):\n",
        "    # Crear el directorio\n",
        "    os.makedirs(nombre_directorio)\n",
        "    print(f\"Directorio '{nombre_directorio}' creado exitosamente.\")\n",
        "else:\n",
        "    print(f\"El directorio '{nombre_directorio}' ya existe.\")\n",
        "\n",
        "nombre_directorio = \"parquet\"\n",
        "\n",
        "# Verificar si el directorio existe\n",
        "if not os.path.exists(nombre_directorio):\n",
        "    # Crear el directorio\n",
        "    os.makedirs(nombre_directorio)\n",
        "    print(f\"Directorio '{nombre_directorio}' creado exitosamente.\")\n",
        "else:\n",
        "    print(f\"El directorio '{nombre_directorio}' ya existe.\")\n",
        "\n",
        "%cd .."
      ]
    },
    {
      "cell_type": "markdown",
      "metadata": {
        "id": "em7RLPTgBjIR"
      },
      "source": [
        "##### UNECE"
      ]
    },
    {
      "cell_type": "code",
      "execution_count": 8,
      "metadata": {
        "id": "WBFeebdybdQO"
      },
      "outputs": [],
      "source": [
        "# URL del dataset UNECE\n",
        "unece_db = pd.read_json('https://query.data.world/s/qd6kjqguuvb573mffbpfysgpudi2pv?dws=00000')\n",
        "unece_db.to_csv('unece_db.csv', index=False)\n",
        "!mv unece_db.csv data/csv/unece_db.csv"
      ]
    },
    {
      "cell_type": "markdown",
      "metadata": {
        "id": "3l1DRQqJBjIS"
      },
      "source": [
        "##### Kaggle - Mental Health"
      ]
    },
    {
      "cell_type": "code",
      "execution_count": 9,
      "metadata": {
        "colab": {
          "base_uri": "https://localhost:8080/"
        },
        "id": "z0wFXEzObdQO",
        "outputId": "e386da39-c82f-4bb7-8b35-af76cc8c1cc6"
      },
      "outputs": [
        {
          "name": "stdout",
          "output_type": "stream",
          "text": [
            "Warning: Your Kaggle API key is readable by other users on this system! To fix this, you can run 'chmod 600 /root/.kaggle/kaggle.json'\n",
            "Downloading uncover-global-trends-in-mental-health-disorder.zip to /content\n",
            "  0% 0.00/1.24M [00:00<?, ?B/s]\n",
            "100% 1.24M/1.24M [00:00<00:00, 118MB/s]\n"
          ]
        }
      ],
      "source": [
        "# API Kaggle Mental Health\n",
        "!kaggle datasets download  -d 'thedevastator/uncover-global-trends-in-mental-health-disorder'"
      ]
    },
    {
      "cell_type": "code",
      "execution_count": 10,
      "metadata": {
        "colab": {
          "base_uri": "https://localhost:8080/"
        },
        "id": "jkmjJv8tBjIT",
        "outputId": "0a2562dd-bdd9-4ac3-c874-07924324a667"
      },
      "outputs": [
        {
          "name": "stdout",
          "output_type": "stream",
          "text": [
            "Archive:  uncover-global-trends-in-mental-health-disorder.zip\n",
            "  inflating: data/csv/Mental health Depression disorder Data.csv  \n"
          ]
        }
      ],
      "source": [
        "#!sudo apt-get install unzip\n",
        "!unzip uncover-global-trends-in-mental-health-disorder.zip -d data/csv\n",
        "!rm uncover-global-trends-in-mental-health-disorder.zip"
      ]
    },
    {
      "cell_type": "markdown",
      "metadata": {
        "id": "j5bQiCuHBjIU"
      },
      "source": [
        "##### USA Census"
      ]
    },
    {
      "cell_type": "code",
      "execution_count": 11,
      "metadata": {
        "colab": {
          "base_uri": "https://localhost:8080/"
        },
        "id": "GQRALOAOfFbw",
        "outputId": "3d591428-4e34-4294-a3a5-a0af1464f134"
      },
      "outputs": [
        {
          "name": "stdout",
          "output_type": "stream",
          "text": [
            "Les dades s'han guardat a dades_demogr_census.csv\n"
          ]
        }
      ],
      "source": [
        "# API United States Census\n",
        "variables = \"NAME\",\"YR\",\"AREA_KM2\",\"CBR\",\"CDR\",\"DEATHS\",\"E0\",\"GRR\",\"IMR\",\"MEDAGE\",\"MR0_4\",\"POP_DENS\",\"genc standard countries and areas\"\n",
        "url_base = \"https://api.census.gov/data/timeseries/idb/5year?get=NAME,YR,AREA_KM2,CBR,CDR,DEATHS,E0,GRR,IMR,MEDAGE,MR0_4,POP_DENS&for=genc%20standard%20countries%20and%20areas:*\".format(variables)\n",
        "\n",
        "# Llista per guardar les dades\n",
        "data = []\n",
        "\n",
        "# Fem una sol·licitud a l'API per agafar dades des de l'any 1990 fins al 2019\n",
        "for year in range(1990, 2019):\n",
        "    url = \"{}&time={}\".format(url_base, year)\n",
        "    response = requests.get(url)\n",
        "    if response.status_code == 200:\n",
        "        data.extend(response.json()[1:])\n",
        "\n",
        "# Guardar los datos en un archivo CSV\n",
        "csv_filename = \"dades_demogr_census.csv\"\n",
        "with open(csv_filename, \"w\", newline=\"\") as csv_file:\n",
        "    csv_writer = csv.writer(csv_file)\n",
        "    csv_writer.writerow([\"NAME\",\"YR\",\"AREA_KM2\",\"CBR\",\"CDR\",\"DEATHS\",\"E0\",\"GRR\",\"IMR\",\"MEDAGE\",\"MR0_4\",\"POP_DENS\",\"genc standard countries and areas\", \"code\"])\n",
        "    csv_writer.writerows(data)\n",
        "\n",
        "print(\"Les dades s'han guardat a\", csv_filename)\n",
        "\n",
        "!mv dades_demogr_census.csv data/csv/dades_demogr_census.csv\n"
      ]
    },
    {
      "cell_type": "markdown",
      "metadata": {
        "id": "mKveSjQpBjIV"
      },
      "source": [
        "#### Rename"
      ]
    },
    {
      "cell_type": "code",
      "execution_count": 12,
      "metadata": {
        "id": "NqZNuu6sBjIV"
      },
      "outputs": [],
      "source": [
        "!mv data/csv/dades_demogr_census.csv data/csv/demography.csv\n",
        "!mv data/csv/unece_db.csv data/csv/society.csv\n",
        "os.rename(\"data/csv/Mental health Depression disorder Data.csv\", \"data/csv/mental_health.csv\")\n"
      ]
    },
    {
      "cell_type": "markdown",
      "metadata": {
        "id": "NSg65l_YFunf"
      },
      "source": [
        "#### Storing files in a suitable format (Parquet)\n"
      ]
    },
    {
      "cell_type": "code",
      "execution_count": 13,
      "metadata": {
        "colab": {
          "base_uri": "https://localhost:8080/"
        },
        "id": "D0RQ2I1aG-cs",
        "outputId": "8c8eabd5-2e59-44bc-a7f3-9eff3f359721"
      },
      "outputs": [
        {
          "name": "stderr",
          "output_type": "stream",
          "text": [
            "<ipython-input-13-44486133161e>:6: DtypeWarning: Columns (7,8,9,10) have mixed types. Specify dtype option on import or set low_memory=False.\n",
            "  kaggle_db = pd.read_csv('data/csv/mental_health.csv', decimal=',')\n"
          ]
        }
      ],
      "source": [
        "# Unece_db\n",
        "unece_db = pd.read_csv('data/csv/society.csv')\n",
        "unece_db.to_parquet('data/parquet/society.parquet')\n",
        "\n",
        "# Kaggle db\n",
        "kaggle_db = pd.read_csv('data/csv/mental_health.csv', decimal=',')\n",
        "kaggle_db.to_parquet('data/parquet/mental_health.parquet')\n",
        "\n",
        "# United State Census db\n",
        "us_census_db = pd.read_csv('data/csv/demography.csv')\n",
        "us_census_db.to_parquet('data/parquet/demography.parquet')"
      ]
    },
    {
      "cell_type": "markdown",
      "metadata": {
        "id": "QJTk2epZKJ4O"
      },
      "source": [
        "#### Guardar parquets:"
      ]
    },
    {
      "cell_type": "code",
      "execution_count": 23,
      "metadata": {
        "colab": {
          "base_uri": "https://localhost:8080/"
        },
        "id": "hdzy3qolKM-W",
        "outputId": "a94aa1c0-4f87-44e2-f08e-018a415099e1"
      },
      "outputs": [
        {
          "name": "stdout",
          "output_type": "stream",
          "text": [
            "Cloning into 'betterlifebetterhealth'...\n",
            "remote: Enumerating objects: 178, done.\u001b[K\n",
            "remote: Counting objects:   4% (1/23)\u001b[K\rremote: Counting objects:   8% (2/23)\u001b[K\rremote: Counting objects:  13% (3/23)\u001b[K\rremote: Counting objects:  17% (4/23)\u001b[K\rremote: Counting objects:  21% (5/23)\u001b[K\rremote: Counting objects:  26% (6/23)\u001b[K\rremote: Counting objects:  30% (7/23)\u001b[K\rremote: Counting objects:  34% (8/23)\u001b[K\rremote: Counting objects:  39% (9/23)\u001b[K\rremote: Counting objects:  43% (10/23)\u001b[K\rremote: Counting objects:  47% (11/23)\u001b[K\rremote: Counting objects:  52% (12/23)\u001b[K\rremote: Counting objects:  56% (13/23)\u001b[K\rremote: Counting objects:  60% (14/23)\u001b[K\rremote: Counting objects:  65% (15/23)\u001b[K\rremote: Counting objects:  69% (16/23)\u001b[K\rremote: Counting objects:  73% (17/23)\u001b[K\rremote: Counting objects:  78% (18/23)\u001b[K\rremote: Counting objects:  82% (19/23)\u001b[K\rremote: Counting objects:  86% (20/23)\u001b[K\rremote: Counting objects:  91% (21/23)\u001b[K\rremote: Counting objects:  95% (22/23)\u001b[K\rremote: Counting objects: 100% (23/23)\u001b[K\rremote: Counting objects: 100% (23/23), done.\u001b[K\n",
            "remote: Compressing objects: 100% (19/19), done.\u001b[K\n",
            "remote: Total 178 (delta 6), reused 16 (delta 4), pack-reused 155\u001b[K\n",
            "Receiving objects: 100% (178/178), 88.27 MiB | 33.77 MiB/s, done.\n",
            "Resolving deltas: 100% (56/56), done.\n",
            "/content/betterlifebetterhealth/data/parquet/betterlifebetterhealth/data/parquet/betterlifebetterhealth/data/parquet\n"
          ]
        }
      ],
      "source": [
        "# Clone the repository\n",
        "!git clone https://github.com/OscarMoliina/betterlifebetterhealth.git\n",
        "%cd betterlifebetterhealth/data/parquet\n",
        "\n",
        "!rm -rf *\n",
        "!cp -R /content/data/parquet/* ."
      ]
    },
    {
      "cell_type": "code",
      "execution_count": 24,
      "metadata": {
        "id": "5TxiV1A6OI4N"
      },
      "outputs": [],
      "source": [
        "!git config --global credential.helper store"
      ]
    },
    {
      "cell_type": "code",
      "execution_count": 25,
      "metadata": {
        "colab": {
          "base_uri": "https://localhost:8080/"
        },
        "id": "qaXOKb76LtXr",
        "outputId": "2c76ad59-7591-4854-a928-a076372a6dda"
      },
      "outputs": [
        {
          "name": "stdout",
          "output_type": "stream",
          "text": [
            "[main 1bf60b1] Update parquet files\n",
            " 3 files changed, 0 insertions(+), 0 deletions(-)\n",
            " rewrite data/parquet/demography.parquet (77%)\n",
            "Enumerating objects: 13, done.\n",
            "Counting objects: 100% (13/13), done.\n",
            "Delta compression using up to 2 threads\n",
            "Compressing objects: 100% (7/7), done.\n",
            "Writing objects: 100% (7/7), 181.92 KiB | 60.64 MiB/s, done.\n",
            "Total 7 (delta 3), reused 1 (delta 0), pack-reused 0\n",
            "remote: Resolving deltas: 100% (3/3), completed with 3 local objects.\u001b[K\n",
            "To https://github.com/OscarMoliina/betterlifebetterhealth.git\n",
            "   85cae1f..1bf60b1  main -> main\n"
          ]
        }
      ],
      "source": [
        "#CODI A LA DOCUMENTACIO NO POSAT AQUÍ PER PRIVACITAT DE USUARI"
      ]
    }
  ],
  "metadata": {
    "colab": {
      "provenance": []
    },
    "kernelspec": {
      "display_name": "Python 3",
      "language": "python",
      "name": "python3"
    },
    "language_info": {
      "codemirror_mode": {
        "name": "ipython",
        "version": 3
      },
      "file_extension": ".py",
      "mimetype": "text/x-python",
      "name": "python",
      "nbconvert_exporter": "python",
      "pygments_lexer": "ipython3",
      "version": "3.10.5"
    }
  },
  "nbformat": 4,
  "nbformat_minor": 0
}
