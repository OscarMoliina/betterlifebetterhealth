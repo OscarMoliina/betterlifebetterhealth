{
  "cells": [
    {
      "cell_type": "markdown",
      "metadata": {
        "id": "adgzc68wbdQL"
      },
      "source": [
        "# **Data Collectors and Landing Zone**"
      ]
    },
    {
      "cell_type": "markdown",
      "metadata": {
        "id": "zUYkg7_BbdQN"
      },
      "source": [
        "### *Required packages:*"
      ]
    },
    {
      "cell_type": "code",
      "execution_count": 25,
      "metadata": {
        "colab": {
          "base_uri": "https://localhost:8080/"
        },
        "id": "apk82QsIbeVN",
        "outputId": "06c622d8-db1a-4319-9d1b-5087d8902d1c"
      },
      "outputs": [
        {
          "name": "stdout",
          "output_type": "stream",
          "text": [
            "Collecting pyarrow\n",
            "  Downloading pyarrow-15.0.2-cp310-cp310-manylinux_2_28_x86_64.whl (38.3 MB)\n",
            "\u001b[2K     \u001b[38;2;114;156;31m━━━━━━━━━━━━━━━━━━━━━━━━━━━━━━━━━━━━━━━━\u001b[0m \u001b[32m38.3/38.3 MB\u001b[0m \u001b[31m5.8 MB/s\u001b[0m eta \u001b[36m0:00:00\u001b[0mm eta \u001b[36m0:00:01\u001b[0m[36m0:00:01\u001b[0m\n",
            "\u001b[?25hRequirement already satisfied: numpy<2,>=1.16.6 in /home/oscarmolina/.venv/bda/lib/python3.10/site-packages (from pyarrow) (1.26.4)\n",
            "Installing collected packages: pyarrow\n",
            "Successfully installed pyarrow-15.0.2\n"
          ]
        }
      ],
      "source": [
        "# !pip install opendatasets\n",
        "# !pip install kaggle\n",
        "# !pip install openpyxl\n",
        "# !pip install pyarrow"
      ]
    },
    {
      "cell_type": "code",
      "execution_count": 26,
      "metadata": {
        "id": "NNDcwVGMbdQN"
      },
      "outputs": [],
      "source": [
        "import numpy as np\n",
        "import pandas as pd\n",
        "import requests\n",
        "import os\n",
        "import opendatasets as od\n",
        "import csv\n",
        "import openpyxl\n",
        "import pyarrow"
      ]
    },
    {
      "cell_type": "markdown",
      "metadata": {},
      "source": [
        "### Kaggle Configuration - Drive\n",
        "\n",
        "(Requereix del fitxer `kaggle_fitxer.json`)"
      ]
    },
    {
      "cell_type": "code",
      "execution_count": 11,
      "metadata": {
        "colab": {
          "base_uri": "https://localhost:8080/"
        },
        "id": "VuE6SuDbbdQO",
        "outputId": "6c817279-f54e-4bb3-ecf8-cfc8173f2d5a"
      },
      "outputs": [
        {
          "name": "stdout",
          "output_type": "stream",
          "text": [
            "mkdir: cannot create directory ‘/home/oscarmolina/.kaggle’: File exists\n"
          ]
        }
      ],
      "source": [
        "!mkdir ~/.kaggle"
      ]
    },
    {
      "cell_type": "code",
      "execution_count": 12,
      "metadata": {
        "id": "aSBfKHGVcO6k"
      },
      "outputs": [],
      "source": [
        "!cp ./kaggle_user_config.json ~/.kaggle/kaggle.json"
      ]
    },
    {
      "cell_type": "code",
      "execution_count": 13,
      "metadata": {
        "colab": {
          "base_uri": "https://localhost:8080/"
        },
        "id": "QcZhAPOddK7J",
        "outputId": "368e3453-8dcd-47a3-a626-6c9a3b125c16"
      },
      "outputs": [
        {
          "name": "stdout",
          "output_type": "stream",
          "text": [
            "kaggle.json\n"
          ]
        }
      ],
      "source": [
        "!cd ~/.kaggle && ls"
      ]
    },
    {
      "cell_type": "markdown",
      "metadata": {
        "id": "7I6iZEx5bdQO"
      },
      "source": [
        "### CODE"
      ]
    },
    {
      "cell_type": "markdown",
      "metadata": {
        "id": "M6yPEZ4cFnXq"
      },
      "source": [
        "#### Downloading datasets"
      ]
    },
    {
      "cell_type": "markdown",
      "metadata": {},
      "source": [
        "##### UNECE"
      ]
    },
    {
      "cell_type": "code",
      "execution_count": 14,
      "metadata": {
        "id": "WBFeebdybdQO"
      },
      "outputs": [],
      "source": [
        "# URL del dataset UNECE\n",
        "unece_db = pd.read_json('https://query.data.world/s/qd6kjqguuvb573mffbpfysgpudi2pv?dws=00000')\n",
        "unece_db.to_csv('unece_db.csv', index=False)\n",
        "!mv ./unece_db.csv ../data/unece_db.csv"
      ]
    },
    {
      "cell_type": "code",
      "execution_count": 21,
      "metadata": {},
      "outputs": [
        {
          "data": {
            "text/plain": [
              "Index(['Country', 'Year', 'Area (square kilometres)', 'Total population',\n",
              "       'Population density, pers. per sq. km', 'Population aged 0-14, male',\n",
              "       'Population aged 0-14, female', 'Population aged 15-64, male',\n",
              "       'Population aged 15-64, female', 'Population aged 64+, male',\n",
              "       'Population aged 64+, female', 'Total population, male (%)',\n",
              "       'Total population, female (%)', 'Life expectancy at birth, women',\n",
              "       'Life expectancy at birth, men', 'Life expectancy at age 65, women',\n",
              "       'Life expectancy at age 65, men', 'Total fertility rate',\n",
              "       'Adolescent fertility rate',\n",
              "       'Mean age of women at birth of first child',\n",
              "       'Computer use, 16-24, male', 'Computer use, 16-24, female',\n",
              "       'Computer use, 25-54, male', 'Computer use, 25-54, female',\n",
              "       'Computer use, 55-74, male', 'Computer use, 55-74, female',\n",
              "       'Women in the Labour Force, Percent of corresponding total for both sexes',\n",
              "       'Female part-time employment, percent of both sexes',\n",
              "       'Gender pay gap in monthly earnings',\n",
              "       'Gender pay gap in hourly earning wage rate',\n",
              "       'Female tertiary students, percent of total',\n",
              "       'Women Researchers, Percent of corresponding total for both sexes',\n",
              "       'Female legislators, senior officials and managers, percent of total',\n",
              "       'Female professionals, percent of total for both sexes',\n",
              "       'Female clerks, percent of total for both sexes',\n",
              "       'Female craft and related workers, percent of total for both sexes',\n",
              "       'Female plant and machine operators and assemblers, percent of total for both sexes',\n",
              "       'Female government ministers, percent of total',\n",
              "       'Female members of parliament, percent of total',\n",
              "       'Female ambassadors, percent of total',\n",
              "       'Female judges, percent of total',\n",
              "       'Women, percent of all victims of homicides',\n",
              "       'Total employment, growth rate', 'Unemployment rate',\n",
              "       'Youth unemployment rate', 'Economic acivity rate, women 15-64',\n",
              "       'Economic activity rate, men 15-64',\n",
              "       'GDP at current prices and PPPs, millions of US$',\n",
              "       'GDP at current prices, millions of NCUs',\n",
              "       'GDP per capita at current prices and PPPs, US$',\n",
              "       'GDP per capita at current prices, NCUs',\n",
              "       'Final consumption expenditure per capita, US Dollars, current PPPs',\n",
              "       'Purchasing power parity (PPP), NCU per US$',\n",
              "       'Exchange rate (XR), NCU per US$', 'Consumer price index, growth rate',\n",
              "       'Export of goods and services, per cent of GDP',\n",
              "       'Import of goods and services, per cent of GDP',\n",
              "       'External balance on goods and services, per cent of GDP',\n",
              "       'GDP in agriculture (ISIC4 A): output approach, index, 2005=100',\n",
              "       'GDP in industry (incl. construction) (ISIC4 B-F): output approach, index, 2005=100',\n",
              "       'GDP in services (ISIC4 G-U): output approach, index, 2005=100',\n",
              "       'GDP: in agriculture etc. (ISIC4 A), output approach, per cent share of GVA',\n",
              "       'GDP: in industry etc. (ISIC4 B-E), output approach, per cent share of GVA',\n",
              "       'GDP: in construction (ISIC4 F), output approach, per cent share of GVA',\n",
              "       'GDP: in trade, hospitality, transport and communication (ISIC4 G-J), output approach, per cent share of GVA',\n",
              "       'GDP: in finance and business services (ISIC4 K-N), output approach, per cent share of GVA',\n",
              "       'GDP: in public administration, education and health (ISIC4 O-Q), output approach, per cent share of GVA',\n",
              "       'GDP: in other service activities (ISIC4 R-U), output approach, per cent share of GVA',\n",
              "       'Employment in agriculture, hunting, forestry and fishing (ISIC Rev. 4 A), share of total employment',\n",
              "       'Employment in industry and energy (ISIC Rev. 4 B-E), share of total employment',\n",
              "       'Employment in construction (ISIC Rev. 4 F), share of total employment',\n",
              "       'Employment in trade, hotels, restaurants, transport and communications (ISIC Rev. 4 G-J), share of total employment',\n",
              "       'Employment in finance, real estate and business services (ISIC Rev. 4 K-N), share of total employment',\n",
              "       'Employment in public administration, education and health (ISIC Rev. 4 O-Q), share of total employment',\n",
              "       'Employment in other service activities (ISIC Rev. 4 R-U), share of total employment',\n",
              "       'Persons killed in road accidents', 'Persons injured in road accidents',\n",
              "       'Total length of motorways (km)', 'Total length of railway lines (km)'],\n",
              "      dtype='object')"
            ]
          },
          "execution_count": 21,
          "metadata": {},
          "output_type": "execute_result"
        }
      ],
      "source": [
        "unece_db.columns"
      ]
    },
    {
      "cell_type": "markdown",
      "metadata": {},
      "source": [
        "##### Kaggle - Mental Health"
      ]
    },
    {
      "cell_type": "code",
      "execution_count": 17,
      "metadata": {
        "colab": {
          "base_uri": "https://localhost:8080/"
        },
        "id": "z0wFXEzObdQO",
        "outputId": "edf33371-f4b5-4110-e45f-1151ae3768d5"
      },
      "outputs": [
        {
          "name": "stdout",
          "output_type": "stream",
          "text": [
            "Warning: Your Kaggle API key is readable by other users on this system! To fix this, you can run 'chmod 600 /home/oscarmolina/.kaggle/kaggle.json'\n",
            "Downloading uncover-global-trends-in-mental-health-disorder.zip to /home/oscarmolina/UNI/BDA/betterlifebetterhealth/src\n",
            " 81%|██████████████████████████████▌       | 1.00M/1.24M [00:00<00:00, 1.50MB/s]\n",
            "100%|██████████████████████████████████████| 1.24M/1.24M [00:00<00:00, 1.80MB/s]\n"
          ]
        }
      ],
      "source": [
        "# API Kaggle Mental Health\n",
        "!kaggle datasets download  -d 'thedevastator/uncover-global-trends-in-mental-health-disorder'"
      ]
    },
    {
      "cell_type": "code",
      "execution_count": 19,
      "metadata": {},
      "outputs": [
        {
          "name": "stdout",
          "output_type": "stream",
          "text": [
            "Archive:  uncover-global-trends-in-mental-health-disorder.zip\n",
            "  inflating: ../data/Mental health Depression disorder Data.csv  \n"
          ]
        }
      ],
      "source": [
        "#!sudo apt-get install unzip\n",
        "!unzip uncover-global-trends-in-mental-health-disorder.zip -d ../data/\n",
        "!rm uncover-global-trends-in-mental-health-disorder.zip"
      ]
    },
    {
      "cell_type": "markdown",
      "metadata": {},
      "source": [
        "##### USA Census"
      ]
    },
    {
      "cell_type": "code",
      "execution_count": 20,
      "metadata": {
        "colab": {
          "base_uri": "https://localhost:8080/"
        },
        "id": "GQRALOAOfFbw",
        "outputId": "d7c31f00-985f-44ff-fc79-ca9aeb30c6fc"
      },
      "outputs": [
        {
          "name": "stdout",
          "output_type": "stream",
          "text": [
            "Les dades s'han guardat a dades_demogr_census.csv\n"
          ]
        }
      ],
      "source": [
        "# API United States Census\n",
        "variables = \"NAME\",\"YR\",\"AREA_KM2\",\"CBR\",\"CDR\",\"DEATHS\",\"E0\",\"GRR\",\"IMR\",\"MEDAGE\",\"MR0_4\",\"POP_DENS\",\"genc standard countries and areas\"\n",
        "url_base = \"https://api.census.gov/data/timeseries/idb/5year?get=NAME,YR,AREA_KM2,CBR,CDR,DEATHS,E0,GRR,IMR,MEDAGE,MR0_4,POP_DENS&for=genc%20standard%20countries%20and%20areas:*\".format(variables)\n",
        "\n",
        "# Llista per guardar les dades\n",
        "data = []\n",
        "\n",
        "# Fem una sol·licitud a l'API per agafar dades des de l'any 1990 fins al 2019\n",
        "for year in range(1990, 2019):\n",
        "    url = \"{}&time={}\".format(url_base, year)\n",
        "    response = requests.get(url)\n",
        "    if response.status_code == 200:\n",
        "        data.extend(response.json()[1:])\n",
        "\n",
        "# Guardar los datos en un archivo CSV\n",
        "csv_filename = \"dades_demogr_census.csv\"\n",
        "with open(csv_filename, \"w\", newline=\"\") as csv_file:\n",
        "    csv_writer = csv.writer(csv_file)\n",
        "    csv_writer.writerow([\"NAME\",\"YR\",\"AREA_KM2\",\"CBR\",\"CDR\",\"DEATHS\",\"E0\",\"GRR\",\"IMR\",\"MEDAGE\",\"MR0_4\",\"POP_DENS\",\"genc standard countries and areas\", \"code\"])\n",
        "    csv_writer.writerows(data)\n",
        "\n",
        "print(\"Les dades s'han guardat a\", csv_filename)\n",
        "\n",
        "!mv ./dades_demogr_census.csv ../data/dades_demogr_census.csv\n"
      ]
    },
    {
      "cell_type": "markdown",
      "metadata": {},
      "source": [
        "#### Rename"
      ]
    },
    {
      "cell_type": "code",
      "execution_count": 22,
      "metadata": {},
      "outputs": [],
      "source": [
        "!mv ../data/dades_demogr_census.csv ../data/demography.csv\n",
        "!mv ../data/unece_db.csv ../data/society.csv\n",
        "#!mv ../data/Mental health Depression disorder Data.csv ../data/mental_health.csv"
      ]
    },
    {
      "cell_type": "markdown",
      "metadata": {
        "id": "NSg65l_YFunf"
      },
      "source": [
        "#### Storing files in a suitable format (Parquet)\n"
      ]
    },
    {
      "cell_type": "code",
      "execution_count": 27,
      "metadata": {
        "colab": {
          "base_uri": "https://localhost:8080/"
        },
        "id": "D0RQ2I1aG-cs",
        "outputId": "16d70c31-5056-4cf0-d96c-ecdb34611fe6"
      },
      "outputs": [
        {
          "name": "stderr",
          "output_type": "stream",
          "text": [
            "/tmp/ipykernel_68850/3970328731.py:6: DtypeWarning: Columns (7,8,9,10) have mixed types. Specify dtype option on import or set low_memory=False.\n",
            "  kaggle_db = pd.read_csv('../data/mental_health.csv', decimal=',')\n"
          ]
        }
      ],
      "source": [
        "# Unece_db\n",
        "unece_db = pd.read_csv('../data/society.csv')\n",
        "unece_db.to_parquet('../data/society.parquet')\n",
        "\n",
        "# Kaggle db\n",
        "kaggle_db = pd.read_csv('../data/mental_health.csv', decimal=',')\n",
        "kaggle_db.to_parquet('../data/mental_health.parquet')\n",
        "\n",
        "# United State Census db\n",
        "us_census_db = pd.read_csv('../data/demography.csv')\n",
        "us_census_db.to_parquet('../data/demography.parquet')"
      ]
    }
  ],
  "metadata": {
    "colab": {
      "provenance": []
    },
    "kernelspec": {
      "display_name": "Python 3",
      "language": "python",
      "name": "python3"
    },
    "language_info": {
      "codemirror_mode": {
        "name": "ipython",
        "version": 3
      },
      "file_extension": ".py",
      "mimetype": "text/x-python",
      "name": "python",
      "nbconvert_exporter": "python",
      "pygments_lexer": "ipython3",
      "version": "3.10.12"
    }
  },
  "nbformat": 4,
  "nbformat_minor": 0
}
