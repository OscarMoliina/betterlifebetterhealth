{
  "cells": [
    {
      "cell_type": "markdown",
      "metadata": {
        "id": "6VpskOM01Zxu"
      },
      "source": [
        "# **EXPLOITATION ZONE**"
      ]
    },
    {
      "cell_type": "code",
      "execution_count": 1,
      "metadata": {
        "colab": {
          "base_uri": "https://localhost:8080/"
        },
        "id": "imd5IYheylC6",
        "outputId": "9fd82b5b-f07d-4346-b021-54d923208551"
      },
      "outputs": [
        {
          "output_type": "stream",
          "name": "stdout",
          "text": [
            "Cloning into 'betterlifebetterhealth'...\n",
            "remote: Enumerating objects: 278, done.\u001b[K\n",
            "remote: Counting objects: 100% (123/123), done.\u001b[K\n",
            "remote: Compressing objects: 100% (96/96), done.\u001b[K\n",
            "remote: Total 278 (delta 38), reused 95 (delta 27), pack-reused 155\u001b[K\n",
            "Receiving objects: 100% (278/278), 98.52 MiB | 20.45 MiB/s, done.\n",
            "Resolving deltas: 100% (88/88), done.\n",
            "Updating files: 100% (36/36), done.\n"
          ]
        }
      ],
      "source": [
        "!git clone https://github.com/OscarMoliina/betterlifebetterhealth.git"
      ]
    },
    {
      "cell_type": "code",
      "execution_count": 2,
      "metadata": {
        "colab": {
          "base_uri": "https://localhost:8080/"
        },
        "id": "S40elpj8yrFJ",
        "outputId": "a5e90037-6526-44ce-9acf-a4581c28f302"
      },
      "outputs": [
        {
          "output_type": "stream",
          "name": "stdout",
          "text": [
            "Collecting pyspark\n",
            "  Downloading pyspark-3.5.1.tar.gz (317.0 MB)\n",
            "\u001b[2K     \u001b[90m━━━━━━━━━━━━━━━━━━━━━━━━━━━━━━━━━━━━━━━━\u001b[0m \u001b[32m317.0/317.0 MB\u001b[0m \u001b[31m3.8 MB/s\u001b[0m eta \u001b[36m0:00:00\u001b[0m\n",
            "\u001b[?25h  Preparing metadata (setup.py) ... \u001b[?25l\u001b[?25hdone\n",
            "Requirement already satisfied: py4j==0.10.9.7 in /usr/local/lib/python3.10/dist-packages (from pyspark) (0.10.9.7)\n",
            "Building wheels for collected packages: pyspark\n",
            "  Building wheel for pyspark (setup.py) ... \u001b[?25l\u001b[?25hdone\n",
            "  Created wheel for pyspark: filename=pyspark-3.5.1-py2.py3-none-any.whl size=317488491 sha256=d8756cdfe3130239238fa8c0bacfd9b34c8e943fddbb125b1dcb28763ca199e5\n",
            "  Stored in directory: /root/.cache/pip/wheels/80/1d/60/2c256ed38dddce2fdd93be545214a63e02fbd8d74fb0b7f3a6\n",
            "Successfully built pyspark\n",
            "Installing collected packages: pyspark\n",
            "Successfully installed pyspark-3.5.1\n"
          ]
        }
      ],
      "source": [
        "!pip3 install pyspark\n",
        "import pyspark\n",
        "\n",
        "from pyspark.sql import SparkSession\n",
        "from pyspark.ml.feature import VectorAssembler\n",
        "from pyspark.ml.clustering import KMeans\n",
        "from pyspark.ml import Pipeline\n",
        "from pyspark.sql.functions import col, mean, when, lit, count\n",
        "from pyspark.sql.window import Window\n",
        "from pyspark.sql.functions import mean\n",
        "from pyspark.sql.functions import mean\n",
        "from pyspark.sql.types import IntegerType, DoubleType\n",
        "\n",
        "import pandas as pd\n",
        "import matplotlib.pyplot as plt\n",
        "import duckdb"
      ]
    },
    {
      "cell_type": "markdown",
      "metadata": {
        "id": "RTzhXM0E1xfw"
      },
      "source": [
        "**Connexió:**"
      ]
    },
    {
      "cell_type": "code",
      "execution_count": 5,
      "metadata": {
        "id": "DsQxRFHey1cg"
      },
      "outputs": [],
      "source": [
        "spark = SparkSession.builder \\\n",
        "    .appName(\"Preprocessing\") \\\n",
        "    .config(\"spark.jars\", \"/content/betterlifebetterhealth/src/utils/duckdb.jar\") \\\n",
        "    .getOrCreate()\n",
        "\n",
        "dem = spark.read \\\n",
        "    .format(\"jdbc\") \\\n",
        "    .option(\"url\", \"jdbc:duckdb:/content/betterlifebetterhealth/data/db/trusted_zone.db\") \\\n",
        "    .option(\"driver\", \"org.duckdb.DuckDBDriver\") \\\n",
        "    .option(\"dbtable\", \"dem\") \\\n",
        "    .load()\n",
        "\n",
        "mh = spark.read \\\n",
        "    .format(\"jdbc\") \\\n",
        "    .option(\"url\", \"jdbc:duckdb:/content/betterlifebetterhealth/data/db/trusted_zone.db\") \\\n",
        "    .option(\"driver\", \"org.duckdb.DuckDBDriver\") \\\n",
        "    .option(\"dbtable\", \"mh\") \\\n",
        "    .load()\n",
        "\n",
        "soc = spark.read \\\n",
        "    .format(\"jdbc\") \\\n",
        "    .option(\"url\", \"jdbc:duckdb:/content/betterlifebetterhealth/data/db/trusted_zone.db\") \\\n",
        "    .option(\"driver\", \"org.duckdb.DuckDBDriver\") \\\n",
        "    .option(\"dbtable\", \"soc\") \\\n",
        "    .load()"
      ]
    },
    {
      "cell_type": "markdown",
      "metadata": {
        "id": "bxoRJtH70-sL"
      },
      "source": [
        "**RECONCILIACIÓ DE LES DADES**"
      ]
    },
    {
      "cell_type": "markdown",
      "metadata": {
        "id": "gLxxAHBDRD8k"
      },
      "source": [
        "El codi següent té una execució molt lenta ja que ha d'anar fila per fila fent un request a la API. En el nostre cas els països estan sempre en anglès en els 3 dataframes. Deixem el codi per si de cas, però no cal executar-lo a no ser que canviessin les fonts de dades."
      ]
    },
    {
      "cell_type": "code",
      "execution_count": null,
      "metadata": {
        "id": "D58Yv4JHz0kz"
      },
      "outputs": [],
      "source": [
        "\"\"\"\n",
        "import requests\n",
        "\n",
        "def get_wikidata_id(country_name):\n",
        "    url = 'https://www.wikidata.org/w/api.php'\n",
        "    params = {\n",
        "        'action': 'wbsearchentities',\n",
        "        'language': 'en',\n",
        "        'format': 'json',\n",
        "        'search': country_name,\n",
        "        'type': 'item'\n",
        "    }\n",
        "    response = requests.get(url, params=params)\n",
        "    if response.status_code == 200:\n",
        "        results = response.json().get('search')\n",
        "        if results:\n",
        "            for result in results:\n",
        "                if result.get('label').lower() == country_name.lower():\n",
        "                    return result['id']\n",
        "    return None\n",
        "\n",
        "dem_pd = dem.toPandas()\n",
        "soc_pd = soc.toPandas()\n",
        "mh_pd = mh.toPandas()\n",
        "\n",
        "dem_pd['Country'].apply(get_wikidata_id)\n",
        "soc_pd['Country'].apply(get_wikidata_id)\n",
        "mh_pd['Country'].apply(get_wikidata_id)\n",
        "\n",
        "dem = dem_pd.to_sql('dem', conn, if_exists='fail')\n",
        "soc = soc_pd.to_sql('soc', conn, if_exists='fail')\n",
        "mh = mh_pd.to_sql('mh', conn, if_exists='fail')\n",
        "\n",
        "\"\"\""
      ]
    },
    {
      "cell_type": "markdown",
      "metadata": {
        "id": "J_lv7npK3QsL"
      },
      "source": [
        "**JOIN**"
      ]
    },
    {
      "cell_type": "code",
      "execution_count": null,
      "metadata": {
        "colab": {
          "base_uri": "https://localhost:8080/"
        },
        "id": "Qv2ZsZAU3UYk",
        "outputId": "57cf5cee-9975-4637-c39a-ecb05228338c"
      },
      "outputs": [
        {
          "data": {
            "text/plain": [
              "['Country',\n",
              " 'Year',\n",
              " 'Schizophrenia (%)',\n",
              " 'Bipolar disorder (%)',\n",
              " 'Eating disorders (%)',\n",
              " 'Anxiety disorders (%)',\n",
              " 'Drug use disorders (%)',\n",
              " 'Depression (%)',\n",
              " 'Alcohol use disorders (%)']"
            ]
          },
          "execution_count": 5,
          "metadata": {},
          "output_type": "execute_result"
        }
      ],
      "source": [
        "mh.columns"
      ]
    },
    {
      "cell_type": "code",
      "execution_count": null,
      "metadata": {
        "colab": {
          "base_uri": "https://localhost:8080/"
        },
        "id": "qfSKAYYC3eV4",
        "outputId": "ecea48f0-6689-448f-f31c-43f996077071"
      },
      "outputs": [
        {
          "data": {
            "text/plain": [
              "['Country',\n",
              " 'Year',\n",
              " 'Area_Km2',\n",
              " 'CBR',\n",
              " 'CDR',\n",
              " 'Deaths',\n",
              " 'E0',\n",
              " 'Medage',\n",
              " 'MR0_4',\n",
              " 'Pop_Dens',\n",
              " 'GSCA']"
            ]
          },
          "execution_count": 6,
          "metadata": {},
          "output_type": "execute_result"
        }
      ],
      "source": [
        "dem.columns"
      ]
    },
    {
      "cell_type": "code",
      "execution_count": null,
      "metadata": {
        "colab": {
          "base_uri": "https://localhost:8080/"
        },
        "id": "RTPBAFo83fuS",
        "outputId": "252517b1-ea2c-4871-b0b5-017fdb56225b"
      },
      "outputs": [
        {
          "data": {
            "text/plain": [
              "['Country',\n",
              " 'Year',\n",
              " 'Total population',\n",
              " 'Total population, male (%)',\n",
              " 'Total population, female (%)',\n",
              " 'Mean age of women at birth of first child',\n",
              " 'Women in the Labour Force, Percent of corresponding total for both sexes',\n",
              " 'Female tertiary students, percent of total',\n",
              " 'Female legislators, senior officials and managers, percent of total',\n",
              " 'Female professionals, percent of total for both sexes',\n",
              " 'Female clerks, percent of total for both sexes',\n",
              " 'Female craft and related workers, percent of total for both sexes',\n",
              " 'Female plant and machine operators and assemblers, percent of total for both sexes',\n",
              " 'Female members of parliament, percent of total',\n",
              " 'Total employment, growth rate',\n",
              " 'Unemployment rate',\n",
              " 'Youth unemployment rate',\n",
              " 'GDP at current prices and PPPs, millions of US$',\n",
              " 'GDP per capita at current prices and PPPs, US$',\n",
              " 'Final consumption expenditure per capita, US Dollars, current PPPs',\n",
              " 'Purchasing power parity (PPP), NCU per US$',\n",
              " 'Consumer price index, growth rate',\n",
              " 'Export of goods and services, per cent of GDP',\n",
              " 'Import of goods and services, per cent of GDP',\n",
              " 'External balance on goods and services, per cent of GDP',\n",
              " 'GDP: in agriculture etc (ISIC4 A), output approach, per cent share of GVA',\n",
              " 'GDP: in industry etc (ISIC4 B-E), output approach, per cent share of GVA',\n",
              " 'GDP: in construction (ISIC4 F), output approach, per cent share of GVA',\n",
              " 'GDP: in trade, hospitality, transport and communication (ISIC4 G-J), output approach, per cent share of GVA',\n",
              " 'GDP: in finance and business services (ISIC4 K-N), output approach, per cent share of GVA',\n",
              " 'GDP: in public administration, education and health (ISIC4 O-Q), output approach, per cent share of GVA',\n",
              " 'GDP: in other service activities (ISIC4 R-U), output approach, per cent share of GVA',\n",
              " 'Population aged 0-14',\n",
              " 'Population aged 15-64',\n",
              " 'Population aged 64+',\n",
              " 'Life expectancy at birth',\n",
              " 'Life expectancy at age 65',\n",
              " 'Economic activity rate']"
            ]
          },
          "execution_count": 7,
          "metadata": {},
          "output_type": "execute_result"
        }
      ],
      "source": [
        "soc.columns"
      ]
    },
    {
      "cell_type": "code",
      "execution_count": 6,
      "metadata": {
        "id": "1tCB-6kP-nkc"
      },
      "outputs": [],
      "source": [
        "# Realiza el primer join y selecciona las columnas deseadas, renombrando para evitar duplicados si es necesario\n",
        "joined_data = dem.join(mh, (dem[\"Country\"] == mh[\"Country\"]) & (dem[\"Year\"] == mh[\"Year\"]), \"inner\")\n",
        "selected_columns = [dem[col] for col in dem.columns] + [mh[col] for col in mh.columns if col not in [\"Country\", \"Year\"]]\n",
        "first_join = joined_data.select(*selected_columns)\n",
        "\n",
        "# Realiza el segundo join y selecciona las columnas deseadas, evitando duplicados\n",
        "final_join = first_join.join(soc, (first_join[\"Country\"] == soc[\"Country\"]) & (first_join[\"Year\"] == soc[\"Year\"]), \"inner\")\n",
        "selected_columns_final = [first_join[col] for col in first_join.columns] + [soc[col] for col in soc.columns if col not in [\"Country\", \"Year\"]]\n",
        "result = final_join.select(*selected_columns_final)\n"
      ]
    },
    {
      "cell_type": "code",
      "execution_count": 7,
      "metadata": {
        "id": "s_mqhu8WSrBK"
      },
      "outputs": [],
      "source": [
        "result.write \\\n",
        "    .format(\"jdbc\") \\\n",
        "    .option(\"url\", \"jdbc:duckdb:exploitation_zone.db\") \\\n",
        "    .option(\"dbtable\", \"join_table\") \\\n",
        "    .option(\"driver\", \"org.duckdb.DuckDBDriver\") \\\n",
        "    .save()"
      ]
    },
    {
      "cell_type": "markdown",
      "source": [
        "**GUARDAR DB A GITHUB**"
      ],
      "metadata": {
        "id": "jkigJTfIPoKb"
      }
    },
    {
      "cell_type": "code",
      "source": [
        "# Clone the repository\n",
        "%cd betterlifebetterhealth/data/db\n",
        "\n",
        "# Remove old files\n",
        "!rm -rf exploitation_zone.db\n",
        "\n",
        "# Copy new files from your local directory to this directory\n",
        "!cp -R /content/*.db ."
      ],
      "metadata": {
        "colab": {
          "base_uri": "https://localhost:8080/"
        },
        "id": "Y1d171-HPsHX",
        "outputId": "08d4b47a-e3ed-4fef-fe0b-6b0b3ba2580e"
      },
      "execution_count": 8,
      "outputs": [
        {
          "output_type": "stream",
          "name": "stdout",
          "text": [
            "/content/betterlifebetterhealth/data/db\n"
          ]
        }
      ]
    },
    {
      "cell_type": "code",
      "source": [
        "#CODI A LA DOCUMENTACIO NO POSAT AQUÍ PER PRIVACITAT DE USUARI"
      ],
      "metadata": {
        "id": "oIKKnLDWPtIW"
      },
      "execution_count": 10,
      "outputs": []
    }
  ],
  "metadata": {
    "colab": {
      "provenance": []
    },
    "kernelspec": {
      "display_name": "Python 3",
      "name": "python3"
    },
    "language_info": {
      "name": "python"
    }
  },
  "nbformat": 4,
  "nbformat_minor": 0
}