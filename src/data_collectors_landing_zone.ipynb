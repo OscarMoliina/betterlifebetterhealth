{
  "cells": [
    {
      "cell_type": "markdown",
      "metadata": {
        "id": "adgzc68wbdQL"
      },
      "source": [
        "# **Data Collectors and Landing Zone**"
      ]
    },
    {
      "cell_type": "markdown",
      "metadata": {
        "id": "zUYkg7_BbdQN"
      },
      "source": [
        "### *Required packages:*"
      ]
    },
    {
      "cell_type": "code",
      "source": [
        "#!pip install opendatasets\n",
        "#!pip install kaggle\n",
        "#!pip install openpyxl"
      ],
      "metadata": {
        "colab": {
          "base_uri": "https://localhost:8080/"
        },
        "id": "apk82QsIbeVN",
        "outputId": "06c622d8-db1a-4319-9d1b-5087d8902d1c"
      },
      "execution_count": null,
      "outputs": [
        {
          "output_type": "stream",
          "name": "stdout",
          "text": [
            "Requirement already satisfied: openpyxl in /usr/local/lib/python3.10/dist-packages (3.1.2)\n",
            "Requirement already satisfied: et-xmlfile in /usr/local/lib/python3.10/dist-packages (from openpyxl) (1.1.0)\n"
          ]
        }
      ]
    },
    {
      "cell_type": "code",
      "execution_count": null,
      "metadata": {
        "id": "NNDcwVGMbdQN"
      },
      "outputs": [],
      "source": [
        "import numpy as np\n",
        "import pandas as pd\n",
        "import requests\n",
        "import os\n",
        "import opendatasets as od\n",
        "import csv\n",
        "import openpyxl"
      ]
    },
    {
      "cell_type": "code",
      "execution_count": null,
      "metadata": {
        "colab": {
          "base_uri": "https://localhost:8080/"
        },
        "id": "VuE6SuDbbdQO",
        "outputId": "6c817279-f54e-4bb3-ecf8-cfc8173f2d5a"
      },
      "outputs": [
        {
          "output_type": "stream",
          "name": "stdout",
          "text": [
            "mkdir: cannot create directory ‘/root/.kaggle’: File exists\n"
          ]
        }
      ],
      "source": [
        "!mkdir ~/.kaggle"
      ]
    },
    {
      "cell_type": "code",
      "source": [
        "!cp /kaggle_fitxer.json /kaggle/kaggle.json"
      ],
      "metadata": {
        "id": "aSBfKHGVcO6k"
      },
      "execution_count": null,
      "outputs": []
    },
    {
      "cell_type": "code",
      "source": [
        "!cd /kaggle && ls"
      ],
      "metadata": {
        "colab": {
          "base_uri": "https://localhost:8080/"
        },
        "id": "QcZhAPOddK7J",
        "outputId": "368e3453-8dcd-47a3-a626-6c9a3b125c16"
      },
      "execution_count": null,
      "outputs": [
        {
          "output_type": "stream",
          "name": "stdout",
          "text": [
            "input  kaggle.json\n"
          ]
        }
      ]
    },
    {
      "cell_type": "markdown",
      "metadata": {
        "id": "7I6iZEx5bdQO"
      },
      "source": [
        "### *Code:*"
      ]
    },
    {
      "cell_type": "markdown",
      "source": [
        "#### Downloading datasets"
      ],
      "metadata": {
        "id": "M6yPEZ4cFnXq"
      }
    },
    {
      "cell_type": "code",
      "execution_count": null,
      "metadata": {
        "id": "WBFeebdybdQO"
      },
      "outputs": [],
      "source": [
        "# URL del dataset UNECE\n",
        "unece_db = pd.read_json('https://query.data.world/s/qd6kjqguuvb573mffbpfysgpudi2pv?dws=00000')\n",
        "unece_db.to_csv('unece_db.csv', index=False)\n",
        "!mv /content/unece_db.csv /content/data/unece_db.csv"
      ]
    },
    {
      "cell_type": "code",
      "execution_count": null,
      "metadata": {
        "colab": {
          "base_uri": "https://localhost:8080/"
        },
        "id": "z0wFXEzObdQO",
        "outputId": "edf33371-f4b5-4110-e45f-1151ae3768d5"
      },
      "outputs": [
        {
          "output_type": "stream",
          "name": "stdout",
          "text": [
            "Warning: Your Kaggle API key is readable by other users on this system! To fix this, you can run 'chmod 600 /root/.kaggle/kaggle.json'\n",
            "uncover-global-trends-in-mental-health-disorder.zip: Skipping, found more recently modified local copy (use --force to force download)\n",
            "Archive:  uncover-global-trends-in-mental-health-disorder.zip\n",
            "replace data/Mental health Depression disorder Data.csv? [y]es, [n]o, [A]ll, [N]one, [r]ename: "
          ]
        }
      ],
      "source": [
        "# API Kaggle Mental Health\n",
        "!kaggle datasets download  -d 'thedevastator/uncover-global-trends-in-mental-health-disorder'\n",
        "#!sudo apt-get install unzip\n",
        "!unzip uncover-global-trends-in-mental-health-disorder.zip -d data/"
      ]
    },
    {
      "cell_type": "code",
      "source": [
        "# API United States Census\n",
        "variables = \"NAME\",\"YR\",\"AREA_KM2\",\"CBR\",\"CDR\",\"DEATHS\",\"E0\",\"GRR\",\"IMR\",\"MEDAGE\",\"MR0_4\",\"POP_DENS\",\"genc standard countries and areas\"\n",
        "url_base = \"https://api.census.gov/data/timeseries/idb/5year?get=NAME,YR,AREA_KM2,CBR,CDR,DEATHS,E0,GRR,IMR,MEDAGE,MR0_4,POP_DENS&for=genc%20standard%20countries%20and%20areas:*\".format(variables)\n",
        "\n",
        "# Llista per guardar les dades\n",
        "data = []\n",
        "\n",
        "# Fem una sol·licitud a l'API per agafar dades des de l'any 1990 fins al 2019\n",
        "for year in range(1990, 2019):\n",
        "    url = \"{}&time={}\".format(url_base, year)\n",
        "    response = requests.get(url)\n",
        "    if response.status_code == 200:\n",
        "        data.extend(response.json()[1:])\n",
        "\n",
        "# Guardar los datos en un archivo CSV\n",
        "csv_filename = \"dades_demogr_census.csv\"\n",
        "with open(csv_filename, \"w\", newline=\"\") as csv_file:\n",
        "    csv_writer = csv.writer(csv_file)\n",
        "    csv_writer.writerow([\"NAME\",\"YR\",\"AREA_KM2\",\"CBR\",\"CDR\",\"DEATHS\",\"E0\",\"GRR\",\"IMR\",\"MEDAGE\",\"MR0_4\",\"POP_DENS\",\"genc standard countries and areas\", \"code\"])\n",
        "    csv_writer.writerows(data)\n",
        "\n",
        "print(\"Les dades s'han guardat a\", csv_filename)\n",
        "\n",
        "!mv /content/dades_demogr_census.csv /content/data/dades_demogr_census.csv\n"
      ],
      "metadata": {
        "colab": {
          "base_uri": "https://localhost:8080/"
        },
        "id": "GQRALOAOfFbw",
        "outputId": "d7c31f00-985f-44ff-fc79-ca9aeb30c6fc"
      },
      "execution_count": null,
      "outputs": [
        {
          "output_type": "stream",
          "name": "stdout",
          "text": [
            "Les dades s'han guardat a dades_demogr_census.csv\n"
          ]
        }
      ]
    },
    {
      "cell_type": "markdown",
      "source": [
        "#### Storing files in a suitable format (Parquet)\n"
      ],
      "metadata": {
        "id": "NSg65l_YFunf"
      }
    },
    {
      "cell_type": "code",
      "source": [
        "# Unece_db\n",
        "unece_db.to_parquet('/content/data/unece_db.parquet')\n",
        "\n",
        "# Kaggle db\n",
        "kaggle_db = pd.read_csv('/content/data/Mental health Depression disorder Data.csv', decimal=',')\n",
        "kaggle_db.to_parquet('/content/data/kaggle_db.parquet')\n",
        "\n",
        "# United State Census db\n",
        "us_census_db = pd.read_csv('/content/data/dades_demogr_census.csv')\n",
        "us_census_db.to_parquet('/content/data/us_census_db.parquet')"
      ],
      "metadata": {
        "colab": {
          "base_uri": "https://localhost:8080/"
        },
        "id": "D0RQ2I1aG-cs",
        "outputId": "16d70c31-5056-4cf0-d96c-ecdb34611fe6"
      },
      "execution_count": 58,
      "outputs": [
        {
          "output_type": "stream",
          "name": "stderr",
          "text": [
            "<ipython-input-58-a336a83c75fc>:5: DtypeWarning: Columns (7,8,9,10) have mixed types. Specify dtype option on import or set low_memory=False.\n",
            "  kaggle_db = pd.read_csv('/content/data/Mental health Depression disorder Data.csv', decimal=',')\n"
          ]
        }
      ]
    }
  ],
  "metadata": {
    "kernelspec": {
      "display_name": "Python 3",
      "language": "python",
      "name": "python3"
    },
    "language_info": {
      "codemirror_mode": {
        "name": "ipython",
        "version": 3
      },
      "file_extension": ".py",
      "mimetype": "text/x-python",
      "name": "python",
      "nbconvert_exporter": "python",
      "pygments_lexer": "ipython3",
      "version": "3.11.1"
    },
    "colab": {
      "provenance": []
    }
  },
  "nbformat": 4,
  "nbformat_minor": 0
}