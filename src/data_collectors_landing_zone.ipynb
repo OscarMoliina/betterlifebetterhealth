{
  "cells": [
    {
      "cell_type": "markdown",
      "metadata": {
        "id": "adgzc68wbdQL"
      },
      "source": [
        "# **Data Collectors and Landing Zone**"
      ]
    },
    {
      "cell_type": "markdown",
      "metadata": {
        "id": "zUYkg7_BbdQN"
      },
      "source": [
        "### *Required packages:*"
      ]
    },
    {
      "cell_type": "code",
      "execution_count": 1,
      "metadata": {
        "colab": {
          "base_uri": "https://localhost:8080/"
        },
        "id": "apk82QsIbeVN",
        "outputId": "06c622d8-db1a-4319-9d1b-5087d8902d1c"
      },
      "outputs": [
        {
          "name": "stdout",
          "output_type": "stream",
          "text": [
            "Collecting opendatasets\n",
            "  Downloading opendatasets-0.1.22-py3-none-any.whl (15 kB)\n",
            "Collecting kaggle\n",
            "  Downloading kaggle-1.6.6.tar.gz (84 kB)\n",
            "\u001b[2K     \u001b[38;2;114;156;31m━━━━━━━━━━━━━━━━━━━━━━━━━━━━━━━━━━━━━━━\u001b[0m \u001b[32m84.6/84.6 KB\u001b[0m \u001b[31m831.5 kB/s\u001b[0m eta \u001b[36m0:00:00\u001b[0m kB/s\u001b[0m eta \u001b[36m0:00:01\u001b[0m\n",
            "\u001b[?25h  Preparing metadata (setup.py) ... \u001b[?25ldone\n",
            "\u001b[?25hCollecting tqdm\n",
            "  Downloading tqdm-4.66.2-py3-none-any.whl (78 kB)\n",
            "\u001b[2K     \u001b[38;2;114;156;31m━━━━━━━━━━━━━━━━━━━━━━━━━━━━━━━━━━━━━━━━\u001b[0m \u001b[32m78.3/78.3 KB\u001b[0m \u001b[31m2.0 MB/s\u001b[0m eta \u001b[36m0:00:00\u001b[0m MB/s\u001b[0m eta \u001b[36m0:00:01\u001b[0m\n",
            "\u001b[?25hCollecting click\n",
            "  Using cached click-8.1.7-py3-none-any.whl (97 kB)\n",
            "Collecting bleach\n",
            "  Downloading bleach-6.1.0-py3-none-any.whl (162 kB)\n",
            "\u001b[2K     \u001b[38;2;114;156;31m━━━━━━━━━━━━━━━━━━━━━━━━━━━━━━━━━━━━━━━\u001b[0m \u001b[32m162.8/162.8 KB\u001b[0m \u001b[31m1.9 MB/s\u001b[0m eta \u001b[36m0:00:00\u001b[0m MB/s\u001b[0m eta \u001b[36m0:00:01\u001b[0m:01\u001b[0m\n",
            "\u001b[?25hCollecting certifi\n",
            "  Downloading certifi-2024.2.2-py3-none-any.whl (163 kB)\n",
            "\u001b[2K     \u001b[38;2;114;156;31m━━━━━━━━━━━━━━━━━━━━━━━━━━━━━━━━━━━━━━━\u001b[0m \u001b[32m163.8/163.8 KB\u001b[0m \u001b[31m2.2 MB/s\u001b[0m eta \u001b[36m0:00:00\u001b[0m MB/s\u001b[0m eta \u001b[36m0:00:01\u001b[0m\n",
            "\u001b[?25hRequirement already satisfied: python-dateutil in /home/oscarmolina/.venv/bda/lib/python3.10/site-packages (from kaggle->opendatasets) (2.9.0.post0)\n",
            "Collecting python-slugify\n",
            "  Downloading python_slugify-8.0.4-py2.py3-none-any.whl (10 kB)\n",
            "Collecting requests\n",
            "  Using cached requests-2.31.0-py3-none-any.whl (62 kB)\n",
            "Requirement already satisfied: six>=1.10 in /home/oscarmolina/.venv/bda/lib/python3.10/site-packages (from kaggle->opendatasets) (1.16.0)\n",
            "Collecting urllib3\n",
            "  Downloading urllib3-2.2.1-py3-none-any.whl (121 kB)\n",
            "\u001b[2K     \u001b[38;2;114;156;31m━━━━━━━━━━━━━━━━━━━━━━━━━━━━━━━━━━━━━━━\u001b[0m \u001b[32m121.1/121.1 KB\u001b[0m \u001b[31m1.7 MB/s\u001b[0m eta \u001b[36m0:00:00\u001b[0m MB/s\u001b[0m eta \u001b[36m0:00:01\u001b[0m\n",
            "\u001b[?25hCollecting webencodings\n",
            "  Downloading webencodings-0.5.1-py2.py3-none-any.whl (11 kB)\n",
            "Collecting text-unidecode>=1.3\n",
            "  Downloading text_unidecode-1.3-py2.py3-none-any.whl (78 kB)\n",
            "\u001b[2K     \u001b[38;2;114;156;31m━━━━━━━━━━━━━━━━━━━━━━━━━━━━━━━━━━━━━━━━\u001b[0m \u001b[32m78.2/78.2 KB\u001b[0m \u001b[31m1.9 MB/s\u001b[0m eta \u001b[36m0:00:00\u001b[0m MB/s\u001b[0m eta \u001b[36m0:00:01\u001b[0m\n",
            "\u001b[?25hCollecting charset-normalizer<4,>=2\n",
            "  Using cached charset_normalizer-3.3.2-cp310-cp310-manylinux_2_17_x86_64.manylinux2014_x86_64.whl (142 kB)\n",
            "Collecting idna<4,>=2.5\n",
            "  Using cached idna-3.6-py3-none-any.whl (61 kB)\n",
            "Using legacy 'setup.py install' for kaggle, since package 'wheel' is not installed.\n",
            "Installing collected packages: webencodings, text-unidecode, urllib3, tqdm, python-slugify, idna, click, charset-normalizer, certifi, bleach, requests, kaggle, opendatasets\n",
            "  Running setup.py install for kaggle ... \u001b[?25ldone\n",
            "\u001b[?25hSuccessfully installed bleach-6.1.0 certifi-2024.2.2 charset-normalizer-3.3.2 click-8.1.7 idna-3.6 kaggle-1.6.6 opendatasets-0.1.22 python-slugify-8.0.4 requests-2.31.0 text-unidecode-1.3 tqdm-4.66.2 urllib3-2.2.1 webencodings-0.5.1\n",
            "Requirement already satisfied: kaggle in /home/oscarmolina/.venv/bda/lib/python3.10/site-packages (1.6.6)\n",
            "Requirement already satisfied: bleach in /home/oscarmolina/.venv/bda/lib/python3.10/site-packages (from kaggle) (6.1.0)\n",
            "Requirement already satisfied: certifi in /home/oscarmolina/.venv/bda/lib/python3.10/site-packages (from kaggle) (2024.2.2)\n",
            "Requirement already satisfied: python-dateutil in /home/oscarmolina/.venv/bda/lib/python3.10/site-packages (from kaggle) (2.9.0.post0)\n",
            "Requirement already satisfied: python-slugify in /home/oscarmolina/.venv/bda/lib/python3.10/site-packages (from kaggle) (8.0.4)\n",
            "Requirement already satisfied: requests in /home/oscarmolina/.venv/bda/lib/python3.10/site-packages (from kaggle) (2.31.0)\n",
            "Requirement already satisfied: six>=1.10 in /home/oscarmolina/.venv/bda/lib/python3.10/site-packages (from kaggle) (1.16.0)\n",
            "Requirement already satisfied: tqdm in /home/oscarmolina/.venv/bda/lib/python3.10/site-packages (from kaggle) (4.66.2)\n",
            "Requirement already satisfied: urllib3 in /home/oscarmolina/.venv/bda/lib/python3.10/site-packages (from kaggle) (2.2.1)\n",
            "Requirement already satisfied: webencodings in /home/oscarmolina/.venv/bda/lib/python3.10/site-packages (from bleach->kaggle) (0.5.1)\n",
            "Requirement already satisfied: text-unidecode>=1.3 in /home/oscarmolina/.venv/bda/lib/python3.10/site-packages (from python-slugify->kaggle) (1.3)\n",
            "Requirement already satisfied: idna<4,>=2.5 in /home/oscarmolina/.venv/bda/lib/python3.10/site-packages (from requests->kaggle) (3.6)\n",
            "Requirement already satisfied: charset-normalizer<4,>=2 in /home/oscarmolina/.venv/bda/lib/python3.10/site-packages (from requests->kaggle) (3.3.2)\n",
            "Collecting openpyxl\n",
            "  Downloading openpyxl-3.1.2-py2.py3-none-any.whl (249 kB)\n",
            "\u001b[2K     \u001b[38;2;114;156;31m━━━━━━━━━━━━━━━━━━━━━━━━━━━━━━━━━━━━━━━\u001b[0m \u001b[32m250.0/250.0 KB\u001b[0m \u001b[31m2.5 MB/s\u001b[0m eta \u001b[36m0:00:00\u001b[0m[31m3.0 MB/s\u001b[0m eta \u001b[36m0:00:01\u001b[0m\n",
            "\u001b[?25hCollecting et-xmlfile\n",
            "  Downloading et_xmlfile-1.1.0-py3-none-any.whl (4.7 kB)\n",
            "Installing collected packages: et-xmlfile, openpyxl\n",
            "Successfully installed et-xmlfile-1.1.0 openpyxl-3.1.2\n"
          ]
        }
      ],
      "source": [
        "# !pip install opendatasets\n",
        "# !pip install kaggle\n",
        "# !pip install openpyxl"
      ]
    },
    {
      "cell_type": "code",
      "execution_count": 10,
      "metadata": {
        "id": "NNDcwVGMbdQN"
      },
      "outputs": [],
      "source": [
        "import numpy as np\n",
        "import pandas as pd\n",
        "import requests\n",
        "import os\n",
        "import opendatasets as od\n",
        "import csv\n",
        "import openpyxl"
      ]
    },
    {
      "cell_type": "markdown",
      "metadata": {},
      "source": [
        "### Kaggle Configuration - Drive\n",
        "\n",
        "(Requereix del fitxer `kaggle_fitxer.json`)"
      ]
    },
    {
      "cell_type": "code",
      "execution_count": 11,
      "metadata": {
        "colab": {
          "base_uri": "https://localhost:8080/"
        },
        "id": "VuE6SuDbbdQO",
        "outputId": "6c817279-f54e-4bb3-ecf8-cfc8173f2d5a"
      },
      "outputs": [
        {
          "name": "stdout",
          "output_type": "stream",
          "text": [
            "mkdir: cannot create directory ‘/home/oscarmolina/.kaggle’: File exists\n"
          ]
        }
      ],
      "source": [
        "!mkdir ~/.kaggle"
      ]
    },
    {
      "cell_type": "code",
      "execution_count": 12,
      "metadata": {
        "id": "aSBfKHGVcO6k"
      },
      "outputs": [],
      "source": [
        "!cp ./kaggle_fitxer.json ~/.kaggle/kaggle.json"
      ]
    },
    {
      "cell_type": "code",
      "execution_count": 13,
      "metadata": {
        "colab": {
          "base_uri": "https://localhost:8080/"
        },
        "id": "QcZhAPOddK7J",
        "outputId": "368e3453-8dcd-47a3-a626-6c9a3b125c16"
      },
      "outputs": [
        {
          "name": "stdout",
          "output_type": "stream",
          "text": [
            "kaggle.json\n"
          ]
        }
      ],
      "source": [
        "!cd ~/.kaggle && ls"
      ]
    },
    {
      "cell_type": "markdown",
      "metadata": {
        "id": "7I6iZEx5bdQO"
      },
      "source": [
        "### CODE"
      ]
    },
    {
      "cell_type": "markdown",
      "metadata": {
        "id": "M6yPEZ4cFnXq"
      },
      "source": [
        "#### Downloading datasets"
      ]
    },
    {
      "cell_type": "markdown",
      "metadata": {},
      "source": [
        "##### UNECE"
      ]
    },
    {
      "cell_type": "code",
      "execution_count": 14,
      "metadata": {
        "id": "WBFeebdybdQO"
      },
      "outputs": [],
      "source": [
        "# URL del dataset UNECE\n",
        "unece_db = pd.read_json('https://query.data.world/s/qd6kjqguuvb573mffbpfysgpudi2pv?dws=00000')\n",
        "unece_db.to_csv('unece_db.csv', index=False)\n",
        "!mv ./unece_db.csv ../data/unece_db.csv"
      ]
    },
    {
      "cell_type": "code",
      "execution_count": 21,
      "metadata": {},
      "outputs": [
        {
          "data": {
            "text/plain": [
              "Index(['Country', 'Year', 'Area (square kilometres)', 'Total population',\n",
              "       'Population density, pers. per sq. km', 'Population aged 0-14, male',\n",
              "       'Population aged 0-14, female', 'Population aged 15-64, male',\n",
              "       'Population aged 15-64, female', 'Population aged 64+, male',\n",
              "       'Population aged 64+, female', 'Total population, male (%)',\n",
              "       'Total population, female (%)', 'Life expectancy at birth, women',\n",
              "       'Life expectancy at birth, men', 'Life expectancy at age 65, women',\n",
              "       'Life expectancy at age 65, men', 'Total fertility rate',\n",
              "       'Adolescent fertility rate',\n",
              "       'Mean age of women at birth of first child',\n",
              "       'Computer use, 16-24, male', 'Computer use, 16-24, female',\n",
              "       'Computer use, 25-54, male', 'Computer use, 25-54, female',\n",
              "       'Computer use, 55-74, male', 'Computer use, 55-74, female',\n",
              "       'Women in the Labour Force, Percent of corresponding total for both sexes',\n",
              "       'Female part-time employment, percent of both sexes',\n",
              "       'Gender pay gap in monthly earnings',\n",
              "       'Gender pay gap in hourly earning wage rate',\n",
              "       'Female tertiary students, percent of total',\n",
              "       'Women Researchers, Percent of corresponding total for both sexes',\n",
              "       'Female legislators, senior officials and managers, percent of total',\n",
              "       'Female professionals, percent of total for both sexes',\n",
              "       'Female clerks, percent of total for both sexes',\n",
              "       'Female craft and related workers, percent of total for both sexes',\n",
              "       'Female plant and machine operators and assemblers, percent of total for both sexes',\n",
              "       'Female government ministers, percent of total',\n",
              "       'Female members of parliament, percent of total',\n",
              "       'Female ambassadors, percent of total',\n",
              "       'Female judges, percent of total',\n",
              "       'Women, percent of all victims of homicides',\n",
              "       'Total employment, growth rate', 'Unemployment rate',\n",
              "       'Youth unemployment rate', 'Economic acivity rate, women 15-64',\n",
              "       'Economic activity rate, men 15-64',\n",
              "       'GDP at current prices and PPPs, millions of US$',\n",
              "       'GDP at current prices, millions of NCUs',\n",
              "       'GDP per capita at current prices and PPPs, US$',\n",
              "       'GDP per capita at current prices, NCUs',\n",
              "       'Final consumption expenditure per capita, US Dollars, current PPPs',\n",
              "       'Purchasing power parity (PPP), NCU per US$',\n",
              "       'Exchange rate (XR), NCU per US$', 'Consumer price index, growth rate',\n",
              "       'Export of goods and services, per cent of GDP',\n",
              "       'Import of goods and services, per cent of GDP',\n",
              "       'External balance on goods and services, per cent of GDP',\n",
              "       'GDP in agriculture (ISIC4 A): output approach, index, 2005=100',\n",
              "       'GDP in industry (incl. construction) (ISIC4 B-F): output approach, index, 2005=100',\n",
              "       'GDP in services (ISIC4 G-U): output approach, index, 2005=100',\n",
              "       'GDP: in agriculture etc. (ISIC4 A), output approach, per cent share of GVA',\n",
              "       'GDP: in industry etc. (ISIC4 B-E), output approach, per cent share of GVA',\n",
              "       'GDP: in construction (ISIC4 F), output approach, per cent share of GVA',\n",
              "       'GDP: in trade, hospitality, transport and communication (ISIC4 G-J), output approach, per cent share of GVA',\n",
              "       'GDP: in finance and business services (ISIC4 K-N), output approach, per cent share of GVA',\n",
              "       'GDP: in public administration, education and health (ISIC4 O-Q), output approach, per cent share of GVA',\n",
              "       'GDP: in other service activities (ISIC4 R-U), output approach, per cent share of GVA',\n",
              "       'Employment in agriculture, hunting, forestry and fishing (ISIC Rev. 4 A), share of total employment',\n",
              "       'Employment in industry and energy (ISIC Rev. 4 B-E), share of total employment',\n",
              "       'Employment in construction (ISIC Rev. 4 F), share of total employment',\n",
              "       'Employment in trade, hotels, restaurants, transport and communications (ISIC Rev. 4 G-J), share of total employment',\n",
              "       'Employment in finance, real estate and business services (ISIC Rev. 4 K-N), share of total employment',\n",
              "       'Employment in public administration, education and health (ISIC Rev. 4 O-Q), share of total employment',\n",
              "       'Employment in other service activities (ISIC Rev. 4 R-U), share of total employment',\n",
              "       'Persons killed in road accidents', 'Persons injured in road accidents',\n",
              "       'Total length of motorways (km)', 'Total length of railway lines (km)'],\n",
              "      dtype='object')"
            ]
          },
          "execution_count": 21,
          "metadata": {},
          "output_type": "execute_result"
        }
      ],
      "source": [
        "unece_db.columns"
      ]
    },
    {
      "cell_type": "markdown",
      "metadata": {},
      "source": [
        "##### Kaggle - Mental Health"
      ]
    },
    {
      "cell_type": "code",
      "execution_count": 17,
      "metadata": {
        "colab": {
          "base_uri": "https://localhost:8080/"
        },
        "id": "z0wFXEzObdQO",
        "outputId": "edf33371-f4b5-4110-e45f-1151ae3768d5"
      },
      "outputs": [
        {
          "name": "stdout",
          "output_type": "stream",
          "text": [
            "Warning: Your Kaggle API key is readable by other users on this system! To fix this, you can run 'chmod 600 /home/oscarmolina/.kaggle/kaggle.json'\n",
            "Downloading uncover-global-trends-in-mental-health-disorder.zip to /home/oscarmolina/UNI/BDA/betterlifebetterhealth/src\n",
            " 81%|██████████████████████████████▌       | 1.00M/1.24M [00:00<00:00, 1.50MB/s]\n",
            "100%|██████████████████████████████████████| 1.24M/1.24M [00:00<00:00, 1.80MB/s]\n"
          ]
        }
      ],
      "source": [
        "# API Kaggle Mental Health\n",
        "!kaggle datasets download  -d 'thedevastator/uncover-global-trends-in-mental-health-disorder'"
      ]
    },
    {
      "cell_type": "code",
      "execution_count": 19,
      "metadata": {},
      "outputs": [
        {
          "name": "stdout",
          "output_type": "stream",
          "text": [
            "Archive:  uncover-global-trends-in-mental-health-disorder.zip\n",
            "  inflating: ../data/Mental health Depression disorder Data.csv  \n"
          ]
        }
      ],
      "source": [
        "#!sudo apt-get install unzip\n",
        "!unzip uncover-global-trends-in-mental-health-disorder.zip -d ../data/\n",
        "!rm uncover-global-trends-in-mental-health-disorder.zip"
      ]
    },
    {
      "cell_type": "markdown",
      "metadata": {},
      "source": [
        "##### USA Census"
      ]
    },
    {
      "cell_type": "code",
      "execution_count": 20,
      "metadata": {
        "colab": {
          "base_uri": "https://localhost:8080/"
        },
        "id": "GQRALOAOfFbw",
        "outputId": "d7c31f00-985f-44ff-fc79-ca9aeb30c6fc"
      },
      "outputs": [
        {
          "name": "stdout",
          "output_type": "stream",
          "text": [
            "Les dades s'han guardat a dades_demogr_census.csv\n"
          ]
        }
      ],
      "source": [
        "# API United States Census\n",
        "variables = \"NAME\",\"YR\",\"AREA_KM2\",\"CBR\",\"CDR\",\"DEATHS\",\"E0\",\"GRR\",\"IMR\",\"MEDAGE\",\"MR0_4\",\"POP_DENS\",\"genc standard countries and areas\"\n",
        "url_base = \"https://api.census.gov/data/timeseries/idb/5year?get=NAME,YR,AREA_KM2,CBR,CDR,DEATHS,E0,GRR,IMR,MEDAGE,MR0_4,POP_DENS&for=genc%20standard%20countries%20and%20areas:*\".format(variables)\n",
        "\n",
        "# Llista per guardar les dades\n",
        "data = []\n",
        "\n",
        "# Fem una sol·licitud a l'API per agafar dades des de l'any 1990 fins al 2019\n",
        "for year in range(1990, 2019):\n",
        "    url = \"{}&time={}\".format(url_base, year)\n",
        "    response = requests.get(url)\n",
        "    if response.status_code == 200:\n",
        "        data.extend(response.json()[1:])\n",
        "\n",
        "# Guardar los datos en un archivo CSV\n",
        "csv_filename = \"dades_demogr_census.csv\"\n",
        "with open(csv_filename, \"w\", newline=\"\") as csv_file:\n",
        "    csv_writer = csv.writer(csv_file)\n",
        "    csv_writer.writerow([\"NAME\",\"YR\",\"AREA_KM2\",\"CBR\",\"CDR\",\"DEATHS\",\"E0\",\"GRR\",\"IMR\",\"MEDAGE\",\"MR0_4\",\"POP_DENS\",\"genc standard countries and areas\", \"code\"])\n",
        "    csv_writer.writerows(data)\n",
        "\n",
        "print(\"Les dades s'han guardat a\", csv_filename)\n",
        "\n",
        "!mv ./dades_demogr_census.csv ../data/dades_demogr_census.csv\n"
      ]
    },
    {
      "cell_type": "markdown",
      "metadata": {},
      "source": [
        "#### Rename"
      ]
    },
    {
      "cell_type": "code",
      "execution_count": 22,
      "metadata": {},
      "outputs": [],
      "source": [
        "!mv ../data/dades_demogr_census.csv ../data/demography.csv\n",
        "!mv ../data/unece_db.csv ../data/society.csv\n",
        "#!mv ../data/Mental health Depression disorder Data.csv ../data/mental_health.csv"
      ]
    },
    {
      "cell_type": "markdown",
      "metadata": {
        "id": "NSg65l_YFunf"
      },
      "source": [
        "#### Storing files in a suitable format (Parquet)\n"
      ]
    },
    {
      "cell_type": "code",
      "execution_count": 58,
      "metadata": {
        "colab": {
          "base_uri": "https://localhost:8080/"
        },
        "id": "D0RQ2I1aG-cs",
        "outputId": "16d70c31-5056-4cf0-d96c-ecdb34611fe6"
      },
      "outputs": [
        {
          "name": "stderr",
          "output_type": "stream",
          "text": [
            "<ipython-input-58-a336a83c75fc>:5: DtypeWarning: Columns (7,8,9,10) have mixed types. Specify dtype option on import or set low_memory=False.\n",
            "  kaggle_db = pd.read_csv('/content/data/Mental health Depression disorder Data.csv', decimal=',')\n"
          ]
        }
      ],
      "source": [
        "# Unece_db\n",
        "unece_db = pd.read_csv('../data/society.csv')\n",
        "unece_db.to_parquet('../data/society.parquet')\n",
        "\n",
        "# Kaggle db\n",
        "kaggle_db = pd.read_csv('../data/mental_health.csv', decimal=',')\n",
        "kaggle_db.to_parquet('../data/mental_health.parquet')\n",
        "\n",
        "# United State Census db\n",
        "us_census_db = pd.read_csv('../data/demography.csv')\n",
        "us_census_db.to_parquet('../data/demography.parquet')"
      ]
    }
  ],
  "metadata": {
    "colab": {
      "provenance": []
    },
    "kernelspec": {
      "display_name": "Python 3",
      "language": "python",
      "name": "python3"
    },
    "language_info": {
      "codemirror_mode": {
        "name": "ipython",
        "version": 3
      },
      "file_extension": ".py",
      "mimetype": "text/x-python",
      "name": "python",
      "nbconvert_exporter": "python",
      "pygments_lexer": "ipython3",
      "version": "3.10.12"
    }
  },
  "nbformat": 4,
  "nbformat_minor": 0
}
